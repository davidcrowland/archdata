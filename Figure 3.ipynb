{
 "cells": [
  {
   "cell_type": "markdown",
   "metadata": {},
   "source": [
    "# Arch mice notebook - extract ALL information you want"
   ]
  },
  {
   "cell_type": "code",
   "execution_count": 1,
   "metadata": {
    "code_folding": [
     0
    ]
   },
   "outputs": [
    {
     "name": "stdout",
     "output_type": "stream",
     "text": [
      "Loaded analysis helpers: General\n",
      "Loaded postgres_analysis_helpers -> general\n",
      "Loaded postgres_analysis_helpers -> get_data\n",
      "Loaded postgres_analysis_helpers -> circstat_functions\n",
      "Loaded postgres_analysis_helpers -> extra analysis\n"
     ]
    }
   ],
   "source": [
    "# Imports:\n",
    "%load_ext autoreload\n",
    "%autoreload 2\n",
    "\n",
    "import json\n",
    "import numpy as np\n",
    "import math\n",
    "import psycopg2\n",
    "import numpy as np\n",
    "import pandas as pd\n",
    "from datetime import date\n",
    "from tqdm import tqdm_notebook\n",
    "\n",
    "from scipy import signal \n",
    "\n",
    "# Plotting:\n",
    "from matplotlib import pyplot as plt\n",
    "import seaborn as sns\n",
    "import matplotlib.cm as cm\n",
    "import matplotlib as mpl\n",
    "%matplotlib inline\n",
    "%config InlineBackend.figure_format = 'retina'\n",
    "\n",
    "sns.set()\n",
    "\n",
    "# External functions from subfolder /database_helpers. \n",
    "# as soon as you change something in there and press save, it will auto reload on next execution.\n",
    "from database_helpers.psql_start import *\n",
    "from database_helpers.create_tables import *\n",
    "from database_helpers.write2tables import *\n",
    "from postgres_analysis_helpers.general import *\n",
    "from postgres_analysis_helpers.get_data import *\n",
    "from postgres_analysis_helpers.circstat_functions import *\n",
    "from postgres_analysis_helpers.extra_analysis import *\n",
    "\n",
    "# register pickle type to retrieve binary data from database\n",
    "psycopg2.extensions.register_type(psycopg2.extensions.new_type(psycopg2.BINARY.values, 'BINARY-PICKLE', cast_pickle))"
   ]
  },
  {
   "cell_type": "code",
   "execution_count": 2,
   "metadata": {
    "code_folding": [
     0
    ]
   },
   "outputs": [
    {
     "name": "stdout",
     "output_type": "stream",
     "text": [
      "Connecting to the PostgreSQL database...\n",
      "Woot! Database connection is established!\n"
     ]
    }
   ],
   "source": [
    "# Database connection check\n",
    "db_status = test_connect()\n",
    "if db_status == False:\n",
    "    print('Grrr... no database connection could be established.')\n",
    "else:\n",
    "    print('Woot! Database connection is established!')"
   ]
  },
  {
   "cell_type": "markdown",
   "metadata": {},
   "source": [
    "# Load data"
   ]
  },
  {
   "cell_type": "code",
   "execution_count": 3,
   "metadata": {},
   "outputs": [
    {
     "ename": "FileNotFoundError",
     "evalue": "[Errno 2] No such file or directory: 'dataframe_export/all_cells_arch.pkl'",
     "output_type": "error",
     "traceback": [
      "\u001b[1;31m---------------------------------------------------------------------------\u001b[0m",
      "\u001b[1;31mFileNotFoundError\u001b[0m                         Traceback (most recent call last)",
      "\u001b[1;32m~\\AppData\\Local\\Continuum\\Miniconda2\\envs\\ms\\lib\\site-packages\\pandas\\io\\pickle.py\u001b[0m in \u001b[0;36mtry_read\u001b[1;34m(path, encoding)\u001b[0m\n\u001b[0;32m     82\u001b[0m         \u001b[1;32mtry\u001b[0m\u001b[1;33m:\u001b[0m\u001b[1;33m\u001b[0m\u001b[0m\n\u001b[1;32m---> 83\u001b[1;33m             \u001b[1;32mreturn\u001b[0m \u001b[0mread_wrapper\u001b[0m\u001b[1;33m(\u001b[0m\u001b[1;32mlambda\u001b[0m \u001b[0mf\u001b[0m\u001b[1;33m:\u001b[0m \u001b[0mpkl\u001b[0m\u001b[1;33m.\u001b[0m\u001b[0mload\u001b[0m\u001b[1;33m(\u001b[0m\u001b[0mf\u001b[0m\u001b[1;33m)\u001b[0m\u001b[1;33m)\u001b[0m\u001b[1;33m\u001b[0m\u001b[0m\n\u001b[0m\u001b[0;32m     84\u001b[0m         \u001b[1;32mexcept\u001b[0m \u001b[0mException\u001b[0m\u001b[1;33m:\u001b[0m\u001b[1;33m\u001b[0m\u001b[0m\n",
      "\u001b[1;32m~\\AppData\\Local\\Continuum\\Miniconda2\\envs\\ms\\lib\\site-packages\\pandas\\io\\pickle.py\u001b[0m in \u001b[0;36mread_wrapper\u001b[1;34m(func)\u001b[0m\n\u001b[0;32m     65\u001b[0m                             \u001b[0mcompression\u001b[0m\u001b[1;33m=\u001b[0m\u001b[0minferred_compression\u001b[0m\u001b[1;33m,\u001b[0m\u001b[1;33m\u001b[0m\u001b[0m\n\u001b[1;32m---> 66\u001b[1;33m                             is_text=False)\n\u001b[0m\u001b[0;32m     67\u001b[0m         \u001b[1;32mtry\u001b[0m\u001b[1;33m:\u001b[0m\u001b[1;33m\u001b[0m\u001b[0m\n",
      "\u001b[1;32m~\\AppData\\Local\\Continuum\\Miniconda2\\envs\\ms\\lib\\site-packages\\pandas\\io\\common.py\u001b[0m in \u001b[0;36m_get_handle\u001b[1;34m(path_or_buf, mode, encoding, compression, memory_map, is_text)\u001b[0m\n\u001b[0;32m    387\u001b[0m             \u001b[1;31m# Python 3 and binary mode\u001b[0m\u001b[1;33m\u001b[0m\u001b[1;33m\u001b[0m\u001b[0m\n\u001b[1;32m--> 388\u001b[1;33m             \u001b[0mf\u001b[0m \u001b[1;33m=\u001b[0m \u001b[0mopen\u001b[0m\u001b[1;33m(\u001b[0m\u001b[0mpath_or_buf\u001b[0m\u001b[1;33m,\u001b[0m \u001b[0mmode\u001b[0m\u001b[1;33m)\u001b[0m\u001b[1;33m\u001b[0m\u001b[0m\n\u001b[0m\u001b[0;32m    389\u001b[0m         \u001b[0mhandles\u001b[0m\u001b[1;33m.\u001b[0m\u001b[0mappend\u001b[0m\u001b[1;33m(\u001b[0m\u001b[0mf\u001b[0m\u001b[1;33m)\u001b[0m\u001b[1;33m\u001b[0m\u001b[0m\n",
      "\u001b[1;31mFileNotFoundError\u001b[0m: [Errno 2] No such file or directory: 'dataframe_export/all_cells_arch.pkl'",
      "\nDuring handling of the above exception, another exception occurred:\n",
      "\u001b[1;31mFileNotFoundError\u001b[0m                         Traceback (most recent call last)",
      "\u001b[1;32m~\\AppData\\Local\\Continuum\\Miniconda2\\envs\\ms\\lib\\site-packages\\pandas\\io\\pickle.py\u001b[0m in \u001b[0;36mtry_read\u001b[1;34m(path, encoding)\u001b[0m\n\u001b[0;32m     87\u001b[0m                 return read_wrapper(\n\u001b[1;32m---> 88\u001b[1;33m                     lambda f: pc.load(f, encoding=encoding, compat=False))\n\u001b[0m\u001b[0;32m     89\u001b[0m             \u001b[1;31m# compat pickle\u001b[0m\u001b[1;33m\u001b[0m\u001b[1;33m\u001b[0m\u001b[0m\n",
      "\u001b[1;32m~\\AppData\\Local\\Continuum\\Miniconda2\\envs\\ms\\lib\\site-packages\\pandas\\io\\pickle.py\u001b[0m in \u001b[0;36mread_wrapper\u001b[1;34m(func)\u001b[0m\n\u001b[0;32m     65\u001b[0m                             \u001b[0mcompression\u001b[0m\u001b[1;33m=\u001b[0m\u001b[0minferred_compression\u001b[0m\u001b[1;33m,\u001b[0m\u001b[1;33m\u001b[0m\u001b[0m\n\u001b[1;32m---> 66\u001b[1;33m                             is_text=False)\n\u001b[0m\u001b[0;32m     67\u001b[0m         \u001b[1;32mtry\u001b[0m\u001b[1;33m:\u001b[0m\u001b[1;33m\u001b[0m\u001b[0m\n",
      "\u001b[1;32m~\\AppData\\Local\\Continuum\\Miniconda2\\envs\\ms\\lib\\site-packages\\pandas\\io\\common.py\u001b[0m in \u001b[0;36m_get_handle\u001b[1;34m(path_or_buf, mode, encoding, compression, memory_map, is_text)\u001b[0m\n\u001b[0;32m    387\u001b[0m             \u001b[1;31m# Python 3 and binary mode\u001b[0m\u001b[1;33m\u001b[0m\u001b[1;33m\u001b[0m\u001b[0m\n\u001b[1;32m--> 388\u001b[1;33m             \u001b[0mf\u001b[0m \u001b[1;33m=\u001b[0m \u001b[0mopen\u001b[0m\u001b[1;33m(\u001b[0m\u001b[0mpath_or_buf\u001b[0m\u001b[1;33m,\u001b[0m \u001b[0mmode\u001b[0m\u001b[1;33m)\u001b[0m\u001b[1;33m\u001b[0m\u001b[0m\n\u001b[0m\u001b[0;32m    389\u001b[0m         \u001b[0mhandles\u001b[0m\u001b[1;33m.\u001b[0m\u001b[0mappend\u001b[0m\u001b[1;33m(\u001b[0m\u001b[0mf\u001b[0m\u001b[1;33m)\u001b[0m\u001b[1;33m\u001b[0m\u001b[0m\n",
      "\u001b[1;31mFileNotFoundError\u001b[0m: [Errno 2] No such file or directory: 'dataframe_export/all_cells_arch.pkl'",
      "\nDuring handling of the above exception, another exception occurred:\n",
      "\u001b[1;31mFileNotFoundError\u001b[0m                         Traceback (most recent call last)",
      "\u001b[1;32m~\\AppData\\Local\\Continuum\\Miniconda2\\envs\\ms\\lib\\site-packages\\pandas\\io\\pickle.py\u001b[0m in \u001b[0;36mread_pickle\u001b[1;34m(path, compression)\u001b[0m\n\u001b[0;32m     93\u001b[0m     \u001b[1;32mtry\u001b[0m\u001b[1;33m:\u001b[0m\u001b[1;33m\u001b[0m\u001b[0m\n\u001b[1;32m---> 94\u001b[1;33m         \u001b[1;32mreturn\u001b[0m \u001b[0mtry_read\u001b[0m\u001b[1;33m(\u001b[0m\u001b[0mpath\u001b[0m\u001b[1;33m)\u001b[0m\u001b[1;33m\u001b[0m\u001b[0m\n\u001b[0m\u001b[0;32m     95\u001b[0m     \u001b[1;32mexcept\u001b[0m\u001b[1;33m:\u001b[0m\u001b[1;33m\u001b[0m\u001b[0m\n",
      "\u001b[1;32m~\\AppData\\Local\\Continuum\\Miniconda2\\envs\\ms\\lib\\site-packages\\pandas\\io\\pickle.py\u001b[0m in \u001b[0;36mtry_read\u001b[1;34m(path, encoding)\u001b[0m\n\u001b[0;32m     91\u001b[0m                 return read_wrapper(\n\u001b[1;32m---> 92\u001b[1;33m                     lambda f: pc.load(f, encoding=encoding, compat=True))\n\u001b[0m\u001b[0;32m     93\u001b[0m     \u001b[1;32mtry\u001b[0m\u001b[1;33m:\u001b[0m\u001b[1;33m\u001b[0m\u001b[0m\n",
      "\u001b[1;32m~\\AppData\\Local\\Continuum\\Miniconda2\\envs\\ms\\lib\\site-packages\\pandas\\io\\pickle.py\u001b[0m in \u001b[0;36mread_wrapper\u001b[1;34m(func)\u001b[0m\n\u001b[0;32m     65\u001b[0m                             \u001b[0mcompression\u001b[0m\u001b[1;33m=\u001b[0m\u001b[0minferred_compression\u001b[0m\u001b[1;33m,\u001b[0m\u001b[1;33m\u001b[0m\u001b[0m\n\u001b[1;32m---> 66\u001b[1;33m                             is_text=False)\n\u001b[0m\u001b[0;32m     67\u001b[0m         \u001b[1;32mtry\u001b[0m\u001b[1;33m:\u001b[0m\u001b[1;33m\u001b[0m\u001b[0m\n",
      "\u001b[1;32m~\\AppData\\Local\\Continuum\\Miniconda2\\envs\\ms\\lib\\site-packages\\pandas\\io\\common.py\u001b[0m in \u001b[0;36m_get_handle\u001b[1;34m(path_or_buf, mode, encoding, compression, memory_map, is_text)\u001b[0m\n\u001b[0;32m    387\u001b[0m             \u001b[1;31m# Python 3 and binary mode\u001b[0m\u001b[1;33m\u001b[0m\u001b[1;33m\u001b[0m\u001b[0m\n\u001b[1;32m--> 388\u001b[1;33m             \u001b[0mf\u001b[0m \u001b[1;33m=\u001b[0m \u001b[0mopen\u001b[0m\u001b[1;33m(\u001b[0m\u001b[0mpath_or_buf\u001b[0m\u001b[1;33m,\u001b[0m \u001b[0mmode\u001b[0m\u001b[1;33m)\u001b[0m\u001b[1;33m\u001b[0m\u001b[0m\n\u001b[0m\u001b[0;32m    389\u001b[0m         \u001b[0mhandles\u001b[0m\u001b[1;33m.\u001b[0m\u001b[0mappend\u001b[0m\u001b[1;33m(\u001b[0m\u001b[0mf\u001b[0m\u001b[1;33m)\u001b[0m\u001b[1;33m\u001b[0m\u001b[0m\n",
      "\u001b[1;31mFileNotFoundError\u001b[0m: [Errno 2] No such file or directory: 'dataframe_export/all_cells_arch.pkl'",
      "\nDuring handling of the above exception, another exception occurred:\n",
      "\u001b[1;31mFileNotFoundError\u001b[0m                         Traceback (most recent call last)",
      "\u001b[1;32m~\\AppData\\Local\\Continuum\\Miniconda2\\envs\\ms\\lib\\site-packages\\pandas\\io\\pickle.py\u001b[0m in \u001b[0;36mtry_read\u001b[1;34m(path, encoding)\u001b[0m\n\u001b[0;32m     82\u001b[0m         \u001b[1;32mtry\u001b[0m\u001b[1;33m:\u001b[0m\u001b[1;33m\u001b[0m\u001b[0m\n\u001b[1;32m---> 83\u001b[1;33m             \u001b[1;32mreturn\u001b[0m \u001b[0mread_wrapper\u001b[0m\u001b[1;33m(\u001b[0m\u001b[1;32mlambda\u001b[0m \u001b[0mf\u001b[0m\u001b[1;33m:\u001b[0m \u001b[0mpkl\u001b[0m\u001b[1;33m.\u001b[0m\u001b[0mload\u001b[0m\u001b[1;33m(\u001b[0m\u001b[0mf\u001b[0m\u001b[1;33m)\u001b[0m\u001b[1;33m)\u001b[0m\u001b[1;33m\u001b[0m\u001b[0m\n\u001b[0m\u001b[0;32m     84\u001b[0m         \u001b[1;32mexcept\u001b[0m \u001b[0mException\u001b[0m\u001b[1;33m:\u001b[0m\u001b[1;33m\u001b[0m\u001b[0m\n",
      "\u001b[1;32m~\\AppData\\Local\\Continuum\\Miniconda2\\envs\\ms\\lib\\site-packages\\pandas\\io\\pickle.py\u001b[0m in \u001b[0;36mread_wrapper\u001b[1;34m(func)\u001b[0m\n\u001b[0;32m     65\u001b[0m                             \u001b[0mcompression\u001b[0m\u001b[1;33m=\u001b[0m\u001b[0minferred_compression\u001b[0m\u001b[1;33m,\u001b[0m\u001b[1;33m\u001b[0m\u001b[0m\n\u001b[1;32m---> 66\u001b[1;33m                             is_text=False)\n\u001b[0m\u001b[0;32m     67\u001b[0m         \u001b[1;32mtry\u001b[0m\u001b[1;33m:\u001b[0m\u001b[1;33m\u001b[0m\u001b[0m\n",
      "\u001b[1;32m~\\AppData\\Local\\Continuum\\Miniconda2\\envs\\ms\\lib\\site-packages\\pandas\\io\\common.py\u001b[0m in \u001b[0;36m_get_handle\u001b[1;34m(path_or_buf, mode, encoding, compression, memory_map, is_text)\u001b[0m\n\u001b[0;32m    387\u001b[0m             \u001b[1;31m# Python 3 and binary mode\u001b[0m\u001b[1;33m\u001b[0m\u001b[1;33m\u001b[0m\u001b[0m\n\u001b[1;32m--> 388\u001b[1;33m             \u001b[0mf\u001b[0m \u001b[1;33m=\u001b[0m \u001b[0mopen\u001b[0m\u001b[1;33m(\u001b[0m\u001b[0mpath_or_buf\u001b[0m\u001b[1;33m,\u001b[0m \u001b[0mmode\u001b[0m\u001b[1;33m)\u001b[0m\u001b[1;33m\u001b[0m\u001b[0m\n\u001b[0m\u001b[0;32m    389\u001b[0m         \u001b[0mhandles\u001b[0m\u001b[1;33m.\u001b[0m\u001b[0mappend\u001b[0m\u001b[1;33m(\u001b[0m\u001b[0mf\u001b[0m\u001b[1;33m)\u001b[0m\u001b[1;33m\u001b[0m\u001b[0m\n",
      "\u001b[1;31mFileNotFoundError\u001b[0m: [Errno 2] No such file or directory: 'dataframe_export/all_cells_arch.pkl'",
      "\nDuring handling of the above exception, another exception occurred:\n",
      "\u001b[1;31mFileNotFoundError\u001b[0m                         Traceback (most recent call last)",
      "\u001b[1;32m~\\AppData\\Local\\Continuum\\Miniconda2\\envs\\ms\\lib\\site-packages\\pandas\\io\\pickle.py\u001b[0m in \u001b[0;36mtry_read\u001b[1;34m(path, encoding)\u001b[0m\n\u001b[0;32m     87\u001b[0m                 return read_wrapper(\n\u001b[1;32m---> 88\u001b[1;33m                     lambda f: pc.load(f, encoding=encoding, compat=False))\n\u001b[0m\u001b[0;32m     89\u001b[0m             \u001b[1;31m# compat pickle\u001b[0m\u001b[1;33m\u001b[0m\u001b[1;33m\u001b[0m\u001b[0m\n",
      "\u001b[1;32m~\\AppData\\Local\\Continuum\\Miniconda2\\envs\\ms\\lib\\site-packages\\pandas\\io\\pickle.py\u001b[0m in \u001b[0;36mread_wrapper\u001b[1;34m(func)\u001b[0m\n\u001b[0;32m     65\u001b[0m                             \u001b[0mcompression\u001b[0m\u001b[1;33m=\u001b[0m\u001b[0minferred_compression\u001b[0m\u001b[1;33m,\u001b[0m\u001b[1;33m\u001b[0m\u001b[0m\n\u001b[1;32m---> 66\u001b[1;33m                             is_text=False)\n\u001b[0m\u001b[0;32m     67\u001b[0m         \u001b[1;32mtry\u001b[0m\u001b[1;33m:\u001b[0m\u001b[1;33m\u001b[0m\u001b[0m\n",
      "\u001b[1;32m~\\AppData\\Local\\Continuum\\Miniconda2\\envs\\ms\\lib\\site-packages\\pandas\\io\\common.py\u001b[0m in \u001b[0;36m_get_handle\u001b[1;34m(path_or_buf, mode, encoding, compression, memory_map, is_text)\u001b[0m\n\u001b[0;32m    387\u001b[0m             \u001b[1;31m# Python 3 and binary mode\u001b[0m\u001b[1;33m\u001b[0m\u001b[1;33m\u001b[0m\u001b[0m\n\u001b[1;32m--> 388\u001b[1;33m             \u001b[0mf\u001b[0m \u001b[1;33m=\u001b[0m \u001b[0mopen\u001b[0m\u001b[1;33m(\u001b[0m\u001b[0mpath_or_buf\u001b[0m\u001b[1;33m,\u001b[0m \u001b[0mmode\u001b[0m\u001b[1;33m)\u001b[0m\u001b[1;33m\u001b[0m\u001b[0m\n\u001b[0m\u001b[0;32m    389\u001b[0m         \u001b[0mhandles\u001b[0m\u001b[1;33m.\u001b[0m\u001b[0mappend\u001b[0m\u001b[1;33m(\u001b[0m\u001b[0mf\u001b[0m\u001b[1;33m)\u001b[0m\u001b[1;33m\u001b[0m\u001b[0m\n",
      "\u001b[1;31mFileNotFoundError\u001b[0m: [Errno 2] No such file or directory: 'dataframe_export/all_cells_arch.pkl'",
      "\nDuring handling of the above exception, another exception occurred:\n",
      "\u001b[1;31mFileNotFoundError\u001b[0m                         Traceback (most recent call last)",
      "\u001b[1;32m<ipython-input-3-6d5d5f3cef5b>\u001b[0m in \u001b[0;36m<module>\u001b[1;34m()\u001b[0m\n\u001b[0;32m      1\u001b[0m \u001b[1;31m# all_cells_lat_analysis\u001b[0m\u001b[1;33m\u001b[0m\u001b[1;33m\u001b[0m\u001b[0m\n\u001b[1;32m----> 2\u001b[1;33m \u001b[0march_all\u001b[0m \u001b[1;33m=\u001b[0m \u001b[0mpd\u001b[0m\u001b[1;33m.\u001b[0m\u001b[0mread_pickle\u001b[0m\u001b[1;33m(\u001b[0m\u001b[1;34m'dataframe_export/all_cells_arch.pkl'\u001b[0m\u001b[1;33m)\u001b[0m\u001b[1;33m\u001b[0m\u001b[0m\n\u001b[0m\u001b[0;32m      3\u001b[0m \u001b[0march_all\u001b[0m\u001b[1;33m.\u001b[0m\u001b[0mreset_index\u001b[0m\u001b[1;33m(\u001b[0m\u001b[0mdrop\u001b[0m\u001b[1;33m=\u001b[0m\u001b[1;32mTrue\u001b[0m\u001b[1;33m,\u001b[0m\u001b[0minplace\u001b[0m\u001b[1;33m=\u001b[0m\u001b[1;32mTrue\u001b[0m\u001b[1;33m)\u001b[0m\u001b[1;33m\u001b[0m\u001b[0m\n\u001b[0;32m      4\u001b[0m \u001b[0mprint\u001b[0m\u001b[1;33m(\u001b[0m\u001b[0mlen\u001b[0m\u001b[1;33m(\u001b[0m\u001b[0march_all\u001b[0m\u001b[1;33m)\u001b[0m\u001b[1;33m)\u001b[0m\u001b[1;33m\u001b[0m\u001b[0m\n",
      "\u001b[1;32m~\\AppData\\Local\\Continuum\\Miniconda2\\envs\\ms\\lib\\site-packages\\pandas\\io\\pickle.py\u001b[0m in \u001b[0;36mread_pickle\u001b[1;34m(path, compression)\u001b[0m\n\u001b[0;32m     95\u001b[0m     \u001b[1;32mexcept\u001b[0m\u001b[1;33m:\u001b[0m\u001b[1;33m\u001b[0m\u001b[0m\n\u001b[0;32m     96\u001b[0m         \u001b[1;32mif\u001b[0m \u001b[0mPY3\u001b[0m\u001b[1;33m:\u001b[0m\u001b[1;33m\u001b[0m\u001b[0m\n\u001b[1;32m---> 97\u001b[1;33m             \u001b[1;32mreturn\u001b[0m \u001b[0mtry_read\u001b[0m\u001b[1;33m(\u001b[0m\u001b[0mpath\u001b[0m\u001b[1;33m,\u001b[0m \u001b[0mencoding\u001b[0m\u001b[1;33m=\u001b[0m\u001b[1;34m'latin1'\u001b[0m\u001b[1;33m)\u001b[0m\u001b[1;33m\u001b[0m\u001b[0m\n\u001b[0m\u001b[0;32m     98\u001b[0m         \u001b[1;32mraise\u001b[0m\u001b[1;33m\u001b[0m\u001b[0m\n\u001b[0;32m     99\u001b[0m \u001b[1;33m\u001b[0m\u001b[0m\n",
      "\u001b[1;32m~\\AppData\\Local\\Continuum\\Miniconda2\\envs\\ms\\lib\\site-packages\\pandas\\io\\pickle.py\u001b[0m in \u001b[0;36mtry_read\u001b[1;34m(path, encoding)\u001b[0m\n\u001b[0;32m     90\u001b[0m             \u001b[1;32mexcept\u001b[0m\u001b[1;33m:\u001b[0m\u001b[1;33m\u001b[0m\u001b[0m\n\u001b[0;32m     91\u001b[0m                 return read_wrapper(\n\u001b[1;32m---> 92\u001b[1;33m                     lambda f: pc.load(f, encoding=encoding, compat=True))\n\u001b[0m\u001b[0;32m     93\u001b[0m     \u001b[1;32mtry\u001b[0m\u001b[1;33m:\u001b[0m\u001b[1;33m\u001b[0m\u001b[0m\n\u001b[0;32m     94\u001b[0m         \u001b[1;32mreturn\u001b[0m \u001b[0mtry_read\u001b[0m\u001b[1;33m(\u001b[0m\u001b[0mpath\u001b[0m\u001b[1;33m)\u001b[0m\u001b[1;33m\u001b[0m\u001b[0m\n",
      "\u001b[1;32m~\\AppData\\Local\\Continuum\\Miniconda2\\envs\\ms\\lib\\site-packages\\pandas\\io\\pickle.py\u001b[0m in \u001b[0;36mread_wrapper\u001b[1;34m(func)\u001b[0m\n\u001b[0;32m     64\u001b[0m         f, fh = _get_handle(path, 'rb',\n\u001b[0;32m     65\u001b[0m                             \u001b[0mcompression\u001b[0m\u001b[1;33m=\u001b[0m\u001b[0minferred_compression\u001b[0m\u001b[1;33m,\u001b[0m\u001b[1;33m\u001b[0m\u001b[0m\n\u001b[1;32m---> 66\u001b[1;33m                             is_text=False)\n\u001b[0m\u001b[0;32m     67\u001b[0m         \u001b[1;32mtry\u001b[0m\u001b[1;33m:\u001b[0m\u001b[1;33m\u001b[0m\u001b[0m\n\u001b[0;32m     68\u001b[0m             \u001b[1;32mreturn\u001b[0m \u001b[0mfunc\u001b[0m\u001b[1;33m(\u001b[0m\u001b[0mf\u001b[0m\u001b[1;33m)\u001b[0m\u001b[1;33m\u001b[0m\u001b[0m\n",
      "\u001b[1;32m~\\AppData\\Local\\Continuum\\Miniconda2\\envs\\ms\\lib\\site-packages\\pandas\\io\\common.py\u001b[0m in \u001b[0;36m_get_handle\u001b[1;34m(path_or_buf, mode, encoding, compression, memory_map, is_text)\u001b[0m\n\u001b[0;32m    386\u001b[0m         \u001b[1;32melse\u001b[0m\u001b[1;33m:\u001b[0m\u001b[1;33m\u001b[0m\u001b[0m\n\u001b[0;32m    387\u001b[0m             \u001b[1;31m# Python 3 and binary mode\u001b[0m\u001b[1;33m\u001b[0m\u001b[1;33m\u001b[0m\u001b[0m\n\u001b[1;32m--> 388\u001b[1;33m             \u001b[0mf\u001b[0m \u001b[1;33m=\u001b[0m \u001b[0mopen\u001b[0m\u001b[1;33m(\u001b[0m\u001b[0mpath_or_buf\u001b[0m\u001b[1;33m,\u001b[0m \u001b[0mmode\u001b[0m\u001b[1;33m)\u001b[0m\u001b[1;33m\u001b[0m\u001b[0m\n\u001b[0m\u001b[0;32m    389\u001b[0m         \u001b[0mhandles\u001b[0m\u001b[1;33m.\u001b[0m\u001b[0mappend\u001b[0m\u001b[1;33m(\u001b[0m\u001b[0mf\u001b[0m\u001b[1;33m)\u001b[0m\u001b[1;33m\u001b[0m\u001b[0m\n\u001b[0;32m    390\u001b[0m \u001b[1;33m\u001b[0m\u001b[0m\n",
      "\u001b[1;31mFileNotFoundError\u001b[0m: [Errno 2] No such file or directory: 'dataframe_export/all_cells_arch.pkl'"
     ]
    }
   ],
   "source": [
    "# all_cells_lat_analysis\n",
    "arch_all = pd.read_pickle('dataframe_export/all_cells_arch.pkl')\n",
    "arch_all.reset_index(drop=True,inplace=True)\n",
    "print(len(arch_all))"
   ]
  },
  {
   "cell_type": "code",
   "execution_count": null,
   "metadata": {},
   "outputs": [],
   "source": [
    "arch_all.columns"
   ]
  },
  {
   "cell_type": "markdown",
   "metadata": {},
   "source": [
    "### Need to rename columns so retrieval happens on the \"base\" session, not \"laser\" session:"
   ]
  },
  {
   "cell_type": "code",
   "execution_count": null,
   "metadata": {
    "collapsed": true
   },
   "outputs": [],
   "source": [
    "arch_all.rename(columns={'session_name':'session_name_laser','session_name_base':'session_name'}, inplace=True)"
   ]
  },
  {
   "cell_type": "code",
   "execution_count": null,
   "metadata": {},
   "outputs": [],
   "source": [
    "arch_all.iloc[0].session_name"
   ]
  },
  {
   "cell_type": "markdown",
   "metadata": {},
   "source": [
    "### Define cutoffs"
   ]
  },
  {
   "cell_type": "code",
   "execution_count": null,
   "metadata": {
    "collapsed": true
   },
   "outputs": [],
   "source": [
    "#       information content          speed      hd       grid     border\n",
    "#95th    0.9113                     0.2525    0.2253    0.2821    0.4957\n",
    "#99th    1.914800                   0.3694    0.5025    0.5533    0.6317"
   ]
  },
  {
   "cell_type": "code",
   "execution_count": null,
   "metadata": {
    "collapsed": true
   },
   "outputs": [],
   "source": [
    "# taking the 95th percentiles for now \n",
    "grid_cutoff =  0.2980\n",
    "mvl_cutoff = 0.1713\n",
    "speed_cutoff = 0.1907\n",
    "spatial_info_cutoff = 0.8204\n",
    "border_cutoff = 0.5007\n",
    "rate_cutoff = 0.2 "
   ]
  },
  {
   "cell_type": "markdown",
   "metadata": {},
   "source": [
    "# Retrieve data (add whatever you want)"
   ]
  },
  {
   "cell_type": "code",
   "execution_count": null,
   "metadata": {
    "scrolled": false
   },
   "outputs": [],
   "source": [
    "psql = psql_neuroballs(arch_all) # initialize retrieval\n",
    "dict_ = {'spiketimes_tracking_tb': ('mean_freq',),\\\n",
    "         'phase_tuning_tb': ('bins_angle_center_phase', 'hist_angle_smooth_phase', 'phase_stats_MVL', 'phase_stats_mean', 'phase_stats_var', 'rayleigh_p', 'spike_trig_lfp'),\\\n",
    "         'hd_tuning_tb': ('bins_angle_center', 'hist_angle_smooth', 'tc_stats_MVL', 'tc_stats_mean', 'tc_stats_var'), \\\n",
    "         'ratemaps_tb': ('masked_ratemap',), \\\n",
    "         'waveforms_tb': ('mean_wf', 'std_wf', 'maxima_wf'), \\\n",
    "         'BNT_tb_screen': ('InformationContent_bnt', 'tc_stats_hd_peakrate_bnt', 'tc_stats_mean_direction_bnt', 'peak_rate_bnt', 'gridstats_spacing_bnt', 'borderscore_bnt', 'angular_stability_bnt','InformationRate_bnt', 'speedscore_bnt', 'tc_stats_peakdirection_bnt', 'tc_stats_mvl_bnt', 'coherence_bnt', 'grid_score_bnt', 'sparsity_bnt', 'theta_strength_bnt', 'selectivity_bnt', 'mean_rate_bnt', 'theta_mean_phase_bnt', 'masked_ratemap_bnt', 'autocorr_bnt', 'occupancy_map_bnt', 'hist_angle_smooth_bnt', 'bins_angle_center_bnt','calbindin_bnt','calbindin_dist_bnt'),\\\n",
    "         'waveforms_stats_tb': ('artefact', 'idx_max_wf', 'idx_min_wf', 'swidth'),\\\n",
    "         'st_autocorr_tb':('burst_idx2',),\\\n",
    "         'ISI_tb':('isi_stats_percent_bursts'),\\\n",
    "         'stimulus_tb':'',\\\n",
    "         'stimulus_mat_tb':''}\n",
    "         \n",
    "filter_ = \"NOT LIKE '%obj%' AND session_name NOT LIKE '%stab%' AND session_name NOT LIKE '%rest%' AND session_name NOT LIKE '%room%' AND session_name NOT LIKE '%bord%'\"\n",
    "\n",
    "arch_all = psql.retrieve_data(user_sql_tables=dict_,user_sql_filter=filter_)"
   ]
  },
  {
   "cell_type": "markdown",
   "metadata": {},
   "source": [
    "# Notebook 1 for reproducing the figures and analysis related to figure 3 in Rowland et alXXX\n",
    "Executing this notebook will reproduce the images in figure 3 of our paper and run the corresponding statistical tests described in the text.  "
   ]
  },
  {
   "cell_type": "code",
   "execution_count": null,
   "metadata": {},
   "outputs": [],
   "source": [
    "arch_all.columns"
   ]
  },
  {
   "cell_type": "code",
   "execution_count": null,
   "metadata": {},
   "outputs": [],
   "source": [
    "arch_all.label.unique()"
   ]
  },
  {
   "cell_type": "code",
   "execution_count": null,
   "metadata": {},
   "outputs": [],
   "source": [
    "new_column = []\n",
    "for i in range(len(arch_all)):\n",
    "    mj = arch_all.theta_mean_phase_bnt.iloc[i]\n",
    "    if np.isscalar(mj)== True:\n",
    "        new_column.append(mj) \n",
    "    else: \n",
    "        mp = mj[0]\n",
    "        new_column.append(mp)\n",
    "\n",
    "# now overwrite previous column:\n",
    "arch_all['theta_mean_phase_bnt_single'] = new_column\n",
    "\n",
    "new_column = []\n",
    "for i in range(len(arch_all)):\n",
    "    mj = arch_all.theta_strength_bnt.iloc[i]\n",
    "    if np.isscalar(mj) == True:\n",
    "        new_column.append(mj)\n",
    "    else: \n",
    "        mp = mj[0]\n",
    "        new_column.append(mp)\n",
    "\n",
    "# now overwrite previous column:\n",
    "arch_all['theta_strength_bnt_single'] = new_column\n",
    "\n",
    "new_column = []\n",
    "for i in range(len(arch_all)):\n",
    "    mj = arch_all.calbindin_dist_bnt.iloc[i]\n",
    "    if np.isscalar(mj) == True:\n",
    "        new_column.append(mj)\n",
    "    else: \n",
    "        mp = mj[0]\n",
    "        new_column.append(mp)\n",
    "\n",
    "# now overwrite previous column:\n",
    "arch_all['calbindin_dist_bnt_single'] = new_column"
   ]
  },
  {
   "cell_type": "markdown",
   "metadata": {},
   "source": [
    "## Get total number of tagged cells\n",
    "This will retrieve all the cells that were tagged in the dataset (see text for criteria)"
   ]
  },
  {
   "cell_type": "code",
   "execution_count": null,
   "metadata": {
    "collapsed": true
   },
   "outputs": [],
   "source": [
    "cells = arch_all[(arch_all.label == 'inhibited')].copy()\n",
    "inhib_cells = arch_all[(arch_all.label == 'inhibited')].copy()\n",
    "label = 'Tagged arch\\nn={}'.format(len(cells))"
   ]
  },
  {
   "cell_type": "code",
   "execution_count": null,
   "metadata": {},
   "outputs": [],
   "source": [
    "print('There are {} in this filtered dataframe. Label: {}'.format(len(cells),label))"
   ]
  },
  {
   "cell_type": "markdown",
   "metadata": {},
   "source": [
    "## Draw stacked bar chart\n",
    "The following sections draw the stacked bar charts used in Figure 3, first for the tagged cells (\"arch_all\") and then for the remaining cells. The bar charts have a dark color for cells that fall into one category (\"pure\") and a lighter color for cells that fall into multiple categories (\"mix\"). The percentages above the bars give the total number. Note that all \"mix\" cells are counted in at least 2 categories and therefore the percentages will not sum to 100%. We prefered this represenation of the data to a pie chart (or similar) with different slices for all possible conjunctions (grid x HD, speed X border etc.) because the number of possible combinations is large and makes for a complicated figure."
   ]
  },
  {
   "cell_type": "code",
   "execution_count": null,
   "metadata": {
    "collapsed": true
   },
   "outputs": [],
   "source": [
    "gridc = cells[cells.grid_score_bnt > grid_cutoff]\n",
    "hdc = cells[(cells.tc_stats_mvl_bnt > mvl_cutoff)&(cells.angular_stability_bnt>0.6)]#note additional criteria for stability\n",
    "speedc = cells[cells.speedscore_bnt > speed_cutoff]\n",
    "borderc = cells[cells.borderscore_bnt > border_cutoff]\n",
    "\n",
    "unclas = cells[(cells.grid_score_bnt <= grid_cutoff) &\\\n",
    "               (cells.tc_stats_mvl_bnt <= mvl_cutoff) &\\\n",
    "               (cells.speedscore_bnt <= speed_cutoff) &\\\n",
    "               (cells.borderscore_bnt <= border_cutoff)]"
   ]
  },
  {
   "cell_type": "code",
   "execution_count": null,
   "metadata": {
    "collapsed": true
   },
   "outputs": [],
   "source": [
    "# find all the class labels for \"pure cells\" by\n",
    "# finding non-overlap within indices of other cell classes\n",
    "\n",
    "pure_gridc = gridc[(~gridc.index.isin(hdc.index)) & (~gridc.index.isin(speedc.index)) & (~gridc.index.isin(borderc.index))]\n",
    "pure_hdc = hdc[(~hdc.index.isin(gridc.index)) & (~hdc.index.isin(speedc.index)) & (~hdc.index.isin(borderc.index))]\n",
    "pure_borderc = borderc[(~borderc.index.isin(gridc.index)) & (~borderc.index.isin(speedc.index)) & (~borderc.index.isin(hdc.index))]\n",
    "pure_speedc = speedc[(~speedc.index.isin(gridc.index)) & (~speedc.index.isin(borderc.index)) & (~speedc.index.isin(hdc.index))]"
   ]
  },
  {
   "cell_type": "code",
   "execution_count": null,
   "metadata": {
    "collapsed": true
   },
   "outputs": [],
   "source": [
    "all_len = len(cells)\n",
    "# Grid\n",
    "grid_len = len(gridc)\n",
    "frac_grid = grid_len/all_len\n",
    "pure_grid_len = len(pure_gridc)\n",
    "mix_grid_len = grid_len-pure_grid_len\n",
    "\n",
    "# HD\n",
    "hd_len = len(hdc)\n",
    "frac_hd = hd_len/all_len\n",
    "pure_hd_len = len(pure_hdc)\n",
    "mix_hd_len = hd_len-pure_hd_len\n",
    "\n",
    "# Speed\n",
    "speed_len = len(speedc)\n",
    "frac_speed = speed_len/all_len\n",
    "pure_speed_len = len(pure_speedc)\n",
    "mix_speed_len = speed_len-pure_speed_len\n",
    "\n",
    "# Border\n",
    "border_len = len(borderc)\n",
    "frac_border = border_len/all_len\n",
    "pure_border_len = len(pure_borderc)\n",
    "mix_border_len = border_len-pure_border_len\n",
    "\n",
    "# Rest\n",
    "unstable_HD = cells[(cells.tc_stats_mvl_bnt > mvl_cutoff)&(cells.angular_stability_bnt <= 0.6)]#must also add unstable head direction cells\n",
    "unclas_len = len(unclas)+len(unstable_HD)\n",
    "frac_unclas = unclas_len/all_len\n"
   ]
  },
  {
   "cell_type": "code",
   "execution_count": null,
   "metadata": {},
   "outputs": [],
   "source": [
    "# grid, hd, speed, border, unclassified\n",
    "from palettable.cartocolors.sequential import DarkMint_4,Peach_6,RedOr_6,Teal_6\n",
    "#colors = RedOr_6.get_mpl_colormap()\n",
    "\n",
    "seq_col_brew = sns.color_palette(sns.light_palette(\"cyan\",5))\n",
    "sns.set_palette(seq_col_brew)\n",
    "#sns.set(font_scale=1.4,style='white')\n",
    "plt.figure(figsize=(5,7))\n",
    "\n",
    "\n",
    "N = 5\n",
    "pure = (pure_grid_len/all_len, pure_hd_len/all_len, pure_speed_len/all_len, pure_border_len/all_len, unclas_len/all_len)\n",
    "mix = (mix_grid_len/all_len, mix_hd_len/all_len, mix_speed_len/all_len, mix_border_len/all_len,0)\n",
    "\n",
    "rest = ((all_len-(pure_grid_len+mix_grid_len))/all_len,\\\n",
    "        (all_len-(pure_hd_len+mix_hd_len))/all_len,\\\n",
    "        (all_len-(pure_speed_len+mix_speed_len))/all_len,\\\n",
    "        (all_len-(pure_border_len+mix_border_len))/all_len,\\\n",
    "        (all_len-unclas_len)/all_len)\n",
    "\n",
    "ind = np.arange(N)    # the x locations for the groups\n",
    "width = 0.87       # the width of the bars: can also be len(x) sequence\n",
    "\n",
    "p1 = plt.bar(ind, pure, width, color=seq_col_brew[4])\n",
    "p2 = plt.bar(ind, mix, width, color=seq_col_brew[0], bottom=pure)\n",
    "p3 = plt.bar(ind, rest,width,color=plt.cm.Greys(0.2),bottom=[x+y for x,y in zip(pure,mix)])\n",
    "\n",
    "labels = [frac_grid,frac_hd,frac_speed,frac_border,frac_unclas]\n",
    "for i in ind:\n",
    "    # write label:\n",
    "    plt.text(i,labels[i]+.05,'{:.1f}%'.format(labels[i]*100),horizontalalignment='center')\n",
    "\n",
    "#plt.ylabel('Fraction')\n",
    "plt.xticks(ind, ('Grid', 'HD', 'Speed', 'Border','Unclas'))\n",
    "plt.gca().get_yaxis().set_ticks([])\n",
    "\n",
    "plt.legend((p1[0], p2[0]), ('Pure', 'Mix'))\n",
    "plt.ylim(0,1)\n",
    "plt.title(label)\n",
    "sns.despine(left=True,bottom=True)\n",
    "plt.rcParams['svg.fonttype'] = 'none'\n",
    "plt.savefig(r'N:\\davidcr\\stellate paper images\\python output\\tagged_stacked_bar.svg', format='svg', dpi=1000)\n",
    "plt.show()\n",
    "print(pure)"
   ]
  },
  {
   "cell_type": "markdown",
   "metadata": {},
   "source": [
    "## Now make the same stacked bar but for all other cells"
   ]
  },
  {
   "cell_type": "code",
   "execution_count": null,
   "metadata": {
    "collapsed": true
   },
   "outputs": [],
   "source": [
    "non_inhib_cells = arch_all[(arch_all.label != 'inhibited')].copy()# retrieves all cells that were not tagged\n",
    "non_inhib_cells = non_inhib_cells[non_inhib_cells.artefact ==0]\n",
    "label = 'untagged \\nn={}'.format(len(non_inhib_cells))#and labels them"
   ]
  },
  {
   "cell_type": "code",
   "execution_count": null,
   "metadata": {
    "collapsed": true
   },
   "outputs": [],
   "source": [
    "gridc = non_inhib_cells[non_inhib_cells.grid_score_bnt > grid_cutoff]\n",
    "hdc = non_inhib_cells[(non_inhib_cells.tc_stats_mvl_bnt > mvl_cutoff)&(non_inhib_cells.angular_stability_bnt>0.6)]# plus stability\n",
    "speedc = non_inhib_cells[non_inhib_cells.speedscore_bnt > speed_cutoff]\n",
    "borderc = non_inhib_cells[non_inhib_cells.borderscore_bnt > border_cutoff]\n",
    "\n",
    "unclas = non_inhib_cells[(non_inhib_cells.grid_score_bnt <= grid_cutoff) &\\\n",
    "               (non_inhib_cells.tc_stats_mvl_bnt <= mvl_cutoff) &\\\n",
    "               (non_inhib_cells.speedscore_bnt <= speed_cutoff) &\\\n",
    "               (non_inhib_cells.borderscore_bnt <= border_cutoff)]"
   ]
  },
  {
   "cell_type": "code",
   "execution_count": null,
   "metadata": {
    "collapsed": true
   },
   "outputs": [],
   "source": [
    "pure_gridc = gridc[(~gridc.index.isin(hdc.index)) & (~gridc.index.isin(speedc.index)) & (~gridc.index.isin(borderc.index))]\n",
    "pure_hdc = hdc[(~hdc.index.isin(gridc.index)) & (~hdc.index.isin(speedc.index)) & (~hdc.index.isin(borderc.index))]\n",
    "pure_borderc = borderc[(~borderc.index.isin(gridc.index)) & (~borderc.index.isin(speedc.index)) & (~borderc.index.isin(hdc.index))]\n",
    "pure_speedc = speedc[(~speedc.index.isin(gridc.index)) & (~speedc.index.isin(borderc.index)) & (~speedc.index.isin(hdc.index))]"
   ]
  },
  {
   "cell_type": "code",
   "execution_count": null,
   "metadata": {
    "collapsed": true
   },
   "outputs": [],
   "source": [
    "all_len = len(non_inhib_cells)\n",
    "# Grid\n",
    "grid_len = len(gridc)\n",
    "frac_grid = grid_len/all_len\n",
    "pure_grid_len = len(pure_gridc)\n",
    "mix_grid_len = grid_len-pure_grid_len\n",
    "\n",
    "# HD\n",
    "hd_len = len(hdc)\n",
    "frac_hd = hd_len/all_len\n",
    "pure_hd_len = len(pure_hdc)\n",
    "mix_hd_len = hd_len-pure_hd_len\n",
    "\n",
    "# Speed\n",
    "speed_len = len(speedc)\n",
    "frac_speed = speed_len/all_len\n",
    "pure_speed_len = len(pure_speedc)\n",
    "mix_speed_len = speed_len-pure_speed_len\n",
    "\n",
    "# Border\n",
    "border_len = len(borderc)\n",
    "frac_border = border_len/all_len\n",
    "pure_border_len = len(pure_borderc)\n",
    "mix_border_len = border_len-pure_border_len\n",
    "\n",
    "# Rest\n",
    "unstable_HD = cells[(cells.tc_stats_mvl_bnt > mvl_cutoff)&(cells.angular_stability_bnt <= 0.6)]#must also add unstable head direction cells\n",
    "unclas_len = len(unclas)+len(unstable_HD)\n",
    "frac_unclas = unclas_len/all_len"
   ]
  },
  {
   "cell_type": "code",
   "execution_count": null,
   "metadata": {},
   "outputs": [],
   "source": [
    "# grid, hd, speed, border, unclassified\n",
    "from palettable.cartocolors.sequential import DarkMint_4,Peach_6,RedOr_6,Teal_6\n",
    "#colors = RedOr_6.get_mpl_colormap()\n",
    "colors = cm.Greys\n",
    "\n",
    "sns.set(font_scale=1.4,style='white')\n",
    "plt.figure(figsize=(5,7))\n",
    "\n",
    "\n",
    "N = 5\n",
    "pure = (pure_grid_len/all_len, pure_hd_len/all_len, pure_speed_len/all_len, pure_border_len/all_len, unclas_len/all_len)\n",
    "mix = (mix_grid_len/all_len, mix_hd_len/all_len, mix_speed_len/all_len, mix_border_len/all_len,0)\n",
    "\n",
    "rest = ((all_len-(pure_grid_len+mix_grid_len))/all_len,\\\n",
    "        (all_len-(pure_hd_len+mix_hd_len))/all_len,\\\n",
    "        (all_len-(pure_speed_len+mix_speed_len))/all_len,\\\n",
    "        (all_len-(pure_border_len+mix_border_len))/all_len,\\\n",
    "        (all_len-unclas_len)/all_len)\n",
    "\n",
    "ind = np.arange(N)    # the x locations for the groups\n",
    "width = 0.87       # the width of the bars: can also be len(x) sequence\n",
    "\n",
    "p1 = plt.bar(ind, pure, width, color=colors(0.9))\n",
    "p2 = plt.bar(ind, mix, width, color=colors(0.6), bottom=pure)\n",
    "p3 = plt.bar(ind, rest,width,color=plt.cm.Greys(0.2),bottom=[x+y for x,y in zip(pure,mix)])\n",
    "\n",
    "labels = [frac_grid,frac_hd,frac_speed,frac_border,frac_unclas]\n",
    "for i in ind:\n",
    "    # write label:\n",
    "    plt.text(i,labels[i]+.05,'{:.1f}%'.format(labels[i]*100),horizontalalignment='center')\n",
    "\n",
    "#plt.ylabel('Fraction')\n",
    "plt.xticks(ind, ('Grid', 'HD', 'Speed', 'Border','Unclas'))\n",
    "plt.gca().get_yaxis().set_ticks([])\n",
    "\n",
    "plt.legend((p1[0], p2[0]), ('Pure', 'Mix'))\n",
    "plt.ylim(0,1)\n",
    "plt.title(label)\n",
    "sns.despine(left=True,bottom=True)\n",
    "plt.rcParams['svg.fonttype'] = 'none'\n",
    "plt.savefig(r'N:\\davidcr\\stellate paper images\\python output\\untagged_stacked_bar.svg', format='svg', dpi=1000)\n",
    "plt.show()\n",
    "print(pure)"
   ]
  },
  {
   "cell_type": "markdown",
   "metadata": {},
   "source": [
    "## Compare scores between tagged and untagged populations\n",
    "The following section will compare the functional properties between tagged and untagged cells.The code is essentially repeated for each variable. The only change is what is being ploted/compared. \n"
   ]
  },
  {
   "cell_type": "markdown",
   "metadata": {},
   "source": [
    "### Look at waveform stats"
   ]
  },
  {
   "cell_type": "code",
   "execution_count": null,
   "metadata": {},
   "outputs": [],
   "source": [
    "plt.hist(arch_all[arch_all.artefact==0].swidth,60,color='k',label='all arch',alpha=0.8);\n",
    "plt.hist(cells[cells.artefact==0].swidth,60,color='cyan',label='tagged');\n",
    "sns.despine(left=True,bottom=True)\n",
    "plt.xlabel('Spike width [ms]')\n",
    "plt.title('Spike width arch')\n",
    "plt.legend()\n",
    "plt.savefig(r'N:\\davidcr\\stellate paper images\\python output\\spike_width_hist', format='png', dpi=1000)\n",
    "plt.show()\n",
    "\n",
    "sns.kdeplot(cells[cells.artefact==0].swidth, shade=True, color=\"cyan\",label='tagged')\n",
    "sns.kdeplot(non_inhib_cells[non_inhib_cells.artefact==0].swidth, shade=True, color=\"black\",label='untagged')\n",
    "sns.despine(left=True,bottom=True)\n",
    "plt.xlabel('Spike width (ms)')\n",
    "plt.title('Spike width (ms)')\n",
    "plt.legend()\n",
    "plt.savefig(r'N:\\davidcr\\stellate paper images\\python output\\spike_width_kde', format='png', dpi=1000)\n",
    "plt.show()"
   ]
  },
  {
   "cell_type": "code",
   "execution_count": null,
   "metadata": {},
   "outputs": [],
   "source": [
    "import scipy as scipy\n",
    "from scipy.stats import mannwhitneyu\n",
    "scipy.stats.mannwhitneyu(inhib_cells[inhib_cells.artefact==0].swidth, non_inhib_cells[non_inhib_cells.artefact==0].swidth)"
   ]
  },
  {
   "cell_type": "markdown",
   "metadata": {},
   "source": [
    "### Look at grid score "
   ]
  },
  {
   "cell_type": "code",
   "execution_count": null,
   "metadata": {},
   "outputs": [],
   "source": [
    "plt.hist(non_inhib_cells[non_inhib_cells.artefact==0].grid_score_bnt,60,color='k',label='untagged',alpha=0.8,range=[-1, 1.4]);\n",
    "plt.hist(cells[cells.artefact==0].grid_score_bnt,60,color='cyan',label='tagged',range=[-1, 2]);\n",
    "\n",
    "sns.despine(left=True,bottom=True)\n",
    "plt.xlabel('Grid Score')\n",
    "plt.title('Grid Score')\n",
    "plt.legend()\n",
    "plt.rcParams['svg.fonttype'] = 'none'\n",
    "plt.savefig(r'N:\\davidcr\\stellate paper images\\python output\\grid_score_hist.svg', format='svg', dpi=1000)\n",
    "plt.show()\n",
    "\n",
    "sns.kdeplot(cells[cells.artefact==0].grid_score_bnt, shade=True, color=\"cyan\",label='tagged')\n",
    "sns.kdeplot(non_inhib_cells[non_inhib_cells.artefact==0].grid_score_bnt, shade=True, color=\"black\",label='untagged')\n",
    "sns.despine(left=True,bottom=True)\n",
    " \n",
    "plt.xlabel('Grid Score')\n",
    "plt.title('Grid Score')\n",
    "plt.legend()\n",
    "plt.rcParams['svg.fonttype'] = 'none'\n",
    "plt.savefig(r'N:\\davidcr\\stellate paper images\\python output\\grid_score_kde.svg', format='svg', dpi=1000)\n",
    "plt.show()"
   ]
  },
  {
   "cell_type": "code",
   "execution_count": null,
   "metadata": {},
   "outputs": [],
   "source": [
    "import scipy as scipy\n",
    "from scipy.stats import mannwhitneyu\n",
    "scipy.stats.mannwhitneyu(inhib_cells.grid_score_bnt, non_inhib_cells.grid_score_bnt)"
   ]
  },
  {
   "cell_type": "code",
   "execution_count": null,
   "metadata": {},
   "outputs": [],
   "source": [
    "len(non_inhib_cells)"
   ]
  },
  {
   "cell_type": "markdown",
   "metadata": {},
   "source": [
    "### Look at speed score"
   ]
  },
  {
   "cell_type": "code",
   "execution_count": null,
   "metadata": {},
   "outputs": [],
   "source": [
    "plt.hist(non_inhib_cells[non_inhib_cells.artefact==0].speedscore_bnt,60,color='k',label='untagged',alpha=0.8,range=[-1, 1]);\n",
    "plt.hist(cells[cells.artefact==0].speedscore_bnt,60,color='cyan',label='tagged',range=[-1, 1]);\n",
    "\n",
    "sns.despine(left=True,bottom=True)\n",
    "plt.xlabel('Speed Score')\n",
    "plt.title('Speed Score')\n",
    "plt.legend()\n",
    "plt.rcParams['svg.fonttype'] = 'none'\n",
    "plt.savefig(r'N:\\davidcr\\stellate paper images\\python output\\speed_score_hist.svg', format='svg', dpi=1000)\n",
    "plt.show()\n",
    "\n",
    "sns.kdeplot(cells[cells.artefact==0].speedscore_bnt, shade=True, color=\"cyan\",label='tagged')\n",
    "sns.kdeplot(non_inhib_cells[non_inhib_cells.artefact==0].speedscore_bnt, shade=True, color=\"black\",label='untagged')\n",
    "sns.despine(left=True,bottom=True)\n",
    "plt.xlabel('Speed Score')\n",
    "plt.xlim( (-1, 1) ) \n",
    "plt.title('Speed Score')\n",
    "plt.legend()\n",
    "plt.rcParams['svg.fonttype'] = 'none'\n",
    "plt.savefig(r'N:\\davidcr\\stellate paper images\\python output\\speed_score_kde.svg', format='svg', dpi=1000)\n",
    "plt.show()"
   ]
  },
  {
   "cell_type": "code",
   "execution_count": null,
   "metadata": {},
   "outputs": [],
   "source": [
    "import scipy as scipy\n",
    "from scipy.stats import mannwhitneyu\n",
    "scipy.stats.mannwhitneyu(cells.speedscore_bnt, non_inhib_cells.speedscore_bnt)"
   ]
  },
  {
   "cell_type": "markdown",
   "metadata": {},
   "source": [
    "### look at directional tuning"
   ]
  },
  {
   "cell_type": "code",
   "execution_count": null,
   "metadata": {},
   "outputs": [],
   "source": [
    "plt.hist(non_inhib_cells[non_inhib_cells.artefact==0].tc_stats_mvl_bnt,60,color='k',label='untagged',alpha=0.8,range=[0, 1]);\n",
    "plt.hist(cells[cells.artefact==0].tc_stats_mvl_bnt,60,color='cyan',label='tagged',range=[0, 1]);\n",
    "\n",
    "sns.despine(left=True,bottom=True)\n",
    "plt.xlabel('HD Score')\n",
    "plt.title('HD Score')\n",
    "plt.legend()\n",
    "plt.rcParams['svg.fonttype'] = 'none'\n",
    "plt.savefig(r'N:\\davidcr\\stellate paper images\\python output\\head_direction_hist.svg', format='svg', dpi=1000)\n",
    "plt.show()\n",
    "\n",
    "\n",
    "sns.kdeplot(non_inhib_cells[non_inhib_cells.artefact==0].tc_stats_mvl_bnt, shade=True, color=\"black\",label='untagged')\n",
    "sns.kdeplot(cells[cells.artefact==0].tc_stats_mvl_bnt, shade=True, color=\"cyan\",label='tagged')\n",
    "sns.despine(left=True,bottom=True)\n",
    "plt.xlim( (0, 1) ) \n",
    "plt.xlabel('HD Score')\n",
    "plt.title('HD Score')\n",
    "plt.legend()\n",
    "plt.rcParams['svg.fonttype'] = 'none'\n",
    "plt.savefig(r'N:\\davidcr\\stellate paper images\\python output\\head_direction_kde.svg', format='svg', dpi=1000)\n",
    "plt.show()"
   ]
  },
  {
   "cell_type": "code",
   "execution_count": null,
   "metadata": {},
   "outputs": [],
   "source": [
    "import scipy as scipy\n",
    "from scipy.stats import mannwhitneyu\n",
    "scipy.stats.mannwhitneyu(cells.tc_stats_mvl_bnt, non_inhib_cells.tc_stats_mvl_bnt)"
   ]
  },
  {
   "cell_type": "markdown",
   "metadata": {},
   "source": [
    "### Look at spatial information "
   ]
  },
  {
   "cell_type": "code",
   "execution_count": null,
   "metadata": {},
   "outputs": [],
   "source": [
    "plt.hist(non_inhib_cells[non_inhib_cells.artefact==0].informationcontent_bnt,60,color='k',label='untagged',alpha=0.8,range=[0, 2.0]);\n",
    "plt.hist(cells[cells.artefact==0].informationcontent_bnt,60,color='cyan',label='tagged',range=[0, 1]);\n",
    "\n",
    "sns.despine(left=True,bottom=True)\n",
    "plt.xlabel('Information Content')\n",
    "plt.title('Information Content')\n",
    "plt.legend()\n",
    "plt.rcParams['svg.fonttype'] = 'none'\n",
    "plt.savefig(r'N:\\davidcr\\stellate paper images\\python output\\spatial_info_hist.svg', format='svg', dpi=1000)\n",
    "plt.show()\n",
    "\n",
    "\n",
    "sns.kdeplot(non_inhib_cells[non_inhib_cells.artefact==0].informationcontent_bnt, shade=True, color=\"black\",label='untagged')\n",
    "sns.kdeplot(cells[cells.artefact==0].informationcontent_bnt, shade=True, color=\"cyan\",label='tagged')\n",
    "sns.despine(left=True,bottom=True)\n",
    "plt.xlim( (0, 2) ) \n",
    "plt.xlabel('Information Content')\n",
    "plt.title('Information Content')\n",
    "plt.legend()\n",
    "plt.rcParams['svg.fonttype'] = 'none'\n",
    "plt.savefig(r'N:\\davidcr\\stellate paper images\\python output\\spatial_info_kde.svg', format='svg', dpi=1000)\n",
    "plt.show()"
   ]
  },
  {
   "cell_type": "code",
   "execution_count": null,
   "metadata": {},
   "outputs": [],
   "source": [
    "import scipy as scipy\n",
    "from scipy.stats import mannwhitneyu\n",
    "scipy.stats.mannwhitneyu(cells.informationcontent_bnt, non_inhib_cells.informationcontent_bnt)"
   ]
  },
  {
   "cell_type": "markdown",
   "metadata": {},
   "source": [
    "### look at border score"
   ]
  },
  {
   "cell_type": "code",
   "execution_count": null,
   "metadata": {},
   "outputs": [],
   "source": [
    "plt.hist(non_inhib_cells[non_inhib_cells.artefact==0].borderscore_bnt,60,color='k',label='untagged',alpha=0.8,range=[-1, 1.0]);\n",
    "plt.hist(cells[cells.artefact==0].borderscore_bnt,60,color='cyan',label='tagged',range=[0, 1]);\n",
    "\n",
    "sns.despine(left=True,bottom=True)\n",
    "plt.xlabel('Border score')\n",
    "plt.title('Border score')\n",
    "plt.legend()\n",
    "plt.rcParams['svg.fonttype'] = 'none'\n",
    "plt.savefig(r'N:\\davidcr\\stellate paper images\\python output\\border_score_hist.svg', format='svg', dpi=1000)\n",
    "plt.show()\n",
    "\n",
    "\n",
    "sns.kdeplot(non_inhib_cells[non_inhib_cells.artefact==0].borderscore_bnt, shade=True, color=\"black\",label='untagged')\n",
    "sns.kdeplot(cells[cells.artefact==0].borderscore_bnt, shade=True, color=\"cyan\",label='tagged')\n",
    "sns.despine(left=True,bottom=True)\n",
    "plt.xlim( (-1.0, 1) ) \n",
    "plt.xlabel('Border score')\n",
    "plt.title('Border score')\n",
    "plt.legend()\n",
    "plt.rcParams['svg.fonttype'] = 'none'\n",
    "plt.savefig(r'N:\\davidcr\\stellate paper images\\python output\\border_score_kde.svg', format='svg', dpi=1000)\n",
    "plt.show()"
   ]
  },
  {
   "cell_type": "code",
   "execution_count": null,
   "metadata": {},
   "outputs": [],
   "source": [
    "import scipy as scipy\n",
    "from scipy.stats import mannwhitneyu\n",
    "scipy.stats.mannwhitneyu(cells[cells.artefact==0].borderscore_bnt, non_inhib_cells[non_inhib_cells.artefact==0].borderscore_bnt)"
   ]
  },
  {
   "cell_type": "markdown",
   "metadata": {},
   "source": [
    "### now look at burstiness"
   ]
  },
  {
   "cell_type": "code",
   "execution_count": null,
   "metadata": {},
   "outputs": [],
   "source": [
    "plt.hist(non_inhib_cells[non_inhib_cells.artefact==0].burst_idx2,60,color='k',label='untagged',alpha=0.8,range=[0, 20]);\n",
    "plt.hist(cells[cells.artefact==0].burst_idx2,60,color='cyan',label='tagged',range=[0, 20]);\n",
    "\n",
    "sns.despine(left=True,bottom=True)\n",
    "plt.xlabel('Burst index')\n",
    "plt.title('Burst index')\n",
    "plt.legend()\n",
    "plt.show()\n",
    "\n",
    "\n",
    "sns.kdeplot(non_inhib_cells[non_inhib_cells.artefact==0].burst_idx2, shade=True, color=\"black\",label='untagged')\n",
    "sns.kdeplot(cells[cells.artefact==0].burst_idx2, shade=True, color=\"cyan\",label='tagged')\n",
    "sns.despine(left=True,bottom=True)\n",
    "plt.xlabel('Burst index')\n",
    "plt.title('Burst index')\n",
    "plt.legend()\n",
    "plt.show()"
   ]
  },
  {
   "cell_type": "code",
   "execution_count": null,
   "metadata": {},
   "outputs": [],
   "source": [
    "import scipy as scipy\n",
    "from scipy.stats import mannwhitneyu\n",
    "scipy.stats.mannwhitneyu(cells[cells.artefact==0].burst_idx2, non_inhib_cells[non_inhib_cells.artefact==0].burst_idx2)"
   ]
  },
  {
   "cell_type": "code",
   "execution_count": null,
   "metadata": {},
   "outputs": [],
   "source": [
    "plt.hist(non_inhib_cells[non_inhib_cells.artefact==0].isi_stats_percent_bursts,60,color='k',label='untagged',alpha=0.8,range=[0, 60]);\n",
    "plt.hist(cells[cells.artefact==0].isi_stats_percent_bursts,60,color='cyan',label='tagged',range=[0, 60]);\n",
    "\n",
    "sns.despine(left=True,bottom=True)\n",
    "plt.xlabel('Percent in burst')\n",
    "plt.title('Percent in burst')\n",
    "plt.legend()\n",
    "plt.show()\n",
    "\n",
    "\n",
    "sns.kdeplot(non_inhib_cells[non_inhib_cells.artefact==0].isi_stats_percent_bursts, shade=True, color=\"black\",label='untagged')\n",
    "sns.kdeplot(cells[cells.artefact==0].isi_stats_percent_bursts, shade=True, color=\"cyan\",label='tagged')\n",
    "sns.despine(left=True,bottom=True)\n",
    "plt.xlabel('Percent in burst')\n",
    "plt.title('Percent in burst')\n",
    "plt.legend()\n",
    "plt.show()"
   ]
  },
  {
   "cell_type": "markdown",
   "metadata": {},
   "source": [
    "## section for plotting as a violin plot instead"
   ]
  },
  {
   "cell_type": "markdown",
   "metadata": {},
   "source": [
    "## Make some violin plots for comparison "
   ]
  },
  {
   "cell_type": "code",
   "execution_count": null,
   "metadata": {},
   "outputs": [],
   "source": [
    "figure = plt.figure(facecolor='w')\n",
    "\n",
    "sns.set(font_scale=1.)\n",
    "sns.set_style('white')\n",
    " \n",
    "    \n",
    "\n",
    "figure.set_size_inches(11.7, 8.27)\n",
    "\n",
    "sns.set_style(\"white\")\n",
    "\n",
    "arch_all[\"null\"] = \"\"\n",
    "\n",
    "taggedCM = [\"#e0ffff\", \"#C0C0C0\"]\n",
    "sns.set_palette(taggedCM)\n",
    "#sns.palplot(sns.color_palette())\n",
    "\n",
    "ax = sns.violinplot(x = arch_all[\"null\"],y=arch_all.grid_score_bnt.astype(float) , hue = arch_all.label,split = True, alpha = 0.1)\n",
    "taggedCM2 = [\"#00ffff\", \"#000000\"]\n",
    "sns.set_palette(taggedCM2)\n",
    "ax = sns.stripplot(x = arch_all[\"null\"],y=arch_all.grid_score_bnt.astype(float) , hue = arch_all.label,jitter = True, dodge = True, size=10,linewidth=1,alpha = 0.3)\n",
    "plt.savefig(r'N:\\davidcr\\stellate paper images\\python output\\grid_score_violin.svg', format='svg', dpi=1000)\n",
    "\n",
    "\n",
    "figure = plt.figure(facecolor='w')\n",
    "sns.set(font_scale=1.)\n",
    "figure.set_size_inches(11.7, 8.27)\n",
    "sns.set_style(\"white\")\n",
    "\n",
    "taggedCM = [\"#e0ffff\", \"#C0C0C0\"]\n",
    "sns.set_palette(taggedCM)\n",
    "ax2 = sns.violinplot(x = arch_all[\"null\"],y=arch_all.borderscore_bnt.astype(float) , hue = arch_all.label,split = True, alpha = 0.1)\n",
    "taggedCM2 = [\"#00ffff\", \"#000000\"]\n",
    "sns.set_palette(taggedCM2)\n",
    "ax2 = sns.stripplot(x = arch_all[\"null\"],y=arch_all.borderscore_bnt.astype(float) , hue = arch_all.label,jitter = True, dodge = True, size=10,linewidth=1,alpha = 0.3)\n",
    "plt.savefig(r'N:\\davidcr\\stellate paper images\\python output\\border_score_violin.svg', format='svg', dpi=1000)\n",
    "\n",
    "\n",
    "figure = plt.figure(facecolor='w')\n",
    "sns.set(font_scale=1.)\n",
    "figure.set_size_inches(11.7, 8.27)\n",
    "sns.set_style(\"white\")\n",
    "\n",
    "taggedCM = [\"#e0ffff\", \"#C0C0C0\"]\n",
    "sns.set_palette(taggedCM)\n",
    "ax2 = sns.violinplot(x = arch_all[\"null\"],y=arch_all.tc_stats_mvl_bnt.astype(float) , hue = arch_all.label,split = True, alpha = 0.1)\n",
    "taggedCM2 = [\"#00ffff\", \"#000000\"]\n",
    "sns.set_palette(taggedCM2)\n",
    "ax2 = sns.stripplot(x = arch_all[\"null\"],y=arch_all.tc_stats_mvl_bnt.astype(float) , hue = arch_all.label,jitter = True, dodge = True, size=10,linewidth=1,alpha = 0.3 )\n",
    "plt.savefig(r'N:\\davidcr\\stellate paper images\\python output\\HD_score_violin.svg', format='svg', dpi=1000)\n",
    "\n",
    "\n",
    "figure = plt.figure(facecolor='w')\n",
    "sns.set(font_scale=1.)\n",
    "figure.set_size_inches(11.7, 8.27)\n",
    "sns.set_style(\"white\")\n",
    "\n",
    "taggedCM = [\"#e0ffff\", \"#C0C0C0\"]\n",
    "sns.set_palette(taggedCM)\n",
    "ax2 = sns.violinplot(x = arch_all[\"null\"],y=arch_all.speedscore_bnt.astype(float) , hue = arch_all.label,split = True, alpha = 0.1)\n",
    "taggedCM2 = [\"#00ffff\", \"#000000\"]\n",
    "sns.set_palette(taggedCM2)\n",
    "ax2 = sns.stripplot(x = arch_all[\"null\"],y=arch_all.speedscore_bnt.astype(float) , hue = arch_all.label,jitter = True, dodge = True, size=10, linewidth=1, alpha = 0.3)\n",
    "plt.savefig(r'N:\\davidcr\\stellate paper images\\python output\\speed_score_violin.svg', format='svg', dpi=1000)\n",
    "\n"
   ]
  },
  {
   "cell_type": "markdown",
   "metadata": {},
   "source": [
    "## Now check classifier perfomance on tagged cells"
   ]
  },
  {
   "cell_type": "code",
   "execution_count": null,
   "metadata": {},
   "outputs": [],
   "source": [
    "# retrieve tagged cells again\n",
    "cells = arch_all[(arch_all.label == 'inhibited')].copy()\n",
    "# get 3 different sets: \n",
    "figure.set_size_inches(11.7, 8.27)\n",
    "calbindin = cells[(cells.calbindin_bnt == 1)&(np.fabs(cells.calbindin_dist_bnt_single)>=0.1)]\n",
    "stellate = cells[(cells.calbindin_bnt == 0)&(np.fabs(cells.calbindin_dist_bnt_single)>=0.1)]\n",
    "rest =cells[np.fabs(cells.calbindin_dist_bnt_single)<0.1]\n",
    "cb = len(calbindin)\n",
    "st = len(stellate)\n",
    "r = len(rest)\n",
    "width = 0.23\n",
    "ind = 1\n",
    "p1 = plt.bar(ind, st, width, color='#7570b3')\n",
    "p2 = plt.bar(ind, cb, width, color='#d95f02', bottom=st)\n",
    "p3 = plt.bar(ind, r,width,color='#1b9e77',bottom=[cb+st])\n",
    "\n",
    "\n",
    "plt.gca().get_xaxis().set_ticks([])\n",
    "\n",
    "plt.legend((p1[0], p2[0],p3[0]), ('Calbindin -', 'Calbindin +', 'Guard Zone'))\n",
    "plt.ylim(0,100)\n",
    "plt.xlim(0.5,1.5)\n",
    "plt.title('Classifier performance on tagged cells')\n",
    "plt.ylabel('Count')\n",
    "sns.despine(left=True,bottom=True)\n",
    "plt.savefig(r'N:\\davidcr\\stellate paper images\\python output\\tagged_classifier.svg', format='svg', dpi=1000)\n",
    "plt.show()\n",
    "print(len(calbindin))\n",
    "print(len(rest))\n",
    "print(len(stellate))"
   ]
  },
  {
   "cell_type": "code",
   "execution_count": null,
   "metadata": {},
   "outputs": [],
   "source": [
    "sns.set(font_scale=1.4,style='white')\n",
    "figure = plt.figure(figsize=(15,7))\n",
    "ax = figure.add_subplot(1,2,1,projection='polar')\n",
    "ax.scatter(calbindin.theta_mean_phase_bnt_single.values.astype(float),calbindin.theta_strength_bnt_single.values.astype(float),c='#d95f02',alpha=.7,label='Calbindin',s = 100)\n",
    "ax.scatter(stellate.theta_mean_phase_bnt_single.values.astype(float),stellate.theta_strength_bnt_single.values.astype(float),c='#7570b3',alpha=.7,label='Stellate',s=(stellate.calbindin_dist_bnt_single*200).astype(int))\n",
    "ax.scatter(rest.theta_mean_phase_bnt_single.values.astype(float),rest.theta_strength_bnt_single.values.astype(float),c='#1b9e77',alpha=.7,label='Guard Zone', s = 100)\n",
    "ax.set_xlabel('Theta phase x theta strength')\n",
    "plt.title('Classification of Tagged Cells (n = 82)',  y=1.08)\n",
    "lgnd = plt.legend(loc='center left', bbox_to_anchor=(1.1, 0.5))\n",
    "lgnd.legendHandles[0]._sizes = [100]\n",
    "lgnd.legendHandles[1]._sizes = [100]\n",
    "lgnd.legendHandles[2]._sizes = [100]\n",
    "plt.rcParams['svg.fonttype'] = 'none'\n",
    "plt.savefig(r'N:\\davidcr\\stellate paper images\\python output\\circular phase vs strength all tagged.svg', format='svg', dpi=1000, bbox_inches='tight')\n",
    "\n",
    "plt.show()"
   ]
  },
  {
   "cell_type": "code",
   "execution_count": null,
   "metadata": {},
   "outputs": [],
   "source": [
    "sns.set(font_scale=1.4,style='white')\n",
    "figure = plt.figure(figsize=(15,7))\n",
    "ax = figure.add_subplot(1,2,1,projection='polar')\n",
    "ax.scatter(calbindin.theta_mean_phase_bnt_single.values.astype(float),calbindin.theta_strength_bnt_single.values.astype(float),c='#d95f02',alpha=.7,label='Calbindin',s=(calbindin.grid_score_bnt*500).astype(int))\n",
    "ax.scatter(stellate.theta_mean_phase_bnt_single.values.astype(float),stellate.theta_strength_bnt_single.values.astype(float),c='#7570b3',alpha=.7,label='Stellate',s=(calbindin.grid_score_bnt*500).astype(int))\n",
    "ax.scatter(rest.theta_mean_phase_bnt_single.values.astype(float),rest.theta_strength_bnt_single.values.astype(float),c='#1b9e77',alpha=.7,label='Guard Zone', s=(calbindin.grid_score_bnt*500).astype(int))\n",
    "ax.set_xlabel('Theta phase x theta strength')\n",
    "plt.title('Classification of Tagged Cells (n = 82)',  y=1.08)\n",
    "lgnd = plt.legend(loc='center left', bbox_to_anchor=(1.1, 0.5))\n",
    "lgnd.legendHandles[0]._sizes = [100]\n",
    "lgnd.legendHandles[1]._sizes = [100]\n",
    "lgnd.legendHandles[2]._sizes = [100]\n",
    "plt.rcParams['svg.fonttype'] = 'none'\n",
    "plt.savefig(r'N:\\davidcr\\stellate paper images\\python output\\circular phase vs strength by grid score.svg', format='svg', dpi=1000, bbox_inches='tight')\n",
    "\n",
    "plt.show()"
   ]
  },
  {
   "cell_type": "code",
   "execution_count": null,
   "metadata": {},
   "outputs": [],
   "source": [
    "np.mean(calbindin.calbindin_dist_bnt)"
   ]
  },
  {
   "cell_type": "markdown",
   "metadata": {},
   "source": [
    "###### psql = psql_neuroballs(arch_all) # initialize retrieval\n",
    "dict_ = {'BNT_tb_iso':('lratio','isodist')}\n",
    "filter_ = \"NOT LIKE '%obj%' AND session_name NOT LIKE '%stab%' AND session_name NOT LIKE '%rest%' AND session_name NOT LIKE '%room%' AND session_name NOT LIKE '%bord%'\"\n",
    "\n",
    "arch_all = psql.retrieve_data(user_sql_tables=dict_,user_sql_filter=filter_)\n",
    "ax = sns.violinplot(x = arch_all[\"null\"],y=arch_all.lratio.astype(float) , hue = arch_all.label,split = True, alpha = 0.1)\n",
    "taggedCM2 = [\"#00ffff\", \"#000000\"]\n",
    "sns.set_palette(taggedCM2)\n",
    "ax = sns.stripplot(x = arch_all[\"null\"],y=arch_all.lratio.astype(float) , hue = arch_all.label,jitter = True, dodge = True, size=10,linewidth=1,alpha = 0.3)\n",
    "plt.show()\n",
    "\n",
    "ax2 = sns.violinplot(x = arch_all[\"null\"],y=arch_all.isodist.astype(float) , hue = arch_all.label,split = True, alpha = 0.1)\n",
    "taggedCM2 = [\"#00ffff\", \"#000000\"]\n",
    "sns.set_palette(taggedCM2)\n",
    "ax2 = sns.stripplot(x = arch_all[\"null\"],y=arch_all.isodist.astype(float) , hue = arch_all.label,jitter = True, dodge = True, size=10,linewidth=1,alpha = 0.3)\n",
    "plt.ylim(0,50)\n",
    "plt.show()"
   ]
  },
  {
   "cell_type": "markdown",
   "metadata": {},
   "source": [
    "###### scipy.stats.mannwhitneyu(cells[cells.artefact==0].isodist, non_inhib_cells[non_inhib_cells.artefact==0].isodist)"
   ]
  },
  {
   "cell_type": "markdown",
   "metadata": {},
   "source": [
    "###### np.mean(non_inhib_cells.isodist)"
   ]
  },
  {
   "cell_type": "markdown",
   "metadata": {},
   "source": [
    "###### scipy.stats.mannwhitneyu(cells[cells.artefact==0].theta_strength_bnt_single, non_inhib_cells[non_inhib_cells.artefact==0].burst_idx2)"
   ]
  },
  {
   "cell_type": "markdown",
   "metadata": {},
   "source": [
    "###### plt.show()"
   ]
  },
  {
   "cell_type": "markdown",
   "metadata": {},
   "source": [
    "###### plt.scatter(non_inhib_cells[non_inhib_cells.artefact==0].grid_score_bnt,non_inhib_cells[non_inhib_cells.artefact==0].isodist)\n",
    "plt.ylim(0,50)\n",
    "plt.show()\n"
   ]
  }
 ],
 "metadata": {
  "kernelspec": {
   "display_name": "Python 3",
   "language": "python",
   "name": "python3"
  },
  "language_info": {
   "codemirror_mode": {
    "name": "ipython",
    "version": 3
   },
   "file_extension": ".py",
   "mimetype": "text/x-python",
   "name": "python",
   "nbconvert_exporter": "python",
   "pygments_lexer": "ipython3",
   "version": "3.6.2"
  },
  "notify_time": "5",
  "widgets": {
   "application/vnd.jupyter.widget-state+json": {
    "state": {
     "142739941ccb492184dc4a29daf88f05": {
      "model_module": "jupyter-js-widgets",
      "model_module_version": "~2.0.30",
      "model_name": "LayoutModel",
      "state": {
       "_model_module_version": "~2.0.30",
       "_view_module_version": "~2.0.30"
      }
     },
     "18f095f85119473183435ea6ab677fe3": {
      "model_module": "jupyter-js-widgets",
      "model_module_version": "~2.0.30",
      "model_name": "OutputModel",
      "state": {
       "_dom_classes": [],
       "_model_module": "jupyter-js-widgets",
       "_model_module_version": "~2.0.30",
       "_view_module": "jupyter-js-widgets",
       "_view_module_version": "~2.0.30",
       "layout": "IPY_MODEL_142739941ccb492184dc4a29daf88f05",
       "msg_throttle": 1
      }
     },
     "1ec8d4195e3f41a780ff1340e9dcc5a1": {
      "model_module": "jupyter-js-widgets",
      "model_module_version": "~2.0.30",
      "model_name": "LayoutModel",
      "state": {
       "_model_module_version": "~2.0.30",
       "_view_module_version": "~2.0.30"
      }
     },
     "6c826c931af7406e923d24fc67d9462f": {
      "model_module": "jupyter-js-widgets",
      "model_module_version": "~2.0.30",
      "model_name": "SliderStyleModel",
      "state": {
       "_model_module_version": "~2.0.30",
       "_view_module_version": "~2.0.30"
      }
     },
     "af3d44e19ad846cbb076e9983825fc21": {
      "model_module": "jupyter-js-widgets",
      "model_module_version": "~2.0.30",
      "model_name": "VBoxModel",
      "state": {
       "_dom_classes": [
        "widget-interact"
       ],
       "_model_module_version": "~2.0.30",
       "_view_module_version": "~2.0.30",
       "children": [
        "IPY_MODEL_e10f82066fb945d6b8f2f38689e207e7",
        "IPY_MODEL_18f095f85119473183435ea6ab677fe3"
       ],
       "layout": "IPY_MODEL_ce6232d4b70d4a1e83b5f9c6fdb11409"
      }
     },
     "ce6232d4b70d4a1e83b5f9c6fdb11409": {
      "model_module": "jupyter-js-widgets",
      "model_module_version": "~2.0.30",
      "model_name": "LayoutModel",
      "state": {
       "_model_module_version": "~2.0.30",
       "_view_module_version": "~2.0.30"
      }
     },
     "e10f82066fb945d6b8f2f38689e207e7": {
      "model_module": "jupyter-js-widgets",
      "model_module_version": "~2.0.30",
      "model_name": "IntSliderModel",
      "state": {
       "_model_module_version": "~2.0.30",
       "_view_module_version": "~2.0.30",
       "description": "i",
       "layout": "IPY_MODEL_1ec8d4195e3f41a780ff1340e9dcc5a1",
       "max": 1796,
       "style": "IPY_MODEL_6c826c931af7406e923d24fc67d9462f",
       "value": 912
      }
     }
    },
    "version_major": 1,
    "version_minor": 0
   }
  }
 },
 "nbformat": 4,
 "nbformat_minor": 2
}
