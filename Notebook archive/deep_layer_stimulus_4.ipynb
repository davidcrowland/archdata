{
 "cells": [
  {
   "cell_type": "markdown",
   "metadata": {},
   "source": [
    "# Analysis deep layer optogenetics 4 - LFP"
   ]
  },
  {
   "cell_type": "code",
   "execution_count": 12,
   "metadata": {
    "collapsed": true
   },
   "outputs": [],
   "source": [
    "# works with saved datasets from deep_layer_stimulus_2"
   ]
  },
  {
   "cell_type": "code",
   "execution_count": 13,
   "metadata": {},
   "outputs": [
    {
     "name": "stdout",
     "output_type": "stream",
     "text": [
      "The autoreload extension is already loaded. To reload it, use:\n",
      "  %reload_ext autoreload\n"
     ]
    }
   ],
   "source": [
    "# the following two lines indicate that external functions are auto-reloaded as soon as they change. \n",
    "%load_ext autoreload\n",
    "%autoreload 2\n",
    "# Print statements \n",
    "from __future__ import print_function # Python 2.x"
   ]
  },
  {
   "cell_type": "code",
   "execution_count": 14,
   "metadata": {
    "collapsed": true
   },
   "outputs": [],
   "source": [
    "# General stuff:\n",
    "import sys\n",
    "import argparse\n",
    "import os\n",
    "import json\n",
    "import numpy as np\n",
    "import math\n",
    "import psycopg2\n",
    "import cPickle\n",
    "import pandas as pd\n",
    "import h5py\n",
    "\n",
    "from scipy.signal import spectrogram,welch,detrend,butter,filtfilt,hilbert,savgol_filter\n",
    "\n",
    "pd.options.mode.chained_assignment = None  # default='warn'\n",
    "\n",
    "from datetime import date\n",
    "from tqdm import tqdm_notebook\n",
    "\n",
    "# Plotting:\n",
    "from matplotlib import pyplot as plt\n",
    "import seaborn as sns\n",
    "import matplotlib.cm as cm\n",
    "import matplotlib as mpl\n",
    "%matplotlib inline\n",
    "from IPython.display import display, HTML\n",
    "\n",
    "# External functions from subfolder /database_helpers. \n",
    "# as soon as you change something in there and press save, it will auto reload on next execution.\n",
    "from database_helpers.psql_start import *\n",
    "from database_helpers.create_tables import *\n",
    "from database_helpers.write2tables import *\n",
    "from postgres_analysis_helpers.general import *\n",
    "from analysis_helpers.misshapen import shape, nonshape\n",
    "\n",
    "# register pickle type to retrieve binary data from database\n",
    "psycopg2.extensions.register_type(psycopg2.extensions.new_type(psycopg2.BINARY.values, 'BINARY-PICKLE', cast_pickle))"
   ]
  },
  {
   "cell_type": "code",
   "execution_count": 15,
   "metadata": {},
   "outputs": [
    {
     "name": "stdout",
     "output_type": "stream",
     "text": [
      "Connecting to the PostgreSQL database...\n",
      "Yippiyeah! Database connection is established!\n"
     ]
    }
   ],
   "source": [
    "db_status = test_connect()\n",
    "if db_status == False:\n",
    "    print('Grrr... no database connection could be established.')\n",
    "else:\n",
    "    print('Yippiyeah! Database connection is established!')"
   ]
  },
  {
   "cell_type": "code",
   "execution_count": 16,
   "metadata": {
    "collapsed": true
   },
   "outputs": [],
   "source": [
    "# load the parameters to connect to data_1 \n",
    "params = config()"
   ]
  },
  {
   "cell_type": "markdown",
   "metadata": {},
   "source": [
    "## Analysis"
   ]
  },
  {
   "cell_type": "markdown",
   "metadata": {},
   "source": [
    "Retrieve stimulus table for deep layer mice (**retro-cre**, **DIOCheta injections**)"
   ]
  },
  {
   "cell_type": "code",
   "execution_count": 17,
   "metadata": {
    "collapsed": true
   },
   "outputs": [],
   "source": [
    "salt_i_thresh = .1\n",
    "salt_p_thresh = .05\n",
    "inhib_p_thresh = .001 # arbitrary at the moment!"
   ]
  },
  {
   "cell_type": "markdown",
   "metadata": {},
   "source": [
    "### Retrieve the stuff:"
   ]
  },
  {
   "cell_type": "code",
   "execution_count": 18,
   "metadata": {
    "collapsed": true
   },
   "outputs": [],
   "source": [
    "export_path_pickle  = r\"C:\\work\\python\\klusta_analysis\\postgres_notebooks\\export_dataframes\"\n",
    "export_path_pickle = \"/\".join(export_path_pickle.split(\"\\\\\"))"
   ]
  },
  {
   "cell_type": "code",
   "execution_count": 19,
   "metadata": {
    "collapsed": true
   },
   "outputs": [],
   "source": [
    "# retrieve:\n",
    "deep_layer_exc_filtered = pd.read_pickle(export_path_pickle + \"/deep_layer_exc_filtered.pkl\")\n",
    "deep_layer_inhib_filtered = pd.read_pickle(export_path_pickle + \"/deep_layer_inhib_filtered.pkl\")\n",
    "deep_layer_rest_filtered = pd.read_pickle(export_path_pickle + \"/deep_layer_rest_filtered.pkl\")\n",
    "\n",
    "#autocorr_cells = pd.read_pickle(export_path_pickle + \"/autocorr_cells.pkl\")\n",
    "#ratemaps_cells = pd.read_pickle(export_path_pickle + \"/ratemaps_cells.pkl\")\n",
    "#obj_ratemaps_cells = pd.read_pickle(export_path_pickle + \"/obj_ratemaps_cells.pkl\")\n",
    "#bnt_scores_cells = pd.read_pickle(export_path_pickle + \"/bnt_scores_cells.pkl\")\n",
    "#spiketimes_tracking_cells = pd.read_pickle(export_path_pickle + \"/spiketimes_tracking_cells.pkl\")\n",
    "#obj_spiketimes_tracking_cells = pd.read_pickle(export_path_pickle + \"/obj_spiketimes_tracking_cells.pkl\")\n",
    "#tracking_cells = pd.read_pickle(export_path_pickle + \"/tracking_cells.pkl\")\n",
    "#obj_tracking_cells = pd.read_pickle(export_path_pickle + \"/obj_tracking_cells.pkl\")\n",
    "\n",
    "lfp_cells_deep = pd.read_pickle(export_path_pickle + \"/lfp_cells.pkl\")"
   ]
  },
  {
   "cell_type": "code",
   "execution_count": 20,
   "metadata": {
    "collapsed": true
   },
   "outputs": [],
   "source": [
    "# also retrieve LFP data from superficial MEC mice (Dave's arch mice)\n",
    "sup_layer_inhib_filtered = pd.read_pickle(export_path_pickle + \"/sup_layer_inhib_filtered.pkl\")\n",
    "lfp_cells_sup = pd.read_pickle(export_path_pickle + \"/lfp_cells_superficial.pkl\")"
   ]
  },
  {
   "cell_type": "markdown",
   "metadata": {},
   "source": [
    "### Show a quick overview over arch mice ... "
   ]
  },
  {
   "cell_type": "code",
   "execution_count": 21,
   "metadata": {
    "collapsed": true
   },
   "outputs": [],
   "source": [
    "## initialize figure parameters ... \n",
    "#if len(sup_layer_inhib_filtered) > 25: \n",
    "#    number_plots = 25\n",
    "#else:\n",
    "#    number_plots = len(deep_layer_inhib_filtered)\n",
    "#layout_plots = [5,5]  \n",
    "#create_spike_plots_stimulus(sup_layer_inhib_filtered,number_plots,layout_plots)"
   ]
  },
  {
   "cell_type": "markdown",
   "metadata": {},
   "source": [
    "### Work with LFP data"
   ]
  },
  {
   "cell_type": "markdown",
   "metadata": {},
   "source": [
    "lfp_cells_deep consists of ([deep_layer_exc_filtered,deep_layer_inhib_filtered,deep_layer_rest_filtered])"
   ]
  },
  {
   "cell_type": "code",
   "execution_count": 22,
   "metadata": {},
   "outputs": [
    {
     "data": {
      "text/plain": [
       "390"
      ]
     },
     "execution_count": 22,
     "metadata": {},
     "output_type": "execute_result"
    }
   ],
   "source": [
    "len(lfp_cells_deep)"
   ]
  },
  {
   "cell_type": "code",
   "execution_count": 23,
   "metadata": {},
   "outputs": [
    {
     "data": {
      "text/html": [
       "<div>\n",
       "<table border=\"1\" class=\"dataframe\">\n",
       "  <thead>\n",
       "    <tr style=\"text-align: right;\">\n",
       "      <th></th>\n",
       "      <th>cluster_no</th>\n",
       "      <th>analysis_ts</th>\n",
       "      <th>tetrode_no</th>\n",
       "      <th>session_name</th>\n",
       "      <th>filename</th>\n",
       "      <th>n_drive_user</th>\n",
       "      <th>animal_id</th>\n",
       "      <th>session_ts</th>\n",
       "      <th>analysis_window</th>\n",
       "      <th>salt_window</th>\n",
       "      <th>...</th>\n",
       "      <th>inhib_lowest_p</th>\n",
       "      <th>inhib_lowest_p_interval</th>\n",
       "      <th>change_point_ms</th>\n",
       "      <th>spiketimes_cluster</th>\n",
       "      <th>stimulus_timepoints</th>\n",
       "      <th>sum_1ms</th>\n",
       "      <th>bin_edges_1ms</th>\n",
       "      <th>binnumber_1ms</th>\n",
       "      <th>lfp_session</th>\n",
       "      <th>theta_freq</th>\n",
       "    </tr>\n",
       "  </thead>\n",
       "  <tbody>\n",
       "    <tr>\n",
       "      <th>0</th>\n",
       "      <td>39</td>\n",
       "      <td>2017-04-13 15:57:25.511000</td>\n",
       "      <td>8</td>\n",
       "      <td>25032017laser3s1</td>\n",
       "      <td>N:/horsto/71461/25032017/KLUSTA/3.kwik</td>\n",
       "      <td>horsto</td>\n",
       "      <td>71461</td>\n",
       "      <td>2017-03-25 16:59:44</td>\n",
       "      <td>200</td>\n",
       "      <td>10</td>\n",
       "      <td>...</td>\n",
       "      <td>NaN</td>\n",
       "      <td>NaN</td>\n",
       "      <td>NaN</td>\n",
       "      <td>[1255.6875, 5817.10416667, 9717.08333333, 1726...</td>\n",
       "      <td>[1803466.5, 1803516.5625, 1803566.5625, 180361...</td>\n",
       "      <td>[0.0, 10.0, 26.0, 0.0, 0.0, 0.0, 0.0, 0.0, 0.0...</td>\n",
       "      <td>[0.0, 48.0, 96.0, 144.0, 192.0, 240.0, 288.0, ...</td>\n",
       "      <td>[1, 1, 1, 1, 1, 1, 1, 1, 1, 1, 1, 1, 1, 1, 1, ...</td>\n",
       "      <td>time  eeg0  eeg1  eeg2  eeg3  eeg_...</td>\n",
       "      <td>9.166667</td>\n",
       "    </tr>\n",
       "    <tr>\n",
       "      <th>0</th>\n",
       "      <td>47</td>\n",
       "      <td>2017-04-13 14:50:36.301000</td>\n",
       "      <td>8</td>\n",
       "      <td>24032017laser3s2</td>\n",
       "      <td>N:/horsto/71461/24032017s2/KLUSTA/3.kwik</td>\n",
       "      <td>horsto</td>\n",
       "      <td>71461</td>\n",
       "      <td>2017-03-24 18:03:23</td>\n",
       "      <td>200</td>\n",
       "      <td>10</td>\n",
       "      <td>...</td>\n",
       "      <td>0.503631</td>\n",
       "      <td>10</td>\n",
       "      <td>NaN</td>\n",
       "      <td>[3847.0, 8717.72916667, 9351.9375, 11384.0, 12...</td>\n",
       "      <td>[1200079.625, 1202178.8125, 1202278.8125, 1202...</td>\n",
       "      <td>[0.0, 7.0, 53.0, 0.0, 0.0, 0.0, 1.0, 0.0, 0.0,...</td>\n",
       "      <td>[0.0, 48.0, 96.0, 144.0, 192.0, 240.0, 288.0, ...</td>\n",
       "      <td>[1, 1, 1, 1, 1, 1, 1, 1, 1, 1, 1, 1, 1, 1, 1, ...</td>\n",
       "      <td>time  eeg0  eeg1  eeg2  eeg3  eeg_...</td>\n",
       "      <td>9.166667</td>\n",
       "    </tr>\n",
       "  </tbody>\n",
       "</table>\n",
       "<p>2 rows × 38 columns</p>\n",
       "</div>"
      ],
      "text/plain": [
       "  cluster_no                 analysis_ts tetrode_no      session_name  \\\n",
       "0         39  2017-04-13 15:57:25.511000          8  25032017laser3s1   \n",
       "0         47  2017-04-13 14:50:36.301000          8  24032017laser3s2   \n",
       "\n",
       "                                   filename n_drive_user animal_id  \\\n",
       "0    N:/horsto/71461/25032017/KLUSTA/3.kwik       horsto     71461   \n",
       "0  N:/horsto/71461/24032017s2/KLUSTA/3.kwik       horsto     71461   \n",
       "\n",
       "            session_ts analysis_window salt_window    ...     inhib_lowest_p  \\\n",
       "0  2017-03-25 16:59:44             200          10    ...                NaN   \n",
       "0  2017-03-24 18:03:23             200          10    ...           0.503631   \n",
       "\n",
       "  inhib_lowest_p_interval change_point_ms  \\\n",
       "0                     NaN             NaN   \n",
       "0                      10             NaN   \n",
       "\n",
       "                                  spiketimes_cluster  \\\n",
       "0  [1255.6875, 5817.10416667, 9717.08333333, 1726...   \n",
       "0  [3847.0, 8717.72916667, 9351.9375, 11384.0, 12...   \n",
       "\n",
       "                                 stimulus_timepoints  \\\n",
       "0  [1803466.5, 1803516.5625, 1803566.5625, 180361...   \n",
       "0  [1200079.625, 1202178.8125, 1202278.8125, 1202...   \n",
       "\n",
       "                                             sum_1ms  \\\n",
       "0  [0.0, 10.0, 26.0, 0.0, 0.0, 0.0, 0.0, 0.0, 0.0...   \n",
       "0  [0.0, 7.0, 53.0, 0.0, 0.0, 0.0, 1.0, 0.0, 0.0,...   \n",
       "\n",
       "                                       bin_edges_1ms  \\\n",
       "0  [0.0, 48.0, 96.0, 144.0, 192.0, 240.0, 288.0, ...   \n",
       "0  [0.0, 48.0, 96.0, 144.0, 192.0, 240.0, 288.0, ...   \n",
       "\n",
       "                                       binnumber_1ms  \\\n",
       "0  [1, 1, 1, 1, 1, 1, 1, 1, 1, 1, 1, 1, 1, 1, 1, ...   \n",
       "0  [1, 1, 1, 1, 1, 1, 1, 1, 1, 1, 1, 1, 1, 1, 1, ...   \n",
       "\n",
       "                                         lfp_session theta_freq  \n",
       "0              time  eeg0  eeg1  eeg2  eeg3  eeg_...   9.166667  \n",
       "0              time  eeg0  eeg1  eeg2  eeg3  eeg_...   9.166667  \n",
       "\n",
       "[2 rows x 38 columns]"
      ]
     },
     "execution_count": 23,
     "metadata": {},
     "output_type": "execute_result"
    }
   ],
   "source": [
    "lfp_cells_deep.head(2)"
   ]
  },
  {
   "cell_type": "markdown",
   "metadata": {},
   "source": [
    "lfp_cells_sup consists of ([sup_layer_inhib_filtered,sup_layer_rest_filtered]), whereby rest also has a filtering for inhibited!"
   ]
  },
  {
   "cell_type": "code",
   "execution_count": 24,
   "metadata": {},
   "outputs": [
    {
     "data": {
      "text/html": [
       "<div>\n",
       "<table border=\"1\" class=\"dataframe\">\n",
       "  <thead>\n",
       "    <tr style=\"text-align: right;\">\n",
       "      <th></th>\n",
       "      <th>cluster_no</th>\n",
       "      <th>analysis_ts</th>\n",
       "      <th>tetrode_no</th>\n",
       "      <th>session_name</th>\n",
       "      <th>filename</th>\n",
       "      <th>n_drive_user</th>\n",
       "      <th>animal_id</th>\n",
       "      <th>session_ts</th>\n",
       "      <th>analysis_window</th>\n",
       "      <th>salt_window</th>\n",
       "      <th>...</th>\n",
       "      <th>inhib_lowest_p</th>\n",
       "      <th>inhib_lowest_p_interval</th>\n",
       "      <th>change_point_ms</th>\n",
       "      <th>spiketimes_cluster</th>\n",
       "      <th>stimulus_timepoints</th>\n",
       "      <th>sum_1ms</th>\n",
       "      <th>bin_edges_1ms</th>\n",
       "      <th>binnumber_1ms</th>\n",
       "      <th>lfp_session</th>\n",
       "      <th>theta_freq</th>\n",
       "    </tr>\n",
       "  </thead>\n",
       "  <tbody>\n",
       "    <tr>\n",
       "      <th>0</th>\n",
       "      <td>34</td>\n",
       "      <td>2017-04-09 17:17:31.745000</td>\n",
       "      <td>8</td>\n",
       "      <td>25012017laserSess2</td>\n",
       "      <td>N:/davidcr/70114/25012017/KLUSTA/3.kwik</td>\n",
       "      <td>davidcr</td>\n",
       "      <td>70114</td>\n",
       "      <td>2017-01-25 16:21:05</td>\n",
       "      <td>200</td>\n",
       "      <td>10</td>\n",
       "      <td>...</td>\n",
       "      <td>1.97825e-14</td>\n",
       "      <td>40</td>\n",
       "      <td>2.16667</td>\n",
       "      <td>[122.479166667, 1993.08333333, 2116.58333333, ...</td>\n",
       "      <td>[2401149.0, 2401443.75, 2401738.5, 2402033.25,...</td>\n",
       "      <td>[48.0, 43.0, 55.0, 39.0, 43.0, 38.0, 47.0, 47....</td>\n",
       "      <td>[0.0, 48.0, 96.0, 144.0, 192.0, 240.0, 288.0, ...</td>\n",
       "      <td>[1, 1, 1, 1, 1, 1, 1, 1, 1, 1, 1, 1, 1, 1, 1, ...</td>\n",
       "      <td>time  eeg0  eeg1  eeg2  eeg3  eeg_...</td>\n",
       "      <td>9.0</td>\n",
       "    </tr>\n",
       "    <tr>\n",
       "      <th>0</th>\n",
       "      <td>43</td>\n",
       "      <td>2017-04-09 18:06:12.002000</td>\n",
       "      <td>6</td>\n",
       "      <td>01022017laserSess2</td>\n",
       "      <td>N:/davidcr/70114/01022017/KLUSTA/1.kwik</td>\n",
       "      <td>davidcr</td>\n",
       "      <td>70114</td>\n",
       "      <td>2017-02-01 15:25:45</td>\n",
       "      <td>200</td>\n",
       "      <td>10</td>\n",
       "      <td>...</td>\n",
       "      <td>3.15183e-14</td>\n",
       "      <td>40</td>\n",
       "      <td>1.58333</td>\n",
       "      <td>[1756.5, 1808.27083333, 1894.79166667, 1970.5,...</td>\n",
       "      <td>[2601105.0625, 2601379.5625, 2601674.3125, 260...</td>\n",
       "      <td>[27.0, 21.0, 15.0, 20.0, 16.0, 16.0, 26.0, 27....</td>\n",
       "      <td>[0.0, 48.0, 96.0, 144.0, 192.0, 240.0, 288.0, ...</td>\n",
       "      <td>[1, 1, 1, 1, 1, 1, 1, 1, 1, 1, 1, 1, 1, 1, 1, ...</td>\n",
       "      <td>time  eeg0  eeg1  eeg2  eeg3  eeg_...</td>\n",
       "      <td>9.1</td>\n",
       "    </tr>\n",
       "  </tbody>\n",
       "</table>\n",
       "<p>2 rows × 38 columns</p>\n",
       "</div>"
      ],
      "text/plain": [
       "  cluster_no                 analysis_ts tetrode_no        session_name  \\\n",
       "0         34  2017-04-09 17:17:31.745000          8  25012017laserSess2   \n",
       "0         43  2017-04-09 18:06:12.002000          6  01022017laserSess2   \n",
       "\n",
       "                                  filename n_drive_user animal_id  \\\n",
       "0  N:/davidcr/70114/25012017/KLUSTA/3.kwik      davidcr     70114   \n",
       "0  N:/davidcr/70114/01022017/KLUSTA/1.kwik      davidcr     70114   \n",
       "\n",
       "            session_ts analysis_window salt_window    ...     inhib_lowest_p  \\\n",
       "0  2017-01-25 16:21:05             200          10    ...        1.97825e-14   \n",
       "0  2017-02-01 15:25:45             200          10    ...        3.15183e-14   \n",
       "\n",
       "  inhib_lowest_p_interval change_point_ms  \\\n",
       "0                      40         2.16667   \n",
       "0                      40         1.58333   \n",
       "\n",
       "                                  spiketimes_cluster  \\\n",
       "0  [122.479166667, 1993.08333333, 2116.58333333, ...   \n",
       "0  [1756.5, 1808.27083333, 1894.79166667, 1970.5,...   \n",
       "\n",
       "                                 stimulus_timepoints  \\\n",
       "0  [2401149.0, 2401443.75, 2401738.5, 2402033.25,...   \n",
       "0  [2601105.0625, 2601379.5625, 2601674.3125, 260...   \n",
       "\n",
       "                                             sum_1ms  \\\n",
       "0  [48.0, 43.0, 55.0, 39.0, 43.0, 38.0, 47.0, 47....   \n",
       "0  [27.0, 21.0, 15.0, 20.0, 16.0, 16.0, 26.0, 27....   \n",
       "\n",
       "                                       bin_edges_1ms  \\\n",
       "0  [0.0, 48.0, 96.0, 144.0, 192.0, 240.0, 288.0, ...   \n",
       "0  [0.0, 48.0, 96.0, 144.0, 192.0, 240.0, 288.0, ...   \n",
       "\n",
       "                                       binnumber_1ms  \\\n",
       "0  [1, 1, 1, 1, 1, 1, 1, 1, 1, 1, 1, 1, 1, 1, 1, ...   \n",
       "0  [1, 1, 1, 1, 1, 1, 1, 1, 1, 1, 1, 1, 1, 1, 1, ...   \n",
       "\n",
       "                                         lfp_session theta_freq  \n",
       "0              time  eeg0  eeg1  eeg2  eeg3  eeg_...        9.0  \n",
       "0              time  eeg0  eeg1  eeg2  eeg3  eeg_...        9.1  \n",
       "\n",
       "[2 rows x 38 columns]"
      ]
     },
     "execution_count": 24,
     "metadata": {},
     "output_type": "execute_result"
    }
   ],
   "source": [
    "lfp_cells_sup.head(2)"
   ]
  },
  {
   "cell_type": "code",
   "execution_count": 25,
   "metadata": {},
   "outputs": [
    {
     "data": {
      "text/plain": [
       "38"
      ]
     },
     "execution_count": 25,
     "metadata": {},
     "output_type": "execute_result"
    }
   ],
   "source": [
    "len(lfp_cells_sup)"
   ]
  },
  {
   "cell_type": "code",
   "execution_count": 26,
   "metadata": {
    "collapsed": true
   },
   "outputs": [],
   "source": [
    "# prepare for plotting\n",
    "label = {0: 'Deep L'}\n",
    "lfp_cells_deep['all'] = np.zeros((len(lfp_cells_deep))) # generic column if you want to plot seaborn summary over all animals \n",
    "lfp_cells_deep['all']= lfp_cells_deep['all'].map(label)\n",
    "label = {0: 'L2'}\n",
    "lfp_cells_sup['all'] = np.zeros((len(lfp_cells_sup))) \n",
    "lfp_cells_sup['all']= lfp_cells_sup['all'].map(label)"
   ]
  },
  {
   "cell_type": "code",
   "execution_count": 27,
   "metadata": {},
   "outputs": [
    {
     "data": {
      "image/png": "[encoded data removed]",
      "text/plain": [
       "<matplotlib.figure.Figure at 0x49653a58>"
      ]
     },
     "metadata": {},
     "output_type": "display_data"
    }
   ],
   "source": [
    "figure = plt.figure(figsize=(3,6))\n",
    "sns.set(font_scale=1.2)\n",
    "sns.set_style('white')\n",
    "counter_fig = 1\n",
    "ax = figure.add_subplot(1,2,1)\n",
    "sns.boxplot(x='all', y='theta_freq', hue=\"excited\",\n",
    "     data=lfp_cells_deep, palette=\"Greys\",ax=ax)\n",
    "ax.set_ylabel('Theta Freq (>5cm/s)')\n",
    "ax.set_ylim(7.5,11)\n",
    "ax.set_xlabel('')\n",
    "\n",
    "ax = figure.add_subplot(1,2,2)\n",
    "sns.boxplot(x='all', y='theta_freq',\n",
    "     data=lfp_cells_sup, palette=\"Greys\",ax=ax)\n",
    "sns.despine(left=True,bottom=True)\n",
    "ax.set_ylim(7.5,11)\n",
    "ax.set_ylabel('')\n",
    "ax.set_xlabel('')\n",
    "ax.get_yaxis().set_ticks([])\n",
    "\n",
    "sns.despine(left=True,bottom=True)\n",
    "figure.subplots_adjust(left=None, bottom=None, right=None, top=None, wspace=.2, hspace=0.9)\n",
    "plt.show()"
   ]
  },
  {
   "cell_type": "markdown",
   "metadata": {},
   "source": [
    "### Extract PSDs and Theta peak from PSD"
   ]
  },
  {
   "cell_type": "markdown",
   "metadata": {},
   "source": [
    "I need to filter the deep layer LFP Dataframe for the excited cells - that label is maintained. "
   ]
  },
  {
   "cell_type": "code",
   "execution_count": 28,
   "metadata": {
    "collapsed": true
   },
   "outputs": [],
   "source": [
    "speed_cutoff = 5.\n",
    "sample_rate_eeg = 250.\n",
    "theta_range =(4,15)"
   ]
  },
  {
   "cell_type": "markdown",
   "metadata": {},
   "source": [
    "### get chunks of datasets to analyze"
   ]
  },
  {
   "cell_type": "code",
   "execution_count": 29,
   "metadata": {
    "collapsed": true
   },
   "outputs": [],
   "source": [
    "lfp_cells_deep_excited = lfp_cells_deep[lfp_cells_deep.excited == True]\n",
    "lfp_cells_deep_excited.reset_index(inplace=True,drop=True)\n",
    "\n",
    "lfp_cells_deep_inhibited = lfp_cells_deep[lfp_cells_deep.inhibited == True]\n",
    "lfp_cells_deep_inhibited.reset_index(inplace=True,drop=True)\n",
    "\n",
    "lfp_cells_sup_inhibited = lfp_cells_sup[lfp_cells_sup.inhibited == True]\n",
    "lfp_cells_sup_inhibited.reset_index(inplace=True,drop=True)"
   ]
  },
  {
   "cell_type": "markdown",
   "metadata": {},
   "source": [
    "### concatenate values that you calculate"
   ]
  },
  {
   "cell_type": "code",
   "execution_count": 30,
   "metadata": {
    "collapsed": true
   },
   "outputs": [],
   "source": [
    "columns = ['f_speed','psd_speed','theta_peak_freq_speed','theta_peak_pow_speed',\n",
    "                                                'f_slow', 'psd_slow', 'theta_peak_freq_slow', 'theta_peak_pow_slow',\n",
    "                                                'rises_speed','decays_speed', 'ratios_speed',\n",
    "                                                'rises_slow', 'decays_slow', 'ratios_slow']"
   ]
  },
  {
   "cell_type": "code",
   "execution_count": 31,
   "metadata": {
    "collapsed": true
   },
   "outputs": [],
   "source": [
    "lfp_deep_exc_analysis = pd.DataFrame(columns=columns)\n",
    "lfp_deep_inhib_analysis = pd.DataFrame(columns=columns)\n",
    "\n",
    "lfp_sup_inhib_analysis = pd.DataFrame(columns=columns)"
   ]
  },
  {
   "cell_type": "markdown",
   "metadata": {},
   "source": [
    "#### first excited (deep layer)"
   ]
  },
  {
   "cell_type": "code",
   "execution_count": 32,
   "metadata": {},
   "outputs": [
    {
     "data": {
      "application/vnd.jupyter.widget-view+json": {
       "model_id": "71bd5cbda8374ec084b392b8b22f0632"
      }
     },
     "metadata": {},
     "output_type": "display_data"
    },
    {
     "name": "stdout",
     "output_type": "stream",
     "text": [
      "\n"
     ]
    }
   ],
   "source": [
    "skipped_eegs = 0\n",
    "\n",
    "# start loop here!\n",
    "for no in tqdm_notebook(xrange(len(lfp_cells_deep_excited))):\n",
    "    # extract EEG dataframe:\n",
    "    eeg_df_session = lfp_cells_deep_excited.iloc[no].lfp_session\n",
    "\n",
    "    # get theta peak freq > SPEED CUTOFF:\n",
    "    f_speed, psd_speed = welch(eeg_df_session['eeg_mean'][eeg_df_session['speed']>speed_cutoff], sample_rate_eeg, nperseg=sample_rate_eeg*4)\n",
    "    theta_peak_freq_speed = f_speed[np.argmax(f_speed==theta_range[0])+np.argmax(psd_speed[(f_speed>=theta_range[0]) & (f_speed<=theta_range[1])])]\n",
    "    #print('Theta peak freq running: {:.2f} Hz'.format(theta_peak_freq_speed))\n",
    "    # get theta peak power:\n",
    "    theta_peak_pow_speed = psd_speed[np.argmax(f_speed==theta_range[0])+np.argmax(psd_speed[(f_speed>=theta_range[0]) & (f_speed<=theta_range[1])])]\n",
    "    #print('Theta peak power speed: {:.2f}'.format(theta_peak_pow_speed))\n",
    "\n",
    "    # get theta peak freq < SPEED CUTOFF:\n",
    "    f_slow, psd_slow = welch(eeg_df_session['eeg_mean'][eeg_df_session['speed']<speed_cutoff], sample_rate_eeg, nperseg=sample_rate_eeg*4)\n",
    "    theta_peak_freq_slow = f_slow[np.argmax(f_slow==theta_range[0])+np.argmax(psd_slow[(f_slow>=theta_range[0]) & (f_slow<=theta_range[1])])]\n",
    "    #print('Theta peak freq slow: {:.2f} Hz'.format(theta_peak_freq_slow))\n",
    "    # get theta peak power:\n",
    "    theta_peak_pow_slow = psd_slow[np.argmax(f_slow==theta_range[0])+np.argmax(psd_slow[(f_slow>=theta_range[0]) & (f_slow<=theta_range[1])])]\n",
    "    #print('Theta peak power slow: {:.2f}'.format(theta_peak_pow_slow))\n",
    "   \n",
    "    # rise decay ratios...\n",
    "\n",
    "    # > SPEED CUTOFF\n",
    "    x = eeg_df_session['eeg_mean'].values[eeg_df_session['speed'] > speed_cutoff]\n",
    "    Ps, Ts = nonshape.findpt(x, theta_range, boundary=sample_rate_eeg, Fs=sample_rate_eeg,forcestart = 'trough') # Find peaks and troughs\n",
    "    rises_speed = []\n",
    "    decays_speed = []\n",
    "    ratios_speed = []\n",
    "    for no in xrange(int(len(Ts)-sample_rate_eeg)): # - Fs as safety boundary\n",
    "        if (Ps[no] < Ts[no+1]) and (Ps[no] > Ts[no]):\n",
    "            rises_speed.append(Ps[no]-Ts[no])\n",
    "            decays_speed.append(Ts[no+1]-Ps[no])\n",
    "            ratios_speed.append(float(Ps[no]-Ts[no])/float(Ts[no+1]-Ps[no])) # rise / decay\n",
    "        else:\n",
    "            skipped_eegs +=1\n",
    "\n",
    "    # < SPEED CUTOFF\n",
    "    x = eeg_df_session['eeg_mean'].values[eeg_df_session['speed'] < speed_cutoff]\n",
    "    Ps, Ts = nonshape.findpt(x, theta_range, boundary=sample_rate_eeg, Fs=sample_rate_eeg,forcestart = 'trough') # Find peaks and troughs\n",
    "    rises_slow = []\n",
    "    decays_slow = []\n",
    "    ratios_slow = []\n",
    "    for no in xrange(int(len(Ts)-sample_rate_eeg)): # - Fs as safety boundary\n",
    "        if (Ps[no] < Ts[no+1]) and (Ps[no] > Ts[no]):\n",
    "            rises_slow.append(Ps[no]-Ts[no])\n",
    "            decays_slow.append(Ts[no+1]-Ps[no])\n",
    "            ratios_slow.append(float(Ps[no]-Ts[no])/float(Ts[no+1]-Ps[no])) # rise / decay\n",
    "        else:\n",
    "            skipped_eegs +=1\n",
    "           \n",
    "    # ['f_speed','psd_speed','theta_peak_freq_speed','theta_peak_pow_speed',\n",
    "    #                                                'f_slow', 'psd_slow', 'theta_peak_freq_slow', 'theta_peak_pow_slow',\n",
    "    #                                                'rises_speed','decays_speed', 'ratios_speed',\n",
    "    #                                                'rises_slow', 'decays_slow', 'ratios_slow']        \n",
    "        \n",
    "        \n",
    "    # create empty dataframe to concatenate: \n",
    "    analysis = pd.DataFrame()\n",
    "    analysis['f_speed'] = [f_speed]\n",
    "    analysis['psd_speed'] = [psd_speed]   \n",
    "    analysis['theta_peak_freq_speed'] = theta_peak_freq_speed\n",
    "    analysis['theta_peak_pow_speed'] = theta_peak_pow_speed\n",
    "    \n",
    "    analysis['f_slow'] = [f_slow]\n",
    "    analysis['psd_slow'] = [psd_slow]   \n",
    "    analysis['theta_peak_freq_slow'] = theta_peak_freq_slow\n",
    "    analysis['theta_peak_pow_slow'] = theta_peak_pow_slow\n",
    "        \n",
    "    analysis['rises_speed'] = [rises_speed]\n",
    "    analysis['decays_speed'] = [decays_speed] \n",
    "    analysis['ratios_speed'] = [ratios_speed] \n",
    "   \n",
    "    analysis['rises_slow'] = [rises_slow]\n",
    "    analysis['decays_slow'] = [decays_slow] \n",
    "    analysis['ratios_slow'] = [ratios_slow]\n",
    "    \n",
    "    lfp_deep_exc_analysis = pd.concat([lfp_deep_exc_analysis,  analysis], axis=0) # vertically join it with the rest   "
   ]
  },
  {
   "cell_type": "markdown",
   "metadata": {},
   "source": [
    "#### now inhibited deep "
   ]
  },
  {
   "cell_type": "code",
   "execution_count": 33,
   "metadata": {},
   "outputs": [
    {
     "data": {
      "application/vnd.jupyter.widget-view+json": {
       "model_id": "b3af49d56cc54eb4b546ab86d98d9c94"
      }
     },
     "metadata": {},
     "output_type": "display_data"
    },
    {
     "name": "stdout",
     "output_type": "stream",
     "text": [
      "\n"
     ]
    }
   ],
   "source": [
    "skipped_eegs = 0\n",
    "\n",
    "# start loop here!\n",
    "for no in tqdm_notebook(xrange(len(lfp_cells_deep_inhibited))):\n",
    "    # extract EEG dataframe:\n",
    "    eeg_df_session = lfp_cells_deep_inhibited.iloc[no].lfp_session\n",
    "\n",
    "    # get theta peak freq > SPEED CUTOFF:\n",
    "    try: \n",
    "        f_speed, psd_speed = welch(eeg_df_session['eeg_mean'][eeg_df_session['speed']>speed_cutoff], sample_rate_eeg, nperseg=sample_rate_eeg*4)\n",
    "        theta_peak_freq_speed = f_speed[np.argmax(f_speed==theta_range[0])+np.argmax(psd_speed[(f_speed>=theta_range[0]) & (f_speed<=theta_range[1])])]\n",
    "        #print('Theta peak freq running: {:.2f} Hz'.format(theta_peak_freq_speed))\n",
    "        # get theta peak power:\n",
    "        theta_peak_pow_speed = psd_speed[np.argmax(f_speed==theta_range[0])+np.argmax(psd_speed[(f_speed>=theta_range[0]) & (f_speed<=theta_range[1])])]\n",
    "        #print('Theta peak power speed: {:.2f}'.format(theta_peak_pow_speed))\n",
    "\n",
    "        # get theta peak freq < SPEED CUTOFF:\n",
    "        f_slow, psd_slow = welch(eeg_df_session['eeg_mean'][eeg_df_session['speed']<speed_cutoff], sample_rate_eeg, nperseg=sample_rate_eeg*4)\n",
    "        theta_peak_freq_slow = f_slow[np.argmax(f_slow==theta_range[0])+np.argmax(psd_slow[(f_slow>=theta_range[0]) & (f_slow<=theta_range[1])])]\n",
    "        #print('Theta peak freq slow: {:.2f} Hz'.format(theta_peak_freq_slow))\n",
    "        # get theta peak power:\n",
    "        theta_peak_pow_slow = psd_slow[np.argmax(f_slow==theta_range[0])+np.argmax(psd_slow[(f_slow>=theta_range[0]) & (f_slow<=theta_range[1])])]\n",
    "        #print('Theta peak power slow: {:.2f}'.format(theta_peak_pow_slow))\n",
    "    except TypeError:\n",
    "        print('skipping 1 ... nan?')\n",
    "        continue\n",
    "    # rise decay ratios...\n",
    "\n",
    "    # > SPEED CUTOFF\n",
    "    x = eeg_df_session['eeg_mean'].values[eeg_df_session['speed'] > speed_cutoff]\n",
    "    Ps, Ts = nonshape.findpt(x, theta_range, boundary=sample_rate_eeg, Fs=sample_rate_eeg,forcestart = 'trough') # Find peaks and troughs\n",
    "    rises_speed = []\n",
    "    decays_speed = []\n",
    "    ratios_speed = []\n",
    "    for no in xrange(int(len(Ts)-sample_rate_eeg)): # - Fs as safety boundary\n",
    "        if (Ps[no] < Ts[no+1]) and (Ps[no] > Ts[no]):\n",
    "            rises_speed.append(Ps[no]-Ts[no])\n",
    "            decays_speed.append(Ts[no+1]-Ps[no])\n",
    "            ratios_speed.append(float(Ps[no]-Ts[no])/float(Ts[no+1]-Ps[no])) # rise / decay\n",
    "        else:\n",
    "            skipped_eegs +=1\n",
    "\n",
    "    # < SPEED CUTOFF\n",
    "    x = eeg_df_session['eeg_mean'].values[eeg_df_session['speed'] < speed_cutoff]\n",
    "    Ps, Ts = nonshape.findpt(x, theta_range, boundary=sample_rate_eeg, Fs=sample_rate_eeg,forcestart = 'trough') # Find peaks and troughs\n",
    "    rises_slow = []\n",
    "    decays_slow = []\n",
    "    ratios_slow = []\n",
    "    for no in xrange(int(len(Ts)-sample_rate_eeg)): # - Fs as safety boundary\n",
    "        if (Ps[no] < Ts[no+1]) and (Ps[no] > Ts[no]):\n",
    "            rises_slow.append(Ps[no]-Ts[no])\n",
    "            decays_slow.append(Ts[no+1]-Ps[no])\n",
    "            ratios_slow.append(float(Ps[no]-Ts[no])/float(Ts[no+1]-Ps[no])) # rise / decay\n",
    "        else:\n",
    "            skipped_eegs +=1\n",
    "           \n",
    "    # ['f_speed','psd_speed','theta_peak_freq_speed','theta_peak_pow_speed',\n",
    "    #                                                'f_slow', 'psd_slow', 'theta_peak_freq_slow', 'theta_peak_pow_slow',\n",
    "    #                                                'rises_speed','decays_speed', 'ratios_speed',\n",
    "    #                                                'rises_slow', 'decays_slow', 'ratios_slow']        \n",
    "        \n",
    "        \n",
    "    # create empty dataframe to concatenate: \n",
    "    analysis = pd.DataFrame()\n",
    "    analysis['f_speed'] = [f_speed]\n",
    "    analysis['psd_speed'] = [psd_speed]   \n",
    "    analysis['theta_peak_freq_speed'] = theta_peak_freq_speed\n",
    "    analysis['theta_peak_pow_speed'] = theta_peak_pow_speed\n",
    "    \n",
    "    analysis['f_slow'] = [f_slow]\n",
    "    analysis['psd_slow'] = [psd_slow]   \n",
    "    analysis['theta_peak_freq_slow'] = theta_peak_freq_slow\n",
    "    analysis['theta_peak_pow_slow'] = theta_peak_pow_slow\n",
    "        \n",
    "    analysis['rises_speed'] = [rises_speed]\n",
    "    analysis['decays_speed'] = [decays_speed] \n",
    "    analysis['ratios_speed'] = [ratios_speed] \n",
    "   \n",
    "    analysis['rises_slow'] = [rises_slow]\n",
    "    analysis['decays_slow'] = [decays_slow] \n",
    "    analysis['ratios_slow'] = [ratios_slow]\n",
    "    \n",
    "    lfp_deep_inhib_analysis = pd.concat([lfp_deep_inhib_analysis,  analysis], axis=0) # vertically join it with the rest   "
   ]
  },
  {
   "cell_type": "markdown",
   "metadata": {},
   "source": [
    "#### now inhibited supeficial layers ... "
   ]
  },
  {
   "cell_type": "code",
   "execution_count": 34,
   "metadata": {},
   "outputs": [
    {
     "data": {
      "application/vnd.jupyter.widget-view+json": {
       "model_id": "c9bacfde763a4d6b8342cd746553e0fc"
      }
     },
     "metadata": {},
     "output_type": "display_data"
    },
    {
     "name": "stdout",
     "output_type": "stream",
     "text": [
      "\n"
     ]
    }
   ],
   "source": [
    "skipped_eegs = 0\n",
    "\n",
    "# start loop here!\n",
    "for no in tqdm_notebook(xrange(len(lfp_cells_sup_inhibited))):\n",
    "    # extract EEG dataframe:\n",
    "    eeg_df_session = lfp_cells_sup_inhibited.iloc[no].lfp_session\n",
    "\n",
    "    # get theta peak freq > SPEED CUTOFF:\n",
    "    try: \n",
    "        f_speed, psd_speed = welch(eeg_df_session['eeg_mean'][eeg_df_session['speed']>speed_cutoff], sample_rate_eeg, nperseg=sample_rate_eeg*4)\n",
    "        theta_peak_freq_speed = f_speed[np.argmax(f_speed==theta_range[0])+np.argmax(psd_speed[(f_speed>=theta_range[0]) & (f_speed<=theta_range[1])])]\n",
    "        #print('Theta peak freq running: {:.2f} Hz'.format(theta_peak_freq_speed))\n",
    "        # get theta peak power:\n",
    "        theta_peak_pow_speed = psd_speed[np.argmax(f_speed==theta_range[0])+np.argmax(psd_speed[(f_speed>=theta_range[0]) & (f_speed<=theta_range[1])])]\n",
    "        #print('Theta peak power speed: {:.2f}'.format(theta_peak_pow_speed))\n",
    "\n",
    "        # get theta peak freq < SPEED CUTOFF:\n",
    "        f_slow, psd_slow = welch(eeg_df_session['eeg_mean'][eeg_df_session['speed']<speed_cutoff], sample_rate_eeg, nperseg=sample_rate_eeg*4)\n",
    "        theta_peak_freq_slow = f_slow[np.argmax(f_slow==theta_range[0])+np.argmax(psd_slow[(f_slow>=theta_range[0]) & (f_slow<=theta_range[1])])]\n",
    "        #print('Theta peak freq slow: {:.2f} Hz'.format(theta_peak_freq_slow))\n",
    "        # get theta peak power:\n",
    "        theta_peak_pow_slow = psd_slow[np.argmax(f_slow==theta_range[0])+np.argmax(psd_slow[(f_slow>=theta_range[0]) & (f_slow<=theta_range[1])])]\n",
    "        #print('Theta peak power slow: {:.2f}'.format(theta_peak_pow_slow))\n",
    "    except TypeError:\n",
    "        print('skipping 1 ... nan?')\n",
    "        continue\n",
    "    # rise decay ratios...\n",
    "\n",
    "    # > SPEED CUTOFF\n",
    "    x = eeg_df_session['eeg_mean'].values[eeg_df_session['speed'] > speed_cutoff]\n",
    "    Ps, Ts = nonshape.findpt(x, theta_range, boundary=sample_rate_eeg, Fs=sample_rate_eeg,forcestart = 'trough') # Find peaks and troughs\n",
    "    rises_speed = []\n",
    "    decays_speed = []\n",
    "    ratios_speed = []\n",
    "    for no in xrange(int(len(Ts)-sample_rate_eeg)): # - Fs as safety boundary\n",
    "        if (Ps[no] < Ts[no+1]) and (Ps[no] > Ts[no]):\n",
    "            rises_speed.append(Ps[no]-Ts[no])\n",
    "            decays_speed.append(Ts[no+1]-Ps[no])\n",
    "            ratios_speed.append(float(Ps[no]-Ts[no])/float(Ts[no+1]-Ps[no])) # rise / decay\n",
    "        else:\n",
    "            skipped_eegs +=1\n",
    "\n",
    "    # < SPEED CUTOFF\n",
    "    x = eeg_df_session['eeg_mean'].values[eeg_df_session['speed'] < speed_cutoff]\n",
    "    Ps, Ts = nonshape.findpt(x, theta_range, boundary=sample_rate_eeg, Fs=sample_rate_eeg,forcestart = 'trough') # Find peaks and troughs\n",
    "    rises_slow = []\n",
    "    decays_slow = []\n",
    "    ratios_slow = []\n",
    "    for no in xrange(int(len(Ts)-sample_rate_eeg)): # - Fs as safety boundary\n",
    "        if (Ps[no] < Ts[no+1]) and (Ps[no] > Ts[no]):\n",
    "            rises_slow.append(Ps[no]-Ts[no])\n",
    "            decays_slow.append(Ts[no+1]-Ps[no])\n",
    "            ratios_slow.append(float(Ps[no]-Ts[no])/float(Ts[no+1]-Ps[no])) # rise / decay\n",
    "        else:\n",
    "            skipped_eegs +=1\n",
    "           \n",
    "    # ['f_speed','psd_speed','theta_peak_freq_speed','theta_peak_pow_speed',\n",
    "    #                                                'f_slow', 'psd_slow', 'theta_peak_freq_slow', 'theta_peak_pow_slow',\n",
    "    #                                                'rises_speed','decays_speed', 'ratios_speed',\n",
    "    #                                                'rises_slow', 'decays_slow', 'ratios_slow']        \n",
    "        \n",
    "        \n",
    "    # create empty dataframe to concatenate: \n",
    "    analysis = pd.DataFrame()\n",
    "    analysis['f_speed'] = [f_speed]\n",
    "    analysis['psd_speed'] = [psd_speed]   \n",
    "    analysis['theta_peak_freq_speed'] = theta_peak_freq_speed\n",
    "    analysis['theta_peak_pow_speed'] = theta_peak_pow_speed\n",
    "    \n",
    "    analysis['f_slow'] = [f_slow]\n",
    "    analysis['psd_slow'] = [psd_slow]   \n",
    "    analysis['theta_peak_freq_slow'] = theta_peak_freq_slow\n",
    "    analysis['theta_peak_pow_slow'] = theta_peak_pow_slow\n",
    "        \n",
    "    analysis['rises_speed'] = [rises_speed]\n",
    "    analysis['decays_speed'] = [decays_speed] \n",
    "    analysis['ratios_speed'] = [ratios_speed] \n",
    "   \n",
    "    analysis['rises_slow'] = [rises_slow]\n",
    "    analysis['decays_slow'] = [decays_slow] \n",
    "    analysis['ratios_slow'] = [ratios_slow]\n",
    "    \n",
    "    lfp_sup_inhib_analysis = pd.concat([lfp_sup_inhib_analysis,  analysis], axis=0) # vertically join it with the rest   "
   ]
  },
  {
   "cell_type": "markdown",
   "metadata": {},
   "source": [
    "**You now have:**\n",
    "- lfp_sup_inhib_analysis\n",
    "- lfp_deep_exc_analysis\n",
    "- lfp_deep_inhib_analysis"
   ]
  },
  {
   "cell_type": "markdown",
   "metadata": {},
   "source": [
    "### Overlay of PSDs for every dataset"
   ]
  },
  {
   "cell_type": "code",
   "execution_count": 35,
   "metadata": {},
   "outputs": [
    {
     "data": {
      "application/vnd.jupyter.widget-view+json": {
       "model_id": "c3ee04a55fbb4928adff0d8599300c02"
      }
     },
     "metadata": {},
     "output_type": "display_data"
    },
    {
     "name": "stdout",
     "output_type": "stream",
     "text": [
      "\n"
     ]
    },
    {
     "data": {
      "application/vnd.jupyter.widget-view+json": {
       "model_id": "7d4856272f974fafb50e342bc3eb9a94"
      }
     },
     "metadata": {},
     "output_type": "display_data"
    },
    {
     "name": "stdout",
     "output_type": "stream",
     "text": [
      "\n"
     ]
    },
    {
     "data": {
      "application/vnd.jupyter.widget-view+json": {
       "model_id": "c7768333f529474ebfc49a622b4219ee"
      }
     },
     "metadata": {},
     "output_type": "display_data"
    },
    {
     "name": "stdout",
     "output_type": "stream",
     "text": [
      "\n"
     ]
    },
    {
     "data": {
      "application/vnd.jupyter.widget-view+json": {
       "model_id": "7becfafec30449889fe278c27984c408"
      }
     },
     "metadata": {},
     "output_type": "display_data"
    },
    {
     "name": "stdout",
     "output_type": "stream",
     "text": [
      "\n"
     ]
    },
    {
     "data": {
      "application/vnd.jupyter.widget-view+json": {
       "model_id": "aeabe768c71849f5a0ae75d5207746d4"
      }
     },
     "metadata": {},
     "output_type": "display_data"
    },
    {
     "name": "stdout",
     "output_type": "stream",
     "text": [
      "\n"
     ]
    },
    {
     "data": {
      "application/vnd.jupyter.widget-view+json": {
       "model_id": "5acc6f60eb3e409c8bcae87b05dc1d52"
      }
     },
     "metadata": {},
     "output_type": "display_data"
    },
    {
     "name": "stdout",
     "output_type": "stream",
     "text": [
      "\n"
     ]
    },
    {
     "data": {
      "image/png": "[encoded data removed]",
      "text/plain": [
       "<matplotlib.figure.Figure at 0xa2b1eb38>"
      ]
     },
     "metadata": {},
     "output_type": "display_data"
    }
   ],
   "source": [
    "# overlay all psds \n",
    "## figure properties:\n",
    "sns.set()\n",
    "sns.set(font_scale=1.1)\n",
    "sns.set_style('white')\n",
    "figure = plt.figure(figsize=(9,6))\n",
    "ax1 = figure.add_subplot(1,2,1)\n",
    "\n",
    "for no in tqdm_notebook(xrange(len(lfp_sup_inhib_analysis))):\n",
    "    ax1.semilogy(lfp_sup_inhib_analysis.iloc[no].f_speed,\n",
    "                 lfp_sup_inhib_analysis.iloc[no].psd_speed,'k',linestyle='-',lw=1.5,alpha=.35)\n",
    "    #ax1.semilogy(f_slow,psd_slow,'k',alpha=.5, label='< {:.1f} cm/s'.format(speed_cutoff),lw=1.5)\n",
    "\n",
    "for no in tqdm_notebook(xrange(len(lfp_deep_inhib_analysis))):\n",
    "    ax1.semilogy(lfp_deep_inhib_analysis.iloc[no].f_speed,\n",
    "                 lfp_deep_inhib_analysis.iloc[no].psd_speed,'orange',linestyle='-',lw=1.5,alpha=.35)\n",
    "    #ax1.semilogy(f_slow,psd_slow,'k',alpha=.5, label='< {:.1f} cm/s'.format(speed_cutoff),lw=1.5)\n",
    "\n",
    "for no in tqdm_notebook(xrange(len(lfp_deep_exc_analysis))):\n",
    "    ax1.semilogy(lfp_deep_exc_analysis.iloc[no].f_speed,\n",
    "                 lfp_deep_exc_analysis.iloc[no].psd_speed,'red',linestyle='-',lw=1.5,alpha=.35)\n",
    "    #ax1.semilogy(f_slow,psd_slow,'k',alpha=.5, label='< {:.1f} cm/s'.format(speed_cutoff),lw=1.5)\n",
    "\n",
    "ax1.set_title('>{} cm/s'.format(speed_cutoff))\n",
    "ax1.set_ylabel('Power [$uV^{2}/Hz$]')\n",
    "ax1.set_xlabel('Frequency [Hz]')\n",
    "ax1.set_xlim((2,45))\n",
    "ax1.set_ylim((1,900))\n",
    "\n",
    "ax2 = figure.add_subplot(1,2,2)\n",
    "\n",
    "for no in tqdm_notebook(xrange(len(lfp_sup_inhib_analysis))):\n",
    "    ax2.semilogy(lfp_sup_inhib_analysis.iloc[no].f_speed,\n",
    "                 lfp_sup_inhib_analysis.iloc[no].psd_slow,'k',linestyle='-',lw=1.5,alpha=.35,label=['L2' if no==0 else ''][0])\n",
    "    #ax1.semilogy(f_slow,psd_slow,'k',alpha=.5, label='< {:.1f} cm/s'.format(speed_cutoff),lw=1.5)\n",
    "\n",
    "for no in tqdm_notebook(xrange(len(lfp_deep_inhib_analysis))):\n",
    "    ax2.semilogy(lfp_deep_inhib_analysis.iloc[no].f_speed,\n",
    "                 lfp_deep_inhib_analysis.iloc[no].psd_slow,'orange',linestyle='-',lw=1.5,alpha=.35,label=['Deep L inhib' if no==0 else ''][0])\n",
    "    #ax1.semilogy(f_slow,psd_slow,'k',alpha=.5, label='< {:.1f} cm/s'.format(speed_cutoff),lw=1.5)\n",
    "\n",
    "for no in tqdm_notebook(xrange(len(lfp_deep_exc_analysis))):\n",
    "    ax2.semilogy(lfp_deep_exc_analysis.iloc[no].f_speed,\n",
    "                 lfp_deep_exc_analysis.iloc[no].psd_slow,'red',linestyle='-',lw=1.5,alpha=.35,label=['Deep L exc' if no==0 else ''][0])\n",
    "    #ax1.semilogy(f_slow,psd_slow,'k',alpha=.5, label='< {:.1f} cm/s'.format(speed_cutoff),lw=1.5)\n",
    "ax2.set_xlabel('Frequency [Hz]')\n",
    "ax2.set_xlim((2,45))\n",
    "ax2.set_ylim((1,900))\n",
    "ax2.set_title('<{} cm/s'.format(speed_cutoff))\n",
    "ax2.legend()\n",
    "\n",
    "sns.despine(left=True,bottom=True)\n",
    "plt.show()\n"
   ]
  },
  {
   "cell_type": "markdown",
   "metadata": {},
   "source": [
    "**For further analysis concatenate into one big dataset:**\n",
    "- lfp_sup_inhib_analysis\n",
    "- lfp_deep_exc_analysis\n",
    "- lfp_deep_inhib_analysis\n",
    "\n",
    "-> lfp_combined_analysis"
   ]
  },
  {
   "cell_type": "code",
   "execution_count": 36,
   "metadata": {
    "collapsed": true
   },
   "outputs": [],
   "source": [
    "lfp_combined_analysis = pd.DataFrame()\n",
    "\n",
    "label = {0: 'L2'}\n",
    "lfp_sup_inhib_analysis['label_session'] = np.zeros((len(lfp_sup_inhib_analysis))) \n",
    "lfp_sup_inhib_analysis['label_session'] = lfp_sup_inhib_analysis['label_session'].map(label)\n",
    "\n",
    "label = {0: 'Deep L exc'}\n",
    "lfp_deep_exc_analysis['label_session'] = np.zeros((len(lfp_deep_exc_analysis))) \n",
    "lfp_deep_exc_analysis['label_session'] = lfp_deep_exc_analysis['label_session'].map(label)\n",
    "\n",
    "label = {0: 'Deep L inhib'}\n",
    "lfp_deep_inhib_analysis['label_session'] = np.zeros((len(lfp_deep_inhib_analysis))) \n",
    "lfp_deep_inhib_analysis['label_session'] = lfp_deep_inhib_analysis['label_session'].map(label)\n",
    "\n",
    "# combine\n",
    "lfp_combined_analysis = pd.concat([lfp_sup_inhib_analysis,lfp_deep_exc_analysis,lfp_deep_inhib_analysis])"
   ]
  },
  {
   "cell_type": "markdown",
   "metadata": {},
   "source": [
    "### plot power bar plot "
   ]
  },
  {
   "cell_type": "code",
   "execution_count": 37,
   "metadata": {},
   "outputs": [
    {
     "data": {
      "text/plain": [
       "Index([u'f_speed', u'psd_speed', u'theta_peak_freq_speed',\n",
       "       u'theta_peak_pow_speed', u'f_slow', u'psd_slow',\n",
       "       u'theta_peak_freq_slow', u'theta_peak_pow_slow', u'rises_speed',\n",
       "       u'decays_speed', u'ratios_speed', u'rises_slow', u'decays_slow',\n",
       "       u'ratios_slow', u'label_session'],\n",
       "      dtype='object')"
      ]
     },
     "execution_count": 37,
     "metadata": {},
     "output_type": "execute_result"
    }
   ],
   "source": [
    "lfp_combined_analysis.columns   # theta_peak_pow_speed"
   ]
  },
  {
   "cell_type": "code",
   "execution_count": 38,
   "metadata": {},
   "outputs": [
    {
     "data": {
      "image/png": "[encoded data removed]",
      "text/plain": [
       "<matplotlib.figure.Figure at 0xf1d2e908>"
      ]
     },
     "metadata": {},
     "output_type": "display_data"
    }
   ],
   "source": [
    "figure = plt.figure(figsize=(2,6))\n",
    "sns.set(font_scale=1.2)\n",
    "sns.set_style('white')\n",
    "counter_fig = 1\n",
    "ax = figure.add_subplot(1,1,1)\n",
    "sns.boxplot(x='label_session', y='theta_peak_pow_speed',\n",
    "     data=lfp_combined_analysis, palette=\"Greys\",ax=ax)\n",
    "\n",
    "ax.set_xlabel('')\n",
    "ax.set_ylabel('Theta power (> 5 cm/s) [$uV^{2}/Hz$]')\n",
    "\n",
    "labels = ax.get_xticklabels()\n",
    "ax.set_xticklabels(labels, rotation=30,ha='right')\n",
    "\n",
    "sns.despine(left=True,bottom=True)\n",
    "figure.subplots_adjust(left=None, bottom=None, right=None, top=None, wspace=.2, hspace=0.9)\n",
    "plt.show()"
   ]
  },
  {
   "cell_type": "markdown",
   "metadata": {},
   "source": [
    "#### freq bar plot"
   ]
  },
  {
   "cell_type": "code",
   "execution_count": 39,
   "metadata": {},
   "outputs": [
    {
     "data": {
      "image/png": "[encoded data removed]",
      "text/plain": [
       "<matplotlib.figure.Figure at 0xd6fbf98>"
      ]
     },
     "metadata": {},
     "output_type": "display_data"
    }
   ],
   "source": [
    "figure = plt.figure(figsize=(2,6))\n",
    "sns.set(font_scale=1.2)\n",
    "sns.set_style('white')\n",
    "counter_fig = 1\n",
    "ax = figure.add_subplot(1,1,1)\n",
    "sns.boxplot(x='label_session', y='theta_peak_freq_speed',\n",
    "     data=lfp_combined_analysis, palette=\"Greys\",ax=ax)\n",
    "\n",
    "ax.set_xlabel('')\n",
    "ax.set_ylabel('Theta freq (> 5 cm/s)')\n",
    "ax.set_ylim((8,10.1))\n",
    "\n",
    "labels = ax.get_xticklabels()\n",
    "ax.set_xticklabels(labels, rotation=30,ha='right')\n",
    "\n",
    "sns.despine(left=True,bottom=True)\n",
    "figure.subplots_adjust(left=None, bottom=None, right=None, top=None, wspace=.2, hspace=0.9)\n",
    "plt.show()"
   ]
  },
  {
   "cell_type": "markdown",
   "metadata": {},
   "source": [
    "### Analyze rise decay"
   ]
  },
  {
   "cell_type": "markdown",
   "metadata": {},
   "source": [
    "- lfp_sup_inhib_analysis\n",
    "- lfp_deep_exc_analysis\n",
    "- lfp_deep_inhib_analysis"
   ]
  },
  {
   "cell_type": "markdown",
   "metadata": {},
   "source": [
    "#### lfp_sup_inhib_analysis (L2)"
   ]
  },
  {
   "cell_type": "code",
   "execution_count": 40,
   "metadata": {
    "collapsed": true
   },
   "outputs": [],
   "source": [
    "lfp_sup_inhib_rises_speed = [item for sublist in lfp_sup_inhib_analysis.rises_speed.values for item in sublist]\n",
    "lfp_sup_inhib_decays_speed = [item for sublist in lfp_sup_inhib_analysis.decays_speed.values for item in sublist]\n",
    "lfp_sup_inhib_ratios_speed = [item for sublist in lfp_sup_inhib_analysis.ratios_speed.values for item in sublist]\n",
    "\n",
    "lfp_sup_inhib_rises_slow = [item for sublist in lfp_sup_inhib_analysis.rises_slow.values for item in sublist]\n",
    "lfp_sup_inhib_decays_slow = [item for sublist in lfp_sup_inhib_analysis.decays_slow.values for item in sublist]\n",
    "lfp_sup_inhib_ratios_slow = [item for sublist in lfp_sup_inhib_analysis.ratios_slow.values for item in sublist]"
   ]
  },
  {
   "cell_type": "code",
   "execution_count": 41,
   "metadata": {},
   "outputs": [
    {
     "name": "stderr",
     "output_type": "stream",
     "text": [
      "C:\\Users\\horsto\\AppData\\Local\\Continuum\\Miniconda2\\envs\\analysis\\lib\\site-packages\\matplotlib\\axes\\_axes.py:531: UserWarning: No labelled objects found. Use label='...' kwarg on individual plots.\n",
      "  warnings.warn(\"No labelled objects found. \"\n"
     ]
    },
    {
     "data": {
      "image/png": "[encoded data removed]",
      "text/plain": [
       "<matplotlib.figure.Figure at 0x1d492390>"
      ]
     },
     "metadata": {},
     "output_type": "display_data"
    }
   ],
   "source": [
    "# Plot histograms of rise times, decay times\n",
    "figure = plt.figure(figsize=(9,5))\n",
    "sns.set(font_scale=1.3)\n",
    "sns.set_style('white')\n",
    "bins=np.arange(0,50,1)\n",
    "\n",
    "ax = figure.add_subplot(1,2,1)\n",
    "ax.hist(lfp_sup_inhib_rises_speed,bins,color='k',alpha=.4)\n",
    "ax.hist(lfp_sup_inhib_decays_speed,bins,color='red',alpha=.6)\n",
    "ax.set_ylabel('Count')\n",
    "ax.legend(loc='best')\n",
    "ax.set_xlabel('# of samples')\n",
    "ax.set_title('L2 > 5 cm/s')\n",
    "\n",
    "ax = figure.add_subplot(1,2,2)\n",
    "ax.hist(lfp_sup_inhib_rises_slow,bins,color='k',label='rise',alpha=.4)\n",
    "ax.hist(lfp_sup_inhib_decays_slow,bins,color='red',label='decay',alpha=.6)\n",
    "ax.legend(loc='best')\n",
    "ax.set_title('L2 < 5 cm/s')\n",
    "ax.set_xlabel('# of samples')\n",
    "sns.despine(left=True,bottom=True)\n",
    "\n",
    "plt.show()"
   ]
  },
  {
   "cell_type": "markdown",
   "metadata": {},
   "source": [
    "#### lfp_deep_exc_analysis (deep layers)"
   ]
  },
  {
   "cell_type": "code",
   "execution_count": 42,
   "metadata": {
    "collapsed": true
   },
   "outputs": [],
   "source": [
    "lfp_deep_exc_rises_speed = [item for sublist in lfp_deep_exc_analysis.rises_speed.values for item in sublist]\n",
    "lfp_deep_exc_decays_speed = [item for sublist in lfp_deep_exc_analysis.decays_speed.values for item in sublist]\n",
    "lfp_deep_exc_ratios_speed = [item for sublist in lfp_deep_exc_analysis.ratios_speed.values for item in sublist]\n",
    "\n",
    "lfp_deep_exc_rises_slow = [item for sublist in lfp_deep_exc_analysis.rises_slow.values for item in sublist]\n",
    "lfp_deep_exc_decays_slow = [item for sublist in lfp_deep_exc_analysis.decays_slow.values for item in sublist]\n",
    "lfp_deep_exc_ratios_slow = [item for sublist in lfp_deep_exc_analysis.ratios_slow.values for item in sublist]"
   ]
  },
  {
   "cell_type": "code",
   "execution_count": 43,
   "metadata": {},
   "outputs": [
    {
     "data": {
      "image/png": "[encoded data removed]",
      "text/plain": [
       "<matplotlib.figure.Figure at 0x1ecd9470>"
      ]
     },
     "metadata": {},
     "output_type": "display_data"
    }
   ],
   "source": [
    "figure = plt.figure(figsize=(9,5))\n",
    "sns.set(font_scale=1.1)\n",
    "sns.set_style('white')\n",
    "bins=np.arange(0,50,1)\n",
    "\n",
    "ax = figure.add_subplot(1,2,1)\n",
    "ax.hist(lfp_deep_exc_rises_speed,bins,color='k',alpha=.7)\n",
    "ax.hist(lfp_deep_exc_decays_speed,bins,color='red',alpha=0.7)\n",
    "ax.set_ylabel('Count')\n",
    "ax.legend(loc='best')\n",
    "ax.set_xlabel('# of samples')\n",
    "ax.set_title('Deep L exc > 5 cm/s')\n",
    "\n",
    "ax = figure.add_subplot(1,2,2)\n",
    "ax.hist(lfp_deep_exc_rises_slow,bins,color='k',label='rise',alpha=.7)\n",
    "ax.hist(lfp_deep_exc_decays_slow,bins,color='red',label='decay',alpha=0.7)\n",
    "ax.legend(loc='best')\n",
    "ax.set_title('Deep L exc < 5 cm/s')\n",
    "ax.set_xlabel('# of samples')\n",
    "sns.despine(left=True,bottom=True)\n",
    "\n",
    "plt.show()"
   ]
  },
  {
   "cell_type": "markdown",
   "metadata": {},
   "source": [
    "#### lfp_deep_inhib_analysis (deep layers)\n"
   ]
  },
  {
   "cell_type": "code",
   "execution_count": 44,
   "metadata": {
    "collapsed": true
   },
   "outputs": [],
   "source": [
    "lfp_deep_inhib_rises_speed = [item for sublist in lfp_deep_inhib_analysis.rises_speed.values for item in sublist]\n",
    "lfp_deep_inhib_decays_speed = [item for sublist in lfp_deep_inhib_analysis.decays_speed.values for item in sublist]\n",
    "lfp_deep_inhib_ratios_speed = [item for sublist in lfp_deep_inhib_analysis.ratios_speed.values for item in sublist]\n",
    "\n",
    "lfp_deep_inhib_rises_slow = [item for sublist in lfp_deep_inhib_analysis.rises_slow.values for item in sublist]\n",
    "lfp_deep_inhib_decays_slow = [item for sublist in lfp_deep_inhib_analysis.decays_slow.values for item in sublist]\n",
    "lfp_deep_inhib_ratios_slow = [item for sublist in lfp_deep_inhib_analysis.ratios_slow.values for item in sublist]"
   ]
  },
  {
   "cell_type": "code",
   "execution_count": 45,
   "metadata": {},
   "outputs": [
    {
     "data": {
      "image/png": "[encoded data removed]",
      "text/plain": [
       "<matplotlib.figure.Figure at 0x278c7588>"
      ]
     },
     "metadata": {},
     "output_type": "display_data"
    }
   ],
   "source": [
    "figure = plt.figure(figsize=(9,5))\n",
    "sns.set(font_scale=1.1)\n",
    "sns.set_style('white')\n",
    "bins=np.arange(0,50,1)\n",
    "\n",
    "ax = figure.add_subplot(1,2,1)\n",
    "ax.hist(lfp_deep_inhib_rises_speed,bins,color='k',alpha=.7)\n",
    "ax.hist(lfp_deep_inhib_decays_speed,bins,color='red',alpha=0.7)\n",
    "ax.set_ylabel('Count')\n",
    "ax.legend(loc='best')\n",
    "ax.set_xlabel('# of samples')\n",
    "ax.set_title('Deep L inhib > 5 cm/s')\n",
    "\n",
    "ax = figure.add_subplot(1,2,2)\n",
    "ax.hist(lfp_deep_inhib_rises_slow,bins,color='k',label='rise',alpha=.7)\n",
    "ax.hist(lfp_deep_inhib_decays_slow,bins,color='red',label='decay',alpha=0.7)\n",
    "ax.legend(loc='best')\n",
    "ax.set_title('Deep L inhib < 5 cm/s')\n",
    "ax.set_xlabel('# of samples')\n",
    "sns.despine(left=True,bottom=True)\n",
    "\n",
    "plt.show()"
   ]
  },
  {
   "cell_type": "code",
   "execution_count": 46,
   "metadata": {},
   "outputs": [
    {
     "data": {
      "image/png": "[encoded data removed]",
      "text/plain": [
       "<matplotlib.figure.Figure at 0x25f150f0>"
      ]
     },
     "metadata": {},
     "output_type": "display_data"
    }
   ],
   "source": [
    "# plot ratios log 10\n",
    "ratios_speed_sup_inhib= np.log10(lfp_sup_inhib_ratios_speed)\n",
    "ratios_speed_deep_inhib= np.log10(lfp_deep_inhib_ratios_speed)\n",
    "ratios_speed_deep_exc = np.log10(lfp_deep_exc_ratios_speed)\n",
    "\n",
    "# Plot histogram of ratios\n",
    "# We see that this distribution is skewed negative, indicating that the decay is longer than the rise\n",
    "bins=np.arange(-1,1,.04)\n",
    "plt.figure(figsize=(6,6))\n",
    "plt.hist(ratios_speed_deep_inhib,bins,color='orange',alpha=0.7,range=(bins.min(),bins.max()),label='Deep L inhib')\n",
    "plt.axvline(x=np.mean(ratios_speed_deep_inhib),color='orange',alpha=1)\n",
    "plt.hist(ratios_speed_sup_inhib,bins,color='k',alpha=0.5,range=(bins.min(),bins.max()),label='L2')\n",
    "plt.axvline(x=np.mean(ratios_speed_sup_inhib),color='k',alpha=1)\n",
    "plt.hist(ratios_speed_deep_exc,bins,color='r',alpha=0.9,range=(bins.min(),bins.max()),label='Deep L exc')\n",
    "plt.axvline(x=np.mean(ratios_speed_deep_exc),color='r',alpha=1)\n",
    "\n",
    "plt.axvline(x=0, color='k')\n",
    "plt.ylabel('Count')\n",
    "plt.legend()\n",
    "plt.xlabel('Log rise-decay ratio')\n",
    "sns.despine(left=True,bottom=True)\n",
    "plt.show()"
   ]
  },
  {
   "cell_type": "code",
   "execution_count": null,
   "metadata": {
    "collapsed": true
   },
   "outputs": [],
   "source": []
  }
 ],
 "metadata": {
  "anaconda-cloud": {},
  "kernelspec": {
   "display_name": "Python 2",
   "language": "python",
   "name": "python2"
  },
  "language_info": {
   "codemirror_mode": {
    "name": "ipython",
    "version": 2
   },
   "file_extension": ".py",
   "mimetype": "text/x-python",
   "name": "python",
   "nbconvert_exporter": "python",
   "pygments_lexer": "ipython2",
   "version": "2.7.12"
  },
  "widgets": {
   "state": {
    "0629dda7b6e9460ab9e8fb20d3087edb": {
     "views": [
      {
       "cell_index": 39
      }
     ]
    },
    "06fcbc8374f94fa5a0fa74e524698810": {
     "views": [
      {
       "cell_index": 39
      }
     ]
    },
    "07ef0d41ebb14c308392c0baa090f221": {
     "views": [
      {
       "cell_index": 37
      }
     ]
    },
    "08983e50a4504a79b25df62a0b784652": {
     "views": [
      {
       "cell_index": 39
      }
     ]
    },
    "09acdd63d471451b915f8aca9426ce4b": {
     "views": [
      {
       "cell_index": 37
      }
     ]
    },
    "0eddfe094b7244f69457210c13e60f0b": {
     "views": [
      {
       "cell_index": 40
      }
     ]
    },
    "0f9bbea2af484211add8347f40ab94b8": {
     "views": [
      {
       "cell_index": 40
      }
     ]
    },
    "10f9959dae32404faa73f653fc87cc93": {
     "views": [
      {
       "cell_index": 39
      }
     ]
    },
    "12b918c22b324c569bcc1f6b18a0f8c0": {
     "views": [
      {
       "cell_index": 39
      }
     ]
    },
    "1ab640c2716440c39f400ff984954c5f": {
     "views": [
      {
       "cell_index": 35
      }
     ]
    },
    "1c0ae473bf924c80ac6a352216557202": {
     "views": [
      {
       "cell_index": 39
      }
     ]
    },
    "1ef73b6d08e94550ba15d36b1c101767": {
     "views": [
      {
       "cell_index": 40
      }
     ]
    },
    "1f72515c80f54185866a47b580d2e8f1": {
     "views": [
      {
       "cell_index": 39
      }
     ]
    },
    "2863576bf3e942ce921e2c11845caa12": {
     "views": [
      {
       "cell_index": 39
      }
     ]
    },
    "28b93c9ed4ff4206bd262fc8f084c637": {
     "views": [
      {
       "cell_index": 37
      }
     ]
    },
    "28e783f066f348729010d954449fec99": {
     "views": [
      {
       "cell_index": 39
      }
     ]
    },
    "2da9de91da6a463d8d29d3008a9fd134": {
     "views": [
      {
       "cell_index": 37
      }
     ]
    },
    "37161fd419874d4b854e0427ff869458": {
     "views": [
      {
       "cell_index": 39
      }
     ]
    },
    "3d5e17fc19c5420cbf33e630084a3dbe": {
     "views": [
      {
       "cell_index": 39
      }
     ]
    },
    "3e3f93b0f5494a3391f165847ea8abb7": {
     "views": [
      {
       "cell_index": 39
      }
     ]
    },
    "436220bbb3a949a5a8711c94c1a987dd": {
     "views": [
      {
       "cell_index": 37
      }
     ]
    },
    "43cab56eec304eefb716ad24b889d0f3": {
     "views": [
      {
       "cell_index": 39
      }
     ]
    },
    "46b6f9fc7bc1476b9ff2ea02f525ec55": {
     "views": [
      {
       "cell_index": 37
      }
     ]
    },
    "47bfa46d61494ed0b670f81803188660": {
     "views": [
      {
       "cell_index": 37
      }
     ]
    },
    "483272d322b14bee9c0a792e3b542817": {
     "views": [
      {
       "cell_index": 37
      }
     ]
    },
    "49779356a286441cbfce6f3c734b48e2": {
     "views": [
      {
       "cell_index": 39
      }
     ]
    },
    "5127f6ab60784d4eb5371d05dc19441d": {
     "views": [
      {
       "cell_index": 37
      }
     ]
    },
    "5173d73eda5d44fb9e83492eb9f80105": {
     "views": [
      {
       "cell_index": 37
      }
     ]
    },
    "545e7b73aab24f979fed11d6daf82e80": {
     "views": [
      {
       "cell_index": 39
      }
     ]
    },
    "5640f906143b49a3a3c21cd37c1d2c6c": {
     "views": [
      {
       "cell_index": 40
      }
     ]
    },
    "58f276101ce248758c43e7a37ce8b0d4": {
     "views": [
      {
       "cell_index": 33
      }
     ]
    },
    "5c030113254b49a09977d886575d4729": {
     "views": [
      {
       "cell_index": 37
      }
     ]
    },
    "5d47dfcbfc4949fc8901eca76a8f316c": {
     "views": [
      {
       "cell_index": 40
      }
     ]
    },
    "5d82be5b6e4e4b3f9b58dc3d68c6b00c": {
     "views": [
      {
       "cell_index": 37
      }
     ]
    },
    "60030c4e37f14c3b81caac693b9d620d": {
     "views": [
      {
       "cell_index": 39
      }
     ]
    },
    "689e97b37008482abddcb1191edc1016": {
     "views": [
      {
       "cell_index": 37
      }
     ]
    },
    "6ce01871d0324bfb861ed950fd6484fa": {
     "views": [
      {
       "cell_index": 37
      }
     ]
    },
    "706ceba030054f97915f20d546c61854": {
     "views": [
      {
       "cell_index": 37
      }
     ]
    },
    "7151b0446d784bf5a80f05094ec987ae": {
     "views": [
      {
       "cell_index": 40
      }
     ]
    },
    "71b6fec9dcac4d2b97e6e86b0afcfe75": {
     "views": [
      {
       "cell_index": 39
      }
     ]
    },
    "79aae1d2eccf44488e5fa9cdb1cbad0f": {
     "views": [
      {
       "cell_index": 39
      }
     ]
    },
    "7c9581d3bd8c4f03acf4de0f48844448": {
     "views": [
      {
       "cell_index": 37
      }
     ]
    },
    "8d5eb0f557f94329a70a114fb4d514ff": {
     "views": [
      {
       "cell_index": 37
      }
     ]
    },
    "9063c38f77a7423daa19f9023579dad6": {
     "views": [
      {
       "cell_index": 37
      }
     ]
    },
    "938c303b254b4b5b92e3e803c52ab891": {
     "views": [
      {
       "cell_index": 39
      }
     ]
    },
    "946b81df5228445c9f4bd7081eab212e": {
     "views": [
      {
       "cell_index": 40
      }
     ]
    },
    "94885cbf4b774cc2b204ca73e2d9cfc1": {
     "views": [
      {
       "cell_index": 39
      }
     ]
    },
    "96bc794c5eec4df7b41e77f87936b39b": {
     "views": [
      {
       "cell_index": 37
      }
     ]
    },
    "98b954df7b7142a4889b2b7891cea391": {
     "views": [
      {
       "cell_index": 40
      }
     ]
    },
    "99af8528044d4801a4b672e46290d779": {
     "views": [
      {
       "cell_index": 37
      }
     ]
    },
    "9d17b9763b9b49a4889192f72a1a5dbe": {
     "views": [
      {
       "cell_index": 37
      }
     ]
    },
    "9e65fc307fec4797ac50ae7158f2631a": {
     "views": [
      {
       "cell_index": 39
      }
     ]
    },
    "a0a9ea6f75864cdb91f1f7b39030b936": {
     "views": [
      {
       "cell_index": 37
      }
     ]
    },
    "a16307e936e24274bd80d0e880a9cc32": {
     "views": [
      {
       "cell_index": 40
      }
     ]
    },
    "a47db0538c894fee93e0154f32289723": {
     "views": [
      {
       "cell_index": 39
      }
     ]
    },
    "a830b9cc900a48b883ba21cf399adb15": {
     "views": [
      {
       "cell_index": 40
      }
     ]
    },
    "a92fea6fa957405b9483c1f704f72d47": {
     "views": [
      {
       "cell_index": 37
      }
     ]
    },
    "aaf32bb1b2d14e699185de42571720e7": {
     "views": [
      {
       "cell_index": 40
      }
     ]
    },
    "ac69b05d42a74305bd65276a1fd85f0c": {
     "views": [
      {
       "cell_index": 40
      }
     ]
    },
    "bdb36dad67e24e5fb1b7422cafd88ed9": {
     "views": [
      {
       "cell_index": 39
      }
     ]
    },
    "bf4ec6c2f62944c1a1cac7347ee1f2b1": {
     "views": [
      {
       "cell_index": 40
      }
     ]
    },
    "bffabdbd46dc428b9b72227c5c03f89f": {
     "views": [
      {
       "cell_index": 37
      }
     ]
    },
    "c5be25f1b1ec4e389dd1b9ee17c5074f": {
     "views": [
      {
       "cell_index": 37
      }
     ]
    },
    "c66beaea88bf407a812c440046e8f28a": {
     "views": [
      {
       "cell_index": 37
      }
     ]
    },
    "c811b5e6e51e4e349a186b34b6ca99f4": {
     "views": [
      {
       "cell_index": 39
      }
     ]
    },
    "cbe86edb1fd947d4b1563c5a849e37f1": {
     "views": [
      {
       "cell_index": 40
      }
     ]
    },
    "ccf9fbd3f22547ae8ced8749946c823a": {
     "views": [
      {
       "cell_index": 39
      }
     ]
    },
    "d214f757b08a4287ac992dd0128d87d8": {
     "views": [
      {
       "cell_index": 39
      }
     ]
    },
    "d3bed04d35894be7a171cb01468452e6": {
     "views": [
      {
       "cell_index": 39
      }
     ]
    },
    "d3e2ad3121bc47819a797bce154ad743": {
     "views": [
      {
       "cell_index": 37
      }
     ]
    },
    "dc29bcdaedb84f06b05b670bb1601354": {
     "views": [
      {
       "cell_index": 37
      }
     ]
    },
    "de88d870458d40a6a4d114f3af1ff76e": {
     "views": [
      {
       "cell_index": 37
      }
     ]
    },
    "e1256bf51aea4673b6c7dd671fe2574a": {
     "views": [
      {
       "cell_index": 39
      }
     ]
    },
    "e331455e75cc4602a2643f4fddf68de9": {
     "views": [
      {
       "cell_index": 39
      }
     ]
    },
    "e770ba0b26044672aa921e33a2ec6761": {
     "views": [
      {
       "cell_index": 37
      }
     ]
    },
    "e86ebc3a9f054627bb8dd163504bd9b4": {
     "views": [
      {
       "cell_index": 39
      }
     ]
    },
    "e8bd97df5e5747b18e6dff0a64a6415e": {
     "views": [
      {
       "cell_index": 37
      }
     ]
    },
    "e91ab851a59b404cb2825ff489d8092b": {
     "views": [
      {
       "cell_index": 37
      }
     ]
    },
    "ef0d926b3d044a60a9c93d3673bad9e2": {
     "views": [
      {
       "cell_index": 39
      }
     ]
    },
    "f30d52d0920841bcba11e22ef9911cc6": {
     "views": [
      {
       "cell_index": 37
      }
     ]
    },
    "f414064d6c8c4f8a86112d9c488b9d42": {
     "views": [
      {
       "cell_index": 39
      }
     ]
    },
    "ffb597cc3e964718aa2c13441a49c540": {
     "views": [
      {
       "cell_index": 40
      }
     ]
    }
   },
   "version": "1.2.0"
  }
 },
 "nbformat": 4,
 "nbformat_minor": 2
}
