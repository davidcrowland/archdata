{
 "cells": [
  {
   "cell_type": "markdown",
   "metadata": {},
   "source": [
    "# Work with the extracted stimulated and inhibited cells"
   ]
  },
  {
   "cell_type": "code",
   "execution_count": 1,
   "metadata": {
    "code_folding": [
     0
    ]
   },
   "outputs": [
    {
     "name": "stdout",
     "output_type": "stream",
     "text": [
      "Loaded analysis helpers: General\n",
      "Loaded postgres_analysis_helpers -> general\n",
      "Loaded postgres_analysis_helpers -> get_data\n",
      "Loaded postgres_analysis_helpers -> circstat_functions\n"
     ]
    }
   ],
   "source": [
    "# Imports:\n",
    "%load_ext autoreload\n",
    "%autoreload 2\n",
    "\n",
    "import json\n",
    "import numpy as np\n",
    "import math\n",
    "import psycopg2\n",
    "import numpy as np\n",
    "import pandas as pd\n",
    "from datetime import date\n",
    "from tqdm import tqdm_notebook\n",
    "\n",
    "# Plotting:\n",
    "from matplotlib import pyplot as plt\n",
    "import seaborn as sns\n",
    "import matplotlib.cm as cm\n",
    "import matplotlib as mpl\n",
    "%matplotlib inline\n",
    "%config InlineBackend.figure_format = 'retina'\n",
    "\n",
    "sns.set()\n",
    "\n",
    "# External functions from subfolder /database_helpers. \n",
    "# as soon as you change something in there and press save, it will auto reload on next execution.\n",
    "from database_helpers.psql_start import *\n",
    "from database_helpers.create_tables import *\n",
    "from database_helpers.write2tables import *\n",
    "from postgres_analysis_helpers.general import *\n",
    "from postgres_analysis_helpers.get_data import *\n",
    "from postgres_analysis_helpers.circstat_functions import *\n",
    "# register pickle type to retrieve binary data from database\n",
    "psycopg2.extensions.register_type(psycopg2.extensions.new_type(psycopg2.BINARY.values, 'BINARY-PICKLE', cast_pickle))"
   ]
  },
  {
   "cell_type": "code",
   "execution_count": 2,
   "metadata": {
    "code_folding": [
     0
    ]
   },
   "outputs": [
    {
     "name": "stdout",
     "output_type": "stream",
     "text": [
      "Connecting to the PostgreSQL database...\n",
      "Woot! Database connection is established!\n"
     ]
    }
   ],
   "source": [
    "# Database connection check\n",
    "db_status = test_connect()\n",
    "if db_status == False:\n",
    "    print('Grrr... no database connection could be established.')\n",
    "else:\n",
    "    print('Woot! Database connection is established!')"
   ]
  },
  {
   "cell_type": "markdown",
   "metadata": {},
   "source": [
    "### Load dataframes "
   ]
  },
  {
   "cell_type": "code",
   "execution_count": 3,
   "metadata": {
    "collapsed": true
   },
   "outputs": [],
   "source": [
    "# 'dataframe_export/excited_cells.pkl'\n",
    "# 'dataframe_export/inhibited_cells.pkl'"
   ]
  },
  {
   "cell_type": "code",
   "execution_count": 4,
   "metadata": {
    "collapsed": true
   },
   "outputs": [],
   "source": [
    "drop_group = ['sample_rate_inp','ibi','stim_freq','analysis_window','salt_window','sample_rate','stim_length','counter_stimuli',\\\n",
    "                     'salt_i','salt_p','ex_latency_mean','ex_latency_median','excited','ex_latency_var','ex_latency_reliabil',\\\n",
    "                     'stats_p_inhib_10','stats_p_inhib_20','stats_p_inhib_30','stats_p_inhib_40','inhibited','inhib_lowest_p',\\\n",
    "                     'inhib_lowest_p_interval','change_point_ms','no_sessions','spiketimes_cluster','stimulus_timepoints',\\\n",
    "                     'sum_1ms','bin_edges_1ms','binnumber_1ms','isi_stats_contam_perc','session_name','filename']"
   ]
  },
  {
   "cell_type": "code",
   "execution_count": 5,
   "metadata": {
    "collapsed": true
   },
   "outputs": [],
   "source": [
    "excited_cells = pd.read_pickle('dataframe_export/excited_cells.pkl')\n",
    "inhibited_cells = pd.read_pickle('dataframe_export/inhibited_cells.pkl')"
   ]
  },
  {
   "cell_type": "code",
   "execution_count": 6,
   "metadata": {
    "collapsed": true
   },
   "outputs": [],
   "source": [
    "excited_cells.drop(labels=drop_group,axis=1,inplace=True)\n",
    "inhibited_cells.drop(labels=drop_group,axis=1,inplace=True)"
   ]
  },
  {
   "cell_type": "markdown",
   "metadata": {},
   "source": [
    "### Merge the two dataframes with indicator"
   ]
  },
  {
   "cell_type": "code",
   "execution_count": 7,
   "metadata": {
    "collapsed": true
   },
   "outputs": [],
   "source": [
    "merge_group = ['animal_id','n_drive_user','session_ts','cluster_no','tetrode_no']"
   ]
  },
  {
   "cell_type": "code",
   "execution_count": 8,
   "metadata": {
    "collapsed": true,
    "scrolled": false
   },
   "outputs": [],
   "source": [
    "merged_df = excited_cells.merge(inhibited_cells,how='outer',indicator=True) # excited will be \"left_only\", and inhibited \"right_only\""
   ]
  },
  {
   "cell_type": "code",
   "execution_count": 9,
   "metadata": {},
   "outputs": [
    {
     "name": "stdout",
     "output_type": "stream",
     "text": [
      "Excited only: 58\n",
      "Inhibited only: 236\n",
      "Excited + inhibited: 12\n",
      "Sum: 306\n"
     ]
    }
   ],
   "source": [
    "# Display count:\n",
    "inhibited_only = len(merged_df[merged_df._merge == 'right_only'])\n",
    "excited_only = len(merged_df[merged_df._merge == 'left_only'])\n",
    "both = len(merged_df[merged_df._merge == 'both'])\n",
    "\n",
    "print('Excited only: {}\\nInhibited only: {}\\nExcited + inhibited: {}\\nSum: {}'.format(excited_only,inhibited_only,both,excited_only+inhibited_only+both))"
   ]
  },
  {
   "cell_type": "markdown",
   "metadata": {},
   "source": [
    "## Get the rest of the data and compare with the merged_df"
   ]
  },
  {
   "cell_type": "code",
   "execution_count": 10,
   "metadata": {},
   "outputs": [
    {
     "name": "stdout",
     "output_type": "stream",
     "text": [
      "78 animals across 5 experimenters found.\n",
      "Total # of sessions: 8632 (unique clusters: 15361)\n",
      "8878 entries retrieved.\n"
     ]
    }
   ],
   "source": [
    "stimulus_stats = pd.DataFrame() # create empty dataframe or feed in a base dataframe from before! \n",
    "psql = psql_neuroballs(stimulus_stats) # initialize retrieval\n",
    "\n",
    "dict_ = {'stimulus_tb': ''}\n",
    "animals_ = ['74470','74471','74933','74935','74472','74473','74956','73358']\n",
    "\n",
    "stimulus_stats = psql.retrieve_data(dict_,animals_)"
   ]
  },
  {
   "cell_type": "markdown",
   "metadata": {},
   "source": [
    "### Filter. Make sure that the parameters match the ones in excited cells and inhibited cells notebooks!"
   ]
  },
  {
   "cell_type": "code",
   "execution_count": 11,
   "metadata": {
    "collapsed": true
   },
   "outputs": [],
   "source": [
    "# Set parameters:\n",
    "# excitation:\n",
    "salt_i_thresh = 0.09\n",
    "salt_p_thresh = 0.05\n",
    "min_number_sessions = 2 # min number of session for which criteria above have to be fullfilled\n",
    "pearson_r_thresh = 0.99 # waveform similarity cutoff\n",
    "\n",
    "# ISI contamination (%)\n",
    "isi_contam_thresh = 1\n",
    "\n",
    "# for inhibited cells:\n",
    "p_inhib_thresh = 0.001 # inhibition threshold\n",
    "inhib_interval_ = 10"
   ]
  },
  {
   "cell_type": "code",
   "execution_count": 12,
   "metadata": {
    "collapsed": true
   },
   "outputs": [],
   "source": [
    "other_cells = stimulus_stats[(stimulus_stats.salt_i < salt_i_thresh) | (stimulus_stats.salt_p >= salt_p_thresh)].copy()\n",
    "other_cells = other_cells[(other_cells.inhib_lowest_p >= p_inhib_thresh) | (other_cells.inhib_lowest_p_interval <= inhib_interval_)].copy()"
   ]
  },
  {
   "cell_type": "code",
   "execution_count": 13,
   "metadata": {
    "collapsed": true
   },
   "outputs": [],
   "source": [
    "drop_subgroup = ['animal_id','n_drive_user','session_ts','cluster_no','tetrode_no']\n",
    "other_cells = other_cells.drop_duplicates(drop_subgroup).sort_values(by=drop_subgroup).reset_index().copy()"
   ]
  },
  {
   "cell_type": "code",
   "execution_count": 14,
   "metadata": {
    "collapsed": true
   },
   "outputs": [],
   "source": [
    "other_cells.drop(['session_name','index'], axis=1,inplace=True)"
   ]
  },
  {
   "cell_type": "code",
   "execution_count": 15,
   "metadata": {},
   "outputs": [
    {
     "name": "stdout",
     "output_type": "stream",
     "text": [
      "Length of input dataframe: 1619\n",
      "Dataframe not empty\n"
     ]
    },
    {
     "data": {
      "application/vnd.jupyter.widget-view+json": {
       "model_id": "5cc41df234cd4a96966c5774b766d2c1",
       "version_major": 2,
       "version_minor": 0
      },
      "text/html": [
       "<p>Failed to display Jupyter Widget of type <code>HBox</code>.</p>\n",
       "<p>\n",
       "  If you're reading this message in Jupyter Notebook or JupyterLab, it may mean\n",
       "  that the widgets JavaScript is still loading. If this message persists, it\n",
       "  likely means that the widgets JavaScript library is either not installed or\n",
       "  not enabled. See the <a href=\"https://ipywidgets.readthedocs.io/en/stable/user_install.html\">Jupyter\n",
       "  Widgets Documentation</a> for setup instructions.\n",
       "</p>\n",
       "<p>\n",
       "  If you're reading this message in another notebook frontend (for example, a static\n",
       "  rendering on GitHub or <a href=\"https://nbviewer.jupyter.org/\">NBViewer</a>),\n",
       "  it may mean that your frontend doesn't currently support widgets.\n",
       "</p>\n"
      ],
      "text/plain": [
       "HBox(children=(IntProgress(value=0, description='Mining tables: ', max=1), HTML(value='')))"
      ]
     },
     "metadata": {},
     "output_type": "display_data"
    },
    {
     "data": {
      "application/vnd.jupyter.widget-view+json": {
       "model_id": "e9bb10f09412418c804ad73160041228",
       "version_major": 2,
       "version_minor": 0
      },
      "text/html": [
       "<p>Failed to display Jupyter Widget of type <code>HBox</code>.</p>\n",
       "<p>\n",
       "  If you're reading this message in Jupyter Notebook or JupyterLab, it may mean\n",
       "  that the widgets JavaScript is still loading. If this message persists, it\n",
       "  likely means that the widgets JavaScript library is either not installed or\n",
       "  not enabled. See the <a href=\"https://ipywidgets.readthedocs.io/en/stable/user_install.html\">Jupyter\n",
       "  Widgets Documentation</a> for setup instructions.\n",
       "</p>\n",
       "<p>\n",
       "  If you're reading this message in another notebook frontend (for example, a static\n",
       "  rendering on GitHub or <a href=\"https://nbviewer.jupyter.org/\">NBViewer</a>),\n",
       "  it may mean that your frontend doesn't currently support widgets.\n",
       "</p>\n"
      ],
      "text/plain": [
       "HBox(children=(IntProgress(value=0, description='ISI_tb: ', max=1619), HTML(value='')))"
      ]
     },
     "metadata": {},
     "output_type": "display_data"
    },
    {
     "name": "stdout",
     "output_type": "stream",
     "text": [
      "Success. NaNs: 12\n",
      "\n"
     ]
    }
   ],
   "source": [
    "psql = psql_neuroballs(other_cells) # initialize retrieval\n",
    "dict_ = {'ISI_tb':'ISI_stats_contam_perc'}\n",
    "other_cells = psql.retrieve_data(user_sql_tables=dict_,user_sql_filter=\"NOT LIKE '%las%'\")\n",
    "\n",
    "# filter out ISI contaminations: \n",
    "other_cells = other_cells[other_cells.isi_stats_contam_perc < isi_contam_thresh].copy()"
   ]
  },
  {
   "cell_type": "markdown",
   "metadata": {},
   "source": [
    "### Save other_cells dataframe for later ... "
   ]
  },
  {
   "cell_type": "code",
   "execution_count": 16,
   "metadata": {
    "collapsed": true
   },
   "outputs": [],
   "source": [
    "other_cells.to_pickle('dataframe_export/other_cells.pkl')"
   ]
  },
  {
   "cell_type": "markdown",
   "metadata": {},
   "source": [
    "### Merge with merged_df from before ... "
   ]
  },
  {
   "cell_type": "code",
   "execution_count": 17,
   "metadata": {
    "collapsed": true
   },
   "outputs": [],
   "source": [
    "merged_df.rename(columns={'_merge':'_merge_exc_inhib'}, inplace=True) # rename the waveform column - \"tag\" with laser"
   ]
  },
  {
   "cell_type": "code",
   "execution_count": 18,
   "metadata": {
    "collapsed": true
   },
   "outputs": [],
   "source": [
    "all_merged_df = merged_df.merge(other_cells, on=merge_group,how='outer',indicator=True)\n",
    "all_merged_df.rename(columns={'_merge':'_merge_all'}, inplace=True) # rename the waveform column - \"tag\" with laser"
   ]
  },
  {
   "cell_type": "markdown",
   "metadata": {},
   "source": [
    "### Clean up and save for later ... "
   ]
  },
  {
   "cell_type": "code",
   "execution_count": 19,
   "metadata": {
    "collapsed": true
   },
   "outputs": [],
   "source": [
    "# clean up dataframe and write label column to it\n",
    "labels = []\n",
    "for i in range(len(all_merged_df)):\n",
    "    if all_merged_df.iloc[i]._merge_all == 'left_only':\n",
    "        # check if excited / inhibited or both\n",
    "        if all_merged_df.iloc[i]._merge_exc_inhib == 'left_only':\n",
    "            labels.append('excited')\n",
    "        elif all_merged_df.iloc[i]._merge_exc_inhib == 'right_only':\n",
    "            labels.append('inhibited')\n",
    "        elif all_merged_df.iloc[i]._merge_exc_inhib == 'both':\n",
    "            labels.append('both')\n",
    "        else:\n",
    "            labels.append('nan')\n",
    "    else:\n",
    "        labels.append('rest')"
   ]
  },
  {
   "cell_type": "code",
   "execution_count": 20,
   "metadata": {
    "collapsed": true
   },
   "outputs": [],
   "source": [
    "all_merged_df['label'] = labels"
   ]
  },
  {
   "cell_type": "code",
   "execution_count": 21,
   "metadata": {
    "collapsed": true
   },
   "outputs": [],
   "source": [
    "drop_group = ['sample_rate_inp','ibi','stim_freq','analysis_window','salt_window','sample_rate','stim_length','counter_stimuli',\\\n",
    "                     'salt_i','salt_p','ex_latency_mean','ex_latency_median','excited','ex_latency_var','ex_latency_reliabil',\\\n",
    "                     'stats_p_inhib_10','stats_p_inhib_20','stats_p_inhib_30','stats_p_inhib_40','inhibited','inhib_lowest_p',\\\n",
    "                     'inhib_lowest_p_interval','change_point_ms',\\\n",
    "                     'isi_stats_contam_perc','mean_wf_laser','mean_wf','pearson_r_wf','_merge_exc_inhib','_merge_all',\\\n",
    "                     'analysis_ts_y','analysis_ts_x','session_name','filename']"
   ]
  },
  {
   "cell_type": "code",
   "execution_count": 22,
   "metadata": {
    "collapsed": true
   },
   "outputs": [],
   "source": [
    "all_merged_df.drop(labels=drop_group,axis=1,inplace=True)"
   ]
  },
  {
   "cell_type": "code",
   "execution_count": 28,
   "metadata": {
    "collapsed": true
   },
   "outputs": [],
   "source": [
    "all_merged_df.to_pickle('dataframe_export/all_merged_df.pkl')"
   ]
  },
  {
   "cell_type": "code",
   "execution_count": 24,
   "metadata": {},
   "outputs": [
    {
     "data": {
      "text/html": [
       "<div>\n",
       "<style>\n",
       "    .dataframe thead tr:only-child th {\n",
       "        text-align: right;\n",
       "    }\n",
       "\n",
       "    .dataframe thead th {\n",
       "        text-align: left;\n",
       "    }\n",
       "\n",
       "    .dataframe tbody tr th {\n",
       "        vertical-align: top;\n",
       "    }\n",
       "</style>\n",
       "<table border=\"1\" class=\"dataframe\">\n",
       "  <thead>\n",
       "    <tr style=\"text-align: right;\">\n",
       "      <th></th>\n",
       "      <th>animal_id</th>\n",
       "      <th>cluster_no</th>\n",
       "      <th>n_drive_user</th>\n",
       "      <th>session_ts</th>\n",
       "      <th>tetrode_no</th>\n",
       "      <th>label</th>\n",
       "    </tr>\n",
       "  </thead>\n",
       "  <tbody>\n",
       "    <tr>\n",
       "      <th>0</th>\n",
       "      <td>74472</td>\n",
       "      <td>23</td>\n",
       "      <td>davidcr</td>\n",
       "      <td>2017-09-10 12:41:58</td>\n",
       "      <td>6</td>\n",
       "      <td>excited</td>\n",
       "    </tr>\n",
       "    <tr>\n",
       "      <th>1</th>\n",
       "      <td>74472</td>\n",
       "      <td>26</td>\n",
       "      <td>davidcr</td>\n",
       "      <td>2017-09-19 11:36:30</td>\n",
       "      <td>6</td>\n",
       "      <td>excited</td>\n",
       "    </tr>\n",
       "    <tr>\n",
       "      <th>2</th>\n",
       "      <td>74472</td>\n",
       "      <td>33</td>\n",
       "      <td>davidcr</td>\n",
       "      <td>2017-09-17 13:27:31</td>\n",
       "      <td>6</td>\n",
       "      <td>excited</td>\n",
       "    </tr>\n",
       "    <tr>\n",
       "      <th>3</th>\n",
       "      <td>74472</td>\n",
       "      <td>33</td>\n",
       "      <td>davidcr</td>\n",
       "      <td>2017-09-17 13:27:31</td>\n",
       "      <td>6</td>\n",
       "      <td>excited</td>\n",
       "    </tr>\n",
       "    <tr>\n",
       "      <th>4</th>\n",
       "      <td>74472</td>\n",
       "      <td>33</td>\n",
       "      <td>davidcr</td>\n",
       "      <td>2017-09-17 13:27:31</td>\n",
       "      <td>6</td>\n",
       "      <td>excited</td>\n",
       "    </tr>\n",
       "  </tbody>\n",
       "</table>\n",
       "</div>"
      ],
      "text/plain": [
       "  animal_id  cluster_no n_drive_user          session_ts  tetrode_no    label\n",
       "0     74472          23      davidcr 2017-09-10 12:41:58           6  excited\n",
       "1     74472          26      davidcr 2017-09-19 11:36:30           6  excited\n",
       "2     74472          33      davidcr 2017-09-17 13:27:31           6  excited\n",
       "3     74472          33      davidcr 2017-09-17 13:27:31           6  excited\n",
       "4     74472          33      davidcr 2017-09-17 13:27:31           6  excited"
      ]
     },
     "execution_count": 24,
     "metadata": {},
     "output_type": "execute_result"
    }
   ],
   "source": [
    "all_merged_df.head()"
   ]
  },
  {
   "cell_type": "markdown",
   "metadata": {},
   "source": [
    "### Little summary"
   ]
  },
  {
   "cell_type": "code",
   "execution_count": 25,
   "metadata": {},
   "outputs": [
    {
     "name": "stdout",
     "output_type": "stream",
     "text": [
      "Excited:    58\n",
      "Inhibited:  236\n",
      "Both:       12\n",
      "NaN:        0\n",
      "Neither:    1612\n",
      "Sum:        1918\n"
     ]
    }
   ],
   "source": [
    "print('Excited:    {}'.format(len(all_merged_df[all_merged_df.label == 'excited'])))\n",
    "print('Inhibited:  {}'.format(len(all_merged_df[all_merged_df.label == 'inhibited'])))\n",
    "print('Both:       {}'.format(len(all_merged_df[all_merged_df.label == 'both'])))\n",
    "print('NaN:        {}'.format(len(all_merged_df[all_merged_df.label == 'nan'])))\n",
    "print('Neither:    {}'.format(len(all_merged_df[all_merged_df.label == 'rest'])))\n",
    "print('Sum:        {}'.format(len(all_merged_df[all_merged_df.label == 'excited'])+len(all_merged_df[all_merged_df.label == 'inhibited'])+len(all_merged_df[all_merged_df.label == 'both'])+len(all_merged_df[all_merged_df.label == 'rest'])))"
   ]
  },
  {
   "cell_type": "markdown",
   "metadata": {},
   "source": [
    "### Pie chart of stimulated vs. inhibited vs. all "
   ]
  },
  {
   "cell_type": "code",
   "execution_count": 26,
   "metadata": {},
   "outputs": [
    {
     "data": {
      "image/png": "[encoded data removed]",
      "text/plain": [
       "<matplotlib.figure.Figure at 0x18764839668>"
      ]
     },
     "metadata": {
      "image/png": {
       "height": 401,
       "width": 404
      }
     },
     "output_type": "display_data"
    }
   ],
   "source": [
    "sns.set(font_scale=1.8)\n",
    "labels = 'Excited', 'Inhibited', 'Both', 'Rest'\n",
    "sizes = [len(all_merged_df[all_merged_df.label == 'excited']),\\\n",
    "          len(all_merged_df[all_merged_df.label == 'inhibited']),\\\n",
    "              len(all_merged_df[all_merged_df.label == 'both']),\\\n",
    "                len(all_merged_df[all_merged_df.label == 'rest'])]\n",
    "explode = (.06,.06,0,0)  \n",
    "\n",
    "fig1, ax1 = plt.subplots(figsize=(7,7))\n",
    "ax1.pie(sizes, explode=explode, labels=labels, autopct='%1.1f%%',\n",
    "        shadow=False, startangle=90,counterclock=False,colors=[[.9,.2,.2],[.2,.2,.9],[.9,.9,.9],[.6,.6,.6]])\n",
    "ax1.axis('equal') \n",
    "plt.show()"
   ]
  },
  {
   "cell_type": "code",
   "execution_count": null,
   "metadata": {
    "collapsed": true
   },
   "outputs": [],
   "source": [
    "all_merged_df"
   ]
  },
  {
   "cell_type": "code",
   "execution_count": 30,
   "metadata": {},
   "outputs": [
    {
     "data": {
      "text/plain": [
       "1918"
      ]
     },
     "execution_count": 30,
     "metadata": {},
     "output_type": "execute_result"
    }
   ],
   "source": [
    "len(all_merged_df)"
   ]
  },
  {
   "cell_type": "code",
   "execution_count": 29,
   "metadata": {},
   "outputs": [
    {
     "data": {
      "text/plain": [
       "1651"
      ]
     },
     "execution_count": 29,
     "metadata": {},
     "output_type": "execute_result"
    }
   ],
   "source": [
    "drop_subgroup = ['animal_id','n_drive_user','session_ts','cluster_no','tetrode_no']\n",
    "\n",
    "len(all_merged_df.drop_duplicates(subset=drop_subgroup))"
   ]
  },
  {
   "cell_type": "code",
   "execution_count": null,
   "metadata": {
    "collapsed": true
   },
   "outputs": [],
   "source": []
  }
 ],
 "metadata": {
  "kernelspec": {
   "display_name": "Python 3",
   "language": "python",
   "name": "python3"
  },
  "language_info": {
   "codemirror_mode": {
    "name": "ipython",
    "version": 3
   },
   "file_extension": ".py",
   "mimetype": "text/x-python",
   "name": "python",
   "nbconvert_exporter": "python",
   "pygments_lexer": "ipython3",
   "version": "3.6.2"
  },
  "notify_time": "5",
  "widgets": {
   "application/vnd.jupyter.widget-state+json": {
    "state": {
     "142739941ccb492184dc4a29daf88f05": {
      "model_module": "jupyter-js-widgets",
      "model_module_version": "~2.0.30",
      "model_name": "LayoutModel",
      "state": {
       "_model_module_version": "~2.0.30",
       "_view_module_version": "~2.0.30"
      }
     },
     "18f095f85119473183435ea6ab677fe3": {
      "model_module": "jupyter-js-widgets",
      "model_module_version": "~2.0.30",
      "model_name": "OutputModel",
      "state": {
       "_dom_classes": [],
       "_model_module": "jupyter-js-widgets",
       "_model_module_version": "~2.0.30",
       "_view_module": "jupyter-js-widgets",
       "_view_module_version": "~2.0.30",
       "layout": "IPY_MODEL_142739941ccb492184dc4a29daf88f05",
       "msg_throttle": 1
      }
     },
     "1ec8d4195e3f41a780ff1340e9dcc5a1": {
      "model_module": "jupyter-js-widgets",
      "model_module_version": "~2.0.30",
      "model_name": "LayoutModel",
      "state": {
       "_model_module_version": "~2.0.30",
       "_view_module_version": "~2.0.30"
      }
     },
     "6c826c931af7406e923d24fc67d9462f": {
      "model_module": "jupyter-js-widgets",
      "model_module_version": "~2.0.30",
      "model_name": "SliderStyleModel",
      "state": {
       "_model_module_version": "~2.0.30",
       "_view_module_version": "~2.0.30"
      }
     },
     "af3d44e19ad846cbb076e9983825fc21": {
      "model_module": "jupyter-js-widgets",
      "model_module_version": "~2.0.30",
      "model_name": "VBoxModel",
      "state": {
       "_dom_classes": [
        "widget-interact"
       ],
       "_model_module_version": "~2.0.30",
       "_view_module_version": "~2.0.30",
       "children": [
        "IPY_MODEL_e10f82066fb945d6b8f2f38689e207e7",
        "IPY_MODEL_18f095f85119473183435ea6ab677fe3"
       ],
       "layout": "IPY_MODEL_ce6232d4b70d4a1e83b5f9c6fdb11409"
      }
     },
     "ce6232d4b70d4a1e83b5f9c6fdb11409": {
      "model_module": "jupyter-js-widgets",
      "model_module_version": "~2.0.30",
      "model_name": "LayoutModel",
      "state": {
       "_model_module_version": "~2.0.30",
       "_view_module_version": "~2.0.30"
      }
     },
     "e10f82066fb945d6b8f2f38689e207e7": {
      "model_module": "jupyter-js-widgets",
      "model_module_version": "~2.0.30",
      "model_name": "IntSliderModel",
      "state": {
       "_model_module_version": "~2.0.30",
       "_view_module_version": "~2.0.30",
       "description": "i",
       "layout": "IPY_MODEL_1ec8d4195e3f41a780ff1340e9dcc5a1",
       "max": 1796,
       "style": "IPY_MODEL_6c826c931af7406e923d24fc67d9462f",
       "value": 912
      }
     }
    },
    "version_major": 1,
    "version_minor": 0
   }
  }
 },
 "nbformat": 4,
 "nbformat_minor": 1
}
