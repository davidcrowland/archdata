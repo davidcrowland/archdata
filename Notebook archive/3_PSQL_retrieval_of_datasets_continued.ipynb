{
 "cells": [
  {
   "cell_type": "markdown",
   "metadata": {},
   "source": [
    "# 3 Retrieval of data from postgresql - continued"
   ]
  },
  {
   "cell_type": "markdown",
   "metadata": {},
   "source": [
    "Builds on the previous notebook - more data retrieval options"
   ]
  },
  {
   "cell_type": "code",
   "execution_count": 2,
   "metadata": {
    "collapsed": false
   },
   "outputs": [
    {
     "name": "stdout",
     "output_type": "stream",
     "text": [
      "The autoreload extension is already loaded. To reload it, use:\n",
      "  %reload_ext autoreload\n"
     ]
    }
   ],
   "source": [
    "# the following two lines indicate that external functions are auto-reloaded as soon as they change. \n",
    "%load_ext autoreload\n",
    "%autoreload 2\n",
    "# Print statements \n",
    "from __future__ import print_function # Python 2.x"
   ]
  },
  {
   "cell_type": "code",
   "execution_count": 3,
   "metadata": {
    "collapsed": false
   },
   "outputs": [
    {
     "name": "stdout",
     "output_type": "stream",
     "text": [
      "Loaded analysis helpers: General\n"
     ]
    }
   ],
   "source": [
    "# General stuff:\n",
    "import sys\n",
    "import argparse\n",
    "import os\n",
    "import json\n",
    "import numpy as np\n",
    "import math\n",
    "import psycopg2\n",
    "import cPickle\n",
    "import numpy as np\n",
    "import pandas as pd\n",
    "from datetime import date\n",
    "from tqdm import tqdm_notebook\n",
    "\n",
    "# Plotting:\n",
    "from matplotlib import pyplot as plt\n",
    "import seaborn as sns\n",
    "import matplotlib.cm as cm\n",
    "import matplotlib as mpl\n",
    "%matplotlib inline\n",
    "\n",
    "# External functions from subfolder /database_helpers. \n",
    "# as soon as you change something in there and press save, it will auto reload on next execution.\n",
    "from database_helpers.psql_start import *\n",
    "from database_helpers.create_tables import *\n",
    "from database_helpers.write2tables import *\n",
    "\n",
    "# register pickle type to retrieve binary data from database\n",
    "psycopg2.extensions.register_type(psycopg2.extensions.new_type(psycopg2.BINARY.values, 'BINARY-PICKLE', cast_pickle))"
   ]
  },
  {
   "cell_type": "markdown",
   "metadata": {},
   "source": [
    "Try a first handshake with the database via the function `test_connect()`"
   ]
  },
  {
   "cell_type": "code",
   "execution_count": 15,
   "metadata": {
    "collapsed": false
   },
   "outputs": [
    {
     "name": "stdout",
     "output_type": "stream",
     "text": [
      "Connecting to the PostgreSQL database...\n",
      "Yippiyeah! Database connection is established!\n"
     ]
    }
   ],
   "source": [
    "db_status = test_connect()\n",
    "if db_status == False:\n",
    "    print('Grrr... no database connection could be established.')\n",
    "else:\n",
    "    print('Yippiyeah! Database connection is established!')"
   ]
  },
  {
   "cell_type": "code",
   "execution_count": 5,
   "metadata": {
    "collapsed": true
   },
   "outputs": [],
   "source": [
    "# load the parameters to connect to data_1 \n",
    "params = config()"
   ]
  },
  {
   "cell_type": "markdown",
   "metadata": {},
   "source": [
    "### More filtering ..."
   ]
  },
  {
   "cell_type": "markdown",
   "metadata": {},
   "source": [
    "Let's have a look at more sql query strings"
   ]
  },
  {
   "cell_type": "code",
   "execution_count": 21,
   "metadata": {
    "collapsed": false
   },
   "outputs": [
    {
     "name": "stdout",
     "output_type": "stream",
     "text": [
      "Wall time: 292 ms\n"
     ]
    }
   ],
   "source": [
    "%%time\n",
    "sql = \"SELECT * FROM spiketimes_tracking_tb WHERE session_name LIKE '%obj%' LIMIT 10\"\n",
    "sql_db_pd = pd.read_sql_query(sql, psycopg2.connect(**params), index_col=None,parse_dates=['session_ts','analysis_ts'])"
   ]
  },
  {
   "cell_type": "markdown",
   "metadata": {},
   "source": [
    "The statement above should have retrieved a dataframe comprising a **maximum of 4 entries** from the **`spiketimes_tracking_tb`** (which holds the spiketimes and corresponding tracking info for every unit), but only **WHERE** the column named **session_name** has a string with something like **obj** in it. So this retrieves some object tracking examples for us - let's inspect it:"
   ]
  },
  {
   "cell_type": "markdown",
   "metadata": {},
   "source": [
    "sql_db_pd.head(3)"
   ]
  },
  {
   "cell_type": "markdown",
   "metadata": {},
   "source": [
    "The **limit** statement is actually very useful, if you are not 100% sure what you will get - this will keep the transaction times short (mainly the network transfer time between the database server and this computer). The **LIKE** statement can be transferred into **NOT LIKE** - to filter for strings. It is important to note that this filtering could have been done later as well - by just retrieving everything and then filtering the pandas dataframe for that string. But in this case it is far more useful - and things can speed up quite a lot using it this way."
   ]
  },
  {
   "cell_type": "markdown",
   "metadata": {},
   "source": [
    "If you aren't sure what the column names are that you got, type **.columns** to get an overview"
   ]
  },
  {
   "cell_type": "code",
   "execution_count": 24,
   "metadata": {
    "collapsed": false
   },
   "outputs": [
    {
     "data": {
      "text/plain": [
       "Index([u'cluster_no', u'analysis_ts', u'tetrode_no', u'session_name',\n",
       "       u'filename', u'n_drive_user', u'animal_id', u'session_ts',\n",
       "       u'spiket_tracking_session', u'spike_no', u'mean_freq'],\n",
       "      dtype='object')"
      ]
     },
     "execution_count": 24,
     "metadata": {},
     "output_type": "execute_result"
    }
   ],
   "source": [
    "sql_db_pd.columns"
   ]
  },
  {
   "cell_type": "markdown",
   "metadata": {},
   "source": [
    "Sometimes it might be desirable to retrieve just a subset of the columns, not everything. Maybe you just want the gridscore but not the autocorrelation map from the `autocorr_gs_tb`. Let's do that: "
   ]
  },
  {
   "cell_type": "code",
   "execution_count": 27,
   "metadata": {
    "collapsed": false
   },
   "outputs": [
    {
     "name": "stdout",
     "output_type": "stream",
     "text": [
      "Wall time: 31 ms\n"
     ]
    }
   ],
   "source": [
    "%%time\n",
    "sql = \"SELECT tetrode_no, cluster_no, session_name, session_ts, grid_score FROM autocorr_gs_tb LIMIT 10\"\n",
    "sql_db_pd = pd.read_sql_query(sql, psycopg2.connect(**params), index_col=None,parse_dates=['session_ts'])"
   ]
  },
  {
   "cell_type": "markdown",
   "metadata": {},
   "source": [
    "Now we got a \"customized\" dataset back, which holds only the columns that we wanted. For that we just replaced the (\\*) with the specific column names of that table that we want."
   ]
  },
  {
   "cell_type": "code",
   "execution_count": 29,
   "metadata": {
    "collapsed": false,
    "scrolled": true
   },
   "outputs": [
    {
     "data": {
      "text/html": [
       "<div>\n",
       "<table border=\"1\" class=\"dataframe\">\n",
       "  <thead>\n",
       "    <tr style=\"text-align: right;\">\n",
       "      <th></th>\n",
       "      <th>tetrode_no</th>\n",
       "      <th>cluster_no</th>\n",
       "      <th>session_name</th>\n",
       "      <th>session_ts</th>\n",
       "      <th>grid_score</th>\n",
       "    </tr>\n",
       "  </thead>\n",
       "  <tbody>\n",
       "    <tr>\n",
       "      <th>0</th>\n",
       "      <td>5</td>\n",
       "      <td>29</td>\n",
       "      <td>15042017laser4(60mW)s1</td>\n",
       "      <td>2017-04-15 16:11:31</td>\n",
       "      <td>-0.601651</td>\n",
       "    </tr>\n",
       "    <tr>\n",
       "      <th>1</th>\n",
       "      <td>5</td>\n",
       "      <td>4</td>\n",
       "      <td>15042017laserSess2(80mw)</td>\n",
       "      <td>2017-04-16 15:09:34</td>\n",
       "      <td>-0.760008</td>\n",
       "    </tr>\n",
       "    <tr>\n",
       "      <th>2</th>\n",
       "      <td>5</td>\n",
       "      <td>24</td>\n",
       "      <td>17042017laserSess1(20mw)</td>\n",
       "      <td>2017-04-17 14:14:48</td>\n",
       "      <td>0.486186</td>\n",
       "    </tr>\n",
       "    <tr>\n",
       "      <th>3</th>\n",
       "      <td>5</td>\n",
       "      <td>41</td>\n",
       "      <td>17042017s1</td>\n",
       "      <td>2017-04-17 16:05:47</td>\n",
       "      <td>0.137598</td>\n",
       "    </tr>\n",
       "    <tr>\n",
       "      <th>4</th>\n",
       "      <td>6</td>\n",
       "      <td>10</td>\n",
       "      <td>18042017laserSess1(60mw)</td>\n",
       "      <td>2017-04-18 10:41:47</td>\n",
       "      <td>0.160277</td>\n",
       "    </tr>\n",
       "  </tbody>\n",
       "</table>\n",
       "</div>"
      ],
      "text/plain": [
       "   tetrode_no  cluster_no              session_name          session_ts  \\\n",
       "0           5          29    15042017laser4(60mW)s1 2017-04-15 16:11:31   \n",
       "1           5           4  15042017laserSess2(80mw) 2017-04-16 15:09:34   \n",
       "2           5          24  17042017laserSess1(20mw) 2017-04-17 14:14:48   \n",
       "3           5          41                17042017s1 2017-04-17 16:05:47   \n",
       "4           6          10  18042017laserSess1(60mw) 2017-04-18 10:41:47   \n",
       "\n",
       "   grid_score  \n",
       "0   -0.601651  \n",
       "1   -0.760008  \n",
       "2    0.486186  \n",
       "3    0.137598  \n",
       "4    0.160277  "
      ]
     },
     "execution_count": 29,
     "metadata": {},
     "output_type": "execute_result"
    }
   ],
   "source": [
    "sql_db_pd.head()"
   ]
  },
  {
   "cell_type": "markdown",
   "metadata": {},
   "source": [
    "### What about binary data?"
   ]
  },
  {
   "cell_type": "markdown",
   "metadata": {},
   "source": [
    "Some data in the database is stored as binary data, meaning that it holds complex stuff, like arrays or matrices, more complex at least than simple numbers or strings. Most of it comes back as either a dataframe object (yes, so that's a dataframe within a dataframe) or a numpy array. Let's see an example."
   ]
  },
  {
   "cell_type": "code",
   "execution_count": 38,
   "metadata": {
    "collapsed": false
   },
   "outputs": [
    {
     "name": "stdout",
     "output_type": "stream",
     "text": [
      "Wall time: 64 ms\n"
     ]
    }
   ],
   "source": [
    "%%time\n",
    "sql = \"SELECT * FROM ratemaps_tb LIMIT 10\"\n",
    "sql_db_pd = pd.read_sql_query(sql, psycopg2.connect(**params), index_col=None,parse_dates=['session_ts','analysis_ts'])"
   ]
  },
  {
   "cell_type": "code",
   "execution_count": 39,
   "metadata": {
    "collapsed": false
   },
   "outputs": [
    {
     "data": {
      "text/html": [
       "<div>\n",
       "<table border=\"1\" class=\"dataframe\">\n",
       "  <thead>\n",
       "    <tr style=\"text-align: right;\">\n",
       "      <th></th>\n",
       "      <th>cluster_no</th>\n",
       "      <th>analysis_ts</th>\n",
       "      <th>tetrode_no</th>\n",
       "      <th>session_name</th>\n",
       "      <th>filename</th>\n",
       "      <th>n_drive_user</th>\n",
       "      <th>animal_id</th>\n",
       "      <th>session_ts</th>\n",
       "      <th>nbins</th>\n",
       "      <th>xedges</th>\n",
       "      <th>yedges</th>\n",
       "      <th>masked_ratemap</th>\n",
       "      <th>calc</th>\n",
       "      <th>bin_size</th>\n",
       "      <th>sigma_rate</th>\n",
       "      <th>sigma_time</th>\n",
       "      <th>box_size_cm</th>\n",
       "      <th>speed_cutoff</th>\n",
       "    </tr>\n",
       "  </thead>\n",
       "  <tbody>\n",
       "    <tr>\n",
       "      <th>0</th>\n",
       "      <td>33</td>\n",
       "      <td>2017-04-16 07:04:38.461</td>\n",
       "      <td>5</td>\n",
       "      <td>15042017s1</td>\n",
       "      <td>N:/horsto/70645/15042017/KLUSTA/0.kwik</td>\n",
       "      <td>horsto</td>\n",
       "      <td>70645</td>\n",
       "      <td>2017-04-15 16:11:31</td>\n",
       "      <td>40</td>\n",
       "      <td>[132.334260863, 142.100417673, 151.866574484, ...</td>\n",
       "      <td>[65.4429323711, 75.4375738771, 85.432215383, 9...</td>\n",
       "      <td>[[--, 0.0393983376082, 0.0464204061083, 0.0548...</td>\n",
       "      <td>True</td>\n",
       "      <td>2.0</td>\n",
       "      <td>2.0</td>\n",
       "      <td>2.0</td>\n",
       "      <td>80.0</td>\n",
       "      <td>5.0</td>\n",
       "    </tr>\n",
       "  </tbody>\n",
       "</table>\n",
       "</div>"
      ],
      "text/plain": [
       "   cluster_no             analysis_ts  tetrode_no session_name  \\\n",
       "0          33 2017-04-16 07:04:38.461           5   15042017s1   \n",
       "\n",
       "                                 filename n_drive_user animal_id  \\\n",
       "0  N:/horsto/70645/15042017/KLUSTA/0.kwik       horsto     70645   \n",
       "\n",
       "           session_ts  nbins  \\\n",
       "0 2017-04-15 16:11:31     40   \n",
       "\n",
       "                                              xedges  \\\n",
       "0  [132.334260863, 142.100417673, 151.866574484, ...   \n",
       "\n",
       "                                              yedges  \\\n",
       "0  [65.4429323711, 75.4375738771, 85.432215383, 9...   \n",
       "\n",
       "                                      masked_ratemap  calc  bin_size  \\\n",
       "0  [[--, 0.0393983376082, 0.0464204061083, 0.0548...  True       2.0   \n",
       "\n",
       "   sigma_rate  sigma_time  box_size_cm  speed_cutoff  \n",
       "0         2.0         2.0         80.0           5.0  "
      ]
     },
     "execution_count": 39,
     "metadata": {},
     "output_type": "execute_result"
    }
   ],
   "source": [
    "sql_db_pd.head(1)"
   ]
  },
  {
   "cell_type": "markdown",
   "metadata": {},
   "source": [
    "As you can see, when you scroll to the right, there is a column named **masked_ratemap** in the dataframe. It holds the ratemap for that specific cell/session as a masked numpy array. Retrieving it from within the dataframe is very simple - you just point to it and do with it what you want - let's plot it! "
   ]
  },
  {
   "cell_type": "code",
   "execution_count": 41,
   "metadata": {
    "collapsed": false
   },
   "outputs": [
    {
     "data": {
      "text/plain": [
       "<matplotlib.image.AxesImage at 0xc9f7d30>"
      ]
     },
     "execution_count": 41,
     "metadata": {},
     "output_type": "execute_result"
    },
    {
     "data": {
      "image/png": "[encoded data removed]",
      "text/plain": [
       "<matplotlib.figure.Figure at 0xcb4d2b0>"
      ]
     },
     "metadata": {},
     "output_type": "display_data"
    }
   ],
   "source": [
    "plt.imshow(sql_db_pd.masked_ratemap[0], cmap=cm.jet, interpolation='nearest')\n",
    "# We retrieve it by pointing to the column (masked_ratemap), then selecting the first entry ([0]) "
   ]
  },
  {
   "cell_type": "markdown",
   "metadata": {},
   "source": [
    "This was an example for a numpy array, let's see what happens with dataframes within dataframes - which is even nicer. For that we will retrieve some LFP data. "
   ]
  },
  {
   "cell_type": "code",
   "execution_count": 44,
   "metadata": {
    "collapsed": false
   },
   "outputs": [
    {
     "name": "stdout",
     "output_type": "stream",
     "text": [
      "Wall time: 2.56 s\n"
     ]
    }
   ],
   "source": [
    "%%time\n",
    "sql = \"SELECT * FROM lfp_tb LIMIT 1\"\n",
    "sql_db_pd = pd.read_sql_query(sql, psycopg2.connect(**params), index_col=None,parse_dates=['session_ts','analysis_ts'])"
   ]
  },
  {
   "cell_type": "code",
   "execution_count": 45,
   "metadata": {
    "collapsed": false
   },
   "outputs": [
    {
     "data": {
      "text/html": [
       "<div>\n",
       "<table border=\"1\" class=\"dataframe\">\n",
       "  <thead>\n",
       "    <tr style=\"text-align: right;\">\n",
       "      <th></th>\n",
       "      <th>analysis_ts</th>\n",
       "      <th>session_name</th>\n",
       "      <th>n_drive_user</th>\n",
       "      <th>animal_id</th>\n",
       "      <th>session_ts</th>\n",
       "      <th>lfp_session</th>\n",
       "      <th>theta_freq</th>\n",
       "    </tr>\n",
       "  </thead>\n",
       "  <tbody>\n",
       "    <tr>\n",
       "      <th>0</th>\n",
       "      <td>2017-04-04 06:39:17.062</td>\n",
       "      <td>11102016s1</td>\n",
       "      <td>horsto</td>\n",
       "      <td>57837</td>\n",
       "      <td>2016-10-11 15:53:29</td>\n",
       "      <td>time  eeg0  eeg1  eeg2  eeg3  eeg_...</td>\n",
       "      <td>7.766667</td>\n",
       "    </tr>\n",
       "  </tbody>\n",
       "</table>\n",
       "</div>"
      ],
      "text/plain": [
       "              analysis_ts session_name n_drive_user animal_id  \\\n",
       "0 2017-04-04 06:39:17.062   11102016s1       horsto     57837   \n",
       "\n",
       "           session_ts                                        lfp_session  \\\n",
       "0 2016-10-11 15:53:29              time  eeg0  eeg1  eeg2  eeg3  eeg_...   \n",
       "\n",
       "   theta_freq  \n",
       "0    7.766667  "
      ]
     },
     "execution_count": 45,
     "metadata": {},
     "output_type": "execute_result"
    }
   ],
   "source": [
    "sql_db_pd.head()"
   ]
  },
  {
   "cell_type": "markdown",
   "metadata": {},
   "source": [
    "The interesting entries are in column **lfp_session**, which holds (sub-)dataframes with LFP data. Let's see what we get when we point specifically to it:"
   ]
  },
  {
   "cell_type": "code",
   "execution_count": 48,
   "metadata": {
    "collapsed": false
   },
   "outputs": [
    {
     "data": {
      "text/html": [
       "<div>\n",
       "<table border=\"1\" class=\"dataframe\">\n",
       "  <thead>\n",
       "    <tr style=\"text-align: right;\">\n",
       "      <th></th>\n",
       "      <th>time</th>\n",
       "      <th>eeg0</th>\n",
       "      <th>eeg1</th>\n",
       "      <th>eeg2</th>\n",
       "      <th>eeg3</th>\n",
       "      <th>eeg_mean</th>\n",
       "      <th>speed</th>\n",
       "    </tr>\n",
       "  </thead>\n",
       "  <tbody>\n",
       "    <tr>\n",
       "      <th>0</th>\n",
       "      <td>0.000</td>\n",
       "      <td>0</td>\n",
       "      <td>0</td>\n",
       "      <td>0</td>\n",
       "      <td>0</td>\n",
       "      <td>0.00</td>\n",
       "      <td>3.550345</td>\n",
       "    </tr>\n",
       "    <tr>\n",
       "      <th>1</th>\n",
       "      <td>0.004</td>\n",
       "      <td>0</td>\n",
       "      <td>0</td>\n",
       "      <td>0</td>\n",
       "      <td>0</td>\n",
       "      <td>0.00</td>\n",
       "      <td>3.550345</td>\n",
       "    </tr>\n",
       "    <tr>\n",
       "      <th>2</th>\n",
       "      <td>0.008</td>\n",
       "      <td>-44</td>\n",
       "      <td>-45</td>\n",
       "      <td>-44</td>\n",
       "      <td>-44</td>\n",
       "      <td>-44.25</td>\n",
       "      <td>3.550345</td>\n",
       "    </tr>\n",
       "    <tr>\n",
       "      <th>3</th>\n",
       "      <td>0.012</td>\n",
       "      <td>-4</td>\n",
       "      <td>-4</td>\n",
       "      <td>-4</td>\n",
       "      <td>-5</td>\n",
       "      <td>-4.25</td>\n",
       "      <td>3.550345</td>\n",
       "    </tr>\n",
       "    <tr>\n",
       "      <th>4</th>\n",
       "      <td>0.016</td>\n",
       "      <td>-7</td>\n",
       "      <td>-7</td>\n",
       "      <td>-6</td>\n",
       "      <td>-7</td>\n",
       "      <td>-6.75</td>\n",
       "      <td>3.550345</td>\n",
       "    </tr>\n",
       "  </tbody>\n",
       "</table>\n",
       "</div>"
      ],
      "text/plain": [
       "    time  eeg0  eeg1  eeg2  eeg3  eeg_mean     speed\n",
       "0  0.000     0     0     0     0      0.00  3.550345\n",
       "1  0.004     0     0     0     0      0.00  3.550345\n",
       "2  0.008   -44   -45   -44   -44    -44.25  3.550345\n",
       "3  0.012    -4    -4    -4    -5     -4.25  3.550345\n",
       "4  0.016    -7    -7    -6    -7     -6.75  3.550345"
      ]
     },
     "execution_count": 48,
     "metadata": {},
     "output_type": "execute_result"
    }
   ],
   "source": [
    "sql_db_pd.lfp_session[0].head() # get the first entry from lfp_session and display only the top"
   ]
  },
  {
   "cell_type": "markdown",
   "metadata": {},
   "source": [
    "This is quite nice: Now we have another dataframe that we retrieved from within the main dataframe (our lfp_tb query), which holds raw LFP data. Let's plot a snippet of that."
   ]
  },
  {
   "cell_type": "code",
   "execution_count": 60,
   "metadata": {
    "collapsed": false
   },
   "outputs": [
    {
     "data": {
      "text/plain": [
       "<matplotlib.text.Text at 0xefb0898>"
      ]
     },
     "execution_count": 60,
     "metadata": {},
     "output_type": "execute_result"
    },
    {
     "data": {
      "image/png": "[encoded data removed]",
      "text/plain": [
       "<matplotlib.figure.Figure at 0xefbe0f0>"
      ]
     },
     "metadata": {},
     "output_type": "display_data"
    }
   ],
   "source": [
    "lfp_sample = sql_db_pd.lfp_session[0] # get a handle on it ... \n",
    "plt.plot(lfp_sample.time[800:1200],lfp_sample.eeg_mean[800:1200], color='k') # plot a tiny snippet of that data\n",
    "plt.xlabel('Time [s]')\n",
    "plt.ylabel('Amplitude [a.u.]')"
   ]
  },
  {
   "cell_type": "markdown",
   "metadata": {},
   "source": [
    "Let's get to some more complicated operations next ... "
   ]
  }
 ],
 "metadata": {
  "anaconda-cloud": {},
  "kernelspec": {
   "display_name": "Python 2",
   "language": "python",
   "name": "python2"
  },
  "language_info": {
   "codemirror_mode": {
    "name": "ipython",
    "version": 2
   },
   "file_extension": ".py",
   "mimetype": "text/x-python",
   "name": "python",
   "nbconvert_exporter": "python",
   "pygments_lexer": "ipython2",
   "version": "2.7.12"
  }
 },
 "nbformat": 4,
 "nbformat_minor": 2
}
