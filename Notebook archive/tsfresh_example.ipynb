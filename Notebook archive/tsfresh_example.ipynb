{
 "cells": [
  {
   "cell_type": "markdown",
   "metadata": {},
   "source": [
    "## TSFRESH"
   ]
  },
  {
   "cell_type": "markdown",
   "metadata": {},
   "source": [
    "### Try with lfp ... "
   ]
  },
  {
   "cell_type": "code",
   "execution_count": 68,
   "metadata": {
    "collapsed": true
   },
   "outputs": [],
   "source": [
    "import pandas as pd\n",
    "from tqdm import tqdm_notebook\n",
    "import sys\n",
    "from matplotlib import pyplot as plt\n",
    "import seaborn as sns\n",
    "%matplotlib inline\n",
    "import numpy as np"
   ]
  },
  {
   "cell_type": "code",
   "execution_count": 69,
   "metadata": {
    "collapsed": true
   },
   "outputs": [],
   "source": [
    "export_path_pickle  = r\"C:\\work\\python\\klusta_analysis\\postgres_notebooks\\export_dataframes\"\n",
    "export_path_pickle = \"/\".join(export_path_pickle.split(\"\\\\\"))"
   ]
  },
  {
   "cell_type": "code",
   "execution_count": 70,
   "metadata": {
    "collapsed": true
   },
   "outputs": [],
   "source": [
    "lfp_cells_deep = pd.read_pickle(export_path_pickle + \"/lfp_cells.pkl\")"
   ]
  },
  {
   "cell_type": "code",
   "execution_count": 71,
   "metadata": {
    "collapsed": true
   },
   "outputs": [],
   "source": [
    "lfp_cells_sup = pd.read_pickle(export_path_pickle + \"/lfp_cells_superficial.pkl\")"
   ]
  },
  {
   "cell_type": "code",
   "execution_count": 72,
   "metadata": {},
   "outputs": [
    {
     "data": {
      "text/html": [
       "<div>\n",
       "<table border=\"1\" class=\"dataframe\">\n",
       "  <thead>\n",
       "    <tr style=\"text-align: right;\">\n",
       "      <th></th>\n",
       "      <th>cluster_no</th>\n",
       "      <th>analysis_ts</th>\n",
       "      <th>tetrode_no</th>\n",
       "      <th>session_name</th>\n",
       "      <th>filename</th>\n",
       "      <th>n_drive_user</th>\n",
       "      <th>animal_id</th>\n",
       "      <th>session_ts</th>\n",
       "      <th>analysis_window</th>\n",
       "      <th>salt_window</th>\n",
       "      <th>...</th>\n",
       "      <th>inhib_lowest_p</th>\n",
       "      <th>inhib_lowest_p_interval</th>\n",
       "      <th>change_point_ms</th>\n",
       "      <th>spiketimes_cluster</th>\n",
       "      <th>stimulus_timepoints</th>\n",
       "      <th>sum_1ms</th>\n",
       "      <th>bin_edges_1ms</th>\n",
       "      <th>binnumber_1ms</th>\n",
       "      <th>lfp_session</th>\n",
       "      <th>theta_freq</th>\n",
       "    </tr>\n",
       "  </thead>\n",
       "  <tbody>\n",
       "    <tr>\n",
       "      <th>0</th>\n",
       "      <td>39</td>\n",
       "      <td>2017-04-13 15:57:25.511000</td>\n",
       "      <td>8</td>\n",
       "      <td>25032017laser3s1</td>\n",
       "      <td>N:/horsto/71461/25032017/KLUSTA/3.kwik</td>\n",
       "      <td>horsto</td>\n",
       "      <td>71461</td>\n",
       "      <td>2017-03-25 16:59:44</td>\n",
       "      <td>200</td>\n",
       "      <td>10</td>\n",
       "      <td>...</td>\n",
       "      <td>NaN</td>\n",
       "      <td>NaN</td>\n",
       "      <td>NaN</td>\n",
       "      <td>[1255.6875, 5817.10416667, 9717.08333333, 1726...</td>\n",
       "      <td>[1803466.5, 1803516.5625, 1803566.5625, 180361...</td>\n",
       "      <td>[0.0, 10.0, 26.0, 0.0, 0.0, 0.0, 0.0, 0.0, 0.0...</td>\n",
       "      <td>[0.0, 48.0, 96.0, 144.0, 192.0, 240.0, 288.0, ...</td>\n",
       "      <td>[1, 1, 1, 1, 1, 1, 1, 1, 1, 1, 1, 1, 1, 1, 1, ...</td>\n",
       "      <td>time  eeg0  eeg1  eeg2  eeg3  eeg_...</td>\n",
       "      <td>9.166667</td>\n",
       "    </tr>\n",
       "    <tr>\n",
       "      <th>0</th>\n",
       "      <td>47</td>\n",
       "      <td>2017-04-13 14:50:36.301000</td>\n",
       "      <td>8</td>\n",
       "      <td>24032017laser3s2</td>\n",
       "      <td>N:/horsto/71461/24032017s2/KLUSTA/3.kwik</td>\n",
       "      <td>horsto</td>\n",
       "      <td>71461</td>\n",
       "      <td>2017-03-24 18:03:23</td>\n",
       "      <td>200</td>\n",
       "      <td>10</td>\n",
       "      <td>...</td>\n",
       "      <td>0.503631</td>\n",
       "      <td>10</td>\n",
       "      <td>NaN</td>\n",
       "      <td>[3847.0, 8717.72916667, 9351.9375, 11384.0, 12...</td>\n",
       "      <td>[1200079.625, 1202178.8125, 1202278.8125, 1202...</td>\n",
       "      <td>[0.0, 7.0, 53.0, 0.0, 0.0, 0.0, 1.0, 0.0, 0.0,...</td>\n",
       "      <td>[0.0, 48.0, 96.0, 144.0, 192.0, 240.0, 288.0, ...</td>\n",
       "      <td>[1, 1, 1, 1, 1, 1, 1, 1, 1, 1, 1, 1, 1, 1, 1, ...</td>\n",
       "      <td>time  eeg0  eeg1  eeg2  eeg3  eeg_...</td>\n",
       "      <td>9.166667</td>\n",
       "    </tr>\n",
       "  </tbody>\n",
       "</table>\n",
       "<p>2 rows × 38 columns</p>\n",
       "</div>"
      ],
      "text/plain": [
       "  cluster_no                 analysis_ts tetrode_no      session_name  \\\n",
       "0         39  2017-04-13 15:57:25.511000          8  25032017laser3s1   \n",
       "0         47  2017-04-13 14:50:36.301000          8  24032017laser3s2   \n",
       "\n",
       "                                   filename n_drive_user animal_id  \\\n",
       "0    N:/horsto/71461/25032017/KLUSTA/3.kwik       horsto     71461   \n",
       "0  N:/horsto/71461/24032017s2/KLUSTA/3.kwik       horsto     71461   \n",
       "\n",
       "            session_ts analysis_window salt_window    ...     inhib_lowest_p  \\\n",
       "0  2017-03-25 16:59:44             200          10    ...                NaN   \n",
       "0  2017-03-24 18:03:23             200          10    ...           0.503631   \n",
       "\n",
       "  inhib_lowest_p_interval change_point_ms  \\\n",
       "0                     NaN             NaN   \n",
       "0                      10             NaN   \n",
       "\n",
       "                                  spiketimes_cluster  \\\n",
       "0  [1255.6875, 5817.10416667, 9717.08333333, 1726...   \n",
       "0  [3847.0, 8717.72916667, 9351.9375, 11384.0, 12...   \n",
       "\n",
       "                                 stimulus_timepoints  \\\n",
       "0  [1803466.5, 1803516.5625, 1803566.5625, 180361...   \n",
       "0  [1200079.625, 1202178.8125, 1202278.8125, 1202...   \n",
       "\n",
       "                                             sum_1ms  \\\n",
       "0  [0.0, 10.0, 26.0, 0.0, 0.0, 0.0, 0.0, 0.0, 0.0...   \n",
       "0  [0.0, 7.0, 53.0, 0.0, 0.0, 0.0, 1.0, 0.0, 0.0,...   \n",
       "\n",
       "                                       bin_edges_1ms  \\\n",
       "0  [0.0, 48.0, 96.0, 144.0, 192.0, 240.0, 288.0, ...   \n",
       "0  [0.0, 48.0, 96.0, 144.0, 192.0, 240.0, 288.0, ...   \n",
       "\n",
       "                                       binnumber_1ms  \\\n",
       "0  [1, 1, 1, 1, 1, 1, 1, 1, 1, 1, 1, 1, 1, 1, 1, ...   \n",
       "0  [1, 1, 1, 1, 1, 1, 1, 1, 1, 1, 1, 1, 1, 1, 1, ...   \n",
       "\n",
       "                                         lfp_session theta_freq  \n",
       "0              time  eeg0  eeg1  eeg2  eeg3  eeg_...   9.166667  \n",
       "0              time  eeg0  eeg1  eeg2  eeg3  eeg_...   9.166667  \n",
       "\n",
       "[2 rows x 38 columns]"
      ]
     },
     "execution_count": 72,
     "metadata": {},
     "output_type": "execute_result"
    }
   ],
   "source": [
    "lfp_cells_deep.head(2)"
   ]
  },
  {
   "cell_type": "code",
   "execution_count": 73,
   "metadata": {},
   "outputs": [
    {
     "data": {
      "text/plain": [
       "(390, 38)"
      ]
     },
     "execution_count": 73,
     "metadata": {},
     "output_type": "execute_result"
    }
   ],
   "source": [
    "len(lfp_cells_deep),len(lfp_cells_sup)"
   ]
  },
  {
   "cell_type": "code",
   "execution_count": 74,
   "metadata": {},
   "outputs": [
    {
     "data": {
      "text/plain": [
       "array(['70114', 'T4743', '70110', 'T4935', '70113'], dtype=object)"
      ]
     },
     "execution_count": 74,
     "metadata": {},
     "output_type": "execute_result"
    }
   ],
   "source": [
    "lfp_cells_sup.animal_id.unique()"
   ]
  },
  {
   "cell_type": "code",
   "execution_count": 75,
   "metadata": {},
   "outputs": [
    {
     "data": {
      "text/plain": [
       "array(['71461', '70644', '71462', '71379', '72254', '59394', '72877',\n",
       "       '71343', '70258', '70645', '72255', '72257', '72878', '71710',\n",
       "       '59392', '59393', '59391', '59381'], dtype=object)"
      ]
     },
     "execution_count": 75,
     "metadata": {},
     "output_type": "execute_result"
    }
   ],
   "source": [
    "lfp_cells_deep.animal_id.unique()"
   ]
  },
  {
   "cell_type": "markdown",
   "metadata": {},
   "source": [
    "### Filter deep layer animals for data from 70644, 71343,70645"
   ]
  },
  {
   "cell_type": "code",
   "execution_count": 76,
   "metadata": {
    "collapsed": true
   },
   "outputs": [],
   "source": [
    "lfp_cells_deep_sel = lfp_cells_deep.copy()\n",
    "lfp_cells_deep_sel = lfp_cells_deep_sel[(lfp_cells_deep.animal_id == '70644') | (lfp_cells_deep.animal_id == '70645') | (lfp_cells_deep.animal_id == '71343')]"
   ]
  },
  {
   "cell_type": "code",
   "execution_count": 77,
   "metadata": {
    "collapsed": true
   },
   "outputs": [],
   "source": [
    "lfp_cells_deep_sel.sort_values(by='session_ts',ascending=False,inplace=True)"
   ]
  },
  {
   "cell_type": "code",
   "execution_count": 81,
   "metadata": {},
   "outputs": [
    {
     "name": "stderr",
     "output_type": "stream",
     "text": [
      "C:\\Users\\horsto\\AppData\\Local\\Continuum\\Miniconda2\\envs\\analysis\\lib\\site-packages\\pandas\\util\\decorators.py:91: SettingWithCopyWarning: \n",
      "A value is trying to be set on a copy of a slice from a DataFrame\n",
      "\n",
      "See the caveats in the documentation: http://pandas.pydata.org/pandas-docs/stable/indexing.html#indexing-view-versus-copy\n",
      "  return func(*args, **kwargs)\n"
     ]
    }
   ],
   "source": [
    "lfp_cells_deep_sel_70645 = lfp_cells_deep_sel[lfp_cells_deep_sel.animal_id =='70645']\n",
    "lfp_cells_deep_sel_70644 = lfp_cells_deep_sel[lfp_cells_deep_sel.animal_id =='70644']\n",
    "lfp_cells_deep_sel_71343 = lfp_cells_deep_sel[lfp_cells_deep_sel.animal_id =='71343']\n",
    "\n",
    "lfp_cells_deep_sel_70644.drop_duplicates(subset='session_ts',inplace=True)\n",
    "lfp_cells_deep_sel_70645.drop_duplicates(subset='session_ts',inplace=True)\n",
    "lfp_cells_deep_sel_71343.drop_duplicates(subset='session_ts',inplace=True)\n",
    "\n",
    "lfp_cells_deep_sel_70645 = lfp_cells_deep_sel_70645.iloc[:5]\n",
    "lfp_cells_deep_sel_70644 = lfp_cells_deep_sel_70644.iloc[:5]\n",
    "lfp_cells_deep_sel_71343 = lfp_cells_deep_sel_71343.iloc[:5]"
   ]
  },
  {
   "cell_type": "code",
   "execution_count": 86,
   "metadata": {
    "collapsed": true
   },
   "outputs": [],
   "source": [
    "lfp_cells_deep_sel_70645.dropna(subset=['lfp_session'],inplace=True)\n",
    "lfp_cells_deep_sel_70644.dropna(subset=['lfp_session'],inplace=True)\n",
    "lfp_cells_deep_sel_71343.dropna(subset=['lfp_session'],inplace=True)"
   ]
  },
  {
   "cell_type": "code",
   "execution_count": 87,
   "metadata": {
    "collapsed": true
   },
   "outputs": [],
   "source": [
    "lfp_cells_deep_filtered = pd.concat([lfp_cells_deep_sel_70645,lfp_cells_deep_sel_70644,lfp_cells_deep_sel_71343])"
   ]
  },
  {
   "cell_type": "code",
   "execution_count": 88,
   "metadata": {},
   "outputs": [
    {
     "data": {
      "text/plain": [
       "0    70645\n",
       "0    70645\n",
       "0    70645\n",
       "0    70645\n",
       "0    70645\n",
       "0    70644\n",
       "0    70644\n",
       "0    70644\n",
       "0    70644\n",
       "0    70644\n",
       "0    71343\n",
       "0    71343\n",
       "0    71343\n",
       "0    71343\n",
       "0    71343\n",
       "Name: animal_id, dtype: object"
      ]
     },
     "execution_count": 88,
     "metadata": {},
     "output_type": "execute_result"
    }
   ],
   "source": [
    "lfp_cells_deep_filtered.animal_id"
   ]
  },
  {
   "cell_type": "code",
   "execution_count": 89,
   "metadata": {
    "collapsed": true
   },
   "outputs": [],
   "source": [
    "all_lfp_filtered = pd.concat([lfp_cells_sup,lfp_cells_deep_filtered])"
   ]
  },
  {
   "cell_type": "code",
   "execution_count": 90,
   "metadata": {},
   "outputs": [
    {
     "data": {
      "text/plain": [
       "array(['70114', 'T4743', '70110', 'T4935', '70113', '70645', '70644',\n",
       "       '71343'], dtype=object)"
      ]
     },
     "execution_count": 90,
     "metadata": {},
     "output_type": "execute_result"
    }
   ],
   "source": [
    "all_lfp_filtered.animal_id.unique()"
   ]
  },
  {
   "cell_type": "markdown",
   "metadata": {},
   "source": [
    "### Loop over all sessions and extract moving and still LFP "
   ]
  },
  {
   "cell_type": "code",
   "execution_count": 233,
   "metadata": {
    "scrolled": false
   },
   "outputs": [
    {
     "data": {
      "application/vnd.jupyter.widget-view+json": {
       "model_id": "63e73763cc5a470183726e72c8c596b7"
      }
     },
     "metadata": {},
     "output_type": "display_data"
    },
    {
     "name": "stdout",
     "output_type": "stream",
     "text": [
      "\n"
     ]
    }
   ],
   "source": [
    "max_snippet = 8000 # this corresponds to 32 seconds at 250 Hz\n",
    "time_axis = np.arange(0,max_snippet)/250.\n",
    "\n",
    "lfp_for_tsfresh = pd.DataFrame()\n",
    "\n",
    "for i in tqdm_notebook(xrange(len(all_lfp_filtered))):\n",
    "    #print(lfp_cells_deep_filtered.iloc[i].animal_id)\n",
    "    id_column = np.array(((all_lfp_filtered.iloc[i].animal_id + \"_\" + str(i) + \" \") * (max_snippet-1)).split(\" \"))\n",
    "    \n",
    "    rnd_speed = np.random.randint(len(all_lfp_filtered.iloc[i].lfp_session.eeg_mean.values[all_lfp_filtered.iloc[i].lfp_session.speed > 5])-max_snippet, size=1)[0]\n",
    "    rnd_still = np.random.randint(len(all_lfp_filtered.iloc[i].lfp_session.eeg_mean.values[all_lfp_filtered.iloc[i].lfp_session.speed < 5])-max_snippet, size=1)[0]\n",
    "    \n",
    "    moving = all_lfp_filtered.iloc[i].lfp_session.eeg_mean.values[all_lfp_filtered.iloc[i].lfp_session.speed > 5][rnd_speed:rnd_speed+max_snippet]\n",
    "    still = all_lfp_filtered.iloc[i].lfp_session.eeg_mean.values[all_lfp_filtered.iloc[i].lfp_session.speed < 5][rnd_still:rnd_still+max_snippet]\n",
    "    # pad values if there are not enough:\n",
    "    moving = np.lib.pad(moving, (0, max_snippet - len(moving)), 'wrap')\n",
    "    still = np.lib.pad(still, (0, max_snippet - len(still)), 'wrap')\n",
    "    #print(len(id_column),len(moving),len(still))\n",
    "    lfp_temp = pd.DataFrame({'time': time_axis, 'moving': moving,'still':still,'id':id_column})\n",
    "    if i == 0:\n",
    "        lfp_for_tsfresh = pd.DataFrame(lfp_temp.iloc[:-1])        \n",
    "    else:\n",
    "        lfp_for_tsfresh = pd.concat([lfp_for_tsfresh,lfp_temp.iloc[:-1]])\n",
    "\n",
    "ints, lookup = pd.factorize(lfp_for_tsfresh.id)\n",
    "lfp_for_tsfresh['id_int'] = ints"
   ]
  },
  {
   "cell_type": "code",
   "execution_count": 234,
   "metadata": {},
   "outputs": [
    {
     "data": {
      "text/plain": [
       "array([ 0,  1,  2,  3,  4,  5,  6,  7,  8,  9, 10, 11, 12, 13, 14, 15, 16,\n",
       "       17, 18, 19, 20, 21, 22, 23, 24, 25, 26, 27, 28, 29, 30, 31, 32, 33,\n",
       "       34, 35, 36, 37, 38, 39, 40, 41, 42, 43, 44, 45, 46, 47, 48, 49, 50,\n",
       "       51, 52], dtype=int64)"
      ]
     },
     "execution_count": 234,
     "metadata": {},
     "output_type": "execute_result"
    }
   ],
   "source": [
    "lfp_for_tsfresh.id_int.unique()"
   ]
  },
  {
   "cell_type": "code",
   "execution_count": 266,
   "metadata": {},
   "outputs": [
    {
     "data": {
      "text/plain": [
       "Index([u'70114_0', u'70114_1', u'70114_2', u'T4743_3', u'70110_4', u'70110_5',\n",
       "       u'T4743_6', u'T4743_7', u'70114_8', u'T4743_9', u'T4743_10',\n",
       "       u'70110_11', u'T4743_12', u'70110_13', u'T4743_14', u'T4743_15',\n",
       "       u'T4743_16', u'T4743_17', u'70110_18', u'T4935_19', u'T4743_20',\n",
       "       u'T4743_21', u'T4743_22', u'70110_23', u'70110_24', u'70110_25',\n",
       "       u'70114_26', u'70110_27', u'T4743_28', u'70110_29', u'70114_30',\n",
       "       u'70113_31', u'T4743_32', u'70110_33', u'T4743_34', u'T4743_35',\n",
       "       u'70114_36', u'70113_37', u'70645_38', u'70645_39', u'70645_40',\n",
       "       u'70645_41', u'70645_42', u'70644_43', u'70644_44', u'70644_45',\n",
       "       u'70644_46', u'70644_47', u'71343_48', u'71343_49', u'71343_50',\n",
       "       u'71343_51', u'71343_52'],\n",
       "      dtype='object')"
      ]
     },
     "execution_count": 266,
     "metadata": {},
     "output_type": "execute_result"
    }
   ],
   "source": [
    "lookup"
   ]
  },
  {
   "cell_type": "code",
   "execution_count": 236,
   "metadata": {},
   "outputs": [],
   "source": [
    "# from that info construct sup and deep binary mask:\n",
    "\n",
    "y = []\n",
    "for no,elem in enumerate(lookup):\n",
    "    if elem[:5] in lfp_cells_sup.animal_id.unique():\n",
    "        y.append('1')\n",
    "    else:\n",
    "        y.append('0')\n",
    "y = pd.Series(y)"
   ]
  },
  {
   "cell_type": "code",
   "execution_count": 267,
   "metadata": {},
   "outputs": [],
   "source": [
    "#save for later\n",
    "y.to_pickle(export_path_pickle + \"/tsfresh_labels.pkl\")\n",
    "pd.Series(lookup).to_pickle(export_path_pickle + \"/tsfresh_lookup.pkl\")"
   ]
  },
  {
   "cell_type": "code",
   "execution_count": 237,
   "metadata": {
    "collapsed": true
   },
   "outputs": [],
   "source": [
    "# drop the id column\n",
    "lfp_for_tsfresh.drop('id',axis=1,inplace=True)"
   ]
  },
  {
   "cell_type": "code",
   "execution_count": 238,
   "metadata": {},
   "outputs": [
    {
     "data": {
      "text/html": [
       "<div>\n",
       "<table border=\"1\" class=\"dataframe\">\n",
       "  <thead>\n",
       "    <tr style=\"text-align: right;\">\n",
       "      <th></th>\n",
       "      <th>moving</th>\n",
       "      <th>still</th>\n",
       "      <th>time</th>\n",
       "      <th>id_int</th>\n",
       "    </tr>\n",
       "  </thead>\n",
       "  <tbody>\n",
       "    <tr>\n",
       "      <th>0</th>\n",
       "      <td>11.00</td>\n",
       "      <td>-1.5</td>\n",
       "      <td>0.000</td>\n",
       "      <td>0</td>\n",
       "    </tr>\n",
       "    <tr>\n",
       "      <th>1</th>\n",
       "      <td>8.00</td>\n",
       "      <td>-4.0</td>\n",
       "      <td>0.004</td>\n",
       "      <td>0</td>\n",
       "    </tr>\n",
       "    <tr>\n",
       "      <th>2</th>\n",
       "      <td>-2.00</td>\n",
       "      <td>-4.0</td>\n",
       "      <td>0.008</td>\n",
       "      <td>0</td>\n",
       "    </tr>\n",
       "    <tr>\n",
       "      <th>3</th>\n",
       "      <td>-6.25</td>\n",
       "      <td>-11.0</td>\n",
       "      <td>0.012</td>\n",
       "      <td>0</td>\n",
       "    </tr>\n",
       "    <tr>\n",
       "      <th>4</th>\n",
       "      <td>-25.25</td>\n",
       "      <td>-23.5</td>\n",
       "      <td>0.016</td>\n",
       "      <td>0</td>\n",
       "    </tr>\n",
       "  </tbody>\n",
       "</table>\n",
       "</div>"
      ],
      "text/plain": [
       "   moving  still   time  id_int\n",
       "0   11.00   -1.5  0.000       0\n",
       "1    8.00   -4.0  0.004       0\n",
       "2   -2.00   -4.0  0.008       0\n",
       "3   -6.25  -11.0  0.012       0\n",
       "4  -25.25  -23.5  0.016       0"
      ]
     },
     "execution_count": 238,
     "metadata": {},
     "output_type": "execute_result"
    }
   ],
   "source": [
    "lfp_for_tsfresh.head()"
   ]
  },
  {
   "cell_type": "code",
   "execution_count": 239,
   "metadata": {},
   "outputs": [
    {
     "name": "stderr",
     "output_type": "stream",
     "text": [
      "Feature Extraction: 100%|████████████████████████████████████████████████████████████| 2/2 [1:03:06<00:00, 2644.62s/it]\n"
     ]
    }
   ],
   "source": [
    "from tsfresh import extract_features\n",
    "extracted_features = extract_features(lfp_for_tsfresh, column_id=\"id_int\", column_sort=\"time\")"
   ]
  },
  {
   "cell_type": "code",
   "execution_count": 240,
   "metadata": {},
   "outputs": [
    {
     "name": "stderr",
     "output_type": "stream",
     "text": [
      "Feature Selection: 100%|█████████████████████████████████████████████████████████████| 444/444 [00:04<00:00, 90.17it/s]\n"
     ]
    }
   ],
   "source": [
    "from tsfresh import select_features\n",
    "from tsfresh.utilities.dataframe_functions import impute\n",
    "\n",
    "impute(extracted_features)\n",
    "features_filtered = select_features(extracted_features, y)"
   ]
  },
  {
   "cell_type": "code",
   "execution_count": 254,
   "metadata": {
    "collapsed": true
   },
   "outputs": [],
   "source": [
    "#save for later\n",
    "extracted_features.to_pickle(export_path_pickle + \"/tsfresh_extracted_feat.pkl\")\n",
    "features_filtered.to_pickle(export_path_pickle + \"/tsfresh_features_filtered.pkl\")"
   ]
  },
  {
   "cell_type": "code",
   "execution_count": 255,
   "metadata": {
    "collapsed": true
   },
   "outputs": [],
   "source": [
    "# load\n",
    "extracted_features = pd.read_pickle(export_path_pickle + \"/tsfresh_extracted_feat.pkl\")\n",
    "features_filtered = pd.read_pickle(export_path_pickle + \"/tsfresh_features_filtered.pkl\")"
   ]
  },
  {
   "cell_type": "code",
   "execution_count": 256,
   "metadata": {
    "collapsed": true
   },
   "outputs": [],
   "source": [
    "from sklearn.manifold import TSNE, LocallyLinearEmbedding,Isomap\n",
    "from sklearn.decomposition import PCA\n",
    "import ipyvolume as p3"
   ]
  },
  {
   "cell_type": "code",
   "execution_count": 257,
   "metadata": {
    "collapsed": true
   },
   "outputs": [],
   "source": [
    "model = TSNE(n_components=3, random_state=0)\n",
    "np.set_printoptions(suppress=True)\n",
    "tsne = model.fit_transform(features_filtered) \n",
    "tsne=  tsne*10000"
   ]
  },
  {
   "cell_type": "code",
   "execution_count": 258,
   "metadata": {},
   "outputs": [],
   "source": [
    "color=np.array([[0, 0, 1] if int(x) == 0 else [1, 0, 0] for x in y.values])"
   ]
  },
  {
   "cell_type": "code",
   "execution_count": 259,
   "metadata": {},
   "outputs": [
    {
     "data": {
      "application/vnd.jupyter.widget-view+json": {
       "model_id": "826618c21a2c412b9930852ffdb4f3ee"
      }
     },
     "metadata": {},
     "output_type": "display_data"
    }
   ],
   "source": [
    "p3.quickscatter(tsne[:,0], tsne[:,1], tsne[:,2], size=4, marker=\"sphere\",color=color)\n"
   ]
  },
  {
   "cell_type": "code",
   "execution_count": 260,
   "metadata": {},
   "outputs": [],
   "source": [
    "model = LocallyLinearEmbedding(n_neighbors=8,n_components=3, random_state=0)\n",
    "np.set_printoptions(suppress=True)\n",
    "lle = model.fit_transform(features_filtered) \n",
    "lle = lle*10"
   ]
  },
  {
   "cell_type": "code",
   "execution_count": 261,
   "metadata": {},
   "outputs": [
    {
     "data": {
      "application/vnd.jupyter.widget-view+json": {
       "model_id": "d054f1da2df14fbfbb9a7ea0b8b52b1b"
      }
     },
     "metadata": {},
     "output_type": "display_data"
    }
   ],
   "source": [
    "p3.quickscatter(lle[:,0], lle[:,1], lle[:,2], size=4, marker=\"sphere\",color=color)"
   ]
  },
  {
   "cell_type": "code",
   "execution_count": 262,
   "metadata": {},
   "outputs": [],
   "source": [
    "# standard PCA\n",
    "model = PCA(n_components=3)\n",
    "np.set_printoptions(suppress=True)\n",
    "pca = model.fit_transform(features_filtered) \n",
    "pca=pca*.0001"
   ]
  },
  {
   "cell_type": "code",
   "execution_count": 263,
   "metadata": {},
   "outputs": [
    {
     "data": {
      "application/vnd.jupyter.widget-view+json": {
       "model_id": "0e102c38044841978934f56c1f720a7e"
      }
     },
     "metadata": {},
     "output_type": "display_data"
    }
   ],
   "source": [
    "p3.quickscatter(pca[:,0], pca[:,1], pca[:,2], size=4, marker=\"sphere\",color=color)"
   ]
  },
  {
   "cell_type": "code",
   "execution_count": 264,
   "metadata": {},
   "outputs": [],
   "source": [
    "model = Isomap(n_neighbors=10,n_components=3)\n",
    "np.set_printoptions(suppress=True)\n",
    "isomap = model.fit_transform(features_filtered) \n",
    "isomap = isomap*.0001"
   ]
  },
  {
   "cell_type": "code",
   "execution_count": 265,
   "metadata": {},
   "outputs": [
    {
     "data": {
      "application/vnd.jupyter.widget-view+json": {
       "model_id": "ea69b1d70281486382634a5f6e27033f"
      }
     },
     "metadata": {},
     "output_type": "display_data"
    }
   ],
   "source": [
    "p3.quickscatter(isomap[:,0], isomap[:,1], isomap[:,2], size=4, marker=\"sphere\",color=color)"
   ]
  },
  {
   "cell_type": "code",
   "execution_count": null,
   "metadata": {
    "collapsed": true
   },
   "outputs": [],
   "source": []
  },
  {
   "cell_type": "code",
   "execution_count": null,
   "metadata": {
    "collapsed": true
   },
   "outputs": [],
   "source": []
  }
 ],
 "metadata": {
  "kernelspec": {
   "display_name": "Python 2",
   "language": "python",
   "name": "python2"
  },
  "language_info": {
   "codemirror_mode": {
    "name": "ipython",
    "version": 2
   },
   "file_extension": ".py",
   "mimetype": "text/x-python",
   "name": "python",
   "nbconvert_exporter": "python",
   "pygments_lexer": "ipython2",
   "version": "2.7.12"
  }
 },
 "nbformat": 4,
 "nbformat_minor": 2
}
