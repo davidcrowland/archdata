{
 "cells": [
  {
   "cell_type": "markdown",
   "metadata": {},
   "source": [
    "## compare stimulus parameters"
   ]
  },
  {
   "cell_type": "code",
   "execution_count": 1,
   "metadata": {
    "collapsed": true
   },
   "outputs": [],
   "source": [
    "# the following two lines indicate that external functions are auto-reloaded as soon as they change. \n",
    "%load_ext autoreload\n",
    "%autoreload 2\n",
    "# Print statements \n",
    "from __future__ import print_function # Python 2.x"
   ]
  },
  {
   "cell_type": "code",
   "execution_count": 2,
   "metadata": {},
   "outputs": [
    {
     "name": "stdout",
     "output_type": "stream",
     "text": [
      "Loaded analysis helpers: General\n",
      "Loaded postgres_analysis_helpers -> general\n",
      "Loaded postgres_analysis_helpers -> get_data\n"
     ]
    }
   ],
   "source": [
    "# General stuff:\n",
    "import sys\n",
    "import argparse\n",
    "import os\n",
    "import json\n",
    "import numpy as np\n",
    "import math\n",
    "import psycopg2\n",
    "import cPickle\n",
    "import numpy as np\n",
    "import pandas as pd\n",
    "from datetime import date\n",
    "from tqdm import tqdm_notebook\n",
    "\n",
    "# Plotting:\n",
    "from matplotlib import pyplot as plt\n",
    "import seaborn as sns\n",
    "import matplotlib.cm as cm\n",
    "import matplotlib as mpl\n",
    "%matplotlib inline\n",
    "\n",
    "# External functions from subfolder /database_helpers. \n",
    "# as soon as you change something in there and press save, it will auto reload on next execution.\n",
    "from database_helpers.psql_start import *\n",
    "from database_helpers.create_tables import *\n",
    "from database_helpers.write2tables import *\n",
    "from postgres_analysis_helpers.general import *\n",
    "from postgres_analysis_helpers.get_data import *\n",
    "\n",
    "# register pickle type to retrieve binary data from database\n",
    "psycopg2.extensions.register_type(psycopg2.extensions.new_type(psycopg2.BINARY.values, 'BINARY-PICKLE', cast_pickle))"
   ]
  },
  {
   "cell_type": "code",
   "execution_count": 3,
   "metadata": {},
   "outputs": [
    {
     "name": "stdout",
     "output_type": "stream",
     "text": [
      "Connecting to the PostgreSQL database...\n",
      "Yippiyeah! Database connection is established!\n"
     ]
    }
   ],
   "source": [
    "db_status = test_connect()\n",
    "if db_status == False:\n",
    "    print('Grrr... no database connection could be established.')\n",
    "else:\n",
    "    print('Yippiyeah! Database connection is established!')"
   ]
  },
  {
   "cell_type": "markdown",
   "metadata": {},
   "source": [
    "### Make an empty dataframe and call the retrieval function"
   ]
  },
  {
   "cell_type": "code",
   "execution_count": 27,
   "metadata": {
    "collapsed": true
   },
   "outputs": [],
   "source": [
    "base_dataframe = pd.DataFrame() # create empty dataframe or feed in a base dataframe from before! "
   ]
  },
  {
   "cell_type": "code",
   "execution_count": 28,
   "metadata": {
    "scrolled": false
   },
   "outputs": [
    {
     "name": "stdout",
     "output_type": "stream",
     "text": [
      "61 animals across 8 experimenters found!\n",
      "Total # of 5808 sessions (unique clusters: 11720)\n"
     ]
    }
   ],
   "source": [
    "psql = psql_neuroballs(base_dataframe)"
   ]
  },
  {
   "cell_type": "code",
   "execution_count": 29,
   "metadata": {
    "scrolled": true
   },
   "outputs": [
    {
     "data": {
      "application/vnd.jupyter.widget-view+json": {
       "model_id": "eb182e70a9fe469fb36331ff47466d3b"
      }
     },
     "metadata": {},
     "output_type": "display_data"
    },
    {
     "name": "stdout",
     "output_type": "stream",
     "text": [
      "Retrieving data ... (Empty dataframe) ...\n",
      "1045 entries retrieved.\n"
     ]
    }
   ],
   "source": [
    "psql.retrieve_data()"
   ]
  },
  {
   "cell_type": "code",
   "execution_count": 30,
   "metadata": {
    "collapsed": true
   },
   "outputs": [],
   "source": [
    "dave = psql.data()"
   ]
  },
  {
   "cell_type": "code",
   "execution_count": 16,
   "metadata": {
    "collapsed": true
   },
   "outputs": [],
   "source": [
    "ragn = psql.data()"
   ]
  },
  {
   "cell_type": "code",
   "execution_count": 22,
   "metadata": {},
   "outputs": [
    {
     "data": {
      "text/html": [
       "<div>\n",
       "<table border=\"1\" class=\"dataframe\">\n",
       "  <thead>\n",
       "    <tr style=\"text-align: right;\">\n",
       "      <th></th>\n",
       "      <th>tetrode_no</th>\n",
       "      <th>animal_id</th>\n",
       "      <th>n_drive_user</th>\n",
       "      <th>session_ts</th>\n",
       "      <th>cluster_no</th>\n",
       "      <th>session_name</th>\n",
       "      <th>stim_freq</th>\n",
       "      <th>stim_length</th>\n",
       "      <th>ibi</th>\n",
       "    </tr>\n",
       "  </thead>\n",
       "  <tbody>\n",
       "    <tr>\n",
       "      <th>0</th>\n",
       "      <td>6</td>\n",
       "      <td>70644</td>\n",
       "      <td>horsto</td>\n",
       "      <td>2017-03-17 09:14:56</td>\n",
       "      <td>34</td>\n",
       "      <td>17032017laser4s1</td>\n",
       "      <td>10.101010</td>\n",
       "      <td>1.000000</td>\n",
       "      <td>2098.0</td>\n",
       "    </tr>\n",
       "    <tr>\n",
       "      <th>1</th>\n",
       "      <td>5</td>\n",
       "      <td>71462</td>\n",
       "      <td>horsto</td>\n",
       "      <td>2017-04-10 10:06:32</td>\n",
       "      <td>5</td>\n",
       "      <td>10042017laser4(40mW)s1</td>\n",
       "      <td>20.408163</td>\n",
       "      <td>2.000000</td>\n",
       "      <td>2047.0</td>\n",
       "    </tr>\n",
       "    <tr>\n",
       "      <th>2</th>\n",
       "      <td>7</td>\n",
       "      <td>71461</td>\n",
       "      <td>horsto</td>\n",
       "      <td>2017-04-10 19:33:45</td>\n",
       "      <td>17</td>\n",
       "      <td>10042017laser3(50mW)s2</td>\n",
       "      <td>20.094454</td>\n",
       "      <td>0.995745</td>\n",
       "      <td>2048.0</td>\n",
       "    </tr>\n",
       "    <tr>\n",
       "      <th>3</th>\n",
       "      <td>5</td>\n",
       "      <td>71710</td>\n",
       "      <td>horsto</td>\n",
       "      <td>2017-04-11 12:14:46</td>\n",
       "      <td>35</td>\n",
       "      <td>11042017laser2(40mW)s1</td>\n",
       "      <td>10.101010</td>\n",
       "      <td>2.000000</td>\n",
       "      <td>2097.0</td>\n",
       "    </tr>\n",
       "    <tr>\n",
       "      <th>4</th>\n",
       "      <td>7</td>\n",
       "      <td>71461</td>\n",
       "      <td>horsto</td>\n",
       "      <td>2017-04-12 16:10:09</td>\n",
       "      <td>24</td>\n",
       "      <td>12042017laser1(40mW)s1</td>\n",
       "      <td>10.101010</td>\n",
       "      <td>1.000000</td>\n",
       "      <td>2098.0</td>\n",
       "    </tr>\n",
       "  </tbody>\n",
       "</table>\n",
       "</div>"
      ],
      "text/plain": [
       "   tetrode_no animal_id n_drive_user          session_ts  cluster_no  \\\n",
       "0           6     70644       horsto 2017-03-17 09:14:56          34   \n",
       "1           5     71462       horsto 2017-04-10 10:06:32           5   \n",
       "2           7     71461       horsto 2017-04-10 19:33:45          17   \n",
       "3           5     71710       horsto 2017-04-11 12:14:46          35   \n",
       "4           7     71461       horsto 2017-04-12 16:10:09          24   \n",
       "\n",
       "             session_name  stim_freq  stim_length     ibi  \n",
       "0        17032017laser4s1  10.101010     1.000000  2098.0  \n",
       "1  10042017laser4(40mW)s1  20.408163     2.000000  2047.0  \n",
       "2  10042017laser3(50mW)s2  20.094454     0.995745  2048.0  \n",
       "3  11042017laser2(40mW)s1  10.101010     2.000000  2097.0  \n",
       "4  12042017laser1(40mW)s1  10.101010     1.000000  2098.0  "
      ]
     },
     "execution_count": 22,
     "metadata": {},
     "output_type": "execute_result"
    }
   ],
   "source": [
    "horst.head()"
   ]
  },
  {
   "cell_type": "code",
   "execution_count": 23,
   "metadata": {},
   "outputs": [
    {
     "data": {
      "text/html": [
       "<div>\n",
       "<table border=\"1\" class=\"dataframe\">\n",
       "  <thead>\n",
       "    <tr style=\"text-align: right;\">\n",
       "      <th></th>\n",
       "      <th>tetrode_no</th>\n",
       "      <th>animal_id</th>\n",
       "      <th>n_drive_user</th>\n",
       "      <th>session_ts</th>\n",
       "      <th>cluster_no</th>\n",
       "      <th>session_name</th>\n",
       "      <th>stim_freq</th>\n",
       "      <th>stim_length</th>\n",
       "      <th>ibi</th>\n",
       "    </tr>\n",
       "  </thead>\n",
       "  <tbody>\n",
       "    <tr>\n",
       "      <th>0</th>\n",
       "      <td>1</td>\n",
       "      <td>70375</td>\n",
       "      <td>ragnihiij</td>\n",
       "      <td>2017-03-15 09:32:48</td>\n",
       "      <td>6</td>\n",
       "      <td>Mouse70375_20170315_01_5Hz20mW</td>\n",
       "      <td>5.0</td>\n",
       "      <td>1.0</td>\n",
       "      <td>2200.0</td>\n",
       "    </tr>\n",
       "    <tr>\n",
       "      <th>1</th>\n",
       "      <td>1</td>\n",
       "      <td>70375</td>\n",
       "      <td>ragnihiij</td>\n",
       "      <td>2017-03-15 09:32:48</td>\n",
       "      <td>6</td>\n",
       "      <td>Mouse70375_20170315_01_10Hz20mW</td>\n",
       "      <td>10.0</td>\n",
       "      <td>1.0</td>\n",
       "      <td>2100.0</td>\n",
       "    </tr>\n",
       "    <tr>\n",
       "      <th>2</th>\n",
       "      <td>2</td>\n",
       "      <td>70375</td>\n",
       "      <td>ragnihiij</td>\n",
       "      <td>2017-03-15 09:32:48</td>\n",
       "      <td>19</td>\n",
       "      <td>Mouse70375_20170315_01_5Hz20mW</td>\n",
       "      <td>5.0</td>\n",
       "      <td>1.0</td>\n",
       "      <td>2200.0</td>\n",
       "    </tr>\n",
       "    <tr>\n",
       "      <th>3</th>\n",
       "      <td>2</td>\n",
       "      <td>70375</td>\n",
       "      <td>ragnihiij</td>\n",
       "      <td>2017-03-15 09:32:48</td>\n",
       "      <td>19</td>\n",
       "      <td>Mouse70375_20170315_01_10Hz20mW</td>\n",
       "      <td>10.0</td>\n",
       "      <td>1.0</td>\n",
       "      <td>2100.0</td>\n",
       "    </tr>\n",
       "    <tr>\n",
       "      <th>4</th>\n",
       "      <td>2</td>\n",
       "      <td>70375</td>\n",
       "      <td>ragnihiij</td>\n",
       "      <td>2017-03-15 09:32:48</td>\n",
       "      <td>5</td>\n",
       "      <td>Mouse70375_20170315_01_5Hz20mW</td>\n",
       "      <td>5.0</td>\n",
       "      <td>1.0</td>\n",
       "      <td>2200.0</td>\n",
       "    </tr>\n",
       "  </tbody>\n",
       "</table>\n",
       "</div>"
      ],
      "text/plain": [
       "   tetrode_no animal_id n_drive_user          session_ts  cluster_no  \\\n",
       "0           1     70375    ragnihiij 2017-03-15 09:32:48           6   \n",
       "1           1     70375    ragnihiij 2017-03-15 09:32:48           6   \n",
       "2           2     70375    ragnihiij 2017-03-15 09:32:48          19   \n",
       "3           2     70375    ragnihiij 2017-03-15 09:32:48          19   \n",
       "4           2     70375    ragnihiij 2017-03-15 09:32:48           5   \n",
       "\n",
       "                      session_name  stim_freq  stim_length     ibi  \n",
       "0   Mouse70375_20170315_01_5Hz20mW        5.0          1.0  2200.0  \n",
       "1  Mouse70375_20170315_01_10Hz20mW       10.0          1.0  2100.0  \n",
       "2   Mouse70375_20170315_01_5Hz20mW        5.0          1.0  2200.0  \n",
       "3  Mouse70375_20170315_01_10Hz20mW       10.0          1.0  2100.0  \n",
       "4   Mouse70375_20170315_01_5Hz20mW        5.0          1.0  2200.0  "
      ]
     },
     "execution_count": 23,
     "metadata": {},
     "output_type": "execute_result"
    }
   ],
   "source": [
    "ragn.head()"
   ]
  },
  {
   "cell_type": "code",
   "execution_count": 31,
   "metadata": {},
   "outputs": [
    {
     "data": {
      "text/html": [
       "<div>\n",
       "<table border=\"1\" class=\"dataframe\">\n",
       "  <thead>\n",
       "    <tr style=\"text-align: right;\">\n",
       "      <th></th>\n",
       "      <th>tetrode_no</th>\n",
       "      <th>animal_id</th>\n",
       "      <th>n_drive_user</th>\n",
       "      <th>session_ts</th>\n",
       "      <th>cluster_no</th>\n",
       "      <th>session_name</th>\n",
       "      <th>stim_freq</th>\n",
       "      <th>stim_length</th>\n",
       "      <th>ibi</th>\n",
       "    </tr>\n",
       "  </thead>\n",
       "  <tbody>\n",
       "    <tr>\n",
       "      <th>0</th>\n",
       "      <td>8</td>\n",
       "      <td>59394</td>\n",
       "      <td>davidcr</td>\n",
       "      <td>2017-04-25 15:15:01</td>\n",
       "      <td>43</td>\n",
       "      <td>25042017laserSess1(60mw)</td>\n",
       "      <td>10.00000</td>\n",
       "      <td>1.0</td>\n",
       "      <td>2097.000000</td>\n",
       "    </tr>\n",
       "    <tr>\n",
       "      <th>1</th>\n",
       "      <td>5</td>\n",
       "      <td>59392</td>\n",
       "      <td>davidcr</td>\n",
       "      <td>2017-04-27 13:36:23</td>\n",
       "      <td>5</td>\n",
       "      <td>27042017laserSess2(80mw)</td>\n",
       "      <td>10.00000</td>\n",
       "      <td>1.0</td>\n",
       "      <td>2097.090909</td>\n",
       "    </tr>\n",
       "    <tr>\n",
       "      <th>2</th>\n",
       "      <td>6</td>\n",
       "      <td>72257</td>\n",
       "      <td>davidcr</td>\n",
       "      <td>2017-04-15 14:55:58</td>\n",
       "      <td>6</td>\n",
       "      <td>15042017laserSess2(80mw)</td>\n",
       "      <td>9.90099</td>\n",
       "      <td>2.0</td>\n",
       "      <td>2097.000000</td>\n",
       "    </tr>\n",
       "    <tr>\n",
       "      <th>3</th>\n",
       "      <td>6</td>\n",
       "      <td>72257</td>\n",
       "      <td>davidcr</td>\n",
       "      <td>2017-04-15 14:55:58</td>\n",
       "      <td>6</td>\n",
       "      <td>15042017laserSess2(40mw)</td>\n",
       "      <td>9.90099</td>\n",
       "      <td>2.0</td>\n",
       "      <td>2097.000000</td>\n",
       "    </tr>\n",
       "    <tr>\n",
       "      <th>4</th>\n",
       "      <td>6</td>\n",
       "      <td>72257</td>\n",
       "      <td>davidcr</td>\n",
       "      <td>2017-04-15 14:55:58</td>\n",
       "      <td>6</td>\n",
       "      <td>15042017laserSess1(80mw)</td>\n",
       "      <td>10.00000</td>\n",
       "      <td>1.0</td>\n",
       "      <td>2097.000000</td>\n",
       "    </tr>\n",
       "  </tbody>\n",
       "</table>\n",
       "</div>"
      ],
      "text/plain": [
       "   tetrode_no animal_id n_drive_user          session_ts  cluster_no  \\\n",
       "0           8     59394      davidcr 2017-04-25 15:15:01          43   \n",
       "1           5     59392      davidcr 2017-04-27 13:36:23           5   \n",
       "2           6     72257      davidcr 2017-04-15 14:55:58           6   \n",
       "3           6     72257      davidcr 2017-04-15 14:55:58           6   \n",
       "4           6     72257      davidcr 2017-04-15 14:55:58           6   \n",
       "\n",
       "               session_name  stim_freq  stim_length          ibi  \n",
       "0  25042017laserSess1(60mw)   10.00000          1.0  2097.000000  \n",
       "1  27042017laserSess2(80mw)   10.00000          1.0  2097.090909  \n",
       "2  15042017laserSess2(80mw)    9.90099          2.0  2097.000000  \n",
       "3  15042017laserSess2(40mw)    9.90099          2.0  2097.000000  \n",
       "4  15042017laserSess1(80mw)   10.00000          1.0  2097.000000  "
      ]
     },
     "execution_count": 31,
     "metadata": {},
     "output_type": "execute_result"
    }
   ],
   "source": [
    "dave.head()"
   ]
  },
  {
   "cell_type": "code",
   "execution_count": 32,
   "metadata": {},
   "outputs": [
    {
     "data": {
      "text/plain": [
       "array([  5.        ,  10.        ,   5.        , ...,  10.00333444,\n",
       "        10.        ,  10.        ])"
      ]
     },
     "execution_count": 32,
     "metadata": {},
     "output_type": "execute_result"
    }
   ],
   "source": [
    "ragn.stim_freq.values"
   ]
  },
  {
   "cell_type": "code",
   "execution_count": 40,
   "metadata": {},
   "outputs": [],
   "source": [
    "ten_ragn = ragn.stim_freq.values[(ragn.stim_freq.values > 8.0) &(ragn.stim_freq.values < 12.0)]"
   ]
  },
  {
   "cell_type": "code",
   "execution_count": 41,
   "metadata": {},
   "outputs": [
    {
     "name": "stdout",
     "output_type": "stream",
     "text": [
      "0.00129363571299\n"
     ]
    }
   ],
   "source": [
    "print(np.std(ten_ragn))"
   ]
  },
  {
   "cell_type": "code",
   "execution_count": 42,
   "metadata": {
    "collapsed": true
   },
   "outputs": [],
   "source": [
    "ten_horst = horst.stim_freq.values[(horst.stim_freq.values > 8.0) &(horst.stim_freq.values < 12.0)]"
   ]
  },
  {
   "cell_type": "code",
   "execution_count": 43,
   "metadata": {},
   "outputs": [
    {
     "name": "stdout",
     "output_type": "stream",
     "text": [
      "0.0232935750124\n"
     ]
    }
   ],
   "source": [
    "print(np.std(ten_horst))"
   ]
  },
  {
   "cell_type": "code",
   "execution_count": 44,
   "metadata": {
    "collapsed": true
   },
   "outputs": [],
   "source": [
    "ten_dave = dave.stim_freq.values[(dave.stim_freq.values > 8.0) &(dave.stim_freq.values < 12.0)]"
   ]
  },
  {
   "cell_type": "code",
   "execution_count": 45,
   "metadata": {},
   "outputs": [
    {
     "name": "stdout",
     "output_type": "stream",
     "text": [
      "0.0838253325455\n"
     ]
    }
   ],
   "source": [
    "print(np.std(ten_dave))"
   ]
  },
  {
   "cell_type": "code",
   "execution_count": 58,
   "metadata": {},
   "outputs": [
    {
     "name": "stdout",
     "output_type": "stream",
     "text": [
      "Freq (10 Hz): 0.0047123645 | Stim Length (1ms) 0.039855072464 | IBI (2000) 0.0\n",
      "Freq (10 Hz): 0.101010101 | Stim Length (1ms) 0.076086956522 | IBI (2000) 93.78947368\n",
      "Freq (10 Hz): 0.20460605789 | Stim Length (1ms) 0.028985507246 | IBI (2000) 130.58139535\n"
     ]
    }
   ],
   "source": [
    "#for feat in ['stim_freq','stim_length','ibi']:\n",
    "for nuser in [ragn,horst,dave]:\n",
    "        stim_freq_10 = nuser['stim_freq'].values[(nuser['stim_freq'].values > 8.0) & (nuser['stim_freq'].values < 12.0)]\n",
    "        stim_freq_10_ptp = np.ptp(stim_freq_10)\n",
    "        \n",
    "        stim_len_1 = nuser['stim_length'].values[(nuser['stim_length'].values > .8) & (nuser['stim_length'].values < 1.2)]\n",
    "        stim_len_1_ptp = np.ptp(stim_len_1)\n",
    "\n",
    "        #stim_len_2 = nuser['stim_length'].values[(nuser['stim_length'].values > 1.8) & (nuser['stim_length'].values < 2.2)]\n",
    "        #stim_len_2_ptp = np.ptp(stim_len_2)\n",
    "\n",
    "        ibi = nuser['ibi'].values[(nuser['ibi'].values > 1800) & (nuser['ibi'].values < 2200)]\n",
    "        ibi_ptp = np.ptp(ibi)\n",
    "        \n",
    "        print('Freq (10 Hz): {} | Stim Length (1ms) {} | IBI (2000) {}'.format(stim_freq_10_ptp,stim_len_1_ptp,ibi_ptp))"
   ]
  },
  {
   "cell_type": "code",
   "execution_count": null,
   "metadata": {
    "collapsed": true
   },
   "outputs": [],
   "source": []
  }
 ],
 "metadata": {
  "kernelspec": {
   "display_name": "Python 2",
   "language": "python",
   "name": "python2"
  },
  "language_info": {
   "codemirror_mode": {
    "name": "ipython",
    "version": 2
   },
   "file_extension": ".py",
   "mimetype": "text/x-python",
   "name": "python",
   "nbconvert_exporter": "python",
   "pygments_lexer": "ipython2",
   "version": "2.7.12"
  },
  "widgets": {
   "application/vnd.jupyter.widget-state+json": {
    "state": {
     "142739941ccb492184dc4a29daf88f05": {
      "model_module": "jupyter-js-widgets",
      "model_module_version": "~2.0.30",
      "model_name": "LayoutModel",
      "state": {
       "_model_module_version": "~2.0.30",
       "_view_module_version": "~2.0.30"
      }
     },
     "18f095f85119473183435ea6ab677fe3": {
      "model_module": "jupyter-js-widgets",
      "model_module_version": "~2.0.30",
      "model_name": "OutputModel",
      "state": {
       "_dom_classes": [],
       "_model_module": "jupyter-js-widgets",
       "_model_module_version": "~2.0.30",
       "_view_module": "jupyter-js-widgets",
       "_view_module_version": "~2.0.30",
       "layout": "IPY_MODEL_142739941ccb492184dc4a29daf88f05",
       "msg_throttle": 1
      }
     },
     "1ec8d4195e3f41a780ff1340e9dcc5a1": {
      "model_module": "jupyter-js-widgets",
      "model_module_version": "~2.0.30",
      "model_name": "LayoutModel",
      "state": {
       "_model_module_version": "~2.0.30",
       "_view_module_version": "~2.0.30"
      }
     },
     "6c826c931af7406e923d24fc67d9462f": {
      "model_module": "jupyter-js-widgets",
      "model_module_version": "~2.0.30",
      "model_name": "SliderStyleModel",
      "state": {
       "_model_module_version": "~2.0.30",
       "_view_module_version": "~2.0.30"
      }
     },
     "af3d44e19ad846cbb076e9983825fc21": {
      "model_module": "jupyter-js-widgets",
      "model_module_version": "~2.0.30",
      "model_name": "VBoxModel",
      "state": {
       "_dom_classes": [
        "widget-interact"
       ],
       "_model_module_version": "~2.0.30",
       "_view_module_version": "~2.0.30",
       "children": [
        "IPY_MODEL_e10f82066fb945d6b8f2f38689e207e7",
        "IPY_MODEL_18f095f85119473183435ea6ab677fe3"
       ],
       "layout": "IPY_MODEL_ce6232d4b70d4a1e83b5f9c6fdb11409"
      }
     },
     "ce6232d4b70d4a1e83b5f9c6fdb11409": {
      "model_module": "jupyter-js-widgets",
      "model_module_version": "~2.0.30",
      "model_name": "LayoutModel",
      "state": {
       "_model_module_version": "~2.0.30",
       "_view_module_version": "~2.0.30"
      }
     },
     "e10f82066fb945d6b8f2f38689e207e7": {
      "model_module": "jupyter-js-widgets",
      "model_module_version": "~2.0.30",
      "model_name": "IntSliderModel",
      "state": {
       "_model_module_version": "~2.0.30",
       "_view_module_version": "~2.0.30",
       "description": "i",
       "layout": "IPY_MODEL_1ec8d4195e3f41a780ff1340e9dcc5a1",
       "max": 1796,
       "style": "IPY_MODEL_6c826c931af7406e923d24fc67d9462f",
       "value": 912
      }
     }
    },
    "version_major": 1,
    "version_minor": 0
   }
  }
 },
 "nbformat": 4,
 "nbformat_minor": 1
}
