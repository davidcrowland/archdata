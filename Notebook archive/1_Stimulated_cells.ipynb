{
 "cells": [
  {
   "cell_type": "markdown",
   "metadata": {},
   "source": [
    "# Extract and work with stimulated cells"
   ]
  },
  {
   "cell_type": "code",
   "execution_count": 1,
   "metadata": {
    "code_folding": [
     0
    ]
   },
   "outputs": [
    {
     "name": "stdout",
     "output_type": "stream",
     "text": [
      "Loaded analysis helpers: General\n",
      "Loaded postgres_analysis_helpers -> general\n",
      "Loaded postgres_analysis_helpers -> get_data\n",
      "Loaded postgres_analysis_helpers -> circstat_functions\n"
     ]
    }
   ],
   "source": [
    "# Imports:\n",
    "%load_ext autoreload\n",
    "%autoreload 2\n",
    "\n",
    "import json\n",
    "import numpy as np\n",
    "import math\n",
    "import psycopg2\n",
    "import numpy as np\n",
    "import pandas as pd\n",
    "from datetime import date\n",
    "from tqdm import tqdm_notebook\n",
    "\n",
    "# Plotting:\n",
    "from matplotlib import pyplot as plt\n",
    "import seaborn as sns\n",
    "import matplotlib.cm as cm\n",
    "import matplotlib as mpl\n",
    "%matplotlib inline\n",
    "%config InlineBackend.figure_format = 'retina'\n",
    "\n",
    "sns.set()\n",
    "\n",
    "# External functions from subfolder /database_helpers. \n",
    "# as soon as you change something in there and press save, it will auto reload on next execution.\n",
    "from database_helpers.psql_start import *\n",
    "from database_helpers.create_tables import *\n",
    "from database_helpers.write2tables import *\n",
    "from postgres_analysis_helpers.general import *\n",
    "from postgres_analysis_helpers.get_data import *\n",
    "from postgres_analysis_helpers.circstat_functions import *\n",
    "# register pickle type to retrieve binary data from database\n",
    "psycopg2.extensions.register_type(psycopg2.extensions.new_type(psycopg2.BINARY.values, 'BINARY-PICKLE', cast_pickle))"
   ]
  },
  {
   "cell_type": "code",
   "execution_count": 2,
   "metadata": {
    "code_folding": [
     0
    ]
   },
   "outputs": [
    {
     "name": "stdout",
     "output_type": "stream",
     "text": [
      "Connecting to the PostgreSQL database...\n",
      "Woot! Database connection is established!\n"
     ]
    }
   ],
   "source": [
    "# Database connection check\n",
    "db_status = test_connect()\n",
    "if db_status == False:\n",
    "    print('Grrr... no database connection could be established.')\n",
    "else:\n",
    "    print('Woot! Database connection is established!')"
   ]
  },
  {
   "cell_type": "markdown",
   "metadata": {},
   "source": [
    "### Connect to the database "
   ]
  },
  {
   "cell_type": "code",
   "execution_count": 3,
   "metadata": {},
   "outputs": [
    {
     "name": "stdout",
     "output_type": "stream",
     "text": [
      "78 animals across 5 experimenters found.\n",
      "Total # of sessions: 8632 (unique clusters: 15361)\n"
     ]
    }
   ],
   "source": [
    "stimulus_stats = pd.DataFrame() # create empty dataframe or feed in a base dataframe from before! \n",
    "psql = psql_neuroballs(stimulus_stats) # initialize retrieval"
   ]
  },
  {
   "cell_type": "markdown",
   "metadata": {},
   "source": [
    "**First retrieve all stimulus stats**. That means that only cells for which stimulus sessions were actually run are included in this retrieval step. No baseline sessions are present - only the laser sessions.\n",
    "This is because the `stimulus_tb` table only contains laser stimulus session information - nothing else! "
   ]
  },
  {
   "cell_type": "code",
   "execution_count": 4,
   "metadata": {
    "scrolled": false
   },
   "outputs": [
    {
     "name": "stdout",
     "output_type": "stream",
     "text": [
      "8772 entries retrieved.\n"
     ]
    }
   ],
   "source": [
    "dict_ = {'stimulus_tb': ''}\n",
    "animals_ = ['74470','74471','74933','74935','74472','74473','74956','73358']\n",
    "filter_ = \"AND session_name NOT LIKE '%obj%' AND session_name NOT LIKE '%stab%' AND session_name NOT LIKE '%room%'\"\n",
    "stimulus_stats = psql.retrieve_data(dict_,animals_,filter_)"
   ]
  },
  {
   "cell_type": "markdown",
   "metadata": {},
   "source": [
    "### Set parameters"
   ]
  },
  {
   "cell_type": "code",
   "execution_count": null,
   "metadata": {
    "collapsed": true
   },
   "outputs": [],
   "source": [
    "# Set parameters:\n",
    "# excitation:\n",
    "salt_i_thresh = 0.09\n",
    "salt_p_thresh = 0.05\n",
    "min_number_sessions = 2 # min number of session for which criteria above have to be fullfilled\n",
    "pearson_r_thresh = 0.99 # waveform similarity cutoff\n",
    "\n",
    "# ISI contamination (%)\n",
    "isi_contam_thresh = 1"
   ]
  },
  {
   "cell_type": "markdown",
   "metadata": {},
   "source": [
    "\n",
    "### Filter for stimulated cells "
   ]
  },
  {
   "cell_type": "markdown",
   "metadata": {},
   "source": [
    "The way to do it is as follows: \n",
    "- Filter the stimulus stats for **SALT p** and **SALT i** according to the user defined thresholds (see parameters above)\n",
    "- Sort dataframe by **SALT i**\n",
    "- Count sessions and filter for **session count** (number of sessions that meet the above criteria) - this gets rid of all duplicate sessions\n",
    "- Get waveforms (on the same dataframe - meaning the waveforms of the laser sessions with highest SALT i) \n",
    "- Drop **NaNs in waveforms** column. This is legit because ultra low responsive / firing cells that cross the treshold by chance would have to be filtered out anyway. If a NaN appears in this column, the analysis did not run over this cell in this session because there were less than 50 spikes recorded. \n",
    "- Then drop the \"session_name\" column, to get rid of the laser session label and then run over the database with filter for \"laser\" in session_name to only retrieve baseline sessions (can be expanded with for example \"object\" to exclude other open field sessions as well). In that step retrieve the baseline waveforms and ISI contamination (%).\n",
    "- Filter for **ISI contamination**\n",
    "- Filter for **Waveform correlation** (median correlation of all waveform channel pairs > threshold)"
   ]
  },
  {
   "cell_type": "code",
   "execution_count": null,
   "metadata": {
    "collapsed": true
   },
   "outputs": [],
   "source": []
  },
  {
   "cell_type": "code",
   "execution_count": null,
   "metadata": {
    "collapsed": true
   },
   "outputs": [],
   "source": [
    "# Filter for SALT p and SALT i \n",
    "excited_cells = stimulus_stats[(stimulus_stats.salt_i >= salt_i_thresh) & (stimulus_stats.salt_p < salt_p_thresh)].copy()\n",
    "excited_cells.sort_values(by='salt_i',ascending=False,inplace=True)\n",
    "\n",
    "excited_cells_rest = stimulus_stats[(stimulus_stats.salt_i < salt_i_thresh) & (stimulus_stats.salt_p >= salt_p_thresh)].copy()"
   ]
  },
  {
   "cell_type": "code",
   "execution_count": null,
   "metadata": {},
   "outputs": [],
   "source": [
    "excited_cells.head(3)"
   ]
  },
  {
   "cell_type": "markdown",
   "metadata": {},
   "source": [
    "### Count sessions and filter for session number"
   ]
  },
  {
   "cell_type": "code",
   "execution_count": null,
   "metadata": {
    "collapsed": true
   },
   "outputs": [],
   "source": [
    "# Group by and count - and also drop duplicates with sort\n",
    "drop_subgroup = ['animal_id','n_drive_user','session_ts','cluster_no','tetrode_no']\n",
    "no_sessions_excited = excited_cells.groupby(drop_subgroup).size().reset_index().copy()\n",
    "excited_cells_sessions = excited_cells.drop_duplicates(drop_subgroup).sort_values(by=drop_subgroup).reset_index().copy()\n",
    "\n",
    "# Quick sanity check (both have to be true)\n",
    "if ((no_sessions_excited.animal_id.values == excited_cells_sessions.animal_id.values).all() != True) or ((no_sessions_excited.cluster_no.values == excited_cells_sessions.cluster_no.values).all() != True): \n",
    "    print('DATAFRAMES DO NOT MATCH!'); sys.exit()"
   ]
  },
  {
   "cell_type": "code",
   "execution_count": null,
   "metadata": {
    "collapsed": true
   },
   "outputs": [],
   "source": [
    "excited_cells_sessions['no_sessions'] = no_sessions_excited.iloc[:,-1].values\n",
    "len_before_no_session = len(excited_cells_sessions)\n",
    "#overwrite original df\n",
    "excited_cells = excited_cells_sessions[excited_cells_sessions.no_sessions >= min_number_sessions]"
   ]
  },
  {
   "cell_type": "code",
   "execution_count": null,
   "metadata": {},
   "outputs": [],
   "source": [
    "excited_cells.head(5)"
   ]
  },
  {
   "cell_type": "markdown",
   "metadata": {},
   "source": [
    "### Get waveforms (laser sessions)"
   ]
  },
  {
   "cell_type": "code",
   "execution_count": null,
   "metadata": {},
   "outputs": [],
   "source": [
    "psql = psql_neuroballs(excited_cells) # initialize retrieval\n",
    "dict_ = {'waveforms_tb':'mean_wf'}\n",
    "excited_cells = psql.retrieve_data(dict_)"
   ]
  },
  {
   "cell_type": "markdown",
   "metadata": {},
   "source": [
    "### Drop all NaNs in waveforms - this is valid if we want to include sessions only if there were > 50 spikes"
   ]
  },
  {
   "cell_type": "code",
   "execution_count": null,
   "metadata": {
    "collapsed": true
   },
   "outputs": [],
   "source": [
    "len_before_drop_na_wf = len(excited_cells)\n",
    "\n",
    "excited_cells.dropna(subset=['mean_wf'],axis=0,inplace=True)\n",
    "excited_cells.rename(columns={'mean_wf':'mean_wf_laser'}, inplace=True) # rename the waveform column - \"tag\" with laser"
   ]
  },
  {
   "cell_type": "markdown",
   "metadata": {},
   "source": [
    "### Get the stimulus_mat table data for later "
   ]
  },
  {
   "cell_type": "code",
   "execution_count": null,
   "metadata": {},
   "outputs": [],
   "source": [
    "psql = psql_neuroballs(excited_cells) # initialize retrieval\n",
    "dict_ = {'stimulus_mat_tb': ''}\n",
    "excited_cells = psql.retrieve_data(dict_)"
   ]
  },
  {
   "cell_type": "markdown",
   "metadata": {},
   "source": [
    "### Now drop the session_name column (to get rid of the laser session label) and retrieve waveforms again, but with a filter for non-laser sessions. Also include ISI contaminations in same go and filter for ISI contamination."
   ]
  },
  {
   "cell_type": "code",
   "execution_count": null,
   "metadata": {
    "collapsed": true
   },
   "outputs": [],
   "source": [
    "excited_cells.drop(['session_name','index'], axis=1,inplace=True)"
   ]
  },
  {
   "cell_type": "code",
   "execution_count": null,
   "metadata": {},
   "outputs": [],
   "source": [
    "psql = psql_neuroballs(excited_cells) # initialize retrieval\n",
    "dict_ = {'waveforms_tb':'mean_wf','ISI_tb':'ISI_stats_contam_perc'}\n",
    "excited_cells = psql.retrieve_data(user_sql_tables=dict_,user_sql_filter=\"NOT LIKE '%las%'\")\n",
    "# filter out ISI contaminations: \n",
    "len_before_isi_filt = len(excited_cells)\n",
    "\n",
    "excited_cells = excited_cells[excited_cells.isi_stats_contam_perc < isi_contam_thresh].copy()"
   ]
  },
  {
   "cell_type": "markdown",
   "metadata": {},
   "source": [
    "### Calculate pearson's R between waveforms and throw away entries that are lower than similarity threshold"
   ]
  },
  {
   "cell_type": "code",
   "execution_count": null,
   "metadata": {
    "collapsed": true
   },
   "outputs": [],
   "source": [
    "wf_r,wf_p = corr_wf_base_laser(excited_cells, 'mean_wf', 'mean_wf_laser', plotting=False)\n",
    "excited_cells['pearson_r_wf'] = wf_r\n",
    "len_before_corr_filt = len(excited_cells)\n",
    "\n",
    "excited_cells = excited_cells[excited_cells.pearson_r_wf > pearson_r_thresh].copy()"
   ]
  },
  {
   "cell_type": "code",
   "execution_count": null,
   "metadata": {},
   "outputs": [],
   "source": [
    "plt.hist(wf_r,bins=200);\n",
    "plt.xlim(0.96,1)\n",
    "plt.axvline(x=pearson_r_thresh,color='k');sns.despine(left=True,bottom=True)\n",
    "plt.title('Pearson correlations waveforms base vs. laser')"
   ]
  },
  {
   "cell_type": "code",
   "execution_count": null,
   "metadata": {
    "collapsed": true
   },
   "outputs": [],
   "source": [
    "# Sort again - why not ... \n",
    "excited_cells.sort_values(by='salt_i',ascending=False,inplace=True)"
   ]
  },
  {
   "cell_type": "markdown",
   "metadata": {},
   "source": [
    "### Little summary of where how many cells were lost "
   ]
  },
  {
   "cell_type": "code",
   "execution_count": null,
   "metadata": {},
   "outputs": [],
   "source": [
    "# Summary:\n",
    "print('Number of cells before ...')\n",
    "print('No. of session filter: {}'.format(len_before_no_session))\n",
    "print('Drop na waveforms: {}'.format(len_before_drop_na_wf))\n",
    "print('ISI filter: {}'.format(len_before_isi_filt))\n",
    "print('Waveforms correlation filter: {}'.format(len_before_corr_filt))\n",
    "print('Remaining: {}'.format(len(excited_cells)))"
   ]
  },
  {
   "cell_type": "markdown",
   "metadata": {},
   "source": [
    "### Draw some stuff"
   ]
  },
  {
   "cell_type": "code",
   "execution_count": null,
   "metadata": {
    "scrolled": false
   },
   "outputs": [],
   "source": [
    "# Draw some examples of baseline and laser mean waveforms, and then PSTHs\n",
    "draw_waveforms(excited_cells,'mean_wf',15,0)\n",
    "draw_waveforms(excited_cells,'mean_wf_laser',15,0)\n",
    "create_spike_plots_stimulus(excited_cells,15,0,True)"
   ]
  },
  {
   "cell_type": "code",
   "execution_count": null,
   "metadata": {},
   "outputs": [],
   "source": [
    "# Display a subset of the dataframe to check if everything went well\n",
    "excited_cells[['animal_id','filename','tetrode_no','cluster_no','session_name','salt_i','salt_p']].head()"
   ]
  },
  {
   "cell_type": "code",
   "execution_count": null,
   "metadata": {},
   "outputs": [],
   "source": [
    "#excited_cells.ex_latency_median.hist(bins=20)\n",
    "figure = plt.figure(figsize=(10,4))\n",
    "ax = figure.add_subplot(121)\n",
    "sns.kdeplot(excited_cells.ex_latency_median, bw=.5, label=\"Exc lat median\",color='k',ax=ax)\n",
    "sns.rugplot(excited_cells.ex_latency_median,color='r',ax=ax)\n",
    "ax = figure.add_subplot(122)\n",
    "sns.kdeplot(excited_cells.ex_latency_mean, bw=.5, label=\"Exc lat mean\",color='k',ax=ax)\n",
    "sns.rugplot(excited_cells.ex_latency_mean,color='r',ax=ax)\n",
    "sns.despine(left=True,bottom=True)"
   ]
  },
  {
   "cell_type": "markdown",
   "metadata": {},
   "source": [
    "### Save dataframe to pickle"
   ]
  },
  {
   "cell_type": "code",
   "execution_count": null,
   "metadata": {
    "collapsed": true
   },
   "outputs": [],
   "source": [
    "excited_cells.to_pickle('dataframe_export/excited_cells.pkl')"
   ]
  },
  {
   "cell_type": "code",
   "execution_count": null,
   "metadata": {},
   "outputs": [],
   "source": [
    "len(excited_cells)"
   ]
  },
  {
   "cell_type": "markdown",
   "metadata": {},
   "source": [
    "### To retrieve more data ... "
   ]
  },
  {
   "cell_type": "code",
   "execution_count": null,
   "metadata": {
    "collapsed": true
   },
   "outputs": [],
   "source": [
    "#psql = psql_neuroballs(excited_cells) # initialize retrieval\n",
    "#psql.retrieve_data()"
   ]
  },
  {
   "cell_type": "code",
   "execution_count": null,
   "metadata": {
    "collapsed": true
   },
   "outputs": [],
   "source": [
    "#data = psql.data()"
   ]
  },
  {
   "cell_type": "code",
   "execution_count": null,
   "metadata": {
    "collapsed": true
   },
   "outputs": [],
   "source": [
    "# for example ... \n",
    "#draw_ratemaps(data,'masked_ratemap',15,0)"
   ]
  },
  {
   "cell_type": "code",
   "execution_count": null,
   "metadata": {
    "collapsed": true
   },
   "outputs": [],
   "source": [
    "#data.columns"
   ]
  },
  {
   "cell_type": "code",
   "execution_count": null,
   "metadata": {
    "collapsed": true
   },
   "outputs": [],
   "source": []
  }
 ],
 "metadata": {
  "kernelspec": {
   "display_name": "Python 3",
   "language": "python",
   "name": "python3"
  },
  "language_info": {
   "codemirror_mode": {
    "name": "ipython",
    "version": 3
   },
   "file_extension": ".py",
   "mimetype": "text/x-python",
   "name": "python",
   "nbconvert_exporter": "python",
   "pygments_lexer": "ipython3",
   "version": "3.6.2"
  },
  "notify_time": "5",
  "widgets": {
   "application/vnd.jupyter.widget-state+json": {
    "state": {
     "142739941ccb492184dc4a29daf88f05": {
      "model_module": "jupyter-js-widgets",
      "model_module_version": "~2.0.30",
      "model_name": "LayoutModel",
      "state": {
       "_model_module_version": "~2.0.30",
       "_view_module_version": "~2.0.30"
      }
     },
     "18f095f85119473183435ea6ab677fe3": {
      "model_module": "jupyter-js-widgets",
      "model_module_version": "~2.0.30",
      "model_name": "OutputModel",
      "state": {
       "_dom_classes": [],
       "_model_module": "jupyter-js-widgets",
       "_model_module_version": "~2.0.30",
       "_view_module": "jupyter-js-widgets",
       "_view_module_version": "~2.0.30",
       "layout": "IPY_MODEL_142739941ccb492184dc4a29daf88f05",
       "msg_throttle": 1
      }
     },
     "1ec8d4195e3f41a780ff1340e9dcc5a1": {
      "model_module": "jupyter-js-widgets",
      "model_module_version": "~2.0.30",
      "model_name": "LayoutModel",
      "state": {
       "_model_module_version": "~2.0.30",
       "_view_module_version": "~2.0.30"
      }
     },
     "6c826c931af7406e923d24fc67d9462f": {
      "model_module": "jupyter-js-widgets",
      "model_module_version": "~2.0.30",
      "model_name": "SliderStyleModel",
      "state": {
       "_model_module_version": "~2.0.30",
       "_view_module_version": "~2.0.30"
      }
     },
     "af3d44e19ad846cbb076e9983825fc21": {
      "model_module": "jupyter-js-widgets",
      "model_module_version": "~2.0.30",
      "model_name": "VBoxModel",
      "state": {
       "_dom_classes": [
        "widget-interact"
       ],
       "_model_module_version": "~2.0.30",
       "_view_module_version": "~2.0.30",
       "children": [
        "IPY_MODEL_e10f82066fb945d6b8f2f38689e207e7",
        "IPY_MODEL_18f095f85119473183435ea6ab677fe3"
       ],
       "layout": "IPY_MODEL_ce6232d4b70d4a1e83b5f9c6fdb11409"
      }
     },
     "ce6232d4b70d4a1e83b5f9c6fdb11409": {
      "model_module": "jupyter-js-widgets",
      "model_module_version": "~2.0.30",
      "model_name": "LayoutModel",
      "state": {
       "_model_module_version": "~2.0.30",
       "_view_module_version": "~2.0.30"
      }
     },
     "e10f82066fb945d6b8f2f38689e207e7": {
      "model_module": "jupyter-js-widgets",
      "model_module_version": "~2.0.30",
      "model_name": "IntSliderModel",
      "state": {
       "_model_module_version": "~2.0.30",
       "_view_module_version": "~2.0.30",
       "description": "i",
       "layout": "IPY_MODEL_1ec8d4195e3f41a780ff1340e9dcc5a1",
       "max": 1796,
       "style": "IPY_MODEL_6c826c931af7406e923d24fc67d9462f",
       "value": 912
      }
     }
    },
    "version_major": 1,
    "version_minor": 0
   }
  }
 },
 "nbformat": 4,
 "nbformat_minor": 1
}
