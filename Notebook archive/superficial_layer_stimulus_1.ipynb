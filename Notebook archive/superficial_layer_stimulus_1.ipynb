{
 "cells": [
  {
   "cell_type": "markdown",
   "metadata": {},
   "source": [
    "# Analysis superficial layer (Dave's arch mice)"
   ]
  },
  {
   "cell_type": "code",
   "execution_count": 1,
   "metadata": {
    "collapsed": true
   },
   "outputs": [],
   "source": [
    "# the following two lines indicate that external functions are auto-reloaded as soon as they change. \n",
    "%load_ext autoreload\n",
    "%autoreload 2\n",
    "# Print statements \n",
    "from __future__ import print_function # Python 2.x"
   ]
  },
  {
   "cell_type": "code",
   "execution_count": 2,
   "metadata": {},
   "outputs": [
    {
     "name": "stdout",
     "output_type": "stream",
     "text": [
      "Loaded analysis helpers: General\n",
      "Loaded postgres_analysis_helpers -> general\n"
     ]
    }
   ],
   "source": [
    "# General stuff:\n",
    "import sys\n",
    "import argparse\n",
    "import os\n",
    "import json\n",
    "import numpy as np\n",
    "import math\n",
    "import psycopg2\n",
    "import cPickle\n",
    "import pandas as pd\n",
    "import h5py\n",
    "\n",
    "pd.options.mode.chained_assignment = None  # default='warn'\n",
    "\n",
    "from datetime import date\n",
    "from tqdm import tqdm_notebook\n",
    "\n",
    "# Plotting:\n",
    "from matplotlib import pyplot as plt\n",
    "import seaborn as sns\n",
    "import matplotlib.cm as cm\n",
    "import matplotlib as mpl\n",
    "%matplotlib inline\n",
    "from IPython.display import display, HTML\n",
    "\n",
    "# External functions from subfolder /database_helpers. \n",
    "# as soon as you change something in there and press save, it will auto reload on next execution.\n",
    "from database_helpers.psql_start import *\n",
    "from database_helpers.create_tables import *\n",
    "from database_helpers.write2tables import *\n",
    "from postgres_analysis_helpers.general import *\n",
    "\n",
    "# register pickle type to retrieve binary data from database\n",
    "psycopg2.extensions.register_type(psycopg2.extensions.new_type(psycopg2.BINARY.values, 'BINARY-PICKLE', cast_pickle))"
   ]
  },
  {
   "cell_type": "code",
   "execution_count": 3,
   "metadata": {},
   "outputs": [
    {
     "name": "stdout",
     "output_type": "stream",
     "text": [
      "Connecting to the PostgreSQL database...\n",
      "Yippiyeah! Database connection is established!\n"
     ]
    }
   ],
   "source": [
    "db_status = test_connect()\n",
    "if db_status == False:\n",
    "    print('Grrr... no database connection could be established.')\n",
    "else:\n",
    "    print('Yippiyeah! Database connection is established!')"
   ]
  },
  {
   "cell_type": "code",
   "execution_count": 4,
   "metadata": {
    "collapsed": true
   },
   "outputs": [],
   "source": [
    "# load the parameters to connect to data_1 \n",
    "params = config()"
   ]
  },
  {
   "cell_type": "markdown",
   "metadata": {},
   "source": [
    "## Analysis"
   ]
  },
  {
   "cell_type": "markdown",
   "metadata": {},
   "source": [
    "Retrieve stimulus table for Dave's arch mice"
   ]
  },
  {
   "cell_type": "code",
   "execution_count": 5,
   "metadata": {
    "collapsed": true
   },
   "outputs": [],
   "source": [
    "inhib_p_thresh = .001 # arbitrary at the moment!"
   ]
  },
  {
   "cell_type": "code",
   "execution_count": 6,
   "metadata": {},
   "outputs": [
    {
     "name": "stdout",
     "output_type": "stream",
     "text": [
      "175 entries found\n",
      "Wall time: 20 s\n"
     ]
    }
   ],
   "source": [
    "%%time\n",
    "params = config()\n",
    "unique = \"(cluster_no, tetrode_no, session_name, n_drive_user, animal_id, session_ts)\"\n",
    "\n",
    "sql = \"SELECT stimulus_tb.*, stimulus_mat_tb.spiketimes_cluster, stimulus_mat_tb.stimulus_timepoints,stimulus_mat_tb.sum_1ms,  \\\n",
    "        stimulus_mat_tb.bin_edges_1ms, stimulus_mat_tb.binnumber_1ms \\\n",
    "        FROM stimulus_tb INNER JOIN stimulus_mat_tb USING {} \\\n",
    "        WHERE inhibited = True AND stimulus_tb.inhib_lowest_p != 'nan'  \\\n",
    "        AND (stimulus_tb.animal_id LIKE '%T%' OR stimulus_tb.animal_id = '70113' OR stimulus_tb.animal_id = '70110' OR \\\n",
    "        stimulus_tb.animal_id = '70114') AND \\\n",
    "        stimulus_tb.change_point_ms < 10 AND stimulus_tb.inhib_lowest_p_interval > 10 \\\n",
    "        \\\n",
    "        ORDER BY inhib_lowest_p ASC;\".format(unique)\n",
    "sql_db_pd = pd.read_sql_query(sql, psycopg2.connect(**params), index_col=None)\n",
    "print('{} entries found'.format(len(sql_db_pd)))"
   ]
  },
  {
   "cell_type": "code",
   "execution_count": 7,
   "metadata": {
    "collapsed": true
   },
   "outputs": [],
   "source": [
    "# if you want to save\n",
    "export_path_pickle  = r\"C:\\work\\python\\klusta_analysis\\postgres_notebooks\\export_dataframes\"\n",
    "export_path_pickle = \"/\".join(export_path_pickle.split(\"\\\\\"))\n",
    "sql_db_pd.to_pickle(export_path_pickle + \"/all_sup_layer_stimulus.pkl\")"
   ]
  },
  {
   "cell_type": "code",
   "execution_count": 8,
   "metadata": {
    "collapsed": true
   },
   "outputs": [],
   "source": [
    "sup_layer_exc_inhib_df = pd.read_pickle(export_path_pickle + \"/all_sup_layer_stimulus.pkl\")"
   ]
  },
  {
   "cell_type": "code",
   "execution_count": 9,
   "metadata": {},
   "outputs": [
    {
     "data": {
      "text/plain": [
       "175"
      ]
     },
     "execution_count": 9,
     "metadata": {},
     "output_type": "execute_result"
    }
   ],
   "source": [
    "len(sup_layer_exc_inhib_df)"
   ]
  },
  {
   "cell_type": "code",
   "execution_count": 10,
   "metadata": {
    "collapsed": true
   },
   "outputs": [],
   "source": [
    "#subsets\n",
    "sup_layer_inhib = sup_layer_exc_inhib_df[(sup_layer_exc_inhib_df.inhib_lowest_p < inhib_p_thresh) & \n",
    "                                          (sup_layer_exc_inhib_df.inhibited == True)]\n",
    "\n",
    "sup_layer_rest = sup_layer_exc_inhib_df.iloc[[x for x in sup_layer_exc_inhib_df.index if (x not in sup_layer_inhib.index)]]"
   ]
  },
  {
   "cell_type": "code",
   "execution_count": 11,
   "metadata": {
    "collapsed": true
   },
   "outputs": [],
   "source": [
    "# sort dataframe inhibited:\n",
    "sup_layer_inhib.sort_values('inhib_lowest_p',ascending=True, inplace=True)"
   ]
  },
  {
   "cell_type": "code",
   "execution_count": 12,
   "metadata": {
    "collapsed": true
   },
   "outputs": [],
   "source": [
    "# groupby (to count occurences = number of sessions that met threshold criterion)\n",
    "sup_layer_inhib_count = sup_layer_inhib.groupby(['session_ts','animal_id','tetrode_no','cluster_no']).count()\n",
    "\n",
    "# and reset index\n",
    "sup_layer_inhib_count.reset_index(inplace=True)"
   ]
  },
  {
   "cell_type": "code",
   "execution_count": 13,
   "metadata": {
    "collapsed": true
   },
   "outputs": [],
   "source": [
    "# drop duplicates (maintaining the most significant / highest I session)\n",
    "sup_layer_inhib.drop_duplicates(subset=['session_ts','animal_id','tetrode_no','cluster_no'],inplace=True)\n",
    "sup_layer_rest.drop_duplicates(subset=['session_ts','animal_id','tetrode_no','cluster_no'],inplace=True)"
   ]
  },
  {
   "cell_type": "code",
   "execution_count": 14,
   "metadata": {
    "collapsed": true
   },
   "outputs": [],
   "source": [
    "# reset indices\n",
    "sup_layer_inhib.reset_index(drop=True,inplace=True)\n",
    "sup_layer_rest.reset_index(drop=True,inplace=True)"
   ]
  },
  {
   "cell_type": "code",
   "execution_count": 15,
   "metadata": {
    "collapsed": true
   },
   "outputs": [],
   "source": [
    "# update columns excited / inhibited\n",
    "sup_layer_inhib['inhibited'] = (sup_layer_inhib.inhib_lowest_p < inhib_p_thresh) & (sup_layer_inhib.inhibited == True)\n",
    "sup_layer_rest['inhibited'] = (sup_layer_rest.inhib_lowest_p < inhib_p_thresh) & (sup_layer_rest.inhibited == True)"
   ]
  },
  {
   "cell_type": "markdown",
   "metadata": {},
   "source": [
    "### Retrieve additional entries from other tables to filter on"
   ]
  },
  {
   "cell_type": "code",
   "execution_count": 16,
   "metadata": {
    "scrolled": false
   },
   "outputs": [
    {
     "data": {
      "application/vnd.jupyter.widget-view+json": {
       "model_id": "d73684a7de6243b387641e0288f50f93"
      }
     },
     "metadata": {},
     "output_type": "display_data"
    },
    {
     "data": {
      "application/vnd.jupyter.widget-view+json": {
       "model_id": "fc1cada9893e411f83a5720b821ae2ea"
      }
     },
     "metadata": {},
     "output_type": "display_data"
    },
    {
     "name": "stdout",
     "output_type": "stream",
     "text": [
      "\n",
      "Finished.\n"
     ]
    }
   ],
   "source": [
    "isi_stats_cells =  pd.DataFrame()\n",
    "\n",
    "# Retrieve only data from sup_layer_inhib\n",
    "\n",
    "for df in tqdm_notebook([sup_layer_inhib]):\n",
    "    for i in tqdm_notebook(xrange(len(df))):\n",
    "        c_entry = df.iloc[i]\n",
    "            \n",
    "        # isi stats (base session)\n",
    "        sql = \"SELECT ISI_stats_contam, ISI_stats_contam_perc, ISI_stats_percent_bursts FROM ISI_tb \\\n",
    "              WHERE animal_id = '{}' AND cluster_no = {} AND tetrode_no = {} AND \\\n",
    "              session_ts = '{}' AND session_name NOT LIKE '%las%' AND session_name \\\n",
    "              NOT LIKE '%obj%';\".format(c_entry.animal_id, c_entry.cluster_no,\n",
    "                                                               c_entry.tetrode_no, c_entry.session_ts)\n",
    "\n",
    "        c_sql = pd.read_sql_query(sql, psycopg2.connect(**params), index_col=None)\n",
    "        if len(c_sql) > 1: sys.exit()\n",
    "        if len(c_sql) != 0: \n",
    "            # concat the new with the old dataframe:\n",
    "            c_entry_T = pd.DataFrame(c_entry).T\n",
    "            c_entry_T.reset_index(inplace=True,drop=True)\n",
    "            c_join = pd.concat([c_entry_T,c_sql[['isi_stats_contam','isi_stats_contam_perc',\n",
    "                                                 'isi_stats_percent_bursts']]],axis=1) # horizontally join the two entries\n",
    "            isi_stats_cells = pd.concat([isi_stats_cells,  c_join], axis=0) # vertically join it with the rest\n",
    "        else:\n",
    "            c_entry_T = pd.DataFrame(c_entry).T\n",
    "            c_entry_T.reset_index(inplace=True,drop=True)\n",
    "            c_entry_T['isi_stats_contam'],c_entry_T['isi_stats_contam_perc'],c_entry_T['isi_stats_percent_bursts'] = np.nan,np.nan,np.nan\n",
    "            isi_stats_cells = pd.concat([isi_stats_cells,  c_entry_T], axis=0) # vertically join it with the rest   \n",
    "            \n",
    "print('Finished.')"
   ]
  },
  {
   "cell_type": "markdown",
   "metadata": {},
   "source": [
    "#### Right now you have:\n",
    "\n",
    "- isi_stats_cells (on sup_layer_inhib)\n",
    "- sup_layer_inhib"
   ]
  },
  {
   "cell_type": "markdown",
   "metadata": {},
   "source": [
    "**Employ additional filtering criteria**: \n",
    "- *Generally*: include only cells with ISI contam < 1%\n",
    "- For inhibited cells include only cells whose most significant p interval (!) > 10 ms\n",
    "    - (later check for these inhibited cells, whether the p-value becomes insignificant at 40 ms (indicating short inhibition))\n",
    "\n",
    "- then also look up BNT scores, autocorr scores and ISI_burst score (after all that filtering and for every dataset)"
   ]
  },
  {
   "cell_type": "code",
   "execution_count": 17,
   "metadata": {
    "collapsed": true
   },
   "outputs": [],
   "source": [
    "isi_cutoff = 1 # %"
   ]
  },
  {
   "cell_type": "code",
   "execution_count": 18,
   "metadata": {},
   "outputs": [
    {
     "data": {
      "image/png": "[encoded data removed]",
      "text/plain": [
       "<matplotlib.figure.Figure at 0xf45c9b0>"
      ]
     },
     "metadata": {},
     "output_type": "display_data"
    }
   ],
   "source": [
    "# seek justification for arbitrary threshold ;) \n",
    "sns.set_style('darkgrid')\n",
    "figure = plt.figure(figsize=(3,3))\n",
    "isi_stats_cells.isi_stats_contam_perc.hist(bins=500, color='k')\n",
    "plt.xlim(0,5)\n",
    "plt.axvline(x=isi_cutoff,color='red',linestyle='--')\n",
    "plt.title('ISI contam (<2ms) percent')\n",
    "sns.despine()"
   ]
  },
  {
   "cell_type": "code",
   "execution_count": 19,
   "metadata": {},
   "outputs": [
    {
     "name": "stdout",
     "output_type": "stream",
     "text": [
      "Total before filtering: 121\n"
     ]
    }
   ],
   "source": [
    "# Before filtering, these cell numbers remain at the moment: \n",
    "print('Total before filtering: {}'.format(len(sup_layer_inhib)))"
   ]
  },
  {
   "cell_type": "markdown",
   "metadata": {},
   "source": [
    "##### ... for inhibited cells"
   ]
  },
  {
   "cell_type": "code",
   "execution_count": 20,
   "metadata": {
    "scrolled": true
   },
   "outputs": [
    {
     "data": {
      "application/vnd.jupyter.widget-view+json": {
       "model_id": "0484ca51135d4fefa145bcecf9f17eb4"
      }
     },
     "metadata": {},
     "output_type": "display_data"
    },
    {
     "name": "stdout",
     "output_type": "stream",
     "text": [
      "\n",
      "114 clusters remaining from inhibited cells.\n"
     ]
    }
   ],
   "source": [
    "# go through inhibited cells and employ filter criteria: \n",
    "indices_to_keep = []\n",
    "offset = 0\n",
    "for no in tqdm_notebook(xrange(len(sup_layer_inhib))):\n",
    "    if isi_stats_cells.isi_stats_contam_perc.values[no+offset] < isi_cutoff:\n",
    "                if sup_layer_inhib.inhib_lowest_p_interval.iloc[no] > 10: # don't need this strictly because it's already there before!\n",
    "                    indices_to_keep.append(no)\n",
    "print('{} clusters remaining from inhibited cells.'.format(len(indices_to_keep)))"
   ]
  },
  {
   "cell_type": "code",
   "execution_count": 21,
   "metadata": {
    "collapsed": true
   },
   "outputs": [],
   "source": [
    "sup_layer_inhib_filtered = sup_layer_inhib.iloc[indices_to_keep]"
   ]
  },
  {
   "cell_type": "markdown",
   "metadata": {},
   "source": [
    "**Now you have filtered datasets for**\n",
    "- sup_layer_inhib_filtered (filtered for good ISI and lowest p interval > 10ms)\n",
    "\n",
    "Careful: Isi_stats are not filtered! "
   ]
  },
  {
   "cell_type": "markdown",
   "metadata": {},
   "source": [
    "### Retrieve rest of useful information to plot"
   ]
  },
  {
   "cell_type": "markdown",
   "metadata": {},
   "source": [
    "##### Retrieve data from the same TETRODE!! (omit cluster_no search string)"
   ]
  },
  {
   "cell_type": "code",
   "execution_count": 22,
   "metadata": {},
   "outputs": [
    {
     "data": {
      "application/vnd.jupyter.widget-view+json": {
       "model_id": "a027cfdb2bac4053a10d4cefa286c346"
      }
     },
     "metadata": {},
     "output_type": "display_data"
    },
    {
     "data": {
      "application/vnd.jupyter.widget-view+json": {
       "model_id": "db58ac441de5434081aae8cf1a11cb86"
      }
     },
     "metadata": {},
     "output_type": "display_data"
    },
    {
     "name": "stdout",
     "output_type": "stream",
     "text": [
      "\n",
      "Finished.\n"
     ]
    }
   ],
   "source": [
    "autocorr_cells = pd.DataFrame()\n",
    "#ratemaps_cells = pd.DataFrame()\n",
    "#obj_ratemaps_cells = pd.DataFrame()\n",
    "bnt_scores_cells = pd.DataFrame()\n",
    "\n",
    "#spiketimes_tracking_cells = pd.DataFrame()\n",
    "#obj_spiketimes_tracking_cells = pd.DataFrame()\n",
    "\n",
    "# TAKE ONLY THE INHIBITED DATASET\n",
    "\n",
    "for df in tqdm_notebook([sup_layer_inhib_filtered]):\n",
    "    for i in tqdm_notebook(xrange(len(df))):\n",
    "        c_entry = df.iloc[i]\n",
    "\n",
    "        # retrieve the base session stats:\n",
    "        # autocorr (st_autocorr_tb):\n",
    "        sql = \"SELECT theta_idx, burst_idx1, burst_idx2 FROM st_autocorr_tb \\\n",
    "              WHERE animal_id = '{}' AND tetrode_no = {} AND \\\n",
    "              session_ts = '{}' AND session_name NOT LIKE '%las%' AND session_name \\\n",
    "              NOT LIKE '%obj%';\".format(c_entry.animal_id,c_entry.tetrode_no, c_entry.session_ts)\n",
    "\n",
    "        c_sql = pd.read_sql_query(sql, psycopg2.connect(**params), index_col=None)\n",
    "        if len(c_sql) > 1: \n",
    "            for ent in xrange(len(c_sql)):\n",
    "                c_entry_T = pd.DataFrame(c_entry).T\n",
    "                c_entry_T.reset_index(inplace=True,drop=True)\n",
    "                for feat in ['theta_idx','burst_idx1','burst_idx2']:\n",
    "                    c_entry_T[feat] = c_sql.iloc[ent][feat]\n",
    "                autocorr_cells = pd.concat([autocorr_cells,  c_entry_T], axis=0) # vertically join it with the rest    \n",
    "        if len(c_sql) == 1: \n",
    "            # concat the new with the old dataframe:\n",
    "            c_entry_T = pd.DataFrame(c_entry).T\n",
    "            c_entry_T.reset_index(inplace=True,drop=True)\n",
    "            c_join = pd.concat([c_entry_T,c_sql[['theta_idx','burst_idx1','burst_idx2']]],axis=1) # horizontally join the two entries\n",
    "            autocorr_cells = pd.concat([autocorr_cells,  c_join], axis=0) # vertically join it with the rest\n",
    "        else:\n",
    "            c_entry_T = pd.DataFrame(c_entry).T\n",
    "            c_entry_T.reset_index(inplace=True,drop=True)\n",
    "            c_entry_T['theta_idx'],c_entry_T['burst_idx1'],c_entry_T['burst_idx2'] = np.nan,np.nan,np.nan\n",
    "            autocorr_cells = pd.concat([autocorr_cells,  c_entry_T], axis=0) # vertically join it with the rest         \n",
    "        \n",
    "        \n",
    "#        # ratemaps (ratemaps_tb):\n",
    "#        sql = \"SELECT masked_ratemap FROM ratemaps_tb \\\n",
    "#              WHERE animal_id = '{}' AND cluster_no = {} AND tetrode_no = {} AND \\\n",
    "#              session_ts = '{}' AND session_name NOT LIKE '%las%' AND session_name \\\n",
    "#              NOT LIKE '%obj%';\".format(c_entry.animal_id, c_entry.cluster_no,c_entry.tetrode_no, c_entry.session_ts)\n",
    "#\n",
    "#        c_sql = pd.read_sql_query(sql, psycopg2.connect(**params), index_col=None)\n",
    "#        if len(c_sql) > 1: sys.exit()\n",
    "#        if len(c_sql) != 0: \n",
    "#            # concat the new with the old dataframe:\n",
    "#            c_entry_T = pd.DataFrame(c_entry).T\n",
    "#            c_entry_T.reset_index(inplace=True,drop=True)\n",
    "#            c_join = pd.concat([c_entry_T,c_sql[['masked_ratemap']]],axis=1) # horizontally join the two entries\n",
    "#            ratemaps_cells = pd.concat([ratemaps_cells,  c_join], axis=0) # vertically join it with the rest\n",
    "#        else:\n",
    "#            c_entry_T = pd.DataFrame(c_entry).T\n",
    "#            c_entry_T.reset_index(inplace=True,drop=True)\n",
    "#            fake_map = fake_ratemap()\n",
    "#            c_entry_T['fake_ratemap'] = [np.array(fake_map)]\n",
    "#            ratemaps_cells = pd.concat([ratemaps_cells,  c_entry_T], axis=0) # vertically join it with the rest\n",
    "#               \n",
    "#                \n",
    "#        # object ratemaps (ratemaps_tb):\n",
    "#        sql = \"SELECT masked_ratemap FROM ratemaps_tb \\\n",
    "#              WHERE animal_id = '{}' AND cluster_no = {} AND tetrode_no = {} AND \\\n",
    "#              session_ts = '{}' AND \\\n",
    "#              session_name LIKE '%obj%';\".format(c_entry.animal_id, c_entry.cluster_no,c_entry.tetrode_no, c_entry.session_ts)\n",
    "#\n",
    "#        c_sql = pd.read_sql_query(sql, psycopg2.connect(**params), index_col=None)\n",
    "#        if len(c_sql) > 1: sys.exit()\n",
    "#        if len(c_sql) != 0: \n",
    "#            # concat the new with the old dataframe:\n",
    "#            c_entry_T = pd.DataFrame(c_entry).T\n",
    "#            c_entry_T.reset_index(inplace=True,drop=True)\n",
    "#            c_join = pd.concat([c_entry_T,c_sql[['masked_ratemap']]],axis=1) # horizontally join the two entries\n",
    "#            obj_ratemaps_cells = pd.concat([obj_ratemaps_cells,  c_join], axis=0) # vertically join it with the rest\n",
    "#        else:\n",
    "#            c_entry_T = pd.DataFrame(c_entry).T\n",
    "#            c_entry_T.reset_index(inplace=True,drop=True)\n",
    "#            fake_map = fake_ratemap()\n",
    "#            c_entry_T['fake_ratemap'] = [np.array(fake_map)]\n",
    "#            obj_ratemaps_cells = pd.concat([obj_ratemaps_cells,  c_entry_T], axis=0) # vertically join it with the rest\n",
    "#       \n",
    "        # bnt scores\n",
    "        bnt_scores_l = ['gridscore','borderscore','mvl','informationcontent','informationrate','meanrate','peakrate','speedscore']\n",
    "        sql = \"SELECT gridscore,borderscore,mvl,informationcontent,informationrate,meanrate,peakrate,speedscore FROM BNT_scores_tb \\\n",
    "              WHERE animal_id = '{}' AND tetrode_no = {} AND \\\n",
    "              session_ts = '{}' AND session_name NOT LIKE '%las%' AND session_name \\\n",
    "              NOT LIKE '%obj%';\".format(c_entry.animal_id, c_entry.tetrode_no, c_entry.session_ts)\n",
    "\n",
    "        c_sql = pd.read_sql_query(sql, psycopg2.connect(**params), index_col=None)\n",
    "            \n",
    "        if len(c_sql) > 1: \n",
    "            for ent in xrange(len(c_sql)):\n",
    "                c_entry_T = pd.DataFrame(c_entry).T\n",
    "                c_entry_T.reset_index(inplace=True,drop=True)\n",
    "                for feat in bnt_scores_l:\n",
    "                    c_entry_T[feat] = c_sql.iloc[ent][feat]\n",
    "                bnt_scores_cells = pd.concat([bnt_scores_cells,  c_entry_T], axis=0) # vertically join it with the rest       \n",
    "            \n",
    "        if len(c_sql) == 1: \n",
    "            # concat the new with the old dataframe:\n",
    "            c_entry_T = pd.DataFrame(c_entry).T\n",
    "            c_entry_T.reset_index(inplace=True,drop=True)\n",
    "            c_join = pd.concat([c_entry_T,c_sql[bnt_scores_l]],axis=1) # horizontally join the two entries\n",
    "            bnt_scores_cells = pd.concat([bnt_scores_cells,  c_join], axis=0) # vertically join it with the rest\n",
    "        else:\n",
    "            c_entry_T = pd.DataFrame(c_entry).T\n",
    "            c_entry_T.reset_index(inplace=True,drop=True)\n",
    "            for feat in bnt_scores_l:\n",
    "                    c_entry_T[feat] = np.nan\n",
    "            bnt_scores_cells = pd.concat([bnt_scores_cells,  c_entry_T], axis=0) # vertically join it with the rest\n",
    "      \n",
    "         # spiketimes tracking stuff\n",
    "#        sql = \"SELECT spiket_tracking_session, mean_freq FROM spiketimes_tracking_tb  \\\n",
    "#              WHERE animal_id = '{}' AND cluster_no = {} AND tetrode_no = {} AND \\\n",
    "#              session_ts = '{}' AND session_name NOT LIKE '%las%' AND session_name \\\n",
    "#              NOT LIKE '%obj%';\".format(c_entry.animal_id, c_entry.cluster_no,c_entry.tetrode_no, c_entry.session_ts)\n",
    "#\n",
    "#        c_sql = pd.read_sql_query(sql, psycopg2.connect(**params), index_col=None)\n",
    "#        if len(c_sql) > 1: sys.exit()\n",
    "#        if len(c_sql) != 0: \n",
    "#            # concat the new with the old dataframe:\n",
    "#            c_entry_T = pd.DataFrame(c_entry).T\n",
    "#            c_entry_T.reset_index(inplace=True,drop=True)\n",
    "#            c_join = pd.concat([c_entry_T,c_sql[['spiket_tracking_session','mean_freq']]],axis=1) # horizontally join the two entries\n",
    "#            spiketimes_tracking_cells = pd.concat([spiketimes_tracking_cells,  c_join], axis=0) # vertically join it with the rest\n",
    "#        else:\n",
    "#            c_entry_T = pd.DataFrame(c_entry).T\n",
    "#            c_entry_T.reset_index(inplace=True,drop=True)\n",
    "#            c_entry_T['spiket_tracking_session'], c_entry_T['mean_freq'] = np.nan, np.nan\n",
    "#            spiketimes_tracking_cells = pd.concat([spiketimes_tracking_cells,  c_entry_T], axis=0) # vertically join it with the rest\n",
    "#        \n",
    "#        # spiketimes tracking stuff - object\n",
    "#        sql = \"SELECT spiket_tracking_session, mean_freq FROM spiketimes_tracking_tb  \\\n",
    "#              WHERE animal_id = '{}' AND cluster_no = {} AND tetrode_no = {} AND \\\n",
    "#              session_ts = '{}' AND session_name \\\n",
    "#              LIKE '%obj%';\".format(c_entry.animal_id, c_entry.cluster_no,c_entry.tetrode_no, c_entry.session_ts)\n",
    "#\n",
    "#        c_sql = pd.read_sql_query(sql, psycopg2.connect(**params), index_col=None)\n",
    "#        if len(c_sql) > 1: sys.exit()\n",
    "#        if len(c_sql) != 0: \n",
    "#            # concat the new with the old dataframe:\n",
    "#            c_entry_T = pd.DataFrame(c_entry).T\n",
    "#            c_entry_T.reset_index(inplace=True,drop=True)\n",
    "#            c_join = pd.concat([c_entry_T,c_sql[['spiket_tracking_session','mean_freq']]],axis=1) # horizontally join the two entries\n",
    "#            obj_spiketimes_tracking_cells = pd.concat([obj_spiketimes_tracking_cells,  c_join], axis=0) # vertically join it with the rest\n",
    "#        else:\n",
    "#            c_entry_T = pd.DataFrame(c_entry).T\n",
    "#            c_entry_T.reset_index(inplace=True,drop=True)\n",
    "#            c_entry_T['spiket_tracking_session'], c_entry_T['mean_freq'] = np.nan, np.nan\n",
    "#            obj_spiketimes_tracking_cells = pd.concat([obj_spiketimes_tracking_cells,  c_entry_T], axis=0) # vertically join it with the rest\n",
    "                 \n",
    "                \n",
    "print('Finished.')"
   ]
  },
  {
   "cell_type": "markdown",
   "metadata": {},
   "source": [
    "#### also retrieve (tracking and) LFP stuff (base sessions only)"
   ]
  },
  {
   "cell_type": "code",
   "execution_count": 23,
   "metadata": {},
   "outputs": [
    {
     "data": {
      "application/vnd.jupyter.widget-view+json": {
       "model_id": "a2407e7f43b04904a05848160d495d61"
      }
     },
     "metadata": {},
     "output_type": "display_data"
    },
    {
     "data": {
      "application/vnd.jupyter.widget-view+json": {
       "model_id": "f610ae8f33ac458e98cc890af0efcb9f"
      }
     },
     "metadata": {},
     "output_type": "display_data"
    },
    {
     "name": "stdout",
     "output_type": "stream",
     "text": [
      "\n"
     ]
    }
   ],
   "source": [
    "#tracking_cells = pd.DataFrame()\n",
    "#obj_tracking_cells = pd.DataFrame()\n",
    "lfp_cells = pd.DataFrame()\n",
    "\n",
    "for df in tqdm_notebook([sup_layer_inhib_filtered]):\n",
    "    df = df.drop_duplicates(subset=['session_ts','animal_id']) # for LFP and tracking data drop duplicates\n",
    "    df.reset_index(drop=True,inplace=True)\n",
    "    for i in tqdm_notebook(xrange(len(df))):\n",
    "        c_entry = df.iloc[i]\n",
    "\n",
    "\n",
    "#       #  tracking stuff \n",
    "#       sql = \"SELECT tracking_session, px_to_cm FROM tracking_tb \\\n",
    "#             WHERE animal_id = '{}' AND \\\n",
    "#             session_ts = '{}' AND session_name NOT LIKE '%las%' AND session_name \\\n",
    "#             NOT LIKE '%obj%';\".format(c_entry.animal_id, c_entry.session_ts)\n",
    "\n",
    "#       c_sql = pd.read_sql_query(sql, psycopg2.connect(**params), index_col=None)\n",
    "#       if len(c_sql) > 1: sys.exit()\n",
    "#       if len(c_sql) != 0: \n",
    "#           # concat the new with the old dataframe:\n",
    "#           c_entry_T = pd.DataFrame(c_entry).T\n",
    "#           c_entry_T.reset_index(inplace=True,drop=True)\n",
    "#           c_join = pd.concat([c_entry_T,c_sql[['tracking_session','px_to_cm']]],axis=1) # horizontally join the two entries\n",
    "#           tracking_cells = pd.concat([tracking_cells,  c_join], axis=0) # vertically join it with the rest\n",
    "#       else:\n",
    "#           c_entry_T = pd.DataFrame(c_entry).T\n",
    "#           c_entry_T.reset_index(inplace=True,drop=True)\n",
    "#           c_entry_T['tracking_session'], c_entry_T['px_to_cm'] = np.nan, np.nan\n",
    "#           tracking_cells = pd.concat([tracking_cells,  c_entry_T], axis=0) # vertically join it with the rest\n",
    "#           \n",
    "#       #  tracking stuff - object\n",
    "#       sql = \"SELECT tracking_session, px_to_cm FROM tracking_tb \\\n",
    "#             WHERE animal_id = '{}' AND \\\n",
    "#             session_ts = '{}' AND session_name \\\n",
    "#             LIKE '%obj%';\".format(c_entry.animal_id, c_entry.session_ts)\n",
    "\n",
    "#       c_sql = pd.read_sql_query(sql, psycopg2.connect(**params), index_col=None)\n",
    "#       if len(c_sql) > 1: sys.exit()\n",
    "#       if len(c_sql) != 0: \n",
    "#           # concat the new with the old dataframe:\n",
    "#           c_entry_T = pd.DataFrame(c_entry).T\n",
    "#           c_entry_T.reset_index(inplace=True,drop=True)\n",
    "#           c_join = pd.concat([c_entry_T,c_sql[['tracking_session','px_to_cm']]],axis=1) # horizontally join the two entries\n",
    "#           obj_tracking_cells = pd.concat([obj_tracking_cells,  c_join], axis=0) # vertically join it with the rest\n",
    "#       else:\n",
    "#           c_entry_T = pd.DataFrame(c_entry).T\n",
    "#           c_entry_T.reset_index(inplace=True,drop=True)\n",
    "#           c_entry_T['tracking_session'], c_entry_T['px_to_cm'] = np.nan, np.nan\n",
    "#           obj_tracking_cells = pd.concat([obj_tracking_cells,  c_entry_T], axis=0) # vertically join it with the rest\n",
    "               \n",
    "        #  LFP stuff \n",
    "        sql = \"SELECT lfp_session, theta_freq FROM lfp_tb\\\n",
    "              WHERE animal_id = '{}' AND \\\n",
    "              session_ts = '{}' AND session_name NOT LIKE '%las%' AND session_name \\\n",
    "              NOT LIKE '%obj%';\".format(c_entry.animal_id, c_entry.session_ts)\n",
    "\n",
    "        c_sql = pd.read_sql_query(sql, psycopg2.connect(**params), index_col=None)\n",
    "        if len(c_sql) > 1: sys.exit()\n",
    "        if len(c_sql) != 0: \n",
    "            # concat the new with the old dataframe:\n",
    "            c_entry_T = pd.DataFrame(c_entry).T\n",
    "            c_entry_T.reset_index(inplace=True,drop=True)\n",
    "            c_join = pd.concat([c_entry_T,c_sql[['lfp_session','theta_freq']]],axis=1) # horizontally join the two entries\n",
    "            lfp_cells = pd.concat([lfp_cells,  c_join], axis=0) # vertically join it with the rest\n",
    "        else:\n",
    "            c_entry_T = pd.DataFrame(c_entry).T\n",
    "            c_entry_T.reset_index(inplace=True,drop=True)\n",
    "            c_entry_T['lfp_session'], c_entry_T['theta_freq'] = np.nan, np.nan\n",
    "            lfp_cells = pd.concat([lfp_cells,  c_entry_T], axis=0) # vertically join it with the rest"
   ]
  },
  {
   "cell_type": "markdown",
   "metadata": {},
   "source": [
    "#### You now have: \n",
    "\n",
    "- lfp_cells\n",
    "\n",
    "based on: \n",
    "- sup_layer_inhib_filtered\n"
   ]
  },
  {
   "cell_type": "markdown",
   "metadata": {},
   "source": [
    "### Save for later retrieval:"
   ]
  },
  {
   "cell_type": "code",
   "execution_count": 24,
   "metadata": {
    "collapsed": true
   },
   "outputs": [],
   "source": [
    "# if you want to save\n",
    "sup_layer_inhib_filtered.to_pickle(export_path_pickle + \"/sup_layer_inhib_filtered.pkl\")\n",
    "lfp_cells.to_pickle(export_path_pickle + \"/lfp_cells_superficial.pkl\")"
   ]
  },
  {
   "cell_type": "code",
   "execution_count": 25,
   "metadata": {
    "collapsed": true
   },
   "outputs": [],
   "source": [
    "bnt_scores_cells.to_pickle(export_path_pickle + \"/sup_layer_inhib_bnt_scores_cells.pkl\")\n",
    "autocorr_cells.to_pickle(export_path_pickle + \"/sup_layer_inhib_autocorr_cells.pkl\")"
   ]
  },
  {
   "cell_type": "code",
   "execution_count": null,
   "metadata": {
    "collapsed": true
   },
   "outputs": [],
   "source": []
  }
 ],
 "metadata": {
  "anaconda-cloud": {},
  "kernelspec": {
   "display_name": "Python 2",
   "language": "python",
   "name": "python2"
  },
  "language_info": {
   "codemirror_mode": {
    "name": "ipython",
    "version": 2
   },
   "file_extension": ".py",
   "mimetype": "text/x-python",
   "name": "python",
   "nbconvert_exporter": "python",
   "pygments_lexer": "ipython2",
   "version": "2.7.12"
  },
  "widgets": {
   "state": {
    "045b5366cbcc40658b6897da0ebbef1b": {
     "views": [
      {
       "cell_index": 34
      }
     ]
    },
    "1269a420c2e34ced9bc520c27632b66f": {
     "views": [
      {
       "cell_index": 26
      }
     ]
    },
    "14471b5392b84a39a18a89287dde5df0": {
     "views": [
      {
       "cell_index": 35
      }
     ]
    },
    "17e61aa58b2e415cab40c618fc23469b": {
     "views": [
      {
       "cell_index": 19
      }
     ]
    },
    "1e8d4a05dd8c41e39987524c9c60f264": {
     "views": [
      {
       "cell_index": 31
      }
     ]
    },
    "3417ff3dd81f41efab35c24246ebacb8": {
     "views": [
      {
       "cell_index": 34
      }
     ]
    },
    "3654192624a6449e89c13aa07aaf1b5e": {
     "views": [
      {
       "cell_index": 19
      }
     ]
    },
    "4455267726ff422eb8b5691488dd18d3": {
     "views": [
      {
       "cell_index": 34
      }
     ]
    },
    "5a0e59a5477e4b2c97605d5cfa815907": {
     "views": [
      {
       "cell_index": 34
      }
     ]
    },
    "62cebaa4bd0f4443bf0b3f3e2f9bd6a4": {
     "views": [
      {
       "cell_index": 35
      }
     ]
    },
    "66ad9ee884b545ef9c3a7c1529687541": {
     "views": [
      {
       "cell_index": 35
      }
     ]
    },
    "7a590034967e4bc38389865f5f2e0511": {
     "views": [
      {
       "cell_index": 34
      }
     ]
    },
    "8fc590b7ccf04aebbd26ab65ccd7bf07": {
     "views": [
      {
       "cell_index": 31
      }
     ]
    },
    "935c7f4f750f45c980ec4f9be9646aad": {
     "views": [
      {
       "cell_index": 34
      }
     ]
    },
    "93d393e9309f42b9afe5d42ff3672814": {
     "views": [
      {
       "cell_index": 34
      }
     ]
    },
    "9729a094ac294b55b076a94f0edcdf75": {
     "views": [
      {
       "cell_index": 19
      }
     ]
    },
    "a332ae17b2cc42af9f9820862d35650a": {
     "views": [
      {
       "cell_index": 34
      }
     ]
    },
    "a555c2cc3f8d4174885d15cb23e0d249": {
     "views": [
      {
       "cell_index": 33
      }
     ]
    },
    "a5db2f9ff53141aaa102490cd0469243": {
     "views": [
      {
       "cell_index": 34
      }
     ]
    },
    "a624c008a2c148fab885f8c2fe5b26ad": {
     "views": [
      {
       "cell_index": 34
      }
     ]
    },
    "ab81b857c7234e32adbf8908124f32cd": {
     "views": [
      {
       "cell_index": 34
      }
     ]
    },
    "b69e022c2c43487c9b484ce23fa6f4ec": {
     "views": [
      {
       "cell_index": 19
      }
     ]
    },
    "be312c95b50549a0a367b19ee1a37b54": {
     "views": [
      {
       "cell_index": 34
      }
     ]
    },
    "c3f0b377d9814d90803dad4f8077efb3": {
     "views": [
      {
       "cell_index": 33
      }
     ]
    },
    "cf0b5da996454b7ea379a40191171978": {
     "views": [
      {
       "cell_index": 19
      }
     ]
    },
    "db8e3f741c514b92bc8c06589437fa9a": {
     "views": [
      {
       "cell_index": 19
      }
     ]
    },
    "db92df36c98c4b8c87fb103877f1cd73": {
     "views": [
      {
       "cell_index": 34
      }
     ]
    },
    "df1cd39ac8a24aaa8a343edbef6a65c4": {
     "views": [
      {
       "cell_index": 34
      }
     ]
    },
    "ea7276d39dae4ad98d5dab51c5c7f77a": {
     "views": [
      {
       "cell_index": 34
      }
     ]
    }
   },
   "version": "1.2.0"
  }
 },
 "nbformat": 4,
 "nbformat_minor": 2
}
