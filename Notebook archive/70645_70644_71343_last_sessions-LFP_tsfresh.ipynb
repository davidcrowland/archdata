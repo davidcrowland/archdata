{
 "cells": [
  {
   "cell_type": "markdown",
   "metadata": {},
   "source": [
    "## Compare the last sessions of 70645, 70644 and 71343 with the rest of the deep layers / layer II (arch) recordings"
   ]
  },
  {
   "cell_type": "code",
   "execution_count": 1,
   "metadata": {
    "collapsed": true
   },
   "outputs": [],
   "source": [
    "# ts fresh stuff"
   ]
  },
  {
   "cell_type": "markdown",
   "metadata": {},
   "source": [
    "Load dataset for layer2 (superficial inhibited Dave's arch mice) from hard disk. "
   ]
  },
  {
   "cell_type": "code",
   "execution_count": 2,
   "metadata": {
    "collapsed": true
   },
   "outputs": [],
   "source": [
    "# the following two lines indicate that external functions are auto-reloaded as soon as they change. \n",
    "%load_ext autoreload\n",
    "%autoreload 2\n",
    "# Print statements \n",
    "from __future__ import print_function # Python 2.x"
   ]
  },
  {
   "cell_type": "code",
   "execution_count": 3,
   "metadata": {},
   "outputs": [
    {
     "name": "stdout",
     "output_type": "stream",
     "text": [
      "Loaded analysis helpers: General\n",
      "Loaded postgres_analysis_helpers -> general\n",
      "Loaded postgres_analysis_helpers -> get_data\n"
     ]
    }
   ],
   "source": [
    "# General stuff:\n",
    "import sys\n",
    "import argparse\n",
    "import os\n",
    "import json\n",
    "import numpy as np\n",
    "import math\n",
    "import psycopg2\n",
    "import cPickle\n",
    "import numpy as np\n",
    "import pandas as pd\n",
    "from datetime import date\n",
    "from tqdm import tqdm_notebook\n",
    "\n",
    "# Plotting:\n",
    "from matplotlib import pyplot as plt\n",
    "import seaborn as sns\n",
    "import matplotlib.cm as cm\n",
    "import matplotlib as mpl\n",
    "%matplotlib inline\n",
    "\n",
    "# External functions from subfolder /database_helpers. \n",
    "# as soon as you change something in there and press save, it will auto reload on next execution.\n",
    "from database_helpers.psql_start import *\n",
    "from database_helpers.create_tables import *\n",
    "from database_helpers.write2tables import *\n",
    "from postgres_analysis_helpers.general import *\n",
    "from postgres_analysis_helpers.get_data import *\n",
    "from tsfresh import extract_features\n",
    "\n",
    "from tsfresh import select_features\n",
    "from tsfresh.utilities.dataframe_functions import impute\n",
    "\n",
    "\n",
    "# register pickle type to retrieve binary data from database\n",
    "psycopg2.extensions.register_type(psycopg2.extensions.new_type(psycopg2.BINARY.values, 'BINARY-PICKLE', cast_pickle))"
   ]
  },
  {
   "cell_type": "code",
   "execution_count": 4,
   "metadata": {},
   "outputs": [
    {
     "name": "stdout",
     "output_type": "stream",
     "text": [
      "Connecting to the PostgreSQL database...\n",
      "Yippiyeah! Database connection is established!\n"
     ]
    }
   ],
   "source": [
    "db_status = test_connect()\n",
    "if db_status == False:\n",
    "    print('Grrr... no database connection could be established.')\n",
    "else:\n",
    "    print('Yippiyeah! Database connection is established!')"
   ]
  },
  {
   "cell_type": "markdown",
   "metadata": {},
   "source": [
    "### Make an empty dataframe and call the retrieval function"
   ]
  },
  {
   "cell_type": "code",
   "execution_count": 5,
   "metadata": {
    "collapsed": true
   },
   "outputs": [],
   "source": [
    "# if you want to save\n",
    "export_path_pickle  = r\"C:\\work\\python\\klusta_analysis\\postgres_notebooks\\export_dataframes\"\n",
    "export_path_pickle = \"/\".join(export_path_pickle.split(\"\\\\\"))\n",
    "#base_dataframe.to_pickle(export_path_pickle + \"/70645_70644_71343.pkl\")"
   ]
  },
  {
   "cell_type": "code",
   "execution_count": 6,
   "metadata": {
    "collapsed": true
   },
   "outputs": [],
   "source": [
    "deep_layer_confirmed = pd.read_pickle(export_path_pickle + \"/70645_70644_71343.pkl\")"
   ]
  },
  {
   "cell_type": "code",
   "execution_count": 7,
   "metadata": {},
   "outputs": [
    {
     "data": {
      "text/html": [
       "<div>\n",
       "<table border=\"1\" class=\"dataframe\">\n",
       "  <thead>\n",
       "    <tr style=\"text-align: right;\">\n",
       "      <th></th>\n",
       "      <th>tetrode_no</th>\n",
       "      <th>animal_id</th>\n",
       "      <th>n_drive_user</th>\n",
       "      <th>session_ts</th>\n",
       "      <th>cluster_no</th>\n",
       "      <th>session_name</th>\n",
       "      <th>masked_ratemap</th>\n",
       "      <th>informationcontent</th>\n",
       "      <th>gridstats_ellipse_3</th>\n",
       "      <th>hdpeakrate</th>\n",
       "      <th>...</th>\n",
       "      <th>phase_stats_var</th>\n",
       "      <th>rayleigh_p</th>\n",
       "      <th>spike_trig_lfp</th>\n",
       "      <th>mean_freq</th>\n",
       "      <th>spike_no</th>\n",
       "      <th>mean_wf</th>\n",
       "      <th>maxima_wf</th>\n",
       "      <th>std_wf</th>\n",
       "      <th>lfp_session</th>\n",
       "      <th>theta_freq</th>\n",
       "    </tr>\n",
       "  </thead>\n",
       "  <tbody>\n",
       "    <tr>\n",
       "      <th>0</th>\n",
       "      <td>8</td>\n",
       "      <td>70645</td>\n",
       "      <td>horsto</td>\n",
       "      <td>2017-02-19 10:30:13</td>\n",
       "      <td>2</td>\n",
       "      <td>19022017s1</td>\n",
       "      <td>[[0.00567601919074, 0.0054057056967, 0.0051521...</td>\n",
       "      <td>0.262193</td>\n",
       "      <td>13.7871</td>\n",
       "      <td>0.341274</td>\n",
       "      <td>...</td>\n",
       "      <td>3.43028</td>\n",
       "      <td>0.000474072</td>\n",
       "      <td>spike_trig_LFP_avg  spike_trig_LFP_strong...</td>\n",
       "      <td>0.21266</td>\n",
       "      <td>383</td>\n",
       "      <td>{0: [-0.00522193211488, 0.318537859008, 0.4046...</td>\n",
       "      <td>{0: 20.5483028721, 1: 51.0861618799, 2: 20.214...</td>\n",
       "      <td>{0: [12.0560039489, 11.9957714897, 11.90215456...</td>\n",
       "      <td>time  eeg0  eeg1  eeg2  eeg3  eeg_...</td>\n",
       "      <td>8.76667</td>\n",
       "    </tr>\n",
       "    <tr>\n",
       "      <th>1</th>\n",
       "      <td>8</td>\n",
       "      <td>70644</td>\n",
       "      <td>horsto</td>\n",
       "      <td>2017-03-29 09:00:50</td>\n",
       "      <td>2</td>\n",
       "      <td>29032017s1</td>\n",
       "      <td>[[--, --, --, --, --, --, 0.0211151713571, --,...</td>\n",
       "      <td>0.947181</td>\n",
       "      <td>22.4575</td>\n",
       "      <td>8.09462</td>\n",
       "      <td>...</td>\n",
       "      <td>5.46125</td>\n",
       "      <td>0.000291955</td>\n",
       "      <td>spike_trig_LFP_avg  spike_trig_LFP_strong...</td>\n",
       "      <td>0.762698</td>\n",
       "      <td>916</td>\n",
       "      <td>{0: [-2.01965065502, -2.97598253275, -4.481441...</td>\n",
       "      <td>{0: 33.903930131, 1: 17.6462882096, 2: 3.95305...</td>\n",
       "      <td>{0: [4.64288513865, 4.79668185163, 4.989583527...</td>\n",
       "      <td>time  eeg0  eeg1  eeg2  eeg3  eeg_...</td>\n",
       "      <td>8.26667</td>\n",
       "    </tr>\n",
       "  </tbody>\n",
       "</table>\n",
       "<p>2 rows × 69 columns</p>\n",
       "</div>"
      ],
      "text/plain": [
       "   tetrode_no animal_id n_drive_user           session_ts  cluster_no  \\\n",
       "0           8     70645       horsto  2017-02-19 10:30:13           2   \n",
       "1           8     70644       horsto  2017-03-29 09:00:50           2   \n",
       "\n",
       "  session_name                                     masked_ratemap  \\\n",
       "0   19022017s1  [[0.00567601919074, 0.0054057056967, 0.0051521...   \n",
       "1   29032017s1  [[--, --, --, --, --, --, 0.0211151713571, --,...   \n",
       "\n",
       "  informationcontent gridstats_ellipse_3 hdpeakrate    ...      \\\n",
       "0           0.262193             13.7871   0.341274    ...       \n",
       "1           0.947181             22.4575    8.09462    ...       \n",
       "\n",
       "  phase_stats_var   rayleigh_p  \\\n",
       "0         3.43028  0.000474072   \n",
       "1         5.46125  0.000291955   \n",
       "\n",
       "                                      spike_trig_lfp mean_freq spike_no  \\\n",
       "0       spike_trig_LFP_avg  spike_trig_LFP_strong...   0.21266      383   \n",
       "1       spike_trig_LFP_avg  spike_trig_LFP_strong...  0.762698      916   \n",
       "\n",
       "                                             mean_wf  \\\n",
       "0  {0: [-0.00522193211488, 0.318537859008, 0.4046...   \n",
       "1  {0: [-2.01965065502, -2.97598253275, -4.481441...   \n",
       "\n",
       "                                           maxima_wf  \\\n",
       "0  {0: 20.5483028721, 1: 51.0861618799, 2: 20.214...   \n",
       "1  {0: 33.903930131, 1: 17.6462882096, 2: 3.95305...   \n",
       "\n",
       "                                              std_wf  \\\n",
       "0  {0: [12.0560039489, 11.9957714897, 11.90215456...   \n",
       "1  {0: [4.64288513865, 4.79668185163, 4.989583527...   \n",
       "\n",
       "                                         lfp_session theta_freq  \n",
       "0              time  eeg0  eeg1  eeg2  eeg3  eeg_...    8.76667  \n",
       "1              time  eeg0  eeg1  eeg2  eeg3  eeg_...    8.26667  \n",
       "\n",
       "[2 rows x 69 columns]"
      ]
     },
     "execution_count": 7,
     "metadata": {},
     "output_type": "execute_result"
    }
   ],
   "source": [
    "deep_layer_confirmed.head(2)"
   ]
  },
  {
   "cell_type": "code",
   "execution_count": 8,
   "metadata": {},
   "outputs": [
    {
     "data": {
      "text/plain": [
       "Index([u'tetrode_no', u'animal_id', u'n_drive_user', u'session_ts',\n",
       "       u'cluster_no', u'session_name', u'masked_ratemap',\n",
       "       u'informationcontent', u'gridstats_ellipse_3', u'hdpeakrate',\n",
       "       u'gridstats_ellipse_1', u'gridstats_ellipse_5', u'gridstats_ellipse_4',\n",
       "       u'gridstats_ellipsetheta', u'numfields', u'meandirection',\n",
       "       u'stabilityhalf', u'thetaindex', u'meanrate', u'coherence',\n",
       "       u'peakdirection', u'gridstats_orientation_3', u'fieldmain', u'sparsity',\n",
       "       u'gridscore', u'gridstats_orientation_2', u'gridstats_orientation_1',\n",
       "       u'borderscore', u'peakrate', u'mvl', u'gridstats_ellipse_2',\n",
       "       u'informationrate', u'meanrateoutsidefields', u'selectivity',\n",
       "       u'speedscore', u'gridstats_spacing_2', u'gridstats_spacing_3',\n",
       "       u'gridstats_spacing_1', u'bins_angle_center', u'tc_stats_mvl',\n",
       "       u'tc_stats_mean', u'tc_stats_var', u'hist_angle_smooth', u'theta_freq',\n",
       "       u'hist_isi', u'bin_edges_isi', u'isi_stats_percent_bursts',\n",
       "       u'isi_stats_contam', u'isi_stats_contam_perc', u'theta_idx',\n",
       "       u'burst_idx2', u'burst_idx1', u'st_autocorr', u'phase_stats_mean',\n",
       "       u'phase_stats_mvl', u'bins_angle_center_phase',\n",
       "       u'hist_angle_smooth_phase', u'theta_range_max', u'theta_range_min',\n",
       "       u'phase_stats_var', u'rayleigh_p', u'spike_trig_lfp', u'mean_freq',\n",
       "       u'spike_no', u'mean_wf', u'maxima_wf', u'std_wf', u'lfp_session',\n",
       "       u'theta_freq'],\n",
       "      dtype='object')"
      ]
     },
     "execution_count": 8,
     "metadata": {},
     "output_type": "execute_result"
    }
   ],
   "source": [
    "deep_layer_confirmed.columns"
   ]
  },
  {
   "cell_type": "markdown",
   "metadata": {},
   "source": [
    "\"Deep layer confirmed\" contains dataset comprising 70645,70644,71343"
   ]
  },
  {
   "cell_type": "code",
   "execution_count": 9,
   "metadata": {
    "scrolled": false
   },
   "outputs": [
    {
     "data": {
      "text/html": [
       "<div>\n",
       "<table border=\"1\" class=\"dataframe\">\n",
       "  <thead>\n",
       "    <tr style=\"text-align: right;\">\n",
       "      <th></th>\n",
       "      <th>tetrode_no</th>\n",
       "      <th>animal_id</th>\n",
       "      <th>n_drive_user</th>\n",
       "      <th>session_ts</th>\n",
       "      <th>cluster_no</th>\n",
       "      <th>session_name</th>\n",
       "      <th>masked_ratemap</th>\n",
       "      <th>informationcontent</th>\n",
       "      <th>gridstats_ellipse_3</th>\n",
       "      <th>hdpeakrate</th>\n",
       "      <th>...</th>\n",
       "      <th>phase_stats_var</th>\n",
       "      <th>rayleigh_p</th>\n",
       "      <th>spike_trig_lfp</th>\n",
       "      <th>mean_freq</th>\n",
       "      <th>spike_no</th>\n",
       "      <th>mean_wf</th>\n",
       "      <th>maxima_wf</th>\n",
       "      <th>std_wf</th>\n",
       "      <th>lfp_session</th>\n",
       "      <th>theta_freq</th>\n",
       "    </tr>\n",
       "  </thead>\n",
       "  <tbody>\n",
       "    <tr>\n",
       "      <th>822</th>\n",
       "      <td>6</td>\n",
       "      <td>71343</td>\n",
       "      <td>horsto</td>\n",
       "      <td>2017-02-20 17:18:35</td>\n",
       "      <td>9</td>\n",
       "      <td>20022017s1</td>\n",
       "      <td>None</td>\n",
       "      <td>0.67897</td>\n",
       "      <td>11.1775</td>\n",
       "      <td>0.16548</td>\n",
       "      <td>...</td>\n",
       "      <td>NaN</td>\n",
       "      <td>NaN</td>\n",
       "      <td>None</td>\n",
       "      <td>NaN</td>\n",
       "      <td>NaN</td>\n",
       "      <td>None</td>\n",
       "      <td>None</td>\n",
       "      <td>None</td>\n",
       "      <td>time  eeg0  eeg1  eeg2  eeg3  eeg_...</td>\n",
       "      <td>9.2</td>\n",
       "    </tr>\n",
       "    <tr>\n",
       "      <th>823</th>\n",
       "      <td>5</td>\n",
       "      <td>71343</td>\n",
       "      <td>horsto</td>\n",
       "      <td>2017-02-17 11:34:41</td>\n",
       "      <td>13</td>\n",
       "      <td>17022017s1</td>\n",
       "      <td>None</td>\n",
       "      <td>0.196932</td>\n",
       "      <td>9.18037</td>\n",
       "      <td>1.05454</td>\n",
       "      <td>...</td>\n",
       "      <td>NaN</td>\n",
       "      <td>NaN</td>\n",
       "      <td>None</td>\n",
       "      <td>NaN</td>\n",
       "      <td>NaN</td>\n",
       "      <td>None</td>\n",
       "      <td>None</td>\n",
       "      <td>None</td>\n",
       "      <td>time  eeg0  eeg1  eeg2  eeg3  eeg_...</td>\n",
       "      <td>8.33333</td>\n",
       "    </tr>\n",
       "  </tbody>\n",
       "</table>\n",
       "<p>2 rows × 69 columns</p>\n",
       "</div>"
      ],
      "text/plain": [
       "     tetrode_no animal_id n_drive_user           session_ts  cluster_no  \\\n",
       "822           6     71343       horsto  2017-02-20 17:18:35           9   \n",
       "823           5     71343       horsto  2017-02-17 11:34:41          13   \n",
       "\n",
       "    session_name masked_ratemap informationcontent gridstats_ellipse_3  \\\n",
       "822   20022017s1           None            0.67897             11.1775   \n",
       "823   17022017s1           None           0.196932             9.18037   \n",
       "\n",
       "    hdpeakrate    ...     phase_stats_var rayleigh_p spike_trig_lfp mean_freq  \\\n",
       "822    0.16548    ...                 NaN        NaN           None       NaN   \n",
       "823    1.05454    ...                 NaN        NaN           None       NaN   \n",
       "\n",
       "    spike_no mean_wf maxima_wf std_wf  \\\n",
       "822      NaN    None      None   None   \n",
       "823      NaN    None      None   None   \n",
       "\n",
       "                                           lfp_session theta_freq  \n",
       "822              time  eeg0  eeg1  eeg2  eeg3  eeg_...        9.2  \n",
       "823              time  eeg0  eeg1  eeg2  eeg3  eeg_...    8.33333  \n",
       "\n",
       "[2 rows x 69 columns]"
      ]
     },
     "execution_count": 9,
     "metadata": {},
     "output_type": "execute_result"
    }
   ],
   "source": [
    "deep_layer_confirmed.tail(2)"
   ]
  },
  {
   "cell_type": "code",
   "execution_count": 10,
   "metadata": {
    "collapsed": true
   },
   "outputs": [],
   "source": [
    "deep_layer_confirmed.dropna(subset=['tetrode_no','cluster_no'],inplace=True)\n",
    "deep_layer_confirmed.drop_duplicates(subset=['session_ts','animal_id','tetrode_no','cluster_no'],inplace=True)"
   ]
  },
  {
   "cell_type": "code",
   "execution_count": 11,
   "metadata": {
    "collapsed": true
   },
   "outputs": [],
   "source": [
    "deep_layer_confirmed.sort_values('session_ts',ascending=True, inplace=True)\n",
    "deep_layer_confirmed.reset_index(drop=True,inplace=True)"
   ]
  },
  {
   "cell_type": "markdown",
   "metadata": {
    "collapsed": true
   },
   "source": [
    "#### ts fresh"
   ]
  },
  {
   "cell_type": "code",
   "execution_count": 12,
   "metadata": {
    "collapsed": true
   },
   "outputs": [],
   "source": [
    "# load superficial layer dataset"
   ]
  },
  {
   "cell_type": "code",
   "execution_count": 13,
   "metadata": {
    "collapsed": true
   },
   "outputs": [],
   "source": [
    "lfp_cells_sup = pd.read_pickle(export_path_pickle + \"/lfp_cells_superficial.pkl\")"
   ]
  },
  {
   "cell_type": "code",
   "execution_count": 14,
   "metadata": {},
   "outputs": [
    {
     "data": {
      "text/plain": [
       "array(['70114', 'T4743', '70110', 'T4935', '70113'], dtype=object)"
      ]
     },
     "execution_count": 14,
     "metadata": {},
     "output_type": "execute_result"
    }
   ],
   "source": [
    "lfp_cells_sup.animal_id.unique()"
   ]
  },
  {
   "cell_type": "markdown",
   "metadata": {},
   "source": [
    "### take only the last 5 sessions for 70645, 70644 and 71343"
   ]
  },
  {
   "cell_type": "code",
   "execution_count": 15,
   "metadata": {},
   "outputs": [
    {
     "name": "stderr",
     "output_type": "stream",
     "text": [
      "C:\\Users\\horsto\\AppData\\Local\\Continuum\\Miniconda2\\envs\\analysis\\lib\\site-packages\\pandas\\util\\decorators.py:91: SettingWithCopyWarning: \n",
      "A value is trying to be set on a copy of a slice from a DataFrame\n",
      "\n",
      "See the caveats in the documentation: http://pandas.pydata.org/pandas-docs/stable/indexing.html#indexing-view-versus-copy\n",
      "  return func(*args, **kwargs)\n"
     ]
    }
   ],
   "source": [
    "_70645_last = deep_layer_confirmed[deep_layer_confirmed.animal_id == '70645']\n",
    "_70645_last.drop_duplicates(subset=['session_ts'],inplace=True) \n",
    "_70645_last.reset_index(drop=True,inplace=True)\n",
    "_70645_last = _70645_last[[x in _70645_last.session_ts.unique()[-5:] for x in _70645_last.session_ts]]\n",
    "    \n",
    "_70644_last = deep_layer_confirmed[deep_layer_confirmed.animal_id == '70644']\n",
    "_70644_last.drop_duplicates(subset=['session_ts'],inplace=True) \n",
    "_70644_last.reset_index(drop=True,inplace=True)\n",
    "_70644_last = _70644_last[[x in _70644_last.session_ts.unique()[-5:] for x in _70644_last.session_ts]]\n",
    "\n",
    "_71343_last = deep_layer_confirmed[deep_layer_confirmed.animal_id == '71343']\n",
    "_71343_last.drop_duplicates(subset=['session_ts'],inplace=True) \n",
    "_71343_last.reset_index(drop=True,inplace=True)\n",
    "_71343_last = _71343_last[[x in _71343_last.session_ts.unique()[-5:] for x in _71343_last.session_ts]]"
   ]
  },
  {
   "cell_type": "code",
   "execution_count": 16,
   "metadata": {},
   "outputs": [
    {
     "data": {
      "text/plain": [
       "array(['70114', 'T4743', '70110', 'T4935', '70113'], dtype=object)"
      ]
     },
     "execution_count": 16,
     "metadata": {},
     "output_type": "execute_result"
    }
   ],
   "source": [
    "lfp_cells_sup.animal_id.unique()"
   ]
  },
  {
   "cell_type": "markdown",
   "metadata": {},
   "source": [
    "### edit dataframe structure ... "
   ]
  },
  {
   "cell_type": "code",
   "execution_count": 80,
   "metadata": {
    "collapsed": true
   },
   "outputs": [],
   "source": [
    "mouse_labels = dict()\n",
    "mouse_labels['70645'] = 0\n",
    "mouse_labels['70644'] = 1\n",
    "mouse_labels['71343'] = 2\n",
    "\n",
    "mouse_labels['70114'] = 3\n",
    "mouse_labels['T4743'] = 4\n",
    "mouse_labels['70110'] = 5\n",
    "mouse_labels['T4935'] = 6\n",
    "mouse_labels['70113'] = 7"
   ]
  },
  {
   "cell_type": "code",
   "execution_count": 81,
   "metadata": {},
   "outputs": [
    {
     "data": {
      "text/plain": [
       "{'70110': 5,\n",
       " '70113': 7,\n",
       " '70114': 3,\n",
       " '70644': 1,\n",
       " '70645': 0,\n",
       " '71343': 2,\n",
       " 'T4743': 4,\n",
       " 'T4935': 6}"
      ]
     },
     "execution_count": 81,
     "metadata": {},
     "output_type": "execute_result"
    }
   ],
   "source": [
    "mouse_labels"
   ]
  },
  {
   "cell_type": "code",
   "execution_count": 103,
   "metadata": {},
   "outputs": [
    {
     "data": {
      "application/vnd.jupyter.widget-view+json": {
       "model_id": "870ace7d2a0845029af1ddf641cabd1e"
      }
     },
     "metadata": {},
     "output_type": "display_data"
    },
    {
     "data": {
      "application/vnd.jupyter.widget-view+json": {
       "model_id": "8c7ead8ee03e42158f8dc1520e41d591"
      }
     },
     "metadata": {},
     "output_type": "display_data"
    },
    {
     "data": {
      "application/vnd.jupyter.widget-view+json": {
       "model_id": "273e827ec421432d833e04cb0386c590"
      }
     },
     "metadata": {},
     "output_type": "display_data"
    },
    {
     "data": {
      "application/vnd.jupyter.widget-view+json": {
       "model_id": "31f0b762c6524d85b4bb4d403cb1cabc"
      }
     },
     "metadata": {},
     "output_type": "display_data"
    },
    {
     "data": {
      "application/vnd.jupyter.widget-view+json": {
       "model_id": "b38afb8a410d4baeafe1b0ae7c308eb6"
      }
     },
     "metadata": {},
     "output_type": "display_data"
    },
    {
     "name": "stdout",
     "output_type": "stream",
     "text": [
      "\n"
     ]
    }
   ],
   "source": [
    "max_snippet = 5000 # this corresponds to 4 seconds sampled at 250 Hz\n",
    "time_axis = np.arange(0,max_snippet)/250.\n",
    "\n",
    "#labels = []\n",
    "\n",
    "counter = 0 \n",
    "for no,df in tqdm_notebook(enumerate([_70645_last,_70644_last,_71343_last,lfp_cells_sup])):\n",
    "    for i in tqdm_notebook(xrange(len(df))):\n",
    "        \n",
    "        #if df.iloc[i].animal_id in ['70645','70644','71343']:\n",
    "        #    label_col = np.zeros(max_snippet) # '0' for deep layers \n",
    "        #else:\n",
    "        #    label_col = np.zeros(max_snippet) + 1 # '1' for sup layers\n",
    "\n",
    "        #labels.append(label_col)\n",
    "\n",
    "        #id_column = np.array(((df.iloc[i].animal_id + \" \")* (max_snippet-1)).split(\" \"))\n",
    "        #print(df.iloc[i].animal_id)\n",
    "        id_column = np.array(np.zeros(max_snippet) + mouse_labels[df.iloc[i].animal_id],dtype=int)\n",
    "        \n",
    "        \n",
    "        moving = df.lfp_session.iloc[i].eeg_mean.values[df.lfp_session.iloc[i].speed > 5][:max_snippet]\n",
    "        still = df.lfp_session.iloc[i].eeg_mean.values[df.lfp_session.iloc[i].speed < 5][:max_snippet]\n",
    "\n",
    "        # pad values if there are not enough:\n",
    "        moving = np.lib.pad(moving, (0, max_snippet - len(moving)), 'wrap')\n",
    "        still = np.lib.pad(still, (0, max_snippet - len(still)), 'wrap')\n",
    "\n",
    "        \n",
    "        #lfp_temp = pd.DataFrame({'time': time_axis, 'moving': moving,'still':still,'id':id_column})\n",
    "        lfp_temp = pd.DataFrame({'time': time_axis, 'moving': moving,'id':id_column})\n",
    "\n",
    "        if counter == 0:\n",
    "            lfp_for_tsfresh = pd.DataFrame(lfp_temp)      \n",
    "        else:\n",
    "            lfp_for_tsfresh = pd.concat([lfp_for_tsfresh,lfp_temp])\n",
    "\n",
    "        counter += 1"
   ]
  },
  {
   "cell_type": "code",
   "execution_count": 104,
   "metadata": {
    "collapsed": true
   },
   "outputs": [],
   "source": [
    "#labels =[item for sublist in labels for item in sublist]"
   ]
  },
  {
   "cell_type": "code",
   "execution_count": 105,
   "metadata": {},
   "outputs": [
    {
     "data": {
      "text/plain": [
       "array([0, 1, 2, 3, 4, 5, 6, 7], dtype=int64)"
      ]
     },
     "execution_count": 105,
     "metadata": {},
     "output_type": "execute_result"
    }
   ],
   "source": [
    "lfp_for_tsfresh.id.unique()"
   ]
  },
  {
   "cell_type": "code",
   "execution_count": 106,
   "metadata": {
    "collapsed": true
   },
   "outputs": [],
   "source": [
    "lfp_for_tsfresh.dropna(inplace=True,how='any')\n",
    "lfp_for_tsfresh = lfp_for_tsfresh[pd.isnull(lfp_for_tsfresh.id) == False]\n",
    "lfp_for_tsfresh = lfp_for_tsfresh[np.isfinite(lfp_for_tsfresh.moving) == True]\n",
    "lfp_for_tsfresh.reset_index(drop=True,inplace=True)"
   ]
  },
  {
   "cell_type": "code",
   "execution_count": 107,
   "metadata": {},
   "outputs": [
    {
     "data": {
      "text/plain": [
       "265000"
      ]
     },
     "execution_count": 107,
     "metadata": {},
     "output_type": "execute_result"
    }
   ],
   "source": [
    "len(lfp_for_tsfresh)"
   ]
  },
  {
   "cell_type": "code",
   "execution_count": 108,
   "metadata": {
    "collapsed": true
   },
   "outputs": [],
   "source": [
    "#filter out bad labels:\n",
    "#labels = np.array(labels,dtype=np.int64)[[len(x) > 0 for x in lfp_for_tsfresh.id.values]]\n",
    "#lfp_for_tsfresh = lfp_for_tsfresh[[len(x) > 0 for x in lfp_for_tsfresh.id.values]]"
   ]
  },
  {
   "cell_type": "code",
   "execution_count": 109,
   "metadata": {
    "scrolled": true
   },
   "outputs": [
    {
     "data": {
      "text/plain": [
       "(265000, 8)"
      ]
     },
     "execution_count": 109,
     "metadata": {},
     "output_type": "execute_result"
    }
   ],
   "source": [
    "len(lfp_for_tsfresh),len(labels)"
   ]
  },
  {
   "cell_type": "code",
   "execution_count": 110,
   "metadata": {},
   "outputs": [
    {
     "data": {
      "text/plain": [
       "array([0, 1, 2, 3, 4, 5, 6, 7], dtype=int64)"
      ]
     },
     "execution_count": 110,
     "metadata": {},
     "output_type": "execute_result"
    }
   ],
   "source": [
    "lfp_for_tsfresh.id.unique()"
   ]
  },
  {
   "cell_type": "code",
   "execution_count": 111,
   "metadata": {},
   "outputs": [
    {
     "data": {
      "text/html": [
       "<div>\n",
       "<table border=\"1\" class=\"dataframe\">\n",
       "  <thead>\n",
       "    <tr style=\"text-align: right;\">\n",
       "      <th></th>\n",
       "      <th>id</th>\n",
       "      <th>moving</th>\n",
       "      <th>time</th>\n",
       "    </tr>\n",
       "  </thead>\n",
       "  <tbody>\n",
       "    <tr>\n",
       "      <th>0</th>\n",
       "      <td>0</td>\n",
       "      <td>0.00</td>\n",
       "      <td>0.000</td>\n",
       "    </tr>\n",
       "    <tr>\n",
       "      <th>1</th>\n",
       "      <td>0</td>\n",
       "      <td>0.00</td>\n",
       "      <td>0.004</td>\n",
       "    </tr>\n",
       "    <tr>\n",
       "      <th>2</th>\n",
       "      <td>0</td>\n",
       "      <td>-34.25</td>\n",
       "      <td>0.008</td>\n",
       "    </tr>\n",
       "    <tr>\n",
       "      <th>3</th>\n",
       "      <td>0</td>\n",
       "      <td>-46.50</td>\n",
       "      <td>0.012</td>\n",
       "    </tr>\n",
       "  </tbody>\n",
       "</table>\n",
       "</div>"
      ],
      "text/plain": [
       "   id  moving   time\n",
       "0   0    0.00  0.000\n",
       "1   0    0.00  0.004\n",
       "2   0  -34.25  0.008\n",
       "3   0  -46.50  0.012"
      ]
     },
     "execution_count": 111,
     "metadata": {},
     "output_type": "execute_result"
    }
   ],
   "source": [
    "lfp_for_tsfresh.head(4)"
   ]
  },
  {
   "cell_type": "markdown",
   "metadata": {},
   "source": [
    "### start by extracting features"
   ]
  },
  {
   "cell_type": "code",
   "execution_count": 112,
   "metadata": {},
   "outputs": [
    {
     "data": {
      "text/plain": [
       "array([0, 1, 2, 3, 4, 5, 6, 7], dtype=int64)"
      ]
     },
     "execution_count": 112,
     "metadata": {},
     "output_type": "execute_result"
    }
   ],
   "source": [
    "lfp_for_tsfresh.id.unique()"
   ]
  },
  {
   "cell_type": "code",
   "execution_count": 113,
   "metadata": {},
   "outputs": [
    {
     "data": {
      "text/plain": [
       "8"
      ]
     },
     "execution_count": 113,
     "metadata": {},
     "output_type": "execute_result"
    }
   ],
   "source": [
    "labels = [0,0,0,1,1,1,1,1]\n",
    "len(labels)"
   ]
  },
  {
   "cell_type": "code",
   "execution_count": 114,
   "metadata": {
    "collapsed": true
   },
   "outputs": [],
   "source": [
    "labels = pd.Series(labels)"
   ]
  },
  {
   "cell_type": "code",
   "execution_count": 115,
   "metadata": {},
   "outputs": [
    {
     "data": {
      "text/plain": [
       "0    0\n",
       "1    0\n",
       "2    0\n",
       "3    1\n",
       "4    1\n",
       "5    1\n",
       "6    1\n",
       "7    1\n",
       "dtype: int64"
      ]
     },
     "execution_count": 115,
     "metadata": {},
     "output_type": "execute_result"
    }
   ],
   "source": [
    "labels"
   ]
  },
  {
   "cell_type": "code",
   "execution_count": 116,
   "metadata": {},
   "outputs": [
    {
     "name": "stdout",
     "output_type": "stream",
     "text": [
      "starting ts fresh....\n"
     ]
    },
    {
     "name": "stderr",
     "output_type": "stream",
     "text": [
      "Feature Extraction:   0%|                                                                                                                                                                                             | 0/8 [00:00<?, ?it/s]\n"
     ]
    },
    {
     "ename": "MemoryError",
     "evalue": "",
     "output_type": "error",
     "traceback": [
      "\u001b[1;31m---------------------------------------------------------------------------\u001b[0m",
      "\u001b[1;31mMemoryError\u001b[0m                               Traceback (most recent call last)",
      "\u001b[1;32m<ipython-input-116-f95f01465aac>\u001b[0m in \u001b[0;36m<module>\u001b[1;34m()\u001b[0m\n\u001b[0;32m      1\u001b[0m \u001b[1;32mprint\u001b[0m\u001b[1;33m(\u001b[0m\u001b[1;34m'starting ts fresh....'\u001b[0m\u001b[1;33m)\u001b[0m\u001b[1;33m\u001b[0m\u001b[0m\n\u001b[1;32m----> 2\u001b[1;33m \u001b[0mextracted_features\u001b[0m \u001b[1;33m=\u001b[0m \u001b[0mextract_features\u001b[0m\u001b[1;33m(\u001b[0m\u001b[0mlfp_for_tsfresh\u001b[0m\u001b[1;33m,\u001b[0m \u001b[0mcolumn_id\u001b[0m\u001b[1;33m=\u001b[0m\u001b[1;34m\"id\"\u001b[0m\u001b[1;33m,\u001b[0m \u001b[0mcolumn_sort\u001b[0m\u001b[1;33m=\u001b[0m\u001b[1;34m\"time\"\u001b[0m\u001b[1;33m)\u001b[0m\u001b[1;33m\u001b[0m\u001b[0m\n\u001b[0m\u001b[0;32m      3\u001b[0m \u001b[0mimpute\u001b[0m\u001b[1;33m(\u001b[0m\u001b[0mextracted_features\u001b[0m\u001b[1;33m)\u001b[0m\u001b[1;33m\u001b[0m\u001b[0m\n",
      "\u001b[1;32mC:\\Users\\horsto\\AppData\\Local\\Continuum\\Miniconda2\\envs\\analysis\\lib\\site-packages\\tsfresh\\feature_extraction\\extraction.pyc\u001b[0m in \u001b[0;36mextract_features\u001b[1;34m(timeseries_container, feature_extraction_settings, column_id, column_sort, column_kind, column_value, parallelization)\u001b[0m\n\u001b[0;32m    119\u001b[0m     \u001b[1;32melif\u001b[0m \u001b[0mparallelization\u001b[0m \u001b[1;33m==\u001b[0m \u001b[1;34m'per_sample'\u001b[0m\u001b[1;33m:\u001b[0m\u001b[1;33m\u001b[0m\u001b[0m\n\u001b[0;32m    120\u001b[0m         result = _extract_features_parallel_per_sample(kind_to_df_map, feature_extraction_settings,\n\u001b[1;32m--> 121\u001b[1;33m                                                        column_id, column_value)\n\u001b[0m\u001b[0;32m    122\u001b[0m     \u001b[1;32melif\u001b[0m \u001b[0mparallelization\u001b[0m \u001b[1;33m==\u001b[0m \u001b[1;34m'no_parallelization'\u001b[0m\u001b[1;33m:\u001b[0m\u001b[1;33m\u001b[0m\u001b[0m\n\u001b[0;32m    123\u001b[0m         result = _extract_features_per_kind(kind_to_df_map, feature_extraction_settings,\n",
      "\u001b[1;32mC:\\Users\\horsto\\AppData\\Local\\Continuum\\Miniconda2\\envs\\analysis\\lib\\site-packages\\tsfresh\\feature_extraction\\extraction.pyc\u001b[0m in \u001b[0;36m_extract_features_parallel_per_sample\u001b[1;34m(kind_to_df_map, settings, column_id, column_value)\u001b[0m\n\u001b[0;32m    253\u001b[0m             \u001b[0mmap_result\u001b[0m \u001b[1;33m=\u001b[0m \u001b[0mresults_fifo\u001b[0m\u001b[1;33m.\u001b[0m\u001b[0mget\u001b[0m\u001b[1;33m(\u001b[0m\u001b[1;33m)\u001b[0m\u001b[1;33m\u001b[0m\u001b[0m\n\u001b[0;32m    254\u001b[0m             \u001b[0mdfs_kind\u001b[0m \u001b[1;33m=\u001b[0m \u001b[0miterable_with_tqdm_update\u001b[0m\u001b[1;33m(\u001b[0m\u001b[0mmap_result\u001b[0m\u001b[1;33m,\u001b[0m \u001b[0mprogress_bar\u001b[0m\u001b[1;33m)\u001b[0m\u001b[1;33m\u001b[0m\u001b[0m\n\u001b[1;32m--> 255\u001b[1;33m             \u001b[0mdf_tmp\u001b[0m \u001b[1;33m=\u001b[0m \u001b[0mpd\u001b[0m\u001b[1;33m.\u001b[0m\u001b[0mconcat\u001b[0m\u001b[1;33m(\u001b[0m\u001b[0mdfs_kind\u001b[0m\u001b[1;33m,\u001b[0m \u001b[0maxis\u001b[0m\u001b[1;33m=\u001b[0m\u001b[1;36m0\u001b[0m\u001b[1;33m)\u001b[0m\u001b[1;33m.\u001b[0m\u001b[0mastype\u001b[0m\u001b[1;33m(\u001b[0m\u001b[0mnp\u001b[0m\u001b[1;33m.\u001b[0m\u001b[0mfloat64\u001b[0m\u001b[1;33m)\u001b[0m\u001b[1;33m\u001b[0m\u001b[0m\n\u001b[0m\u001b[0;32m    256\u001b[0m             \u001b[0mresult\u001b[0m \u001b[1;33m=\u001b[0m \u001b[0mpd\u001b[0m\u001b[1;33m.\u001b[0m\u001b[0mconcat\u001b[0m\u001b[1;33m(\u001b[0m\u001b[1;33m[\u001b[0m\u001b[0mresult\u001b[0m\u001b[1;33m,\u001b[0m \u001b[0mdf_tmp\u001b[0m\u001b[1;33m]\u001b[0m\u001b[1;33m,\u001b[0m \u001b[0maxis\u001b[0m\u001b[1;33m=\u001b[0m\u001b[1;36m1\u001b[0m\u001b[1;33m)\u001b[0m\u001b[1;33m.\u001b[0m\u001b[0mastype\u001b[0m\u001b[1;33m(\u001b[0m\u001b[0mnp\u001b[0m\u001b[1;33m.\u001b[0m\u001b[0mfloat64\u001b[0m\u001b[1;33m)\u001b[0m\u001b[1;33m\u001b[0m\u001b[0m\n\u001b[0;32m    257\u001b[0m \u001b[1;33m\u001b[0m\u001b[0m\n",
      "\u001b[1;32mC:\\Users\\horsto\\AppData\\Local\\Continuum\\Miniconda2\\envs\\analysis\\lib\\site-packages\\pandas\\tools\\merge.pyc\u001b[0m in \u001b[0;36mconcat\u001b[1;34m(objs, axis, join, join_axes, ignore_index, keys, levels, names, verify_integrity, copy)\u001b[0m\n\u001b[0;32m   1449\u001b[0m                        \u001b[0mkeys\u001b[0m\u001b[1;33m=\u001b[0m\u001b[0mkeys\u001b[0m\u001b[1;33m,\u001b[0m \u001b[0mlevels\u001b[0m\u001b[1;33m=\u001b[0m\u001b[0mlevels\u001b[0m\u001b[1;33m,\u001b[0m \u001b[0mnames\u001b[0m\u001b[1;33m=\u001b[0m\u001b[0mnames\u001b[0m\u001b[1;33m,\u001b[0m\u001b[1;33m\u001b[0m\u001b[0m\n\u001b[0;32m   1450\u001b[0m                        \u001b[0mverify_integrity\u001b[0m\u001b[1;33m=\u001b[0m\u001b[0mverify_integrity\u001b[0m\u001b[1;33m,\u001b[0m\u001b[1;33m\u001b[0m\u001b[0m\n\u001b[1;32m-> 1451\u001b[1;33m                        copy=copy)\n\u001b[0m\u001b[0;32m   1452\u001b[0m     \u001b[1;32mreturn\u001b[0m \u001b[0mop\u001b[0m\u001b[1;33m.\u001b[0m\u001b[0mget_result\u001b[0m\u001b[1;33m(\u001b[0m\u001b[1;33m)\u001b[0m\u001b[1;33m\u001b[0m\u001b[0m\n\u001b[0;32m   1453\u001b[0m \u001b[1;33m\u001b[0m\u001b[0m\n",
      "\u001b[1;32mC:\\Users\\horsto\\AppData\\Local\\Continuum\\Miniconda2\\envs\\analysis\\lib\\site-packages\\pandas\\tools\\merge.pyc\u001b[0m in \u001b[0;36m__init__\u001b[1;34m(self, objs, axis, join, join_axes, keys, levels, names, ignore_index, verify_integrity, copy)\u001b[0m\n\u001b[0;32m   1479\u001b[0m             \u001b[0mobjs\u001b[0m \u001b[1;33m=\u001b[0m \u001b[1;33m[\u001b[0m\u001b[0mobjs\u001b[0m\u001b[1;33m[\u001b[0m\u001b[0mk\u001b[0m\u001b[1;33m]\u001b[0m \u001b[1;32mfor\u001b[0m \u001b[0mk\u001b[0m \u001b[1;32min\u001b[0m \u001b[0mkeys\u001b[0m\u001b[1;33m]\u001b[0m\u001b[1;33m\u001b[0m\u001b[0m\n\u001b[0;32m   1480\u001b[0m         \u001b[1;32melse\u001b[0m\u001b[1;33m:\u001b[0m\u001b[1;33m\u001b[0m\u001b[0m\n\u001b[1;32m-> 1481\u001b[1;33m             \u001b[0mobjs\u001b[0m \u001b[1;33m=\u001b[0m \u001b[0mlist\u001b[0m\u001b[1;33m(\u001b[0m\u001b[0mobjs\u001b[0m\u001b[1;33m)\u001b[0m\u001b[1;33m\u001b[0m\u001b[0m\n\u001b[0m\u001b[0;32m   1482\u001b[0m \u001b[1;33m\u001b[0m\u001b[0m\n\u001b[0;32m   1483\u001b[0m         \u001b[1;32mif\u001b[0m \u001b[0mlen\u001b[0m\u001b[1;33m(\u001b[0m\u001b[0mobjs\u001b[0m\u001b[1;33m)\u001b[0m \u001b[1;33m==\u001b[0m \u001b[1;36m0\u001b[0m\u001b[1;33m:\u001b[0m\u001b[1;33m\u001b[0m\u001b[0m\n",
      "\u001b[1;32mC:\\Users\\horsto\\AppData\\Local\\Continuum\\Miniconda2\\envs\\analysis\\lib\\site-packages\\tsfresh\\feature_extraction\\extraction.pyc\u001b[0m in \u001b[0;36miterable_with_tqdm_update\u001b[1;34m(queue, progress_bar)\u001b[0m\n\u001b[0;32m    245\u001b[0m         \u001b[1;31m# a new result is there\u001b[0m\u001b[1;33m\u001b[0m\u001b[1;33m\u001b[0m\u001b[0m\n\u001b[0;32m    246\u001b[0m         \u001b[1;32mdef\u001b[0m \u001b[0miterable_with_tqdm_update\u001b[0m\u001b[1;33m(\u001b[0m\u001b[0mqueue\u001b[0m\u001b[1;33m,\u001b[0m \u001b[0mprogress_bar\u001b[0m\u001b[1;33m)\u001b[0m\u001b[1;33m:\u001b[0m\u001b[1;33m\u001b[0m\u001b[0m\n\u001b[1;32m--> 247\u001b[1;33m             \u001b[1;32mfor\u001b[0m \u001b[0melement\u001b[0m \u001b[1;32min\u001b[0m \u001b[0mqueue\u001b[0m\u001b[1;33m:\u001b[0m\u001b[1;33m\u001b[0m\u001b[0m\n\u001b[0m\u001b[0;32m    248\u001b[0m                 \u001b[0mprogress_bar\u001b[0m\u001b[1;33m.\u001b[0m\u001b[0mupdate\u001b[0m\u001b[1;33m(\u001b[0m\u001b[1;36m1\u001b[0m\u001b[1;33m)\u001b[0m\u001b[1;33m\u001b[0m\u001b[0m\n\u001b[0;32m    249\u001b[0m                 \u001b[1;32myield\u001b[0m \u001b[0melement\u001b[0m\u001b[1;33m\u001b[0m\u001b[0m\n",
      "\u001b[1;32mC:\\Users\\horsto\\AppData\\Local\\Continuum\\Miniconda2\\envs\\analysis\\lib\\multiprocessing\\pool.pyc\u001b[0m in \u001b[0;36mnext\u001b[1;34m(self, timeout)\u001b[0m\n\u001b[0;32m    666\u001b[0m         \u001b[1;32mif\u001b[0m \u001b[0msuccess\u001b[0m\u001b[1;33m:\u001b[0m\u001b[1;33m\u001b[0m\u001b[0m\n\u001b[0;32m    667\u001b[0m             \u001b[1;32mreturn\u001b[0m \u001b[0mvalue\u001b[0m\u001b[1;33m\u001b[0m\u001b[0m\n\u001b[1;32m--> 668\u001b[1;33m         \u001b[1;32mraise\u001b[0m \u001b[0mvalue\u001b[0m\u001b[1;33m\u001b[0m\u001b[0m\n\u001b[0m\u001b[0;32m    669\u001b[0m \u001b[1;33m\u001b[0m\u001b[0m\n\u001b[0;32m    670\u001b[0m     \u001b[0m__next__\u001b[0m \u001b[1;33m=\u001b[0m \u001b[0mnext\u001b[0m                    \u001b[1;31m# XXX\u001b[0m\u001b[1;33m\u001b[0m\u001b[0m\n",
      "\u001b[1;31mMemoryError\u001b[0m: "
     ]
    }
   ],
   "source": [
    "print('starting ts fresh....')\n",
    "extracted_features = extract_features(lfp_for_tsfresh, column_id=\"id\", column_sort=\"time\")\n",
    "impute(extracted_features)"
   ]
  },
  {
   "cell_type": "code",
   "execution_count": 101,
   "metadata": {},
   "outputs": [
    {
     "data": {
      "text/plain": [
       "0    0\n",
       "1    0\n",
       "2    0\n",
       "3    1\n",
       "4    1\n",
       "5    1\n",
       "6    1\n",
       "7    1\n",
       "dtype: int64"
      ]
     },
     "execution_count": 101,
     "metadata": {},
     "output_type": "execute_result"
    }
   ],
   "source": [
    "labels"
   ]
  },
  {
   "cell_type": "code",
   "execution_count": 99,
   "metadata": {},
   "outputs": [
    {
     "name": "stderr",
     "output_type": "stream",
     "text": [
      "Feature Selection: 100%|██████████████████████████████████████████████████████████████████████████████████████████████████████████████████████████████████████████████████████████████████████████████████| 222/222 [00:04<00:00, 46.05it/s]\n"
     ]
    },
    {
     "name": "stdout",
     "output_type": "stream",
     "text": [
      "finished!\n"
     ]
    }
   ],
   "source": [
    "features_filtered = select_features(extracted_features, labels)\n",
    "\n",
    "export_path_pickle  = r\"C:\\work\\python\\klusta_analysis\\postgres_notebooks\\export_dataframes\"\n",
    "export_path_pickle = \"/\".join(export_path_pickle.split(\"\\\\\"))\n",
    "features_filtered.to_pickle(export_path_pickle + \"/features_filtered.pkl\")\n",
    "print('finished!')"
   ]
  },
  {
   "cell_type": "code",
   "execution_count": 100,
   "metadata": {},
   "outputs": [
    {
     "data": {
      "text/html": [
       "<div>\n",
       "<table border=\"1\" class=\"dataframe\">\n",
       "  <thead>\n",
       "    <tr style=\"text-align: right;\">\n",
       "      <th></th>\n",
       "    </tr>\n",
       "    <tr>\n",
       "      <th>id</th>\n",
       "    </tr>\n",
       "  </thead>\n",
       "  <tbody>\n",
       "    <tr>\n",
       "      <th>0</th>\n",
       "    </tr>\n",
       "    <tr>\n",
       "      <th>1</th>\n",
       "    </tr>\n",
       "    <tr>\n",
       "      <th>2</th>\n",
       "    </tr>\n",
       "    <tr>\n",
       "      <th>6</th>\n",
       "    </tr>\n",
       "    <tr>\n",
       "      <th>7</th>\n",
       "    </tr>\n",
       "    <tr>\n",
       "      <th>3</th>\n",
       "    </tr>\n",
       "    <tr>\n",
       "      <th>5</th>\n",
       "    </tr>\n",
       "    <tr>\n",
       "      <th>4</th>\n",
       "    </tr>\n",
       "  </tbody>\n",
       "</table>\n",
       "</div>"
      ],
      "text/plain": [
       "Empty DataFrame\n",
       "Columns: []\n",
       "Index: [0, 1, 2, 6, 7, 3, 5, 4]"
      ]
     },
     "execution_count": 100,
     "metadata": {},
     "output_type": "execute_result"
    }
   ],
   "source": [
    "features_filtered"
   ]
  },
  {
   "cell_type": "code",
   "execution_count": null,
   "metadata": {
    "collapsed": true
   },
   "outputs": [],
   "source": []
  }
 ],
 "metadata": {
  "kernelspec": {
   "display_name": "Python 2",
   "language": "python",
   "name": "python2"
  },
  "language_info": {
   "codemirror_mode": {
    "name": "ipython",
    "version": 2
   },
   "file_extension": ".py",
   "mimetype": "text/x-python",
   "name": "python",
   "nbconvert_exporter": "python",
   "pygments_lexer": "ipython2",
   "version": "2.7.12"
  },
  "widgets": {
   "application/vnd.jupyter.widget-state+json": {
    "state": {
     "142739941ccb492184dc4a29daf88f05": {
      "model_module": "jupyter-js-widgets",
      "model_module_version": "~2.0.30",
      "model_name": "LayoutModel",
      "state": {
       "_model_module_version": "~2.0.30",
       "_view_module_version": "~2.0.30"
      }
     },
     "18f095f85119473183435ea6ab677fe3": {
      "model_module": "jupyter-js-widgets",
      "model_module_version": "~2.0.30",
      "model_name": "OutputModel",
      "state": {
       "_dom_classes": [],
       "_model_module": "jupyter-js-widgets",
       "_model_module_version": "~2.0.30",
       "_view_module": "jupyter-js-widgets",
       "_view_module_version": "~2.0.30",
       "layout": "IPY_MODEL_142739941ccb492184dc4a29daf88f05",
       "msg_throttle": 1
      }
     },
     "1ec8d4195e3f41a780ff1340e9dcc5a1": {
      "model_module": "jupyter-js-widgets",
      "model_module_version": "~2.0.30",
      "model_name": "LayoutModel",
      "state": {
       "_model_module_version": "~2.0.30",
       "_view_module_version": "~2.0.30"
      }
     },
     "6c826c931af7406e923d24fc67d9462f": {
      "model_module": "jupyter-js-widgets",
      "model_module_version": "~2.0.30",
      "model_name": "SliderStyleModel",
      "state": {
       "_model_module_version": "~2.0.30",
       "_view_module_version": "~2.0.30"
      }
     },
     "af3d44e19ad846cbb076e9983825fc21": {
      "model_module": "jupyter-js-widgets",
      "model_module_version": "~2.0.30",
      "model_name": "VBoxModel",
      "state": {
       "_dom_classes": [
        "widget-interact"
       ],
       "_model_module_version": "~2.0.30",
       "_view_module_version": "~2.0.30",
       "children": [
        "IPY_MODEL_e10f82066fb945d6b8f2f38689e207e7",
        "IPY_MODEL_18f095f85119473183435ea6ab677fe3"
       ],
       "layout": "IPY_MODEL_ce6232d4b70d4a1e83b5f9c6fdb11409"
      }
     },
     "ce6232d4b70d4a1e83b5f9c6fdb11409": {
      "model_module": "jupyter-js-widgets",
      "model_module_version": "~2.0.30",
      "model_name": "LayoutModel",
      "state": {
       "_model_module_version": "~2.0.30",
       "_view_module_version": "~2.0.30"
      }
     },
     "e10f82066fb945d6b8f2f38689e207e7": {
      "model_module": "jupyter-js-widgets",
      "model_module_version": "~2.0.30",
      "model_name": "IntSliderModel",
      "state": {
       "_model_module_version": "~2.0.30",
       "_view_module_version": "~2.0.30",
       "description": "i",
       "layout": "IPY_MODEL_1ec8d4195e3f41a780ff1340e9dcc5a1",
       "max": 1796,
       "style": "IPY_MODEL_6c826c931af7406e923d24fc67d9462f",
       "value": 912
      }
     }
    },
    "version_major": 1,
    "version_minor": 0
   }
  }
 },
 "nbformat": 4,
 "nbformat_minor": 1
}
