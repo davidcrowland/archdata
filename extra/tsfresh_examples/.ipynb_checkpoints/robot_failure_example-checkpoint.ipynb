{
 "cells": [
  {
   "cell_type": "markdown",
   "metadata": {},
   "source": [
    "# TSFRESH Robot Failure Example\n",
    "This example show shows how to use [tsfresh](https://tsfresh.readthedocs.io/) to exctract useful features from multiple timeseries and use them to improve classification performance."
   ]
  },
  {
   "cell_type": "code",
   "execution_count": 1,
   "metadata": {},
   "outputs": [],
   "source": [
    "%matplotlib inline\n",
    "import matplotlib.pylab as plt\n",
    "import seaborn as sns\n",
    "from tsfresh.examples.robot_execution_failures import download_robot_execution_failures, load_robot_execution_failures\n",
    "from tsfresh import extract_features, extract_relevant_features, select_features\n",
    "from tsfresh.utilities.dataframe_functions import impute\n",
    "from tsfresh.feature_extraction import ComprehensiveFCParameters\n",
    "from sklearn.tree import DecisionTreeClassifier\n",
    "from sklearn.cross_validation import train_test_split\n",
    "from sklearn.metrics import classification_report"
   ]
  },
  {
   "cell_type": "markdown",
   "metadata": {},
   "source": [
    "## Load and visualize data\n",
    "The data consists of timeseries for 88 robots (`id` 1 - 88).  For each robot, each timepoint (`time`) contains datapoints from 6 sensors (`a` - `f`) leading up to a success or failure (`y`)."
   ]
  },
  {
   "cell_type": "code",
   "execution_count": 30,
   "metadata": {},
   "outputs": [
    {
     "name": "stderr",
     "output_type": "stream",
     "text": [
      "WARNING:tsfresh.examples.robot_execution_failures:You have already downloaded the Robot Execution Failures LP1 Data Set.\n"
     ]
    },
    {
     "data": {
      "text/html": [
       "<div>\n",
       "<table border=\"1\" class=\"dataframe\">\n",
       "  <thead>\n",
       "    <tr style=\"text-align: right;\">\n",
       "      <th></th>\n",
       "      <th>id</th>\n",
       "      <th>time</th>\n",
       "      <th>a</th>\n",
       "      <th>b</th>\n",
       "      <th>c</th>\n",
       "      <th>d</th>\n",
       "      <th>e</th>\n",
       "      <th>f</th>\n",
       "    </tr>\n",
       "  </thead>\n",
       "  <tbody>\n",
       "    <tr>\n",
       "      <th>0</th>\n",
       "      <td>1</td>\n",
       "      <td>0</td>\n",
       "      <td>-1</td>\n",
       "      <td>-1</td>\n",
       "      <td>63</td>\n",
       "      <td>-3</td>\n",
       "      <td>-1</td>\n",
       "      <td>0</td>\n",
       "    </tr>\n",
       "    <tr>\n",
       "      <th>1</th>\n",
       "      <td>1</td>\n",
       "      <td>1</td>\n",
       "      <td>0</td>\n",
       "      <td>0</td>\n",
       "      <td>62</td>\n",
       "      <td>-3</td>\n",
       "      <td>-1</td>\n",
       "      <td>0</td>\n",
       "    </tr>\n",
       "    <tr>\n",
       "      <th>2</th>\n",
       "      <td>1</td>\n",
       "      <td>2</td>\n",
       "      <td>-1</td>\n",
       "      <td>-1</td>\n",
       "      <td>61</td>\n",
       "      <td>-3</td>\n",
       "      <td>0</td>\n",
       "      <td>0</td>\n",
       "    </tr>\n",
       "    <tr>\n",
       "      <th>3</th>\n",
       "      <td>1</td>\n",
       "      <td>3</td>\n",
       "      <td>-1</td>\n",
       "      <td>-1</td>\n",
       "      <td>63</td>\n",
       "      <td>-2</td>\n",
       "      <td>-1</td>\n",
       "      <td>0</td>\n",
       "    </tr>\n",
       "    <tr>\n",
       "      <th>4</th>\n",
       "      <td>1</td>\n",
       "      <td>4</td>\n",
       "      <td>-1</td>\n",
       "      <td>-1</td>\n",
       "      <td>63</td>\n",
       "      <td>-3</td>\n",
       "      <td>-1</td>\n",
       "      <td>0</td>\n",
       "    </tr>\n",
       "  </tbody>\n",
       "</table>\n",
       "</div>"
      ],
      "text/plain": [
       "   id  time  a  b   c  d  e  f\n",
       "0   1     0 -1 -1  63 -3 -1  0\n",
       "1   1     1  0  0  62 -3 -1  0\n",
       "2   1     2 -1 -1  61 -3  0  0\n",
       "3   1     3 -1 -1  63 -2 -1  0\n",
       "4   1     4 -1 -1  63 -3 -1  0"
      ]
     },
     "execution_count": 30,
     "metadata": {},
     "output_type": "execute_result"
    }
   ],
   "source": [
    "download_robot_execution_failures()\n",
    "df, y = load_robot_execution_failures()\n",
    "df.head()"
   ]
  },
  {
   "cell_type": "code",
   "execution_count": 31,
   "metadata": {},
   "outputs": [
    {
     "data": {
      "text/plain": [
       "(1320, 8)"
      ]
     },
     "execution_count": 31,
     "metadata": {},
     "output_type": "execute_result"
    }
   ],
   "source": [
    "df.shape"
   ]
  },
  {
   "cell_type": "code",
   "execution_count": 32,
   "metadata": {},
   "outputs": [
    {
     "data": {
      "text/plain": [
       "(88L,)"
      ]
     },
     "execution_count": 32,
     "metadata": {},
     "output_type": "execute_result"
    }
   ],
   "source": [
    "y.shape"
   ]
  },
  {
   "cell_type": "code",
   "execution_count": 3,
   "metadata": {},
   "outputs": [
    {
     "data": {
      "image/png": "[encoded data removed]",
      "text/plain": [
       "<matplotlib.figure.Figure at 0x4a322b0>"
      ]
     },
     "metadata": {},
     "output_type": "display_data"
    },
    {
     "data": {
      "image/png": "[encoded data removed]",
      "text/plain": [
       "<matplotlib.figure.Figure at 0xb9adcc0>"
      ]
     },
     "metadata": {},
     "output_type": "display_data"
    }
   ],
   "source": [
    "df[df.id == 3][['time', 'a', 'b', 'c', 'd', 'e', 'f']].plot(x='time', title='Success example (id 3)', figsize=(12, 6));\n",
    "df[df.id == 20][['time', 'a', 'b', 'c', 'd', 'e', 'f']].plot(x='time', title='Failure example (id 20)', figsize=(12, 6));"
   ]
  },
  {
   "cell_type": "markdown",
   "metadata": {},
   "source": [
    "## Extract Features"
   ]
  },
  {
   "cell_type": "code",
   "execution_count": 4,
   "metadata": {
    "collapsed": true
   },
   "outputs": [],
   "source": [
    "extraction_settings = ComprehensiveFCParameters()"
   ]
  },
  {
   "cell_type": "code",
   "execution_count": 7,
   "metadata": {},
   "outputs": [
    {
     "name": "stderr",
     "output_type": "stream",
     "text": [
      "Feature Extraction: 100%|████████████████████████████████████████████████████████████████| 6/6 [00:06<00:00,  1.05s/it]\n",
      "WARNING:tsfresh.utilities.dataframe_functions:The columns ['a__spkt_welch_density__coeff_8' 'c__spkt_welch_density__coeff_8'\n",
      " 'b__spkt_welch_density__coeff_8' 'e__spkt_welch_density__coeff_8'\n",
      " 'd__spkt_welch_density__coeff_8' 'f__spkt_welch_density__coeff_8'] did not have any finite values. Filling with zeros.\n"
     ]
    }
   ],
   "source": [
    "X = extract_features(df, \n",
    "                     column_id='id', column_sort='time',\n",
    "                     default_fc_parameters=extraction_settings,\n",
    "                     impute_function= impute)"
   ]
  },
  {
   "cell_type": "code",
   "execution_count": 8,
   "metadata": {},
   "outputs": [
    {
     "data": {
      "text/html": [
       "<div>\n",
       "<table border=\"1\" class=\"dataframe\">\n",
       "  <thead>\n",
       "    <tr style=\"text-align: right;\">\n",
       "      <th></th>\n",
       "      <th>a__mean_abs_change_quantiles__qh_1.0__ql_0.8</th>\n",
       "      <th>a__percentage_of_reoccurring_values_to_all_values</th>\n",
       "      <th>a__mean_abs_change_quantiles__qh_1.0__ql_0.2</th>\n",
       "      <th>a__mean_abs_change_quantiles__qh_1.0__ql_0.0</th>\n",
       "      <th>a__large_standard_deviation__r_0.45</th>\n",
       "      <th>a__absolute_sum_of_changes</th>\n",
       "      <th>a__mean_abs_change_quantiles__qh_1.0__ql_0.4</th>\n",
       "      <th>a__mean_second_derivate_central</th>\n",
       "      <th>a__autocorrelation__lag_4</th>\n",
       "      <th>a__binned_entropy__max_bins_10</th>\n",
       "      <th>...</th>\n",
       "      <th>f__fft_coefficient__coeff_0</th>\n",
       "      <th>f__fft_coefficient__coeff_1</th>\n",
       "      <th>f__fft_coefficient__coeff_2</th>\n",
       "      <th>f__fft_coefficient__coeff_3</th>\n",
       "      <th>f__fft_coefficient__coeff_4</th>\n",
       "      <th>f__fft_coefficient__coeff_5</th>\n",
       "      <th>f__fft_coefficient__coeff_6</th>\n",
       "      <th>f__fft_coefficient__coeff_7</th>\n",
       "      <th>f__fft_coefficient__coeff_8</th>\n",
       "      <th>f__fft_coefficient__coeff_9</th>\n",
       "    </tr>\n",
       "    <tr>\n",
       "      <th>id</th>\n",
       "      <th></th>\n",
       "      <th></th>\n",
       "      <th></th>\n",
       "      <th></th>\n",
       "      <th></th>\n",
       "      <th></th>\n",
       "      <th></th>\n",
       "      <th></th>\n",
       "      <th></th>\n",
       "      <th></th>\n",
       "      <th></th>\n",
       "      <th></th>\n",
       "      <th></th>\n",
       "      <th></th>\n",
       "      <th></th>\n",
       "      <th></th>\n",
       "      <th></th>\n",
       "      <th></th>\n",
       "      <th></th>\n",
       "      <th></th>\n",
       "      <th></th>\n",
       "    </tr>\n",
       "  </thead>\n",
       "  <tbody>\n",
       "    <tr>\n",
       "      <th>1</th>\n",
       "      <td>0.142857</td>\n",
       "      <td>0.933333</td>\n",
       "      <td>0.142857</td>\n",
       "      <td>0.142857</td>\n",
       "      <td>0.0</td>\n",
       "      <td>2.0</td>\n",
       "      <td>0.142857</td>\n",
       "      <td>-0.038462</td>\n",
       "      <td>0.17553</td>\n",
       "      <td>0.244930</td>\n",
       "      <td>...</td>\n",
       "      <td>0.0</td>\n",
       "      <td>0.000000</td>\n",
       "      <td>0.000000</td>\n",
       "      <td>0.000000</td>\n",
       "      <td>0.000000</td>\n",
       "      <td>0.0</td>\n",
       "      <td>0.000000</td>\n",
       "      <td>0.000000</td>\n",
       "      <td>0.0</td>\n",
       "      <td>0.0</td>\n",
       "    </tr>\n",
       "    <tr>\n",
       "      <th>2</th>\n",
       "      <td>0.000000</td>\n",
       "      <td>1.000000</td>\n",
       "      <td>0.400000</td>\n",
       "      <td>1.000000</td>\n",
       "      <td>0.0</td>\n",
       "      <td>14.0</td>\n",
       "      <td>0.400000</td>\n",
       "      <td>-0.038462</td>\n",
       "      <td>0.17553</td>\n",
       "      <td>0.990835</td>\n",
       "      <td>...</td>\n",
       "      <td>-4.0</td>\n",
       "      <td>0.744415</td>\n",
       "      <td>1.273659</td>\n",
       "      <td>-0.809017</td>\n",
       "      <td>1.373619</td>\n",
       "      <td>0.5</td>\n",
       "      <td>0.309017</td>\n",
       "      <td>-1.391693</td>\n",
       "      <td>0.0</td>\n",
       "      <td>0.0</td>\n",
       "    </tr>\n",
       "    <tr>\n",
       "      <th>3</th>\n",
       "      <td>0.000000</td>\n",
       "      <td>0.933333</td>\n",
       "      <td>0.714286</td>\n",
       "      <td>0.714286</td>\n",
       "      <td>0.0</td>\n",
       "      <td>10.0</td>\n",
       "      <td>0.714286</td>\n",
       "      <td>-0.038462</td>\n",
       "      <td>0.17553</td>\n",
       "      <td>0.729871</td>\n",
       "      <td>...</td>\n",
       "      <td>-4.0</td>\n",
       "      <td>-0.424716</td>\n",
       "      <td>0.878188</td>\n",
       "      <td>1.000000</td>\n",
       "      <td>1.851767</td>\n",
       "      <td>0.5</td>\n",
       "      <td>1.000000</td>\n",
       "      <td>-2.805239</td>\n",
       "      <td>0.0</td>\n",
       "      <td>0.0</td>\n",
       "    </tr>\n",
       "    <tr>\n",
       "      <th>4</th>\n",
       "      <td>0.000000</td>\n",
       "      <td>1.000000</td>\n",
       "      <td>0.800000</td>\n",
       "      <td>1.214286</td>\n",
       "      <td>0.0</td>\n",
       "      <td>17.0</td>\n",
       "      <td>0.800000</td>\n",
       "      <td>-0.038462</td>\n",
       "      <td>0.17553</td>\n",
       "      <td>1.322950</td>\n",
       "      <td>...</td>\n",
       "      <td>-5.0</td>\n",
       "      <td>-1.078108</td>\n",
       "      <td>3.678858</td>\n",
       "      <td>-3.618034</td>\n",
       "      <td>-1.466977</td>\n",
       "      <td>-0.5</td>\n",
       "      <td>-1.381966</td>\n",
       "      <td>-0.633773</td>\n",
       "      <td>0.0</td>\n",
       "      <td>0.0</td>\n",
       "    </tr>\n",
       "    <tr>\n",
       "      <th>5</th>\n",
       "      <td>2.000000</td>\n",
       "      <td>0.866667</td>\n",
       "      <td>0.916667</td>\n",
       "      <td>0.928571</td>\n",
       "      <td>0.0</td>\n",
       "      <td>13.0</td>\n",
       "      <td>0.916667</td>\n",
       "      <td>0.038462</td>\n",
       "      <td>0.17553</td>\n",
       "      <td>1.020037</td>\n",
       "      <td>...</td>\n",
       "      <td>-2.0</td>\n",
       "      <td>-3.743460</td>\n",
       "      <td>3.049653</td>\n",
       "      <td>-0.618034</td>\n",
       "      <td>1.198375</td>\n",
       "      <td>-0.5</td>\n",
       "      <td>1.618034</td>\n",
       "      <td>-0.004568</td>\n",
       "      <td>0.0</td>\n",
       "      <td>0.0</td>\n",
       "    </tr>\n",
       "  </tbody>\n",
       "</table>\n",
       "<p>5 rows × 1332 columns</p>\n",
       "</div>"
      ],
      "text/plain": [
       "    a__mean_abs_change_quantiles__qh_1.0__ql_0.8  \\\n",
       "id                                                 \n",
       "1                                       0.142857   \n",
       "2                                       0.000000   \n",
       "3                                       0.000000   \n",
       "4                                       0.000000   \n",
       "5                                       2.000000   \n",
       "\n",
       "    a__percentage_of_reoccurring_values_to_all_values  \\\n",
       "id                                                      \n",
       "1                                            0.933333   \n",
       "2                                            1.000000   \n",
       "3                                            0.933333   \n",
       "4                                            1.000000   \n",
       "5                                            0.866667   \n",
       "\n",
       "    a__mean_abs_change_quantiles__qh_1.0__ql_0.2  \\\n",
       "id                                                 \n",
       "1                                       0.142857   \n",
       "2                                       0.400000   \n",
       "3                                       0.714286   \n",
       "4                                       0.800000   \n",
       "5                                       0.916667   \n",
       "\n",
       "    a__mean_abs_change_quantiles__qh_1.0__ql_0.0  \\\n",
       "id                                                 \n",
       "1                                       0.142857   \n",
       "2                                       1.000000   \n",
       "3                                       0.714286   \n",
       "4                                       1.214286   \n",
       "5                                       0.928571   \n",
       "\n",
       "    a__large_standard_deviation__r_0.45  a__absolute_sum_of_changes  \\\n",
       "id                                                                    \n",
       "1                                   0.0                         2.0   \n",
       "2                                   0.0                        14.0   \n",
       "3                                   0.0                        10.0   \n",
       "4                                   0.0                        17.0   \n",
       "5                                   0.0                        13.0   \n",
       "\n",
       "    a__mean_abs_change_quantiles__qh_1.0__ql_0.4  \\\n",
       "id                                                 \n",
       "1                                       0.142857   \n",
       "2                                       0.400000   \n",
       "3                                       0.714286   \n",
       "4                                       0.800000   \n",
       "5                                       0.916667   \n",
       "\n",
       "    a__mean_second_derivate_central  a__autocorrelation__lag_4  \\\n",
       "id                                                               \n",
       "1                         -0.038462                    0.17553   \n",
       "2                         -0.038462                    0.17553   \n",
       "3                         -0.038462                    0.17553   \n",
       "4                         -0.038462                    0.17553   \n",
       "5                          0.038462                    0.17553   \n",
       "\n",
       "    a__binned_entropy__max_bins_10             ...               \\\n",
       "id                                             ...                \n",
       "1                         0.244930             ...                \n",
       "2                         0.990835             ...                \n",
       "3                         0.729871             ...                \n",
       "4                         1.322950             ...                \n",
       "5                         1.020037             ...                \n",
       "\n",
       "    f__fft_coefficient__coeff_0  f__fft_coefficient__coeff_1  \\\n",
       "id                                                             \n",
       "1                           0.0                     0.000000   \n",
       "2                          -4.0                     0.744415   \n",
       "3                          -4.0                    -0.424716   \n",
       "4                          -5.0                    -1.078108   \n",
       "5                          -2.0                    -3.743460   \n",
       "\n",
       "    f__fft_coefficient__coeff_2  f__fft_coefficient__coeff_3  \\\n",
       "id                                                             \n",
       "1                      0.000000                     0.000000   \n",
       "2                      1.273659                    -0.809017   \n",
       "3                      0.878188                     1.000000   \n",
       "4                      3.678858                    -3.618034   \n",
       "5                      3.049653                    -0.618034   \n",
       "\n",
       "    f__fft_coefficient__coeff_4  f__fft_coefficient__coeff_5  \\\n",
       "id                                                             \n",
       "1                      0.000000                          0.0   \n",
       "2                      1.373619                          0.5   \n",
       "3                      1.851767                          0.5   \n",
       "4                     -1.466977                         -0.5   \n",
       "5                      1.198375                         -0.5   \n",
       "\n",
       "    f__fft_coefficient__coeff_6  f__fft_coefficient__coeff_7  \\\n",
       "id                                                             \n",
       "1                      0.000000                     0.000000   \n",
       "2                      0.309017                    -1.391693   \n",
       "3                      1.000000                    -2.805239   \n",
       "4                     -1.381966                    -0.633773   \n",
       "5                      1.618034                    -0.004568   \n",
       "\n",
       "    f__fft_coefficient__coeff_8  f__fft_coefficient__coeff_9  \n",
       "id                                                            \n",
       "1                           0.0                          0.0  \n",
       "2                           0.0                          0.0  \n",
       "3                           0.0                          0.0  \n",
       "4                           0.0                          0.0  \n",
       "5                           0.0                          0.0  \n",
       "\n",
       "[5 rows x 1332 columns]"
      ]
     },
     "execution_count": 8,
     "metadata": {},
     "output_type": "execute_result"
    }
   ],
   "source": [
    "X.head()"
   ]
  },
  {
   "cell_type": "code",
   "execution_count": 9,
   "metadata": {},
   "outputs": [
    {
     "name": "stdout",
     "output_type": "stream",
     "text": [
      "<class 'pandas.core.frame.DataFrame'>\n",
      "Int64Index: 88 entries, 1 to 88\n",
      "Columns: 1332 entries, a__mean_abs_change_quantiles__qh_1.0__ql_0.8 to f__fft_coefficient__coeff_9\n",
      "dtypes: float64(1332)\n",
      "memory usage: 916.4 KB\n"
     ]
    }
   ],
   "source": [
    "X.info()"
   ]
  },
  {
   "cell_type": "code",
   "execution_count": 36,
   "metadata": {},
   "outputs": [
    {
     "name": "stderr",
     "output_type": "stream",
     "text": [
      "Feature Extraction: 100%|████████████████████████████████████████████████████████████████| 6/6 [00:06<00:00,  1.05s/it]\n",
      "WARNING:tsfresh.utilities.dataframe_functions:The columns ['a__spkt_welch_density__coeff_8' 'c__spkt_welch_density__coeff_8'\n",
      " 'b__spkt_welch_density__coeff_8' 'e__spkt_welch_density__coeff_8'\n",
      " 'd__spkt_welch_density__coeff_8' 'f__spkt_welch_density__coeff_8'] did not have any finite values. Filling with zeros.\n"
     ]
    }
   ],
   "source": [
    "X_filtered = extract_relevant_features(df, y, \n",
    "                                       column_id='id', column_sort='time', \n",
    "                                       default_fc_parameters=extraction_settings)"
   ]
  },
  {
   "cell_type": "code",
   "execution_count": 11,
   "metadata": {
    "scrolled": true
   },
   "outputs": [
    {
     "data": {
      "text/html": [
       "<div>\n",
       "<table border=\"1\" class=\"dataframe\">\n",
       "  <thead>\n",
       "    <tr style=\"text-align: right;\">\n",
       "      <th></th>\n",
       "      <th>a__abs_energy</th>\n",
       "      <th>a__range_count__max_1__min_-1</th>\n",
       "      <th>b__abs_energy</th>\n",
       "      <th>e__standard_deviation</th>\n",
       "      <th>e__variance</th>\n",
       "      <th>e__abs_energy</th>\n",
       "      <th>c__standard_deviation</th>\n",
       "      <th>c__variance</th>\n",
       "      <th>a__standard_deviation</th>\n",
       "      <th>a__variance</th>\n",
       "      <th>...</th>\n",
       "      <th>d__quantile__q_0.1</th>\n",
       "      <th>b__has_duplicate_max</th>\n",
       "      <th>b__cwt_coefficients__widths_(2, 5, 10, 20)__coeff_14__w_5</th>\n",
       "      <th>b__cwt_coefficients__widths_(2, 5, 10, 20)__coeff_13__w_2</th>\n",
       "      <th>e__quantile__q_0.1</th>\n",
       "      <th>a__ar_coefficient__k_10__coeff_1</th>\n",
       "      <th>a__quantile__q_0.2</th>\n",
       "      <th>b__quantile__q_0.7</th>\n",
       "      <th>f__large_standard_deviation__r_0.35</th>\n",
       "      <th>f__quantile__q_0.9</th>\n",
       "    </tr>\n",
       "    <tr>\n",
       "      <th>id</th>\n",
       "      <th></th>\n",
       "      <th></th>\n",
       "      <th></th>\n",
       "      <th></th>\n",
       "      <th></th>\n",
       "      <th></th>\n",
       "      <th></th>\n",
       "      <th></th>\n",
       "      <th></th>\n",
       "      <th></th>\n",
       "      <th></th>\n",
       "      <th></th>\n",
       "      <th></th>\n",
       "      <th></th>\n",
       "      <th></th>\n",
       "      <th></th>\n",
       "      <th></th>\n",
       "      <th></th>\n",
       "      <th></th>\n",
       "      <th></th>\n",
       "      <th></th>\n",
       "    </tr>\n",
       "  </thead>\n",
       "  <tbody>\n",
       "    <tr>\n",
       "      <th>1</th>\n",
       "      <td>14.0</td>\n",
       "      <td>15.0</td>\n",
       "      <td>13.0</td>\n",
       "      <td>0.471405</td>\n",
       "      <td>0.222222</td>\n",
       "      <td>10.0</td>\n",
       "      <td>1.203698</td>\n",
       "      <td>1.448889</td>\n",
       "      <td>0.249444</td>\n",
       "      <td>0.062222</td>\n",
       "      <td>...</td>\n",
       "      <td>-3.0</td>\n",
       "      <td>1.0</td>\n",
       "      <td>-0.751682</td>\n",
       "      <td>-0.310265</td>\n",
       "      <td>-1.0</td>\n",
       "      <td>0.125000</td>\n",
       "      <td>-1.0</td>\n",
       "      <td>-1.0</td>\n",
       "      <td>0.0</td>\n",
       "      <td>0.0</td>\n",
       "    </tr>\n",
       "    <tr>\n",
       "      <th>2</th>\n",
       "      <td>25.0</td>\n",
       "      <td>13.0</td>\n",
       "      <td>76.0</td>\n",
       "      <td>2.054805</td>\n",
       "      <td>4.222222</td>\n",
       "      <td>90.0</td>\n",
       "      <td>4.333846</td>\n",
       "      <td>18.782222</td>\n",
       "      <td>0.956847</td>\n",
       "      <td>0.915556</td>\n",
       "      <td>...</td>\n",
       "      <td>-9.2</td>\n",
       "      <td>1.0</td>\n",
       "      <td>0.057818</td>\n",
       "      <td>-0.202951</td>\n",
       "      <td>-3.6</td>\n",
       "      <td>-0.078829</td>\n",
       "      <td>-1.0</td>\n",
       "      <td>-1.0</td>\n",
       "      <td>1.0</td>\n",
       "      <td>0.0</td>\n",
       "    </tr>\n",
       "    <tr>\n",
       "      <th>3</th>\n",
       "      <td>12.0</td>\n",
       "      <td>14.0</td>\n",
       "      <td>40.0</td>\n",
       "      <td>1.768867</td>\n",
       "      <td>3.128889</td>\n",
       "      <td>103.0</td>\n",
       "      <td>4.616877</td>\n",
       "      <td>21.315556</td>\n",
       "      <td>0.596285</td>\n",
       "      <td>0.355556</td>\n",
       "      <td>...</td>\n",
       "      <td>-6.6</td>\n",
       "      <td>0.0</td>\n",
       "      <td>0.912474</td>\n",
       "      <td>0.539121</td>\n",
       "      <td>-4.0</td>\n",
       "      <td>0.084836</td>\n",
       "      <td>-1.0</td>\n",
       "      <td>0.0</td>\n",
       "      <td>1.0</td>\n",
       "      <td>0.0</td>\n",
       "    </tr>\n",
       "    <tr>\n",
       "      <th>4</th>\n",
       "      <td>16.0</td>\n",
       "      <td>10.0</td>\n",
       "      <td>60.0</td>\n",
       "      <td>2.669998</td>\n",
       "      <td>7.128889</td>\n",
       "      <td>124.0</td>\n",
       "      <td>3.833188</td>\n",
       "      <td>14.693333</td>\n",
       "      <td>0.952190</td>\n",
       "      <td>0.906667</td>\n",
       "      <td>...</td>\n",
       "      <td>-9.0</td>\n",
       "      <td>0.0</td>\n",
       "      <td>-0.609735</td>\n",
       "      <td>-2.641390</td>\n",
       "      <td>-4.6</td>\n",
       "      <td>0.003108</td>\n",
       "      <td>-1.0</td>\n",
       "      <td>1.0</td>\n",
       "      <td>0.0</td>\n",
       "      <td>0.0</td>\n",
       "    </tr>\n",
       "    <tr>\n",
       "      <th>5</th>\n",
       "      <td>17.0</td>\n",
       "      <td>13.0</td>\n",
       "      <td>46.0</td>\n",
       "      <td>2.039608</td>\n",
       "      <td>4.160000</td>\n",
       "      <td>180.0</td>\n",
       "      <td>4.841487</td>\n",
       "      <td>23.440000</td>\n",
       "      <td>0.879394</td>\n",
       "      <td>0.773333</td>\n",
       "      <td>...</td>\n",
       "      <td>-9.6</td>\n",
       "      <td>0.0</td>\n",
       "      <td>0.072771</td>\n",
       "      <td>0.591927</td>\n",
       "      <td>-5.0</td>\n",
       "      <td>0.087906</td>\n",
       "      <td>-1.0</td>\n",
       "      <td>0.8</td>\n",
       "      <td>0.0</td>\n",
       "      <td>0.6</td>\n",
       "    </tr>\n",
       "  </tbody>\n",
       "</table>\n",
       "<p>5 rows × 299 columns</p>\n",
       "</div>"
      ],
      "text/plain": [
       "    a__abs_energy  a__range_count__max_1__min_-1  b__abs_energy  \\\n",
       "id                                                                \n",
       "1            14.0                           15.0           13.0   \n",
       "2            25.0                           13.0           76.0   \n",
       "3            12.0                           14.0           40.0   \n",
       "4            16.0                           10.0           60.0   \n",
       "5            17.0                           13.0           46.0   \n",
       "\n",
       "    e__standard_deviation  e__variance  e__abs_energy  c__standard_deviation  \\\n",
       "id                                                                             \n",
       "1                0.471405     0.222222           10.0               1.203698   \n",
       "2                2.054805     4.222222           90.0               4.333846   \n",
       "3                1.768867     3.128889          103.0               4.616877   \n",
       "4                2.669998     7.128889          124.0               3.833188   \n",
       "5                2.039608     4.160000          180.0               4.841487   \n",
       "\n",
       "    c__variance  a__standard_deviation  a__variance         ...          \\\n",
       "id                                                          ...           \n",
       "1      1.448889               0.249444     0.062222         ...           \n",
       "2     18.782222               0.956847     0.915556         ...           \n",
       "3     21.315556               0.596285     0.355556         ...           \n",
       "4     14.693333               0.952190     0.906667         ...           \n",
       "5     23.440000               0.879394     0.773333         ...           \n",
       "\n",
       "    d__quantile__q_0.1  b__has_duplicate_max  \\\n",
       "id                                             \n",
       "1                 -3.0                   1.0   \n",
       "2                 -9.2                   1.0   \n",
       "3                 -6.6                   0.0   \n",
       "4                 -9.0                   0.0   \n",
       "5                 -9.6                   0.0   \n",
       "\n",
       "    b__cwt_coefficients__widths_(2, 5, 10, 20)__coeff_14__w_5  \\\n",
       "id                                                              \n",
       "1                                           -0.751682           \n",
       "2                                            0.057818           \n",
       "3                                            0.912474           \n",
       "4                                           -0.609735           \n",
       "5                                            0.072771           \n",
       "\n",
       "    b__cwt_coefficients__widths_(2, 5, 10, 20)__coeff_13__w_2  \\\n",
       "id                                                              \n",
       "1                                           -0.310265           \n",
       "2                                           -0.202951           \n",
       "3                                            0.539121           \n",
       "4                                           -2.641390           \n",
       "5                                            0.591927           \n",
       "\n",
       "    e__quantile__q_0.1  a__ar_coefficient__k_10__coeff_1  a__quantile__q_0.2  \\\n",
       "id                                                                             \n",
       "1                 -1.0                          0.125000                -1.0   \n",
       "2                 -3.6                         -0.078829                -1.0   \n",
       "3                 -4.0                          0.084836                -1.0   \n",
       "4                 -4.6                          0.003108                -1.0   \n",
       "5                 -5.0                          0.087906                -1.0   \n",
       "\n",
       "    b__quantile__q_0.7  f__large_standard_deviation__r_0.35  \\\n",
       "id                                                            \n",
       "1                 -1.0                                  0.0   \n",
       "2                 -1.0                                  1.0   \n",
       "3                  0.0                                  1.0   \n",
       "4                  1.0                                  0.0   \n",
       "5                  0.8                                  0.0   \n",
       "\n",
       "    f__quantile__q_0.9  \n",
       "id                      \n",
       "1                  0.0  \n",
       "2                  0.0  \n",
       "3                  0.0  \n",
       "4                  0.0  \n",
       "5                  0.6  \n",
       "\n",
       "[5 rows x 299 columns]"
      ]
     },
     "execution_count": 11,
     "metadata": {},
     "output_type": "execute_result"
    }
   ],
   "source": [
    "X_filtered.head()"
   ]
  },
  {
   "cell_type": "code",
   "execution_count": 12,
   "metadata": {},
   "outputs": [
    {
     "name": "stdout",
     "output_type": "stream",
     "text": [
      "<class 'pandas.core.frame.DataFrame'>\n",
      "Int64Index: 88 entries, 1 to 88\n",
      "Columns: 299 entries, a__abs_energy to f__quantile__q_0.9\n",
      "dtypes: float64(299)\n",
      "memory usage: 206.2 KB\n"
     ]
    }
   ],
   "source": [
    "X_filtered.info()"
   ]
  },
  {
   "cell_type": "code",
   "execution_count": 13,
   "metadata": {},
   "outputs": [
    {
     "data": {
      "text/plain": [
       "1     0\n",
       "2     0\n",
       "3     0\n",
       "4     0\n",
       "5     0\n",
       "6     0\n",
       "7     0\n",
       "8     0\n",
       "9     0\n",
       "10    0\n",
       "11    0\n",
       "12    0\n",
       "13    0\n",
       "14    0\n",
       "15    0\n",
       "16    0\n",
       "17    0\n",
       "18    0\n",
       "19    1\n",
       "20    1\n",
       "21    1\n",
       "22    1\n",
       "23    1\n",
       "24    1\n",
       "25    1\n",
       "26    1\n",
       "27    1\n",
       "28    1\n",
       "29    1\n",
       "30    1\n",
       "     ..\n",
       "59    1\n",
       "60    1\n",
       "61    1\n",
       "62    1\n",
       "63    1\n",
       "64    1\n",
       "65    1\n",
       "66    1\n",
       "67    1\n",
       "68    0\n",
       "69    1\n",
       "70    1\n",
       "71    1\n",
       "72    1\n",
       "73    1\n",
       "74    1\n",
       "75    1\n",
       "76    1\n",
       "77    1\n",
       "78    1\n",
       "79    1\n",
       "80    1\n",
       "81    1\n",
       "82    1\n",
       "83    1\n",
       "84    1\n",
       "85    1\n",
       "86    1\n",
       "87    1\n",
       "88    1\n",
       "dtype: int64"
      ]
     },
     "execution_count": 13,
     "metadata": {},
     "output_type": "execute_result"
    }
   ],
   "source": [
    "y"
   ]
  },
  {
   "cell_type": "markdown",
   "metadata": {
    "collapsed": true
   },
   "source": [
    "## Train and evaluate classifier"
   ]
  },
  {
   "cell_type": "code",
   "execution_count": 23,
   "metadata": {},
   "outputs": [],
   "source": [
    "X_train, X_test, X_filtered_train, X_filtered_test, y_train, y_test = train_test_split(X, X_filtered, y, test_size=.4)"
   ]
  },
  {
   "cell_type": "code",
   "execution_count": 24,
   "metadata": {
    "scrolled": true
   },
   "outputs": [
    {
     "name": "stdout",
     "output_type": "stream",
     "text": [
      "             precision    recall  f1-score   support\n",
      "\n",
      "          0       1.00      1.00      1.00         6\n",
      "          1       1.00      1.00      1.00        30\n",
      "\n",
      "avg / total       1.00      1.00      1.00        36\n",
      "\n"
     ]
    }
   ],
   "source": [
    "cl = DecisionTreeClassifier()\n",
    "cl.fit(X_train, y_train)\n",
    "print(classification_report(y_test, cl.predict(X_test)))"
   ]
  },
  {
   "cell_type": "code",
   "execution_count": 25,
   "metadata": {},
   "outputs": [
    {
     "data": {
      "text/plain": [
       "1332L"
      ]
     },
     "execution_count": 25,
     "metadata": {},
     "output_type": "execute_result"
    }
   ],
   "source": [
    "cl.n_features_"
   ]
  },
  {
   "cell_type": "code",
   "execution_count": 26,
   "metadata": {},
   "outputs": [
    {
     "name": "stdout",
     "output_type": "stream",
     "text": [
      "             precision    recall  f1-score   support\n",
      "\n",
      "          0       1.00      1.00      1.00         6\n",
      "          1       1.00      1.00      1.00        30\n",
      "\n",
      "avg / total       1.00      1.00      1.00        36\n",
      "\n"
     ]
    }
   ],
   "source": [
    "cl2 = DecisionTreeClassifier()\n",
    "cl2.fit(X_filtered_train, y_train)\n",
    "print(classification_report(y_test, cl2.predict(X_filtered_test)))"
   ]
  },
  {
   "cell_type": "code",
   "execution_count": 27,
   "metadata": {
    "scrolled": true
   },
   "outputs": [
    {
     "data": {
      "text/plain": [
       "299L"
      ]
     },
     "execution_count": 27,
     "metadata": {},
     "output_type": "execute_result"
    }
   ],
   "source": [
    "cl2.n_features_"
   ]
  },
  {
   "cell_type": "markdown",
   "metadata": {},
   "source": [
    "Compared to using all (1236) features, using only the (283) relevant features achieves better classification performance with less data."
   ]
  },
  {
   "cell_type": "markdown",
   "metadata": {},
   "source": [
    "# Extraction + filtering is the same as filtered extraction"
   ]
  },
  {
   "cell_type": "markdown",
   "metadata": {},
   "source": [
    "Above, we performed two feature extractions runs. A filtered one and a non filtered one. However, the results of the filtered is equal to just extracting all features and then filtering them."
   ]
  },
  {
   "cell_type": "code",
   "execution_count": 28,
   "metadata": {},
   "outputs": [],
   "source": [
    "X_filtered_2 = select_features(X, y)"
   ]
  },
  {
   "cell_type": "code",
   "execution_count": 29,
   "metadata": {},
   "outputs": [
    {
     "data": {
      "text/plain": [
       "True"
      ]
     },
     "execution_count": 29,
     "metadata": {},
     "output_type": "execute_result"
    }
   ],
   "source": [
    "(X_filtered.columns == X_filtered_2.columns).all()"
   ]
  },
  {
   "cell_type": "code",
   "execution_count": null,
   "metadata": {
    "collapsed": true
   },
   "outputs": [],
   "source": []
  }
 ],
 "metadata": {
  "kernelspec": {
   "display_name": "Python 2",
   "language": "python",
   "name": "python2"
  },
  "language_info": {
   "codemirror_mode": {
    "name": "ipython",
    "version": 2
   },
   "file_extension": ".py",
   "mimetype": "text/x-python",
   "name": "python",
   "nbconvert_exporter": "python",
   "pygments_lexer": "ipython2",
   "version": "2.7.12"
  }
 },
 "nbformat": 4,
 "nbformat_minor": 1
}
