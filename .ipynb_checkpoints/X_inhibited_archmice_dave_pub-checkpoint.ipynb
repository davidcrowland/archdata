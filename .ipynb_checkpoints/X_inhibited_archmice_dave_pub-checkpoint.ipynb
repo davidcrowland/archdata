{
 "cells": [
  {
   "cell_type": "markdown",
   "metadata": {},
   "source": [
    "# Extract and work with inhibited cells and the rest of Dave's arch mice"
   ]
  },
  {
   "cell_type": "code",
   "execution_count": 1,
   "metadata": {
    "code_folding": [
     0
    ]
   },
   "outputs": [
    {
     "name": "stdout",
     "output_type": "stream",
     "text": [
      "Loaded analysis helpers: General\n",
      "Loaded postgres_analysis_helpers -> general\n",
      "Loaded postgres_analysis_helpers -> get_data\n",
      "Loaded postgres_analysis_helpers -> circstat_functions\n"
     ]
    }
   ],
   "source": [
    "# Imports:\n",
    "%load_ext autoreload\n",
    "%autoreload 2\n",
    "\n",
    "import json\n",
    "import numpy as np\n",
    "import math\n",
    "import psycopg2\n",
    "import numpy as np\n",
    "import pandas as pd\n",
    "from datetime import date\n",
    "from tqdm import tqdm_notebook\n",
    "\n",
    "# Plotting:\n",
    "from matplotlib import pyplot as plt\n",
    "import seaborn as sns\n",
    "import matplotlib.cm as cm\n",
    "import matplotlib as mpl\n",
    "%matplotlib inline\n",
    "%config InlineBackend.figure_format = 'retina'\n",
    "\n",
    "sns.set()\n",
    "\n",
    "# External functions from subfolder /database_helpers. \n",
    "# as soon as you change something in there and press save, it will auto reload on next execution.\n",
    "from database_helpers.psql_start import *\n",
    "from database_helpers.create_tables import *\n",
    "from database_helpers.write2tables import *\n",
    "from postgres_analysis_helpers.general import *\n",
    "from postgres_analysis_helpers.get_data import *\n",
    "from postgres_analysis_helpers.circstat_functions import *\n",
    "# register pickle type to retrieve binary data from database\n",
    "psycopg2.extensions.register_type(psycopg2.extensions.new_type(psycopg2.BINARY.values, 'BINARY-PICKLE', cast_pickle))"
   ]
  },
  {
   "cell_type": "code",
   "execution_count": 2,
   "metadata": {
    "code_folding": [
     0
    ]
   },
   "outputs": [
    {
     "name": "stdout",
     "output_type": "stream",
     "text": [
      "Connecting to the PostgreSQL database...\n",
      "Woot! Database connection is established!\n"
     ]
    }
   ],
   "source": [
    "# Database connection check\n",
    "db_status = test_connect()\n",
    "if db_status == False:\n",
    "    print('Grrr... no database connection could be established.')\n",
    "else:\n",
    "    print('Woot! Database connection is established!')"
   ]
  },
  {
   "cell_type": "markdown",
   "metadata": {},
   "source": [
    "### Connect to the database "
   ]
  },
  {
   "cell_type": "code",
   "execution_count": 3,
   "metadata": {},
   "outputs": [
    {
     "name": "stdout",
     "output_type": "stream",
     "text": [
      "83 animals across 5 experimenters found.\n",
      "Total # of sessions: 9174 (unique clusters: 16291)\n"
     ]
    }
   ],
   "source": [
    "stimulus_stats = pd.DataFrame() # create empty dataframe or feed in a base dataframe from before! \n",
    "psql = psql_neuroballs(stimulus_stats) # initialize retrieval"
   ]
  },
  {
   "cell_type": "markdown",
   "metadata": {},
   "source": [
    "**First retrieve all stimulus stats**. That means that only cells for which stimulus sessions were actually run are included in this retrieval step. No baseline sessions are present - only the laser sessions.\n",
    "This is because the `stimulus_tb` table only contains laser stimulus session information - nothing else! "
   ]
  },
  {
   "cell_type": "code",
   "execution_count": 4,
   "metadata": {
    "scrolled": false
   },
   "outputs": [
    {
     "name": "stdout",
     "output_type": "stream",
     "text": [
      "1235 entries retrieved.\n"
     ]
    }
   ],
   "source": [
    "dict_ = {'stimulus_tb': ''}\n",
    "animals_ = ['7898','7945','70110','70113','70114','54417','T4681','T4932','T4683','T4743','T4935']\n",
    "filter_ = \"AND session_name NOT LIKE '%obj%' AND session_name NOT LIKE '%stab%' AND session_name NOT LIKE '%room%' AND session_name NOT LIKE '%bord%'\"\n",
    "stimulus_stats = psql.retrieve_data(dict_,animals_,filter_)"
   ]
  },
  {
   "cell_type": "code",
   "execution_count": 5,
   "metadata": {},
   "outputs": [
    {
     "data": {
      "text/plain": [
       "array(['T4743', '54417', '70110', '70113', '70114', 'T4935'], dtype=object)"
      ]
     },
     "execution_count": 5,
     "metadata": {},
     "output_type": "execute_result"
    }
   ],
   "source": [
    "stimulus_stats.animal_id.unique()"
   ]
  },
  {
   "cell_type": "markdown",
   "metadata": {},
   "source": [
    "### Set parameters"
   ]
  },
  {
   "cell_type": "code",
   "execution_count": 6,
   "metadata": {
    "collapsed": true
   },
   "outputs": [],
   "source": [
    "# Set parameters:\n",
    "# excitation:\n",
    "#salt_i_thresh = 0.09\n",
    "#salt_p_thresh = 0.05\n",
    "min_number_sessions = 1 # min number of session for which criteria above have to be fullfilled\n",
    "pearson_r_thresh = 0.99 # waveform similarity cutoff\n",
    "\n",
    "# ISI contamination (%)\n",
    "isi_contam_thresh = 1\n",
    "\n",
    "# inhibition:\n",
    "p_inhib_thresh = 0.001 # inhibition threshold\n",
    "inhib_interval_ = 10 # Interval to filter for - to get rid of spurious results (blanking artefacts) \n",
    "# ISI contamination (%)\n",
    "isi_contam_thresh = 1"
   ]
  },
  {
   "cell_type": "markdown",
   "metadata": {},
   "source": [
    "\n",
    "### Loop over stimulus stats write label"
   ]
  },
  {
   "cell_type": "code",
   "execution_count": 7,
   "metadata": {},
   "outputs": [
    {
     "data": {
      "application/vnd.jupyter.widget-view+json": {
       "model_id": "3267ed4f5d4a4aa2be1ebf4f930e11a7",
       "version_major": 2,
       "version_minor": 0
      },
      "text/html": [
       "<p>Failed to display Jupyter Widget of type <code>HBox</code>.</p>\n",
       "<p>\n",
       "  If you're reading this message in Jupyter Notebook or JupyterLab, it may mean\n",
       "  that the widgets JavaScript is still loading. If this message persists, it\n",
       "  likely means that the widgets JavaScript library is either not installed or\n",
       "  not enabled. See the <a href=\"https://ipywidgets.readthedocs.io/en/stable/user_install.html\">Jupyter\n",
       "  Widgets Documentation</a> for setup instructions.\n",
       "</p>\n",
       "<p>\n",
       "  If you're reading this message in another notebook frontend (for example, a static\n",
       "  rendering on GitHub or <a href=\"https://nbviewer.jupyter.org/\">NBViewer</a>),\n",
       "  it may mean that your frontend doesn't currently support widgets.\n",
       "</p>\n"
      ],
      "text/plain": [
       "HBox(children=(IntProgress(value=0, max=1235), HTML(value='')))"
      ]
     },
     "metadata": {},
     "output_type": "display_data"
    },
    {
     "name": "stdout",
     "output_type": "stream",
     "text": [
      "\n"
     ]
    }
   ],
   "source": [
    "#labels_excited_ = []\n",
    "labels_inhibited_ = []\n",
    "\n",
    "for i in tqdm_notebook(range(len(stimulus_stats))):\n",
    "\n",
    "    if (stimulus_stats.iloc[i].inhib_lowest_p < p_inhib_thresh) and (stimulus_stats.iloc[i].inhib_lowest_p_interval > inhib_interval_) and \\\n",
    "                                (stimulus_stats.iloc[i].inhibited == True):\n",
    "        labels_inhibited_.append('inhibited')\n",
    "    else:\n",
    "        labels_inhibited_.append('not_inhibited')\n",
    "    ######################################################################\n",
    "        \n",
    "#stimulus_stats['excited_'] = labels_excited_\n",
    "stimulus_stats['inhibited_'] = labels_inhibited_"
   ]
  },
  {
   "cell_type": "code",
   "execution_count": 8,
   "metadata": {},
   "outputs": [
    {
     "name": "stdout",
     "output_type": "stream",
     "text": [
      "132\n",
      "1103\n"
     ]
    }
   ],
   "source": [
    "print(len(stimulus_stats[stimulus_stats.inhibited_ == 'inhibited']))\n",
    "print(len(stimulus_stats[stimulus_stats.inhibited_ == 'not_inhibited']))"
   ]
  },
  {
   "cell_type": "markdown",
   "metadata": {},
   "source": [
    "### Extract excited / inhibited -> sort"
   ]
  },
  {
   "cell_type": "code",
   "execution_count": 9,
   "metadata": {
    "collapsed": true
   },
   "outputs": [],
   "source": [
    "inhibited_cells = stimulus_stats[stimulus_stats['inhibited_'] == 'inhibited'].reset_index(drop=True)\n",
    "inhibited_cells.sort_values(by='inhib_lowest_p',ascending=True,inplace=True)\n",
    "inhibited_cells.reset_index(inplace=True,drop=True)\n",
    "\n",
    "rest_cells = stimulus_stats[stimulus_stats['inhibited_'] == 'not_inhibited'].reset_index(drop=True)\n",
    "rest_cells.reset_index(inplace=True,drop=True)"
   ]
  },
  {
   "cell_type": "code",
   "execution_count": 10,
   "metadata": {},
   "outputs": [
    {
     "name": "stdout",
     "output_type": "stream",
     "text": [
      "132\n",
      "1103\n"
     ]
    }
   ],
   "source": [
    "print(len(inhibited_cells[inhibited_cells.inhibited_ == 'inhibited']))\n",
    "print(len(rest_cells[rest_cells.inhibited_ == 'not_inhibited']))"
   ]
  },
  {
   "cell_type": "markdown",
   "metadata": {},
   "source": [
    "### Count sessions and filter for session number (drop duplicates)"
   ]
  },
  {
   "cell_type": "code",
   "execution_count": 11,
   "metadata": {
    "collapsed": true
   },
   "outputs": [],
   "source": [
    "# Excited cells:\n",
    "drop_subgroup_inhibited = ['animal_id','n_drive_user','session_ts','cluster_no','tetrode_no','inhibited_','filename']\n",
    "drop_subgroup_rest = ['animal_id','n_drive_user','session_ts','cluster_no','tetrode_no','filename']\n",
    "\n",
    "# Inhibited cells:\n",
    "no_sessions_inhibited_cells = inhibited_cells.groupby(drop_subgroup_inhibited).size().reset_index().copy()\n",
    "inhibited_cells_sessions = inhibited_cells.drop_duplicates(drop_subgroup_inhibited).sort_values(by=drop_subgroup_inhibited).reset_index().copy()\n",
    "\n",
    "# Quick sanity check (both have to be true)\n",
    "if ((no_sessions_inhibited_cells.animal_id.values == inhibited_cells_sessions.animal_id.values).all() != True) or ((no_sessions_inhibited_cells.cluster_no.values == inhibited_cells_sessions.cluster_no.values).all() != True): \n",
    "    print('DATAFRAMES DO NOT MATCH!'); sys.exit()\n",
    "inhibited_cells_sessions['no_sessions'] = no_sessions_inhibited_cells.iloc[:,-1].values\n",
    "\n",
    "# Rest of cells:\n",
    "no_sessions_rest_cells = rest_cells.groupby(drop_subgroup_rest).size().reset_index().copy()\n",
    "rest_cells_sessions = rest_cells.drop_duplicates(drop_subgroup_rest).sort_values(by=drop_subgroup_rest).reset_index().copy()\n",
    "\n",
    "# Quick sanity check (both have to be true)\n",
    "if ((no_sessions_rest_cells.animal_id.values == rest_cells_sessions.animal_id.values).all() != True) or ((no_sessions_rest_cells.cluster_no.values == rest_cells_sessions.cluster_no.values).all() != True): \n",
    "    print('DATAFRAMES DO NOT MATCH!'); sys.exit()\n",
    "    \n",
    "rest_cells_sessions['no_sessions'] = no_sessions_rest_cells.iloc[:,-1].values"
   ]
  },
  {
   "cell_type": "markdown",
   "metadata": {},
   "source": [
    "### Change label on excited and inhibited cells according to session count"
   ]
  },
  {
   "cell_type": "code",
   "execution_count": 12,
   "metadata": {
    "collapsed": true
   },
   "outputs": [],
   "source": [
    "# you should not loose anything here (min_number_sessions = 1)!\n",
    "labels_ = []\n",
    "for i in range(len(inhibited_cells_sessions)):\n",
    "    if inhibited_cells_sessions.iloc[i].no_sessions < min_number_sessions:\n",
    "        labels_.append('not_inhibited')\n",
    "    else:\n",
    "        labels_.append('inhibited')\n",
    "inhibited_cells_sessions['inhibited_'] = labels_ "
   ]
  },
  {
   "cell_type": "code",
   "execution_count": 13,
   "metadata": {
    "collapsed": true
   },
   "outputs": [],
   "source": [
    "# overwrite original dfs. \n",
    "inhibited_cells = inhibited_cells_sessions.copy()\n",
    "rest_cells = rest_cells_sessions.copy()"
   ]
  },
  {
   "cell_type": "code",
   "execution_count": 14,
   "metadata": {},
   "outputs": [
    {
     "name": "stdout",
     "output_type": "stream",
     "text": [
      "130\n",
      "571\n"
     ]
    }
   ],
   "source": [
    "print(len(inhibited_cells[inhibited_cells.inhibited_ == 'inhibited']))\n",
    "print(len(rest_cells[rest_cells.inhibited_ == 'not_inhibited']))"
   ]
  },
  {
   "cell_type": "markdown",
   "metadata": {},
   "source": [
    "### Get waveforms (laser sessions)"
   ]
  },
  {
   "cell_type": "code",
   "execution_count": 15,
   "metadata": {},
   "outputs": [
    {
     "name": "stdout",
     "output_type": "stream",
     "text": [
      "Length of input dataframe: 130\n",
      "Dataframe not empty\n"
     ]
    },
    {
     "data": {
      "application/vnd.jupyter.widget-view+json": {
       "model_id": "8b4210dc695047aeb41422cc4fee813a",
       "version_major": 2,
       "version_minor": 0
      },
      "text/html": [
       "<p>Failed to display Jupyter Widget of type <code>HBox</code>.</p>\n",
       "<p>\n",
       "  If you're reading this message in Jupyter Notebook or JupyterLab, it may mean\n",
       "  that the widgets JavaScript is still loading. If this message persists, it\n",
       "  likely means that the widgets JavaScript library is either not installed or\n",
       "  not enabled. See the <a href=\"https://ipywidgets.readthedocs.io/en/stable/user_install.html\">Jupyter\n",
       "  Widgets Documentation</a> for setup instructions.\n",
       "</p>\n",
       "<p>\n",
       "  If you're reading this message in another notebook frontend (for example, a static\n",
       "  rendering on GitHub or <a href=\"https://nbviewer.jupyter.org/\">NBViewer</a>),\n",
       "  it may mean that your frontend doesn't currently support widgets.\n",
       "</p>\n"
      ],
      "text/plain": [
       "HBox(children=(IntProgress(value=0, description='Mining tables: ', max=1), HTML(value='')))"
      ]
     },
     "metadata": {},
     "output_type": "display_data"
    },
    {
     "data": {
      "application/vnd.jupyter.widget-view+json": {
       "model_id": "4fab6bf245474f89a8a1c42946546b5a",
       "version_major": 2,
       "version_minor": 0
      },
      "text/html": [
       "<p>Failed to display Jupyter Widget of type <code>HBox</code>.</p>\n",
       "<p>\n",
       "  If you're reading this message in Jupyter Notebook or JupyterLab, it may mean\n",
       "  that the widgets JavaScript is still loading. If this message persists, it\n",
       "  likely means that the widgets JavaScript library is either not installed or\n",
       "  not enabled. See the <a href=\"https://ipywidgets.readthedocs.io/en/stable/user_install.html\">Jupyter\n",
       "  Widgets Documentation</a> for setup instructions.\n",
       "</p>\n",
       "<p>\n",
       "  If you're reading this message in another notebook frontend (for example, a static\n",
       "  rendering on GitHub or <a href=\"https://nbviewer.jupyter.org/\">NBViewer</a>),\n",
       "  it may mean that your frontend doesn't currently support widgets.\n",
       "</p>\n"
      ],
      "text/plain": [
       "HBox(children=(IntProgress(value=0, description='waveforms_tb: ', max=130), HTML(value='')))"
      ]
     },
     "metadata": {},
     "output_type": "display_data"
    },
    {
     "name": "stdout",
     "output_type": "stream",
     "text": [
      "Success. NaNs: 0\n",
      "\n"
     ]
    }
   ],
   "source": [
    "psql = psql_neuroballs(inhibited_cells) # initialize retrieval\n",
    "dict_ = {'waveforms_tb':'mean_wf'}\n",
    "inhibited_cells = psql.retrieve_data(dict_)"
   ]
  },
  {
   "cell_type": "code",
   "execution_count": 16,
   "metadata": {
    "collapsed": true
   },
   "outputs": [],
   "source": [
    "inhibited_cells.rename(columns={'mean_wf':'mean_wf_laser','session_name':'session_name_laser'}, inplace=True) \n",
    "rest_cells.rename(columns={'session_name':'session_name_laser'}, inplace=True)"
   ]
  },
  {
   "cell_type": "markdown",
   "metadata": {},
   "source": [
    "### Retrieve baseline waveforms and ISI for excited cells"
   ]
  },
  {
   "cell_type": "code",
   "execution_count": 17,
   "metadata": {},
   "outputs": [
    {
     "name": "stdout",
     "output_type": "stream",
     "text": [
      "Length of input dataframe: 130\n",
      "Dataframe not empty\n"
     ]
    },
    {
     "data": {
      "application/vnd.jupyter.widget-view+json": {
       "model_id": "b94d79b6dd6d4039b68a6720554f384e",
       "version_major": 2,
       "version_minor": 0
      },
      "text/html": [
       "<p>Failed to display Jupyter Widget of type <code>HBox</code>.</p>\n",
       "<p>\n",
       "  If you're reading this message in Jupyter Notebook or JupyterLab, it may mean\n",
       "  that the widgets JavaScript is still loading. If this message persists, it\n",
       "  likely means that the widgets JavaScript library is either not installed or\n",
       "  not enabled. See the <a href=\"https://ipywidgets.readthedocs.io/en/stable/user_install.html\">Jupyter\n",
       "  Widgets Documentation</a> for setup instructions.\n",
       "</p>\n",
       "<p>\n",
       "  If you're reading this message in another notebook frontend (for example, a static\n",
       "  rendering on GitHub or <a href=\"https://nbviewer.jupyter.org/\">NBViewer</a>),\n",
       "  it may mean that your frontend doesn't currently support widgets.\n",
       "</p>\n"
      ],
      "text/plain": [
       "HBox(children=(IntProgress(value=0, description='Mining tables: ', max=2), HTML(value='')))"
      ]
     },
     "metadata": {},
     "output_type": "display_data"
    },
    {
     "data": {
      "application/vnd.jupyter.widget-view+json": {
       "model_id": "2a013f52e978478199a4836a2a1ac782",
       "version_major": 2,
       "version_minor": 0
      },
      "text/html": [
       "<p>Failed to display Jupyter Widget of type <code>HBox</code>.</p>\n",
       "<p>\n",
       "  If you're reading this message in Jupyter Notebook or JupyterLab, it may mean\n",
       "  that the widgets JavaScript is still loading. If this message persists, it\n",
       "  likely means that the widgets JavaScript library is either not installed or\n",
       "  not enabled. See the <a href=\"https://ipywidgets.readthedocs.io/en/stable/user_install.html\">Jupyter\n",
       "  Widgets Documentation</a> for setup instructions.\n",
       "</p>\n",
       "<p>\n",
       "  If you're reading this message in another notebook frontend (for example, a static\n",
       "  rendering on GitHub or <a href=\"https://nbviewer.jupyter.org/\">NBViewer</a>),\n",
       "  it may mean that your frontend doesn't currently support widgets.\n",
       "</p>\n"
      ],
      "text/plain": [
       "HBox(children=(IntProgress(value=0, description='waveforms_tb: ', max=130), HTML(value='')))"
      ]
     },
     "metadata": {},
     "output_type": "display_data"
    },
    {
     "name": "stdout",
     "output_type": "stream",
     "text": [
      "Success. NaNs: 0\n"
     ]
    },
    {
     "data": {
      "application/vnd.jupyter.widget-view+json": {
       "model_id": "9a73d3fb31b24fc0b217d3aed26c9d94",
       "version_major": 2,
       "version_minor": 0
      },
      "text/html": [
       "<p>Failed to display Jupyter Widget of type <code>HBox</code>.</p>\n",
       "<p>\n",
       "  If you're reading this message in Jupyter Notebook or JupyterLab, it may mean\n",
       "  that the widgets JavaScript is still loading. If this message persists, it\n",
       "  likely means that the widgets JavaScript library is either not installed or\n",
       "  not enabled. See the <a href=\"https://ipywidgets.readthedocs.io/en/stable/user_install.html\">Jupyter\n",
       "  Widgets Documentation</a> for setup instructions.\n",
       "</p>\n",
       "<p>\n",
       "  If you're reading this message in another notebook frontend (for example, a static\n",
       "  rendering on GitHub or <a href=\"https://nbviewer.jupyter.org/\">NBViewer</a>),\n",
       "  it may mean that your frontend doesn't currently support widgets.\n",
       "</p>\n"
      ],
      "text/plain": [
       "HBox(children=(IntProgress(value=0, description='ISI_tb: ', max=130), HTML(value='')))"
      ]
     },
     "metadata": {},
     "output_type": "display_data"
    },
    {
     "name": "stdout",
     "output_type": "stream",
     "text": [
      "Success. NaNs: 2\n",
      "\n",
      "Length of input dataframe: 571\n",
      "Dataframe not empty\n"
     ]
    },
    {
     "data": {
      "application/vnd.jupyter.widget-view+json": {
       "model_id": "745f6e8407fb4d6d84dfd806b6f249c8",
       "version_major": 2,
       "version_minor": 0
      },
      "text/html": [
       "<p>Failed to display Jupyter Widget of type <code>HBox</code>.</p>\n",
       "<p>\n",
       "  If you're reading this message in Jupyter Notebook or JupyterLab, it may mean\n",
       "  that the widgets JavaScript is still loading. If this message persists, it\n",
       "  likely means that the widgets JavaScript library is either not installed or\n",
       "  not enabled. See the <a href=\"https://ipywidgets.readthedocs.io/en/stable/user_install.html\">Jupyter\n",
       "  Widgets Documentation</a> for setup instructions.\n",
       "</p>\n",
       "<p>\n",
       "  If you're reading this message in another notebook frontend (for example, a static\n",
       "  rendering on GitHub or <a href=\"https://nbviewer.jupyter.org/\">NBViewer</a>),\n",
       "  it may mean that your frontend doesn't currently support widgets.\n",
       "</p>\n"
      ],
      "text/plain": [
       "HBox(children=(IntProgress(value=0, description='Mining tables: ', max=1), HTML(value='')))"
      ]
     },
     "metadata": {},
     "output_type": "display_data"
    },
    {
     "data": {
      "application/vnd.jupyter.widget-view+json": {
       "model_id": "d1f83c3a01ce4ed3923f5c2ef1d04a99",
       "version_major": 2,
       "version_minor": 0
      },
      "text/html": [
       "<p>Failed to display Jupyter Widget of type <code>HBox</code>.</p>\n",
       "<p>\n",
       "  If you're reading this message in Jupyter Notebook or JupyterLab, it may mean\n",
       "  that the widgets JavaScript is still loading. If this message persists, it\n",
       "  likely means that the widgets JavaScript library is either not installed or\n",
       "  not enabled. See the <a href=\"https://ipywidgets.readthedocs.io/en/stable/user_install.html\">Jupyter\n",
       "  Widgets Documentation</a> for setup instructions.\n",
       "</p>\n",
       "<p>\n",
       "  If you're reading this message in another notebook frontend (for example, a static\n",
       "  rendering on GitHub or <a href=\"https://nbviewer.jupyter.org/\">NBViewer</a>),\n",
       "  it may mean that your frontend doesn't currently support widgets.\n",
       "</p>\n"
      ],
      "text/plain": [
       "HBox(children=(IntProgress(value=0, description='ISI_tb: ', max=571), HTML(value='')))"
      ]
     },
     "metadata": {},
     "output_type": "display_data"
    },
    {
     "name": "stdout",
     "output_type": "stream",
     "text": [
      "Success. NaNs: 4\n",
      "\n"
     ]
    }
   ],
   "source": [
    "dict_ = {'waveforms_tb':'mean_wf','ISI_tb':'ISI_stats_contam_perc'}\n",
    "filter_ = \"NOT LIKE '%las%' AND session_name NOT LIKE '%obj%' AND session_name NOT LIKE '%stab%' AND session_name NOT LIKE '%room%' AND session_name NOT LIKE '%bord%'\"\n",
    "\n",
    "psql = psql_neuroballs(inhibited_cells) # initialize retrieval\n",
    "inhibited_cells = psql.retrieve_data(user_sql_tables=dict_,user_sql_filter=filter_)\n",
    "\n",
    "dict_ = {'ISI_tb':'ISI_stats_contam_perc'}\n",
    "psql = psql_neuroballs(rest_cells) # initialize retrieval\n",
    "rest_cells = psql.retrieve_data(user_sql_tables=dict_,user_sql_filter=filter_)"
   ]
  },
  {
   "cell_type": "code",
   "execution_count": 18,
   "metadata": {
    "collapsed": true
   },
   "outputs": [],
   "source": [
    "# get rid of duplicates\n",
    "drop_subgroup = ['animal_id','n_drive_user','session_ts','cluster_no','tetrode_no','filename']\n",
    "inhibited_cells = inhibited_cells.drop_duplicates(drop_subgroup).reset_index().copy()\n",
    "rest_cells = rest_cells.drop_duplicates(drop_subgroup).reset_index().copy()"
   ]
  },
  {
   "cell_type": "markdown",
   "metadata": {},
   "source": [
    "### Drop nans (careful! these cells will not appear anymore!) "
   ]
  },
  {
   "cell_type": "code",
   "execution_count": 19,
   "metadata": {
    "collapsed": true
   },
   "outputs": [],
   "source": [
    "inhibited_cells.dropna(subset=['mean_wf','mean_wf_laser','isi_stats_contam_perc'],inplace=True)\n",
    "rest_cells.dropna(subset=['isi_stats_contam_perc'],inplace=True) # for rest cells only get rid of isi contaminations"
   ]
  },
  {
   "cell_type": "code",
   "execution_count": 20,
   "metadata": {},
   "outputs": [
    {
     "name": "stdout",
     "output_type": "stream",
     "text": [
      "128\n",
      "567\n"
     ]
    }
   ],
   "source": [
    "print(len(inhibited_cells[inhibited_cells.inhibited_ == 'inhibited']))\n",
    "print(len(rest_cells[rest_cells.inhibited_ == 'not_inhibited']))"
   ]
  },
  {
   "cell_type": "markdown",
   "metadata": {},
   "source": [
    "### Rest of the cells: get rid of ISI contaminated cells"
   ]
  },
  {
   "cell_type": "code",
   "execution_count": 21,
   "metadata": {
    "collapsed": true
   },
   "outputs": [],
   "source": [
    "inhibited_cells = inhibited_cells[inhibited_cells.isi_stats_contam_perc < isi_contam_thresh].copy()\n",
    "rest_cells = rest_cells[rest_cells.isi_stats_contam_perc < isi_contam_thresh].copy()"
   ]
  },
  {
   "cell_type": "code",
   "execution_count": 22,
   "metadata": {},
   "outputs": [
    {
     "name": "stdout",
     "output_type": "stream",
     "text": [
      "123\n",
      "535\n"
     ]
    }
   ],
   "source": [
    "print(len(inhibited_cells[inhibited_cells.inhibited_ == 'inhibited']))\n",
    "print(len(rest_cells[rest_cells.inhibited_ == 'not_inhibited']))"
   ]
  },
  {
   "cell_type": "markdown",
   "metadata": {},
   "source": [
    "### Calculate pearson's R between waveforms "
   ]
  },
  {
   "cell_type": "code",
   "execution_count": 23,
   "metadata": {
    "collapsed": true,
    "scrolled": true
   },
   "outputs": [],
   "source": [
    "wf_r,wf_p = corr_wf_base_laser(inhibited_cells, 'mean_wf', 'mean_wf_laser', plotting=False)\n",
    "labels_inhib_ = []\n",
    "for i in range(len(inhibited_cells)):\n",
    "    if wf_r[i] < pearson_r_thresh:   \n",
    "        labels_inhib_.append('not_inhibited')\n",
    "    else:\n",
    "        labels_inhib_.append(inhibited_cells.iloc[i].inhibited_)\n",
    "\n",
    "inhibited_cells['inhibited_'] = labels_inhib_   "
   ]
  },
  {
   "cell_type": "code",
   "execution_count": 24,
   "metadata": {
    "collapsed": true
   },
   "outputs": [],
   "source": [
    "# Sort again - why not ... \n",
    "inhibited_cells.sort_values(by='inhib_lowest_p',ascending=True,inplace=True)"
   ]
  },
  {
   "cell_type": "code",
   "execution_count": 25,
   "metadata": {},
   "outputs": [
    {
     "name": "stdout",
     "output_type": "stream",
     "text": [
      "85\n",
      "38\n",
      "535\n"
     ]
    }
   ],
   "source": [
    "print(len(inhibited_cells[inhibited_cells.inhibited_ == 'inhibited']))\n",
    "print(len(inhibited_cells[inhibited_cells.inhibited_ == 'not_inhibited']))\n",
    "print(len(rest_cells[rest_cells.inhibited_ == 'not_inhibited']))"
   ]
  },
  {
   "cell_type": "code",
   "execution_count": 26,
   "metadata": {
    "collapsed": true
   },
   "outputs": [],
   "source": [
    "#wf_r,wf_p = corr_wf_base_laser(inhibited_cells, 'mean_wf', 'mean_wf_laser', plotting=False)\n",
    "labels_inhib_ = []\n",
    "for i in range(len(inhibited_cells)):\n",
    "    if inhibited_cells_sessions.iloc[i].change_point_ms > 7:   \n",
    "        labels_inhib_.append('not_inhibited')\n",
    "    else:\n",
    "        labels_inhib_.append(inhibited_cells.iloc[i].inhibited_)\n",
    "\n",
    "inhibited_cells['inhibited_'] = labels_inhib_ "
   ]
  },
  {
   "cell_type": "code",
   "execution_count": null,
   "metadata": {
    "collapsed": true
   },
   "outputs": [],
   "source": []
  },
  {
   "cell_type": "markdown",
   "metadata": {},
   "source": [
    "### Snippets of every dataframe"
   ]
  },
  {
   "cell_type": "code",
   "execution_count": 27,
   "metadata": {
    "collapsed": true
   },
   "outputs": [],
   "source": [
    "columns_to_keep = ['animal_id','n_drive_user','filename','session_ts','session_name','session_name_laser','tetrode_no','cluster_no','inhibited_']"
   ]
  },
  {
   "cell_type": "markdown",
   "metadata": {},
   "source": [
    "### Combine the dataframes into one"
   ]
  },
  {
   "cell_type": "code",
   "execution_count": 28,
   "metadata": {
    "collapsed": true
   },
   "outputs": [],
   "source": [
    "inhibited_cells_ = inhibited_cells[inhibited_cells.inhibited_ == 'inhibited'][columns_to_keep].copy()\n",
    "inhibited_cells_rest = inhibited_cells[inhibited_cells.inhibited_ == 'not_inhibited'][columns_to_keep].copy()\n",
    "\n",
    "columns_for_drop = ['animal_id','n_drive_user','filename','session_ts','tetrode_no','cluster_no']\n",
    "inhibited_cells_.drop_duplicates(subset=columns_for_drop,inplace=True)"
   ]
  },
  {
   "cell_type": "code",
   "execution_count": 29,
   "metadata": {
    "collapsed": true
   },
   "outputs": [],
   "source": [
    "# SANITY CHECK\n",
    "labels_ = []\n",
    "for i in range(len(inhibited_cells_)):\n",
    "    if inhibited_cells_.iloc[i].inhibited_ == 'inhibited':\n",
    "        labels_.append('inhibited')\n",
    "    else:\n",
    "        print('wtf dude!')\n",
    "        \n",
    "inhibited_cells_['label'] = labels_"
   ]
  },
  {
   "cell_type": "code",
   "execution_count": 30,
   "metadata": {
    "collapsed": true
   },
   "outputs": [],
   "source": [
    "rest_cells = rest_cells[columns_to_keep].copy()\n",
    "all_data_rest = pd.concat([rest_cells,inhibited_cells_rest],ignore_index=True)"
   ]
  },
  {
   "cell_type": "code",
   "execution_count": 31,
   "metadata": {
    "collapsed": true
   },
   "outputs": [],
   "source": [
    "# SANITY CHECK\n",
    "labels_ = []\n",
    "for i in range(len(all_data_rest)):\n",
    "    if all_data_rest.iloc[i].inhibited_ == 'not_inhibited':\n",
    "        labels_.append('rest')\n",
    "    else:\n",
    "        print('wtf dude!')\n",
    "        \n",
    "all_data_rest['label'] = labels_"
   ]
  },
  {
   "cell_type": "code",
   "execution_count": 32,
   "metadata": {
    "collapsed": true
   },
   "outputs": [],
   "source": [
    "# Concatenate all \n",
    "all_ = pd.concat([inhibited_cells_,all_data_rest])"
   ]
  },
  {
   "cell_type": "code",
   "execution_count": 33,
   "metadata": {
    "collapsed": true
   },
   "outputs": [],
   "source": [
    "all_.sort_values(by='label',ascending=True,inplace=True)\n",
    "# THIS SORTING STEP IS IMPORTANT: this way, \"both\" comes first and is maintained when duplicates are dropped\n",
    "columns_for_drop = ['animal_id','n_drive_user','filename','session_ts','tetrode_no','cluster_no']\n",
    "all_ = all_.drop_duplicates(subset=columns_for_drop).copy()"
   ]
  },
  {
   "cell_type": "code",
   "execution_count": 62,
   "metadata": {},
   "outputs": [
    {
     "data": {
      "image/png": "[encoded data removed]",
      "text/plain": [
       "<matplotlib.figure.Figure at 0x2141cea2c18>"
      ]
     },
     "metadata": {
      "image/png": {
       "height": 394,
       "width": 405
      }
     },
     "output_type": "display_data"
    }
   ],
   "source": [
    "sns.set(font_scale=1.8)\n",
    "labels = 'Inhibited', 'Rest'\n",
    "sizes = [len(all_[all_.label == 'inhibited']),\\\n",
    "                len(all_[all_.label == 'rest'])]\n",
    "explode = (.06,0)  \n",
    "\n",
    "fig1, ax1 = plt.subplots(figsize=(7,7))\n",
    "ax1.pie(sizes, explode=explode, labels=labels, autopct='%1.1f%%',\n",
    "        shadow=False, startangle=75,counterclock=False,colors=[[.2,.5,.9],[.7,.7,.7]])\n",
    "ax1.axis('equal') \n",
    "plt.show()"
   ]
  },
  {
   "cell_type": "code",
   "execution_count": 64,
   "metadata": {},
   "outputs": [
    {
     "name": "stdout",
     "output_type": "stream",
     "text": [
      "Summary\n",
      "Inhibited     82\n",
      "Rest          541\n",
      "Sum           623\n"
     ]
    }
   ],
   "source": [
    "print('Summary')\n",
    "print('Inhibited     {}'.format(len(all_[all_.label == 'inhibited'])))\n",
    "print('Rest          {}'.format(len(all_[all_.label == 'rest'])))\n",
    "print('Sum           {}'.format(len(all_[all_.label == 'rest'])+len(all_[all_.label == 'excited'])+len(all_[all_.label == 'inhibited'])+len(all_[all_.label == 'both'])))"
   ]
  },
  {
   "cell_type": "markdown",
   "metadata": {},
   "source": [
    "### Rename and clean"
   ]
  },
  {
   "cell_type": "code",
   "execution_count": 65,
   "metadata": {
    "collapsed": true
   },
   "outputs": [],
   "source": [
    "all_.rename(columns={'session_name':'session_name_base','session_name_laser':'session_name'}, inplace=True)"
   ]
  },
  {
   "cell_type": "markdown",
   "metadata": {},
   "source": [
    "### SAVE!"
   ]
  },
  {
   "cell_type": "code",
   "execution_count": 66,
   "metadata": {
    "collapsed": true
   },
   "outputs": [],
   "source": [
    "all_.to_pickle('dataframe_export/all_cells_arch.pkl')"
   ]
  },
  {
   "cell_type": "markdown",
   "metadata": {},
   "source": [
    "### Draw some stuff ... "
   ]
  },
  {
   "cell_type": "code",
   "execution_count": 67,
   "metadata": {
    "scrolled": false
   },
   "outputs": [
    {
     "name": "stdout",
     "output_type": "stream",
     "text": [
      "Length of input dataframe: 82\n",
      "Dataframe not empty\n"
     ]
    },
    {
     "data": {
      "application/vnd.jupyter.widget-view+json": {
       "model_id": "2d4c543a2c4847a6984dccacf537c7ce",
       "version_major": 2,
       "version_minor": 0
      },
      "text/html": [
       "<p>Failed to display Jupyter Widget of type <code>HBox</code>.</p>\n",
       "<p>\n",
       "  If you're reading this message in Jupyter Notebook or JupyterLab, it may mean\n",
       "  that the widgets JavaScript is still loading. If this message persists, it\n",
       "  likely means that the widgets JavaScript library is either not installed or\n",
       "  not enabled. See the <a href=\"https://ipywidgets.readthedocs.io/en/stable/user_install.html\">Jupyter\n",
       "  Widgets Documentation</a> for setup instructions.\n",
       "</p>\n",
       "<p>\n",
       "  If you're reading this message in another notebook frontend (for example, a static\n",
       "  rendering on GitHub or <a href=\"https://nbviewer.jupyter.org/\">NBViewer</a>),\n",
       "  it may mean that your frontend doesn't currently support widgets.\n",
       "</p>\n"
      ],
      "text/plain": [
       "HBox(children=(IntProgress(value=0, description='Mining tables: ', max=2), HTML(value='')))"
      ]
     },
     "metadata": {},
     "output_type": "display_data"
    },
    {
     "name": "stdout",
     "output_type": "stream",
     "text": [
      "Table dictionary is empty for this entry. Taking all columns!\n",
      "Included the following columns: ('analysis_ts', 'filename', 'analysis_window', 'salt_window', 'sample_rate', 'sample_rate_inp', 'ibi', 'stim_freq', 'stim_length', 'counter_stimuli', 'excited', 'salt_p', 'salt_i', 'ex_latency_mean', 'ex_latency_median', 'ex_latency_var', 'ex_latency_reliabil', 'stats_p_inhib_10', 'stats_p_inhib_20', 'stats_p_inhib_30', 'stats_p_inhib_40', 'inhibited', 'inhib_lowest_p', 'inhib_lowest_p_interval', 'change_point_ms')\n",
      "Column filename already exists. Skipping.\n"
     ]
    },
    {
     "data": {
      "application/vnd.jupyter.widget-view+json": {
       "model_id": "5979ae2befc6433bb1bc9da63c5f1dbf",
       "version_major": 2,
       "version_minor": 0
      },
      "text/html": [
       "<p>Failed to display Jupyter Widget of type <code>HBox</code>.</p>\n",
       "<p>\n",
       "  If you're reading this message in Jupyter Notebook or JupyterLab, it may mean\n",
       "  that the widgets JavaScript is still loading. If this message persists, it\n",
       "  likely means that the widgets JavaScript library is either not installed or\n",
       "  not enabled. See the <a href=\"https://ipywidgets.readthedocs.io/en/stable/user_install.html\">Jupyter\n",
       "  Widgets Documentation</a> for setup instructions.\n",
       "</p>\n",
       "<p>\n",
       "  If you're reading this message in another notebook frontend (for example, a static\n",
       "  rendering on GitHub or <a href=\"https://nbviewer.jupyter.org/\">NBViewer</a>),\n",
       "  it may mean that your frontend doesn't currently support widgets.\n",
       "</p>\n"
      ],
      "text/plain": [
       "HBox(children=(IntProgress(value=0, description='stimulus_tb: ', max=82), HTML(value='')))"
      ]
     },
     "metadata": {},
     "output_type": "display_data"
    },
    {
     "name": "stdout",
     "output_type": "stream",
     "text": [
      "Success. NaNs: 0\n",
      "Table dictionary is empty for this entry. Taking all columns!\n",
      "Included the following columns: ('analysis_ts', 'filename', 'sample_rate', 'sample_rate_inp', 'analysis_window', 'counter_stimuli', 'spiketimes_cluster', 'stimulus_timepoints', 'sum_1ms', 'bin_edges_1ms', 'binnumber_1ms')\n",
      "Column analysis_ts already exists. Skipping.\n",
      "Column filename already exists. Skipping.\n",
      "Column sample_rate already exists. Skipping.\n",
      "Column sample_rate_inp already exists. Skipping.\n",
      "Column analysis_window already exists. Skipping.\n",
      "Column counter_stimuli already exists. Skipping.\n"
     ]
    },
    {
     "data": {
      "application/vnd.jupyter.widget-view+json": {
       "model_id": "52c5c393715f4eeb86904e64ad5a1698",
       "version_major": 2,
       "version_minor": 0
      },
      "text/html": [
       "<p>Failed to display Jupyter Widget of type <code>HBox</code>.</p>\n",
       "<p>\n",
       "  If you're reading this message in Jupyter Notebook or JupyterLab, it may mean\n",
       "  that the widgets JavaScript is still loading. If this message persists, it\n",
       "  likely means that the widgets JavaScript library is either not installed or\n",
       "  not enabled. See the <a href=\"https://ipywidgets.readthedocs.io/en/stable/user_install.html\">Jupyter\n",
       "  Widgets Documentation</a> for setup instructions.\n",
       "</p>\n",
       "<p>\n",
       "  If you're reading this message in another notebook frontend (for example, a static\n",
       "  rendering on GitHub or <a href=\"https://nbviewer.jupyter.org/\">NBViewer</a>),\n",
       "  it may mean that your frontend doesn't currently support widgets.\n",
       "</p>\n"
      ],
      "text/plain": [
       "HBox(children=(IntProgress(value=0, description='stimulus_mat_tb: ', max=82), HTML(value='')))"
      ]
     },
     "metadata": {},
     "output_type": "display_data"
    },
    {
     "name": "stdout",
     "output_type": "stream",
     "text": [
      "Success. NaNs: 0\n",
      "\n"
     ]
    }
   ],
   "source": [
    "psql = psql_neuroballs(all_[all_.label == 'inhibited'])\n",
    "dict_ = {'stimulus_tb':'','stimulus_mat_tb':''}\n",
    "data_to_draw = psql.retrieve_data(dict_)"
   ]
  },
  {
   "cell_type": "code",
   "execution_count": 40,
   "metadata": {},
   "outputs": [
    {
     "data": {
      "application/vnd.jupyter.widget-view+json": {
       "model_id": "938280d5493c4efa89dfe86aea6f49fe",
       "version_major": 2,
       "version_minor": 0
      },
      "text/html": [
       "<p>Failed to display Jupyter Widget of type <code>HBox</code>.</p>\n",
       "<p>\n",
       "  If you're reading this message in Jupyter Notebook or JupyterLab, it may mean\n",
       "  that the widgets JavaScript is still loading. If this message persists, it\n",
       "  likely means that the widgets JavaScript library is either not installed or\n",
       "  not enabled. See the <a href=\"https://ipywidgets.readthedocs.io/en/stable/user_install.html\">Jupyter\n",
       "  Widgets Documentation</a> for setup instructions.\n",
       "</p>\n",
       "<p>\n",
       "  If you're reading this message in another notebook frontend (for example, a static\n",
       "  rendering on GitHub or <a href=\"https://nbviewer.jupyter.org/\">NBViewer</a>),\n",
       "  it may mean that your frontend doesn't currently support widgets.\n",
       "</p>\n"
      ],
      "text/plain": [
       "HBox(children=(IntProgress(value=0, max=5), HTML(value='')))"
      ]
     },
     "metadata": {},
     "output_type": "display_data"
    },
    {
     "name": "stdout",
     "output_type": "stream",
     "text": [
      "\n"
     ]
    },
    {
     "ename": "ValueError",
     "evalue": "cannot convert float NaN to integer",
     "output_type": "error",
     "traceback": [
      "\u001b[1;31m---------------------------------------------------------------------------\u001b[0m",
      "\u001b[1;31mValueError\u001b[0m                                Traceback (most recent call last)",
      "\u001b[1;32m<ipython-input-40-f38de3ef0ad1>\u001b[0m in \u001b[0;36m<module>\u001b[1;34m()\u001b[0m\n\u001b[1;32m----> 1\u001b[1;33m \u001b[0mcreate_spike_plots_stimulus\u001b[0m\u001b[1;33m(\u001b[0m\u001b[0mdata_to_draw\u001b[0m\u001b[1;33m.\u001b[0m\u001b[0msort_values\u001b[0m\u001b[1;33m(\u001b[0m\u001b[0mby\u001b[0m\u001b[1;33m=\u001b[0m\u001b[1;34m'inhib_lowest_p'\u001b[0m\u001b[1;33m,\u001b[0m\u001b[0mascending\u001b[0m\u001b[1;33m=\u001b[0m\u001b[1;32mTrue\u001b[0m\u001b[1;33m)\u001b[0m\u001b[1;33m,\u001b[0m\u001b[1;36m5\u001b[0m\u001b[1;33m,\u001b[0m\u001b[1;36m0\u001b[0m\u001b[1;33m,\u001b[0m\u001b[1;32mTrue\u001b[0m\u001b[1;33m)\u001b[0m\u001b[1;33m\u001b[0m\u001b[0m\n\u001b[0m",
      "\u001b[1;32mN:\\davidcr\\python_analysis\\Postgres-Analysis-py3\\postgres_analysis_helpers\\general.py\u001b[0m in \u001b[0;36mcreate_spike_plots_stimulus\u001b[1;34m(df, number_plots, offset, draw_spikes)\u001b[0m\n\u001b[0;32m    318\u001b[0m         \u001b[1;31m# continue with rest ...\u001b[0m\u001b[1;33m\u001b[0m\u001b[1;33m\u001b[0m\u001b[0m\n\u001b[0;32m    319\u001b[0m         \u001b[0mwindow\u001b[0m \u001b[1;33m=\u001b[0m \u001b[0mdf\u001b[0m\u001b[1;33m.\u001b[0m\u001b[0miloc\u001b[0m\u001b[1;33m[\u001b[0m\u001b[0mrow\u001b[0m\u001b[1;33m]\u001b[0m\u001b[1;33m.\u001b[0m\u001b[0manalysis_window\u001b[0m\u001b[1;33m\u001b[0m\u001b[0m\n\u001b[1;32m--> 320\u001b[1;33m         \u001b[0mnum_bins\u001b[0m \u001b[1;33m=\u001b[0m \u001b[0mint\u001b[0m\u001b[1;33m(\u001b[0m\u001b[0mdf\u001b[0m\u001b[1;33m.\u001b[0m\u001b[0miloc\u001b[0m\u001b[1;33m[\u001b[0m\u001b[0mrow\u001b[0m\u001b[1;33m]\u001b[0m\u001b[1;33m.\u001b[0m\u001b[0manalysis_window\u001b[0m\u001b[1;33m*\u001b[0m\u001b[1;36m2\u001b[0m\u001b[1;33m*\u001b[0m\u001b[0mdf\u001b[0m\u001b[1;33m.\u001b[0m\u001b[0miloc\u001b[0m\u001b[1;33m[\u001b[0m\u001b[0mrow\u001b[0m\u001b[1;33m]\u001b[0m\u001b[1;33m.\u001b[0m\u001b[0msample_rate\u001b[0m\u001b[1;33m/\u001b[0m\u001b[1;36m1000.\u001b[0m\u001b[1;33m)\u001b[0m\u001b[1;33m\u001b[0m\u001b[0m\n\u001b[0m\u001b[0;32m    321\u001b[0m \u001b[1;33m\u001b[0m\u001b[0m\n\u001b[0;32m    322\u001b[0m         \u001b[1;31m# initialize axes:\u001b[0m\u001b[1;33m\u001b[0m\u001b[1;33m\u001b[0m\u001b[0m\n",
      "\u001b[1;31mValueError\u001b[0m: cannot convert float NaN to integer"
     ]
    },
    {
     "data": {
      "text/plain": [
       "<matplotlib.figure.Figure at 0x2142324bbe0>"
      ]
     },
     "metadata": {},
     "output_type": "display_data"
    }
   ],
   "source": [
    "create_spike_plots_stimulus(data_to_draw.sort_values(by='inhib_lowest_p',ascending=True),5,0,True)"
   ]
  },
  {
   "cell_type": "code",
   "execution_count": 68,
   "metadata": {},
   "outputs": [
    {
     "data": {
      "text/plain": [
       "0.75914634146583848"
      ]
     },
     "execution_count": 68,
     "metadata": {},
     "output_type": "execute_result"
    }
   ],
   "source": [
    "np.mean(inhibited_cells.change_point_ms)"
   ]
  },
  {
   "cell_type": "code",
   "execution_count": 36,
   "metadata": {},
   "outputs": [
    {
     "name": "stderr",
     "output_type": "stream",
     "text": [
      "C:\\Users\\davidcr\\AppData\\Local\\Continuum\\Miniconda2\\envs\\ms\\lib\\site-packages\\ipykernel_launcher.py:10: MatplotlibDeprecationWarning: The set_axis_bgcolor function was deprecated in version 2.0. Use set_facecolor instead.\n",
      "  # Remove the CWD from sys.path while we load stuff.\n"
     ]
    },
    {
     "data": {
      "image/png": "[encoded data removed]",
      "text/plain": [
       "<matplotlib.figure.Figure at 0x1d5c1f25a58>"
      ]
     },
     "metadata": {
      "image/png": {
       "height": 262,
       "width": 495
      }
     },
     "output_type": "display_data"
    }
   ],
   "source": [
    "fig, ax = plt.subplots(figsize=(8, 4))\n",
    "\n",
    "# plot the cumulative histogram\n",
    "n, bins, patches = ax.hist(inhibited_cells.change_point_ms, 80, range=[0, 20\n",
    "                                                                      ],\n",
    "                           cumulative=True, label='Empirical', histtype='step', normed = 1, linewidth = 3, color = 'cyan')\n",
    "ax.set_xlabel('Latency (ms)')\n",
    "ax.set_ylabel('Proportion')\n",
    "ax.grid(False)\n",
    "ax.set_axis_bgcolor('white')\n",
    "plt.rcParams['svg.fonttype'] = 'none'\n",
    "plt.savefig(r'N:\\davidcr\\stellate paper images\\python output\\latency.svg', format='svg', dpi=1000)"
   ]
  },
  {
   "cell_type": "code",
   "execution_count": 82,
   "metadata": {},
   "outputs": [
    {
     "data": {
      "text/plain": [
       "0.83333333333299997"
      ]
     },
     "execution_count": 82,
     "metadata": {},
     "output_type": "execute_result"
    }
   ],
   "source": [
    "np.median(inhibited_cells.change_point_ms)"
   ]
  },
  {
   "cell_type": "code",
   "execution_count": null,
   "metadata": {
    "collapsed": true
   },
   "outputs": [],
   "source": []
  }
 ],
 "metadata": {
  "kernelspec": {
   "display_name": "Python 3",
   "language": "python",
   "name": "python3"
  },
  "language_info": {
   "codemirror_mode": {
    "name": "ipython",
    "version": 3
   },
   "file_extension": ".py",
   "mimetype": "text/x-python",
   "name": "python",
   "nbconvert_exporter": "python",
   "pygments_lexer": "ipython3",
   "version": "3.6.2"
  },
  "notify_time": "5",
  "widgets": {
   "application/vnd.jupyter.widget-state+json": {
    "state": {
     "142739941ccb492184dc4a29daf88f05": {
      "model_module": "jupyter-js-widgets",
      "model_module_version": "~2.0.30",
      "model_name": "LayoutModel",
      "state": {
       "_model_module_version": "~2.0.30",
       "_view_module_version": "~2.0.30"
      }
     },
     "18f095f85119473183435ea6ab677fe3": {
      "model_module": "jupyter-js-widgets",
      "model_module_version": "~2.0.30",
      "model_name": "OutputModel",
      "state": {
       "_dom_classes": [],
       "_model_module": "jupyter-js-widgets",
       "_model_module_version": "~2.0.30",
       "_view_module": "jupyter-js-widgets",
       "_view_module_version": "~2.0.30",
       "layout": "IPY_MODEL_142739941ccb492184dc4a29daf88f05",
       "msg_throttle": 1
      }
     },
     "1ec8d4195e3f41a780ff1340e9dcc5a1": {
      "model_module": "jupyter-js-widgets",
      "model_module_version": "~2.0.30",
      "model_name": "LayoutModel",
      "state": {
       "_model_module_version": "~2.0.30",
       "_view_module_version": "~2.0.30"
      }
     },
     "6c826c931af7406e923d24fc67d9462f": {
      "model_module": "jupyter-js-widgets",
      "model_module_version": "~2.0.30",
      "model_name": "SliderStyleModel",
      "state": {
       "_model_module_version": "~2.0.30",
       "_view_module_version": "~2.0.30"
      }
     },
     "af3d44e19ad846cbb076e9983825fc21": {
      "model_module": "jupyter-js-widgets",
      "model_module_version": "~2.0.30",
      "model_name": "VBoxModel",
      "state": {
       "_dom_classes": [
        "widget-interact"
       ],
       "_model_module_version": "~2.0.30",
       "_view_module_version": "~2.0.30",
       "children": [
        "IPY_MODEL_e10f82066fb945d6b8f2f38689e207e7",
        "IPY_MODEL_18f095f85119473183435ea6ab677fe3"
       ],
       "layout": "IPY_MODEL_ce6232d4b70d4a1e83b5f9c6fdb11409"
      }
     },
     "ce6232d4b70d4a1e83b5f9c6fdb11409": {
      "model_module": "jupyter-js-widgets",
      "model_module_version": "~2.0.30",
      "model_name": "LayoutModel",
      "state": {
       "_model_module_version": "~2.0.30",
       "_view_module_version": "~2.0.30"
      }
     },
     "e10f82066fb945d6b8f2f38689e207e7": {
      "model_module": "jupyter-js-widgets",
      "model_module_version": "~2.0.30",
      "model_name": "IntSliderModel",
      "state": {
       "_model_module_version": "~2.0.30",
       "_view_module_version": "~2.0.30",
       "description": "i",
       "layout": "IPY_MODEL_1ec8d4195e3f41a780ff1340e9dcc5a1",
       "max": 1796,
       "style": "IPY_MODEL_6c826c931af7406e923d24fc67d9462f",
       "value": 912
      }
     }
    },
    "version_major": 1,
    "version_minor": 0
   }
  }
 },
 "nbformat": 4,
 "nbformat_minor": 1
}
